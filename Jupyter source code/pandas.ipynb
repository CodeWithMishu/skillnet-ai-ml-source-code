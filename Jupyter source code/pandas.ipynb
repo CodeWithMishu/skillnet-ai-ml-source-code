{
 "cells": [
  {
   "cell_type": "code",
   "execution_count": null,
   "id": "72a14f9d",
   "metadata": {},
   "outputs": [
    {
     "name": "stdout",
     "output_type": "stream",
     "text": [
      "         Unnamed: 0  Dst Port  Protocol  Flow Duration  Tot Fwd Pkts  \\\n",
      "0            146275      3389         6        5206015             9   \n",
      "1            512109       443         6       60991608            14   \n",
      "2            807703        53        17          27292             1   \n",
      "3            491912       443         6       70343424            17   \n",
      "4            858679        53        17         137267             2   \n",
      "...             ...       ...       ...            ...           ...   \n",
      "1252841      940974     64678         6           1397             5   \n",
      "1252842       45433     51274         6              1             3   \n",
      "1252843      912254        80         6            233             2   \n",
      "1252844      990683        53        17          23818             1   \n",
      "1252845      576130        80         6             70             2   \n",
      "\n",
      "         Tot Bwd Pkts  TotLen Fwd Pkts  TotLen Bwd Pkts  Fwd Pkt Len Max  \\\n",
      "0                  11             1213             1948              661   \n",
      "1                  14             1211             3396              875   \n",
      "2                   1               45              163               45   \n",
      "3                  20             1118             5653              258   \n",
      "4                   2               94              214               47   \n",
      "...               ...              ...              ...              ...   \n",
      "1252841             2              935              267              935   \n",
      "1252842             0               77                0               46   \n",
      "1252843             0                0                0                0   \n",
      "1252844             1               34              204               34   \n",
      "1252845             0                0                0                0   \n",
      "\n",
      "         Fwd Pkt Len Min  ...  Fwd Seg Size Min    Active Mean     Active Std  \\\n",
      "0                      0  ...                20       0.000000       0.000000   \n",
      "1                      0  ...                20  116504.666667  117401.762867   \n",
      "2                     45  ...                 8       0.000000       0.000000   \n",
      "3                      0  ...                20  527683.500000  386311.526445   \n",
      "4                     47  ...                 8       0.000000       0.000000   \n",
      "...                  ...  ...               ...            ...            ...   \n",
      "1252841                0  ...                20       0.000000       0.000000   \n",
      "1252842                0  ...                20       0.000000       0.000000   \n",
      "1252843                0  ...                20       0.000000       0.000000   \n",
      "1252844               34  ...                 8       0.000000       0.000000   \n",
      "1252845                0  ...                20       0.000000       0.000000   \n",
      "\n",
      "         Active Max  Active Min     Idle Mean      Idle Std  Idle Max  \\\n",
      "0                 0           0  0.000000e+00  0.000000e+00         0   \n",
      "1            356150       68519  1.000239e+07  1.665183e+04  10009249   \n",
      "2                 0           0  0.000000e+00  0.000000e+00         0   \n",
      "3            800847      254520  3.457024e+07  3.406089e+07  58654921   \n",
      "4                 0           0  0.000000e+00  0.000000e+00         0   \n",
      "...             ...         ...           ...           ...       ...   \n",
      "1252841           0           0  0.000000e+00  0.000000e+00         0   \n",
      "1252842           0           0  0.000000e+00  0.000000e+00         0   \n",
      "1252843           0           0  0.000000e+00  0.000000e+00         0   \n",
      "1252844           0           0  0.000000e+00  0.000000e+00         0   \n",
      "1252845           0           0  0.000000e+00  0.000000e+00         0   \n",
      "\n",
      "         Idle Min  Label  \n",
      "0               0      1  \n",
      "1         9968397      1  \n",
      "2               0      1  \n",
      "3        10485549      1  \n",
      "4               0      1  \n",
      "...           ...    ...  \n",
      "1252841         0      1  \n",
      "1252842         0      1  \n",
      "1252843         0      1  \n",
      "1252844         0      1  \n",
      "1252845         0      1  \n",
      "\n",
      "[1252846 rows x 79 columns]\n"
     ]
    }
   ],
   "source": [
    "import pandas as pd\n",
    "import numpy as np\n",
    "df = pd.read_csv('data.csv')\n",
    "# print(df.head())\n",
    "print(df)"
   ]
  },
  {
   "cell_type": "code",
   "execution_count": null,
   "id": "262c4e2a",
   "metadata": {},
   "outputs": [
    {
     "name": "stdout",
     "output_type": "stream",
     "text": [
      "0    Munish\n",
      "1    Munish\n",
      "2    Munish\n",
      "3    Munish\n",
      "4    Munish\n",
      "dtype: object\n"
     ]
    }
   ],
   "source": [
    "ser=pd.Series('bye mishra',index=[0,1,2,3,4])\n",
    "print(ser)\n"
   ]
  },
  {
   "cell_type": "code",
   "execution_count": 12,
   "id": "8bce51e6",
   "metadata": {},
   "outputs": [
    {
     "name": "stdout",
     "output_type": "stream",
     "text": [
      "0     2.000000\n",
      "1    12.333333\n",
      "2    22.666667\n",
      "3    33.000000\n",
      "dtype: float64\n"
     ]
    }
   ],
   "source": [
    "import numpy as np\n",
    "ser1 =pd.Series(np.linspace(2,33,4))\n",
    "print(ser1)"
   ]
  },
  {
   "cell_type": "code",
   "execution_count": 15,
   "id": "a4092bc0",
   "metadata": {},
   "outputs": [
    {
     "name": "stdout",
     "output_type": "stream",
     "text": [
      "0     2\n",
      "1    12\n",
      "2    22\n",
      "3    33\n",
      "dtype: int64\n"
     ]
    }
   ],
   "source": [
    "ser1 =pd.Series(np.linspace(2,33,4).astype(int))\n",
    "print(ser1)"
   ]
  },
  {
   "cell_type": "code",
   "execution_count": 21,
   "id": "71245f3d",
   "metadata": {},
   "outputs": [
    {
     "name": "stdout",
     "output_type": "stream",
     "text": [
      "a\n",
      "b\n",
      "c\n",
      "d\n",
      "e\n",
      "f\n",
      "g\n",
      "h\n"
     ]
    }
   ],
   "source": [
    "for x in \"abcdefgh\":\n",
    "    print(x)"
   ]
  },
  {
   "cell_type": "code",
   "execution_count": 22,
   "id": "af9cfe8a",
   "metadata": {},
   "outputs": [
    {
     "name": "stdout",
     "output_type": "stream",
     "text": [
      "a     1\n",
      "b     4\n",
      "c     7\n",
      "d    10\n",
      "e    13\n",
      "f    16\n",
      "g    19\n",
      "dtype: int64\n"
     ]
    }
   ],
   "source": [
    "ser=pd.Series(range(1,20,3),index=[x for x in 'abcdefg'])\n",
    "print(ser)"
   ]
  },
  {
   "cell_type": "code",
   "execution_count": 23,
   "id": "c03bcc35",
   "metadata": {},
   "outputs": [
    {
     "name": "stdout",
     "output_type": "stream",
     "text": [
      "0    0\n",
      "1    1\n",
      "2    2\n",
      "3    3\n",
      "4    4\n",
      "5    5\n",
      "6    6\n",
      "7    7\n",
      "8    8\n",
      "9    9\n",
      "dtype: int64\n"
     ]
    }
   ],
   "source": [
    "ser=pd.Series(range(10))\n",
    "print(ser)"
   ]
  },
  {
   "cell_type": "code",
   "execution_count": 25,
   "id": "3cd6ea53",
   "metadata": {},
   "outputs": [
    {
     "name": "stdout",
     "output_type": "stream",
     "text": [
      "0    10\n",
      "1    20\n",
      "2    30\n",
      "3    40\n",
      "4    50\n",
      "dtype: int64\n",
      "30\n",
      "40\n"
     ]
    }
   ],
   "source": [
    "data = [10,20,30,40,50]\n",
    "ser=pd.Series(data)\n",
    "print(ser)\n",
    "\n",
    "#Access element at position 2 using indexing operator\n",
    "element = ser[2]\n",
    "print(element)\n",
    "elements=ser[3]\n",
    "print(elements)"
   ]
  },
  {
   "cell_type": "code",
   "execution_count": 1,
   "id": "e1f30a4c",
   "metadata": {},
   "outputs": [
    {
     "name": "stdout",
     "output_type": "stream",
     "text": [
      "[7, 8, 9, 6]\n"
     ]
    }
   ],
   "source": [
    "l=[7,8,9,6,7]\n",
    "print(l[0:4])"
   ]
  },
  {
   "cell_type": "code",
   "execution_count": 29,
   "id": "3ff02093",
   "metadata": {},
   "outputs": [
    {
     "name": "stdout",
     "output_type": "stream",
     "text": [
      "a    10\n",
      "b    20\n",
      "c    30\n",
      "d    40\n",
      "e    50\n",
      "dtype: int64\n",
      "20\n"
     ]
    }
   ],
   "source": [
    "data = [10,20,30,40,50]\n",
    "index=['a','b','c','d','e']\n",
    "series = pd.Series(data,index=index)\n",
    "print(series)\n",
    "#access element with label 'c' using indexing operator\n",
    "element=series['b']\n",
    "print(element)"
   ]
  },
  {
   "cell_type": "markdown",
   "id": "f3cba059",
   "metadata": {},
   "source": [
    "# Data Frame"
   ]
  },
  {
   "cell_type": "code",
   "execution_count": 31,
   "id": "043f64e2",
   "metadata": {},
   "outputs": [
    {
     "name": "stdout",
     "output_type": "stream",
     "text": [
      "     Retailer  Retailer ID        Date     Region          State  \\\n",
      "0     Sodapop      1185732   14/1/2022  Northeast       New York   \n",
      "1     Sodapop      1185732   14/1/2022  Northeast       New York   \n",
      "2     Sodapop      1185732   14/1/2022  Northeast       New York   \n",
      "3     Sodapop      1185732   14/1/2022  Northeast       New York   \n",
      "4     Sodapop      1185732   14/1/2022  Northeast       New York   \n",
      "...       ...          ...         ...        ...            ...   \n",
      "3720  Sodapop      1185732   20/9/2022  Northeast  New Hampshire   \n",
      "3721  Sodapop      1185732  22/10/2022  Northeast  New Hampshire   \n",
      "3722  Sodapop      1185732  22/10/2022  Northeast  New Hampshire   \n",
      "3723  Sodapop      1185732  22/10/2022  Northeast  New Hampshire   \n",
      "3724  Sodapop      1185732  22/10/2022  Northeast  New Hampshire   \n",
      "\n",
      "     Beverage Brand Price per Unit Units Sold Revenue Expenses  \n",
      "0         Coca-Cola          $0.50     12,000  $6,000   $1,260  \n",
      "1         Diet Coke          $0.50     10,000  $5,000   $1,700  \n",
      "2            Sprite          $0.40     10,000  $4,000     $480  \n",
      "3             Fanta          $0.45      8,500  $3,825     $497  \n",
      "4          Powerade          $0.60      9,000  $5,400     $918  \n",
      "...             ...            ...        ...     ...      ...  \n",
      "3720   Dasani Water          $0.70      3,000  $2,100     $399  \n",
      "3721      Coca-Cola          $0.70      4,500  $3,150   $1,449  \n",
      "3722      Diet Coke          $0.65      2,750  $1,788     $232  \n",
      "3723         Sprite          $0.65      1,750  $1,138     $239  \n",
      "3724          Fanta          $0.65      1,500    $975     $400  \n",
      "\n",
      "[3725 rows x 10 columns]\n"
     ]
    }
   ],
   "source": [
    "import pandas as pd\n",
    "df=pd.read_csv('data.csv')\n",
    "print(df)"
   ]
  },
  {
   "cell_type": "code",
   "execution_count": 32,
   "id": "72cde31e",
   "metadata": {},
   "outputs": [
    {
     "name": "stdout",
     "output_type": "stream",
     "text": [
      "     Retailer  Retailer ID        Date     Region          State  \\\n",
      "3720  Sodapop      1185732   20/9/2022  Northeast  New Hampshire   \n",
      "3721  Sodapop      1185732  22/10/2022  Northeast  New Hampshire   \n",
      "3722  Sodapop      1185732  22/10/2022  Northeast  New Hampshire   \n",
      "3723  Sodapop      1185732  22/10/2022  Northeast  New Hampshire   \n",
      "3724  Sodapop      1185732  22/10/2022  Northeast  New Hampshire   \n",
      "\n",
      "     Beverage Brand Price per Unit Units Sold Revenue Expenses  \n",
      "3720   Dasani Water          $0.70      3,000  $2,100     $399  \n",
      "3721      Coca-Cola          $0.70      4,500  $3,150   $1,449  \n",
      "3722      Diet Coke          $0.65      2,750  $1,788     $232  \n",
      "3723         Sprite          $0.65      1,750  $1,138     $239  \n",
      "3724          Fanta          $0.65      1,500    $975     $400  \n"
     ]
    }
   ],
   "source": [
    "import pandas as pd\n",
    "df=pd.read_csv('data.csv')\n",
    "df\n",
    "data1=df[3:5]\n",
    "data1=df.tail()\n",
    "print(data1)"
   ]
  },
  {
   "cell_type": "code",
   "execution_count": 34,
   "id": "4e782cb0",
   "metadata": {},
   "outputs": [
    {
     "ename": "TypeError",
     "evalue": "cannot do slice indexing on Index with these indexers [4] of type int",
     "output_type": "error",
     "traceback": [
      "\u001b[31m---------------------------------------------------------------------------\u001b[39m",
      "\u001b[31mTypeError\u001b[39m                                 Traceback (most recent call last)",
      "\u001b[36mCell\u001b[39m\u001b[36m \u001b[39m\u001b[32mIn[34]\u001b[39m\u001b[32m, line 1\u001b[39m\n\u001b[32m----> \u001b[39m\u001b[32m1\u001b[39m \u001b[38;5;28mprint\u001b[39m(\u001b[43mdf\u001b[49m\u001b[43m.\u001b[49m\u001b[43mloc\u001b[49m\u001b[43m[\u001b[49m\u001b[32;43m4\u001b[39;49m\u001b[43m:\u001b[49m\u001b[32;43m9\u001b[39;49m\u001b[43m]\u001b[49m)\n",
      "\u001b[36mFile \u001b[39m\u001b[32m/media/codewithmishu/New Volume/skillnet ai ml source code/Jupyter source code/.venv/lib/python3.11/site-packages/pandas/core/indexing.py:1191\u001b[39m, in \u001b[36m_LocationIndexer.__getitem__\u001b[39m\u001b[34m(self, key)\u001b[39m\n\u001b[32m   1189\u001b[39m maybe_callable = com.apply_if_callable(key, \u001b[38;5;28mself\u001b[39m.obj)\n\u001b[32m   1190\u001b[39m maybe_callable = \u001b[38;5;28mself\u001b[39m._check_deprecated_callable_usage(key, maybe_callable)\n\u001b[32m-> \u001b[39m\u001b[32m1191\u001b[39m \u001b[38;5;28;01mreturn\u001b[39;00m \u001b[38;5;28;43mself\u001b[39;49m\u001b[43m.\u001b[49m\u001b[43m_getitem_axis\u001b[49m\u001b[43m(\u001b[49m\u001b[43mmaybe_callable\u001b[49m\u001b[43m,\u001b[49m\u001b[43m \u001b[49m\u001b[43maxis\u001b[49m\u001b[43m=\u001b[49m\u001b[43maxis\u001b[49m\u001b[43m)\u001b[49m\n",
      "\u001b[36mFile \u001b[39m\u001b[32m/media/codewithmishu/New Volume/skillnet ai ml source code/Jupyter source code/.venv/lib/python3.11/site-packages/pandas/core/indexing.py:1411\u001b[39m, in \u001b[36m_LocIndexer._getitem_axis\u001b[39m\u001b[34m(self, key, axis)\u001b[39m\n\u001b[32m   1409\u001b[39m \u001b[38;5;28;01mif\u001b[39;00m \u001b[38;5;28misinstance\u001b[39m(key, \u001b[38;5;28mslice\u001b[39m):\n\u001b[32m   1410\u001b[39m     \u001b[38;5;28mself\u001b[39m._validate_key(key, axis)\n\u001b[32m-> \u001b[39m\u001b[32m1411\u001b[39m     \u001b[38;5;28;01mreturn\u001b[39;00m \u001b[38;5;28;43mself\u001b[39;49m\u001b[43m.\u001b[49m\u001b[43m_get_slice_axis\u001b[49m\u001b[43m(\u001b[49m\u001b[43mkey\u001b[49m\u001b[43m,\u001b[49m\u001b[43m \u001b[49m\u001b[43maxis\u001b[49m\u001b[43m=\u001b[49m\u001b[43maxis\u001b[49m\u001b[43m)\u001b[49m\n\u001b[32m   1412\u001b[39m \u001b[38;5;28;01melif\u001b[39;00m com.is_bool_indexer(key):\n\u001b[32m   1413\u001b[39m     \u001b[38;5;28;01mreturn\u001b[39;00m \u001b[38;5;28mself\u001b[39m._getbool_axis(key, axis=axis)\n",
      "\u001b[36mFile \u001b[39m\u001b[32m/media/codewithmishu/New Volume/skillnet ai ml source code/Jupyter source code/.venv/lib/python3.11/site-packages/pandas/core/indexing.py:1443\u001b[39m, in \u001b[36m_LocIndexer._get_slice_axis\u001b[39m\u001b[34m(self, slice_obj, axis)\u001b[39m\n\u001b[32m   1440\u001b[39m     \u001b[38;5;28;01mreturn\u001b[39;00m obj.copy(deep=\u001b[38;5;28;01mFalse\u001b[39;00m)\n\u001b[32m   1442\u001b[39m labels = obj._get_axis(axis)\n\u001b[32m-> \u001b[39m\u001b[32m1443\u001b[39m indexer = \u001b[43mlabels\u001b[49m\u001b[43m.\u001b[49m\u001b[43mslice_indexer\u001b[49m\u001b[43m(\u001b[49m\u001b[43mslice_obj\u001b[49m\u001b[43m.\u001b[49m\u001b[43mstart\u001b[49m\u001b[43m,\u001b[49m\u001b[43m \u001b[49m\u001b[43mslice_obj\u001b[49m\u001b[43m.\u001b[49m\u001b[43mstop\u001b[49m\u001b[43m,\u001b[49m\u001b[43m \u001b[49m\u001b[43mslice_obj\u001b[49m\u001b[43m.\u001b[49m\u001b[43mstep\u001b[49m\u001b[43m)\u001b[49m\n\u001b[32m   1445\u001b[39m \u001b[38;5;28;01mif\u001b[39;00m \u001b[38;5;28misinstance\u001b[39m(indexer, \u001b[38;5;28mslice\u001b[39m):\n\u001b[32m   1446\u001b[39m     \u001b[38;5;28;01mreturn\u001b[39;00m \u001b[38;5;28mself\u001b[39m.obj._slice(indexer, axis=axis)\n",
      "\u001b[36mFile \u001b[39m\u001b[32m/media/codewithmishu/New Volume/skillnet ai ml source code/Jupyter source code/.venv/lib/python3.11/site-packages/pandas/core/indexes/base.py:6708\u001b[39m, in \u001b[36mIndex.slice_indexer\u001b[39m\u001b[34m(self, start, end, step)\u001b[39m\n\u001b[32m   6664\u001b[39m \u001b[38;5;28;01mdef\u001b[39;00m\u001b[38;5;250m \u001b[39m\u001b[34mslice_indexer\u001b[39m(\n\u001b[32m   6665\u001b[39m     \u001b[38;5;28mself\u001b[39m,\n\u001b[32m   6666\u001b[39m     start: Hashable | \u001b[38;5;28;01mNone\u001b[39;00m = \u001b[38;5;28;01mNone\u001b[39;00m,\n\u001b[32m   6667\u001b[39m     end: Hashable | \u001b[38;5;28;01mNone\u001b[39;00m = \u001b[38;5;28;01mNone\u001b[39;00m,\n\u001b[32m   6668\u001b[39m     step: \u001b[38;5;28mint\u001b[39m | \u001b[38;5;28;01mNone\u001b[39;00m = \u001b[38;5;28;01mNone\u001b[39;00m,\n\u001b[32m   6669\u001b[39m ) -> \u001b[38;5;28mslice\u001b[39m:\n\u001b[32m   6670\u001b[39m \u001b[38;5;250m    \u001b[39m\u001b[33;03m\"\"\"\u001b[39;00m\n\u001b[32m   6671\u001b[39m \u001b[33;03m    Compute the slice indexer for input labels and step.\u001b[39;00m\n\u001b[32m   6672\u001b[39m \n\u001b[32m   (...)\u001b[39m\u001b[32m   6706\u001b[39m \u001b[33;03m    slice(1, 3, None)\u001b[39;00m\n\u001b[32m   6707\u001b[39m \u001b[33;03m    \"\"\"\u001b[39;00m\n\u001b[32m-> \u001b[39m\u001b[32m6708\u001b[39m     start_slice, end_slice = \u001b[38;5;28;43mself\u001b[39;49m\u001b[43m.\u001b[49m\u001b[43mslice_locs\u001b[49m\u001b[43m(\u001b[49m\u001b[43mstart\u001b[49m\u001b[43m,\u001b[49m\u001b[43m \u001b[49m\u001b[43mend\u001b[49m\u001b[43m,\u001b[49m\u001b[43m \u001b[49m\u001b[43mstep\u001b[49m\u001b[43m=\u001b[49m\u001b[43mstep\u001b[49m\u001b[43m)\u001b[49m\n\u001b[32m   6710\u001b[39m     \u001b[38;5;66;03m# return a slice\u001b[39;00m\n\u001b[32m   6711\u001b[39m     \u001b[38;5;28;01mif\u001b[39;00m \u001b[38;5;129;01mnot\u001b[39;00m is_scalar(start_slice):\n",
      "\u001b[36mFile \u001b[39m\u001b[32m/media/codewithmishu/New Volume/skillnet ai ml source code/Jupyter source code/.venv/lib/python3.11/site-packages/pandas/core/indexes/base.py:6934\u001b[39m, in \u001b[36mIndex.slice_locs\u001b[39m\u001b[34m(self, start, end, step)\u001b[39m\n\u001b[32m   6932\u001b[39m start_slice = \u001b[38;5;28;01mNone\u001b[39;00m\n\u001b[32m   6933\u001b[39m \u001b[38;5;28;01mif\u001b[39;00m start \u001b[38;5;129;01mis\u001b[39;00m \u001b[38;5;129;01mnot\u001b[39;00m \u001b[38;5;28;01mNone\u001b[39;00m:\n\u001b[32m-> \u001b[39m\u001b[32m6934\u001b[39m     start_slice = \u001b[38;5;28;43mself\u001b[39;49m\u001b[43m.\u001b[49m\u001b[43mget_slice_bound\u001b[49m\u001b[43m(\u001b[49m\u001b[43mstart\u001b[49m\u001b[43m,\u001b[49m\u001b[43m \u001b[49m\u001b[33;43m\"\u001b[39;49m\u001b[33;43mleft\u001b[39;49m\u001b[33;43m\"\u001b[39;49m\u001b[43m)\u001b[49m\n\u001b[32m   6935\u001b[39m \u001b[38;5;28;01mif\u001b[39;00m start_slice \u001b[38;5;129;01mis\u001b[39;00m \u001b[38;5;28;01mNone\u001b[39;00m:\n\u001b[32m   6936\u001b[39m     start_slice = \u001b[32m0\u001b[39m\n",
      "\u001b[36mFile \u001b[39m\u001b[32m/media/codewithmishu/New Volume/skillnet ai ml source code/Jupyter source code/.venv/lib/python3.11/site-packages/pandas/core/indexes/base.py:6849\u001b[39m, in \u001b[36mIndex.get_slice_bound\u001b[39m\u001b[34m(self, label, side)\u001b[39m\n\u001b[32m   6845\u001b[39m original_label = label\n\u001b[32m   6847\u001b[39m \u001b[38;5;66;03m# For datetime indices label may be a string that has to be converted\u001b[39;00m\n\u001b[32m   6848\u001b[39m \u001b[38;5;66;03m# to datetime boundary according to its resolution.\u001b[39;00m\n\u001b[32m-> \u001b[39m\u001b[32m6849\u001b[39m label = \u001b[38;5;28;43mself\u001b[39;49m\u001b[43m.\u001b[49m\u001b[43m_maybe_cast_slice_bound\u001b[49m\u001b[43m(\u001b[49m\u001b[43mlabel\u001b[49m\u001b[43m,\u001b[49m\u001b[43m \u001b[49m\u001b[43mside\u001b[49m\u001b[43m)\u001b[49m\n\u001b[32m   6851\u001b[39m \u001b[38;5;66;03m# we need to look up the label\u001b[39;00m\n\u001b[32m   6852\u001b[39m \u001b[38;5;28;01mtry\u001b[39;00m:\n",
      "\u001b[36mFile \u001b[39m\u001b[32m/media/codewithmishu/New Volume/skillnet ai ml source code/Jupyter source code/.venv/lib/python3.11/site-packages/pandas/core/indexes/base.py:6782\u001b[39m, in \u001b[36mIndex._maybe_cast_slice_bound\u001b[39m\u001b[34m(self, label, side)\u001b[39m\n\u001b[32m   6780\u001b[39m \u001b[38;5;66;03m# reject them, if index does not contain label\u001b[39;00m\n\u001b[32m   6781\u001b[39m \u001b[38;5;28;01mif\u001b[39;00m (is_float(label) \u001b[38;5;129;01mor\u001b[39;00m is_integer(label)) \u001b[38;5;129;01mand\u001b[39;00m label \u001b[38;5;129;01mnot\u001b[39;00m \u001b[38;5;129;01min\u001b[39;00m \u001b[38;5;28mself\u001b[39m:\n\u001b[32m-> \u001b[39m\u001b[32m6782\u001b[39m     \u001b[38;5;28;43mself\u001b[39;49m\u001b[43m.\u001b[49m\u001b[43m_raise_invalid_indexer\u001b[49m\u001b[43m(\u001b[49m\u001b[33;43m\"\u001b[39;49m\u001b[33;43mslice\u001b[39;49m\u001b[33;43m\"\u001b[39;49m\u001b[43m,\u001b[49m\u001b[43m \u001b[49m\u001b[43mlabel\u001b[49m\u001b[43m)\u001b[49m\n\u001b[32m   6784\u001b[39m \u001b[38;5;28;01mreturn\u001b[39;00m label\n",
      "\u001b[36mFile \u001b[39m\u001b[32m/media/codewithmishu/New Volume/skillnet ai ml source code/Jupyter source code/.venv/lib/python3.11/site-packages/pandas/core/indexes/base.py:4308\u001b[39m, in \u001b[36mIndex._raise_invalid_indexer\u001b[39m\u001b[34m(self, form, key, reraise)\u001b[39m\n\u001b[32m   4306\u001b[39m \u001b[38;5;28;01mif\u001b[39;00m reraise \u001b[38;5;129;01mis\u001b[39;00m \u001b[38;5;129;01mnot\u001b[39;00m lib.no_default:\n\u001b[32m   4307\u001b[39m     \u001b[38;5;28;01mraise\u001b[39;00m \u001b[38;5;167;01mTypeError\u001b[39;00m(msg) \u001b[38;5;28;01mfrom\u001b[39;00m\u001b[38;5;250m \u001b[39m\u001b[34;01mreraise\u001b[39;00m\n\u001b[32m-> \u001b[39m\u001b[32m4308\u001b[39m \u001b[38;5;28;01mraise\u001b[39;00m \u001b[38;5;167;01mTypeError\u001b[39;00m(msg)\n",
      "\u001b[31mTypeError\u001b[39m: cannot do slice indexing on Index with these indexers [4] of type int"
     ]
    }
   ],
   "source": [
    "print(df.loc[4:9])"
   ]
  }
 ],
 "metadata": {
  "kernelspec": {
   "display_name": "Python 3 (ipykernel)",
   "language": "python",
   "name": "python3"
  },
  "language_info": {
   "codemirror_mode": {
    "name": "ipython",
    "version": 3
   },
   "file_extension": ".py",
   "mimetype": "text/x-python",
   "name": "python",
   "nbconvert_exporter": "python",
   "pygments_lexer": "ipython3",
   "version": "3.11.2"
  }
 },
 "nbformat": 4,
 "nbformat_minor": 5
}
