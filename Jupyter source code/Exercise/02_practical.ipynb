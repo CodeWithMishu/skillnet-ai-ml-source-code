{
 "cells": [
  {
   "cell_type": "markdown",
   "id": "6ff6cc22",
   "metadata": {},
   "source": [
    "# Practical Questions: Python Programming"
   ]
  },
  {
   "cell_type": "code",
   "execution_count": null,
   "id": "9d6dde78",
   "metadata": {},
   "outputs": [
    {
     "name": "stdout",
     "output_type": "stream",
     "text": [
      "Sum of even numbers in [1, 2, 3, 4, 5, 6, 7, 8, 9, 10]: 30\n"
     ]
    }
   ],
   "source": [
    "# Q1. Write a Python function that takes a list of numbers as input and returns the sum of all even numbers in the list.\n",
    "\n",
    "def sum_even_numbers(num):\n",
    "    return sum(num for num in num if num % 2 == 0)\n",
    "numbers = [1, 2, 3, 4, 5, 6, 7, 8, 9, 10]\n",
    "result = sum_even_numbers(numbers)\n",
    "print(f\"Sum of even numbers in {numbers}: {result}\")"
   ]
  },
  {
   "cell_type": "code",
   "execution_count": 4,
   "id": "940e902a",
   "metadata": {},
   "outputs": [
    {
     "name": "stdout",
     "output_type": "stream",
     "text": [
      "Original: naman\n",
      "Reversed: naman\n"
     ]
    }
   ],
   "source": [
    "# Q2. Create a Python function that accepts a string and returns the reverse of that string.\n",
    "def reverse_string(text):\n",
    "    return text[::-1]\n",
    "string = \"naman\"\n",
    "reversed_text = reverse_string(string)\n",
    "print(f\"Original: {string}\")\n",
    "print(f\"Reversed: {reversed_text}\")"
   ]
  },
  {
   "cell_type": "code",
   "execution_count": null,
   "id": "5f2a7546",
   "metadata": {},
   "outputs": [
    {
     "name": "stdout",
     "output_type": "stream",
     "text": [
      "Original numbers: [1, 2, 3, 4, 5]\n",
      "Squared numbers: [1, 4, 9, 16, 25]\n"
     ]
    }
   ],
   "source": [
    "# Q3. Implement a Python function that takes a list of integers and returns a new list containing the squares of each number.\n",
    "\n",
    "def square_numbers(numbers):\n",
    "    return [num ** 2 for num in numbers]\n",
    "\n",
    "nums = [1, 2, 3, 4, 5]  \n",
    "squares = square_numbers(nums)  \n",
    "print(f\"Original numbers: {nums}\")\n",
    "print(f\"Squared numbers: {squares}\")"
   ]
  },
  {
   "cell_type": "code",
   "execution_count": 9,
   "id": "8ac6e88c",
   "metadata": {},
   "outputs": [
    {
     "name": "stdout",
     "output_type": "stream",
     "text": [
      "1 is not prime\n",
      "2 is prime\n",
      "7 is prime\n",
      "15 is not prime\n",
      "17 is prime\n",
      "29 is prime\n",
      "100 is not prime\n",
      "101 is prime\n",
      "199 is prime\n",
      "200 is not prime\n",
      "\n",
      "Prime numbers from 1 to 200:\n",
      "[2, 3, 5, 7, 11, 13, 17, 19, 23, 29, 31, 37, 41, 43, 47, 53, 59, 61, 67, 71, 73, 79, 83, 89, 97, 101, 103, 107, 109, 113, 127, 131, 137, 139, 149, 151, 157, 163, 167, 173, 179, 181, 191, 193, 197, 199]\n"
     ]
    }
   ],
   "source": [
    "# Q4. Write a Python function that checks if a given number is prime or not from 1 to 200.\n",
    "\n",
    "def is_prime(number):\n",
    "    if number < 2:\n",
    "        return False\n",
    "    if number == 2:\n",
    "        return True\n",
    "    if number % 2 == 0:\n",
    "        return False\n",
    "    \n",
    "    for i in range(3, int(number ** 0.5) + 1, 2):\n",
    "        if number % i == 0:\n",
    "            return False\n",
    "    return True\n",
    "\n",
    "numbers = [1, 2, 7, 15, 17, 29, 100, 101, 199, 200]\n",
    "\n",
    "for num in numbers:\n",
    "    result = is_prime(num)\n",
    "    print(f\"{num} is {'prime' if result else 'not prime'}\")\n",
    "\n",
    "# Find all prime numbers from 1 to 200\n",
    "print(\"\\nPrime numbers from 1 to 200:\")\n",
    "primes = [num for num in range(1, 201) if is_prime(num)]\n",
    "print(primes)"
   ]
  },
  {
   "cell_type": "code",
   "execution_count": 11,
   "id": "b781499e",
   "metadata": {},
   "outputs": [
    {
     "name": "stdout",
     "output_type": "stream",
     "text": [
      "First 10 Fibonacci numbers:\n",
      "0 1 1 2 3 5 8 13 21 34 "
     ]
    }
   ],
   "source": [
    "# Q5. Create an iterator class in Python that generates the Fibonacci sequence up to a specified number of terms.\n",
    "class fibonacci:\n",
    "    def __init__(self, num_terms):\n",
    "        self.num_terms = num_terms\n",
    "        self.current_term = 0\n",
    "        self.a, self.b = 0, 1\n",
    "    \n",
    "    def __iter__(self):\n",
    "        return self\n",
    "    \n",
    "    def __next__(self):\n",
    "        if self.current_term >= self.num_terms:\n",
    "            raise StopIteration\n",
    "        \n",
    "        if self.current_term == 0:\n",
    "            self.current_term += 1\n",
    "            return self.a\n",
    "        elif self.current_term == 1:\n",
    "            self.current_term += 1\n",
    "            return self.b\n",
    "        else:\n",
    "            self.a, self.b = self.b, self.a + self.b\n",
    "            self.current_term += 1\n",
    "            return self.b\n",
    "\n",
    "print(\"First 10 Fibonacci numbers:\")\n",
    "fib = fibonacci(10)\n",
    "for number in fib:\n",
    "    print(number, end=\" \")\n"
   ]
  },
  {
   "cell_type": "code",
   "execution_count": 13,
   "id": "948e9baf",
   "metadata": {},
   "outputs": [
    {
     "name": "stdout",
     "output_type": "stream",
     "text": [
      "Powers of 2 up to exponent 10:\n",
      "1 2 4 8 16 32 64 128 256 512 1024 1024\n"
     ]
    }
   ],
   "source": [
    "# Q6. Write a generator function in Python that yields the powers of 2 up to a given exponent.\n",
    "\n",
    "def powers_of_2(max_exponent):\n",
    "    for exponent in range(max_exponent + 1):\n",
    "        yield 2 ** exponent\n",
    "print(\"Powers of 2 up to exponent 10:\")\n",
    "for power in powers_of_2(10):\n",
    "    print(power, end=\" \")\n",
    "print(power)"
   ]
  },
  {
   "cell_type": "code",
   "execution_count": 17,
   "id": "6df5a144",
   "metadata": {},
   "outputs": [
    {
     "name": "stdout",
     "output_type": "stream",
     "text": [
      "Reading file line by line:\n",
      "1: Line 1: Hello World\n",
      "2: Line 2: Python Programming\n",
      "3: Line 3: Generator Functions\n",
      "4: Line 4: File Processing\n",
      "5: Line 5: End of file\n"
     ]
    }
   ],
   "source": [
    "# Q7. Implement a generator function that reads a file line by line and yields each line as a string.\n",
    "\n",
    "def read_file_lines(filename):\n",
    "    try:\n",
    "        with open(filename, 'r') as file:\n",
    "            for line in file:\n",
    "                yield line.strip()\n",
    "    except FileNotFoundError:\n",
    "        print(f\"File '{filename}' not found.\")\n",
    "        return\n",
    "sample_content = \"\"\"Line 1: Hello World\n",
    "Line 2: Python Programming\n",
    "Line 3: Generator Functions\n",
    "Line 4: File Processing\n",
    "Line 5: End of file\"\"\"\n",
    "with open('sample.txt', 'w') as f:\n",
    "    f.write(sample_content)\n",
    "print(\"Reading file line by line:\")\n",
    "line_number = 1\n",
    "for line in read_file_lines('sample.txt'):\n",
    "    print(f\"{line_number}: {line}\")\n",
    "    line_number += 1"
   ]
  },
  {
   "cell_type": "code",
   "execution_count": 18,
   "id": "ae8e8eb6",
   "metadata": {},
   "outputs": [
    {
     "name": "stdout",
     "output_type": "stream",
     "text": [
      "Sorted by score (ascending):\n",
      "Abhishek: 78\n",
      "Munish: 85\n",
      "Sahhil: 92\n",
      "\n",
      "Sorted by score (descending):\n",
      "Sahhil: 92\n",
      "Munish: 85\n",
      "Abhishek: 78\n"
     ]
    }
   ],
   "source": [
    "# Q8. Use a lambda function in Python to sort a list of tuples based on the second element of each tuple.\n",
    "\n",
    "# Sample list of tuples\n",
    "student_scores = [('Munish', 85), ('Sahhil', 92), ('Abhishek', 78)]\n",
    "\n",
    "# Sort by second element (score) using lambda\n",
    "sorted_by_score = sorted(student_scores, key=lambda x: x[1])\n",
    "print(\"Sorted by score (ascending):\")\n",
    "for name, score in sorted_by_score:\n",
    "    print(f\"{name}: {score}\")\n",
    "\n",
    "# Sort by second element in descending order\n",
    "sorted_by_score_desc = sorted(student_scores, key=lambda x: x[1], reverse=True)\n",
    "print(\"\\nSorted by score (descending):\")\n",
    "for name, score in sorted_by_score_desc:\n",
    "    print(f\"{name}: {score}\")"
   ]
  },
  {
   "cell_type": "code",
   "execution_count": 19,
   "id": "1faee15c",
   "metadata": {},
   "outputs": [
    {
     "name": "stdout",
     "output_type": "stream",
     "text": [
      "Temperature Conversion (Celsius to Fahrenheit):\n",
      "0°C = 32.0°F\n",
      "20°C = 68.0°F\n",
      "25°C = 77.0°F\n",
      "30°C = 86.0°F\n",
      "37°C = 98.6°F\n",
      "100°C = 212.0°F\n",
      "\n",
      "Using lambda with map:\n",
      "0°C = 32.0°F\n",
      "20°C = 68.0°F\n",
      "25°C = 77.0°F\n",
      "30°C = 86.0°F\n",
      "37°C = 98.6°F\n",
      "100°C = 212.0°F\n"
     ]
    }
   ],
   "source": [
    "# Q9. Write a Python program that uses 'map()' to convert a list of temperatures from Celsius to Fahrenheit.\n",
    "\n",
    "def celsius_to_fahrenheit(celsius):\n",
    "    return (celsius * 9/5) + 32\n",
    "\n",
    "# List of temperatures in Celsius\n",
    "celsius_temperatures = [0, 20, 25, 30, 37, 100]\n",
    "\n",
    "# Convert using map()\n",
    "fahrenheit_temperatures = list(map(celsius_to_fahrenheit, celsius_temperatures))\n",
    "\n",
    "print(\"Temperature Conversion (Celsius to Fahrenheit):\")\n",
    "for c, f in zip(celsius_temperatures, fahrenheit_temperatures):\n",
    "    print(f\"{c}°C = {f}°F\")\n",
    "\n",
    "# Using lambda with map\n",
    "fahrenheit_lambda = list(map(lambda c: (c * 9/5) + 32, celsius_temperatures))\n",
    "\n",
    "print(\"\\nUsing lambda with map:\")\n",
    "for c, f in zip(celsius_temperatures, fahrenheit_lambda):\n",
    "    print(f\"{c}°C = {f}°F\")\n"
   ]
  },
  {
   "cell_type": "code",
   "execution_count": 10,
   "id": "2a661ddd",
   "metadata": {},
   "outputs": [
    {
     "name": "stdout",
     "output_type": "stream",
     "text": [
      "Original: Hello World Python Programming\n",
      "Without vowels: Hll Wrld Pythn Prgrmmng\n",
      "\n",
      "Original: Programming is fun\n",
      "Without vowels: Prgrmmng s fn\n",
      "\n",
      "Original: Learning Python is exciting\n",
      "Consonants only: Lrnng Pythn s xctng\n"
     ]
    }
   ],
   "source": [
    "# Q10. Create a Python program that uses 'filter()' to remove all the vowels from a given string.\n",
    "\n",
    "def remove_vowels(text):\n",
    "    vowels = 'aeiouAEIOU'\n",
    "    # Filter out vowels and join the remaining characters\n",
    "    return ''.join(filter(lambda char: char not in vowels, text))\n",
    "\n",
    "# Test the function\n",
    "test_string = \"Hello World Python Programming\"\n",
    "result = remove_vowels(test_string)\n",
    "print(f\"Original: {test_string}\")\n",
    "print(f\"Without vowels: {result}\")\n",
    "\n",
    "# Alternative approach using filter directly\n",
    "def is_not_vowel(char):\n",
    "    return char.lower() not in 'aeiou'\n",
    "\n",
    "text = \"Programming is fun\"\n",
    "filtered_chars = list(filter(is_not_vowel, text))\n",
    "no_vowels = ''.join(filtered_chars)\n",
    "print(f\"\\nOriginal: {text}\")\n",
    "print(f\"Without vowels: {no_vowels}\")\n",
    "\n",
    "# Using lambda with filter\n",
    "sample_text = \"Learning Python is exciting\"\n",
    "consonants_only = ''.join(filter(lambda x: x.lower() not in 'aeiou', sample_text))\n",
    "print(f\"\\nOriginal: {sample_text}\")\n",
    "print(f\"Consonants only: {consonants_only}\")"
   ]
  },
  {
   "cell_type": "code",
   "execution_count": 11,
   "id": "511cb3c1",
   "metadata": {},
   "outputs": [
    {
     "name": "stdout",
     "output_type": "stream",
     "text": [
      "Order Processing Results:\n",
      "Order Number | Total Value\n",
      "-------------------------\n",
      "      34587 | € 163.80\n",
      "      98762 | € 284.00\n",
      "      77226 | € 108.85\n",
      "      88112 | €  84.97\n",
      "\n",
      "Detailed Breakdown:\n",
      "\n",
      "Order 34587:\n",
      "  Book: Learning Python, Mark Lutz\n",
      "  Quantity: 4, Price per item: €40.95\n",
      "  Subtotal: €163.80\n",
      "  Total: €163.80\n",
      "\n",
      "Order 98762:\n",
      "  Book: Programming Python, Mark Lutz\n",
      "  Quantity: 5, Price per item: €56.8\n",
      "  Subtotal: €284.00\n",
      "  Total: €284.00\n",
      "\n",
      "Order 77226:\n",
      "  Book: Head First Python, Paul Barry\n",
      "  Quantity: 3, Price per item: €32.95\n",
      "  Subtotal: €98.85\n",
      "  Surcharge (< €100): €10.00\n",
      "  Total: €108.85\n",
      "\n",
      "Order 88112:\n",
      "  Book: Einführung in Python3, Bernd Klein\n",
      "  Quantity: 3, Price per item: €24.99\n",
      "  Subtotal: €74.97\n",
      "  Surcharge (< €100): €10.00\n",
      "  Total: €84.97\n"
     ]
    }
   ],
   "source": [
    "# Q11. Imagine an accounting routine used in a book shop. Write a Python program, which returns a list with 2-tuples. Each tuple consists of the order number and the product of the price per item and the quantity. The product should be increased by 10,- € if the value of the order is smaller than 100,00 €.\n",
    "\n",
    "# Book shop data\n",
    "orders = [\n",
    "    (34587, \"Learning Python, Mark Lutz\", 4, 40.95),\n",
    "    (98762, \"Programming Python, Mark Lutz\", 5, 56.80),\n",
    "    (77226, \"Head First Python, Paul Barry\", 3, 32.95),\n",
    "    (88112, \"Einführung in Python3, Bernd Klein\", 3, 24.99)\n",
    "]\n",
    "\n",
    "def calculate_order_totals(orders):\n",
    "    result = []\n",
    "    \n",
    "    for order in orders:\n",
    "        order_number, book_title, quantity, price_per_item = order\n",
    "        total_value = quantity * price_per_item\n",
    "        \n",
    "        # Add 10€ surcharge if order value is less than 100€\n",
    "        if total_value < 100.00:\n",
    "            total_value += 10.00\n",
    "        \n",
    "        result.append((order_number, total_value))\n",
    "    \n",
    "    return result\n",
    "\n",
    "# Calculate order totals\n",
    "order_totals = calculate_order_totals(orders)\n",
    "\n",
    "print(\"Order Processing Results:\")\n",
    "print(\"Order Number | Total Value\")\n",
    "print(\"-\" * 25)\n",
    "for order_num, total in order_totals:\n",
    "    print(f\"{order_num:11} | €{total:7.2f}\")\n",
    "\n",
    "# Show detailed breakdown\n",
    "print(\"\\nDetailed Breakdown:\")\n",
    "for i, order in enumerate(orders):\n",
    "    order_number, book_title, quantity, price_per_item = order\n",
    "    subtotal = quantity * price_per_item\n",
    "    surcharge = 10.00 if subtotal < 100.00 else 0.00\n",
    "    total = subtotal + surcharge\n",
    "    \n",
    "    print(f\"\\nOrder {order_number}:\")\n",
    "    print(f\"  Book: {book_title}\")\n",
    "    print(f\"  Quantity: {quantity}, Price per item: €{price_per_item}\")\n",
    "    print(f\"  Subtotal: €{subtotal:.2f}\")\n",
    "    if surcharge > 0:\n",
    "        print(f\"  Surcharge (< €100): €{surcharge:.2f}\")\n",
    "    print(f\"  Total: €{total:.2f}\")"
   ]
  },
  {
   "cell_type": "code",
   "execution_count": 12,
   "id": "46231eb5",
   "metadata": {},
   "outputs": [
    {
     "name": "stdout",
     "output_type": "stream",
     "text": [
      "Using Lambda and Map:\n",
      "Order Number | Total Value\n",
      "-------------------------\n",
      "      34587 | € 163.80\n",
      "      98762 | € 284.00\n",
      "      77226 | € 108.85\n",
      "      88112 | €  84.97\n",
      "\n",
      "Concise lambda result: [(34587, 163.8), (98762, 284.0), (77226, 108.85000000000001), (88112, 84.97)]\n"
     ]
    }
   ],
   "source": [
    "# Q11 Alternative Solution. Write a Python program using lambda and map.\n",
    "\n",
    "# Same book shop data\n",
    "orders = [\n",
    "    (34587, \"Learning Python, Mark Lutz\", 4, 40.95),\n",
    "    (98762, \"Programming Python, Mark Lutz\", 5, 56.80),\n",
    "    (77226, \"Head First Python, Paul Barry\", 3, 32.95),\n",
    "    (88112, \"Einführung in Python3, Bernd Klein\", 3, 24.99)\n",
    "]\n",
    "\n",
    "# Using lambda and map\n",
    "def process_order_with_map(orders):\n",
    "    return list(map(\n",
    "        lambda order: (\n",
    "            order[0],  # order number\n",
    "            (order[2] * order[3]) + (10.0 if (order[2] * order[3]) < 100.0 else 0.0)  # total with surcharge\n",
    "        ),\n",
    "        orders\n",
    "    ))\n",
    "\n",
    "# Process orders using lambda and map\n",
    "processed_orders = process_order_with_map(orders)\n",
    "\n",
    "print(\"Using Lambda and Map:\")\n",
    "print(\"Order Number | Total Value\")\n",
    "print(\"-\" * 25)\n",
    "for order_num, total in processed_orders:\n",
    "    print(f\"{order_num:11} | €{total:7.2f}\")\n",
    "\n",
    "# More concise version\n",
    "order_totals_lambda = list(map(\n",
    "    lambda x: (x[0], x[2] * x[3] + (10 if x[2] * x[3] < 100 else 0)), \n",
    "    orders\n",
    "))\n",
    "\n",
    "print(f\"\\nConcise lambda result: {order_totals_lambda}\")"
   ]
  }
 ],
 "metadata": {
  "kernelspec": {
   "display_name": "Python 3",
   "language": "python",
   "name": "python3"
  },
  "language_info": {
   "codemirror_mode": {
    "name": "ipython",
    "version": 3
   },
   "file_extension": ".py",
   "mimetype": "text/x-python",
   "name": "python",
   "nbconvert_exporter": "python",
   "pygments_lexer": "ipython3",
   "version": "3.13.5"
  }
 },
 "nbformat": 4,
 "nbformat_minor": 5
}
