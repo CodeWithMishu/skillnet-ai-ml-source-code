{
 "cells": [
  {
   "cell_type": "code",
   "execution_count": 1,
   "id": "d1ed2a58-1dc1-4982-9783-ad790108e9b9",
   "metadata": {},
   "outputs": [
    {
     "name": "stdout",
     "output_type": "stream",
     "text": [
      "Munish\n"
     ]
    }
   ],
   "source": [
    "# 1. Write a code to create a string with your name and print it.\n",
    "name = \"Munish\"\n",
    "print(name)"
   ]
  },
  {
   "cell_type": "code",
   "execution_count": 1,
   "id": "81491d43-3f65-4977-8e09-7f5f3dc1b7e2",
   "metadata": {},
   "outputs": [
    {
     "name": "stdout",
     "output_type": "stream",
     "text": [
      "11\n"
     ]
    }
   ],
   "source": [
    "#2. Write a code to find the length of the string \"Hello World\".\n",
    "x = \"Hello World\"\n",
    "print(len(x))"
   ]
  },
  {
   "cell_type": "code",
   "execution_count": 2,
   "id": "31196d8a-6f5d-4e6b-b8cd-b753605acec1",
   "metadata": {},
   "outputs": [
    {
     "name": "stdout",
     "output_type": "stream",
     "text": [
      "Pyt\n"
     ]
    }
   ],
   "source": [
    "#3. Write a code to slice the first 3 characters from the string \"Python Programming\"\n",
    "text = \"Python Programming\"\n",
    "print(text[:3])"
   ]
  },
  {
   "cell_type": "code",
   "execution_count": 5,
   "id": "fcef50c3-7821-4ba1-8691-d8b4ef69791a",
   "metadata": {},
   "outputs": [
    {
     "name": "stdout",
     "output_type": "stream",
     "text": [
      "HELLO\n"
     ]
    }
   ],
   "source": [
    "#4. write a code to convert the string \"hello\" to uppercase.\n",
    "text = \"hello\"\n",
    "print(text.upper())"
   ]
  },
  {
   "cell_type": "code",
   "execution_count": 6,
   "id": "112d83ea-eff9-4876-af2a-7b460afe39f2",
   "metadata": {},
   "outputs": [
    {
     "name": "stdout",
     "output_type": "stream",
     "text": [
      "I like orange\n"
     ]
    }
   ],
   "source": [
    "#5. write a code to replace the word \"apple\" with \"orange\" in the sting \"I like apple\".\n",
    "text = \"I like apple\"\n",
    "print(text.replace(\"apple\",\"orange\"))"
   ]
  },
  {
   "cell_type": "code",
   "execution_count": 9,
   "id": "76852a59-6eb0-4c61-b71b-f6d4b8ef982f",
   "metadata": {},
   "outputs": [
    {
     "name": "stdout",
     "output_type": "stream",
     "text": [
      "[1, 2, 3, 4, 5]\n",
      "[1, 2, 3, 4, 5]\n"
     ]
    }
   ],
   "source": [
    "#6. Write a code to create a list with numbers 1 to 5 and print it.\n",
    "num = [1,2,3,4,5]\n",
    "print(num)\n",
    "# other way\n",
    "num = list(range(1,6))\n",
    "print(num)"
   ]
  },
  {
   "cell_type": "code",
   "execution_count": 11,
   "id": "4e1b0c88-de94-42db-9e6f-8f9e61caa9d3",
   "metadata": {},
   "outputs": [
    {
     "name": "stdout",
     "output_type": "stream",
     "text": [
      "[1, 2, 3, 4, 10]\n"
     ]
    }
   ],
   "source": [
    "#7. Write a code to append the number 10 to the list [1,2,3,4]\n",
    "num = [1,2,3,4]\n",
    "num.append(10)\n",
    "print(num)"
   ]
  },
  {
   "cell_type": "code",
   "execution_count": 12,
   "id": "6a31f048-4358-4761-abab-1cb9f42a79b5",
   "metadata": {},
   "outputs": [
    {
     "name": "stdout",
     "output_type": "stream",
     "text": [
      "[1, 2, 4, 5]\n"
     ]
    }
   ],
   "source": [
    "#8. write a code to remove the numbers 3 from the list [1,2,3,4,5].\n",
    "num = [1,2,3,4,5]\n",
    "num.remove(3)\n",
    "print(num)"
   ]
  },
  {
   "cell_type": "code",
   "execution_count": 13,
   "id": "873df21e-7958-4c5e-bb4d-a9a09d7cae70",
   "metadata": {},
   "outputs": [
    {
     "name": "stdout",
     "output_type": "stream",
     "text": [
      "b\n"
     ]
    }
   ],
   "source": [
    "#9. write a code to access the second element in the list ['a','b','c','d']\n",
    "letters = ['a','b','c','d']\n",
    "print(letters[1])"
   ]
  },
  {
   "cell_type": "code",
   "execution_count": 17,
   "id": "e47c8ecc-45a6-4f68-9bfc-df70e5cbc37f",
   "metadata": {},
   "outputs": [
    {
     "name": "stdout",
     "output_type": "stream",
     "text": [
      "[50, 40, 30, 20, 10]\n",
      "[50, 40, 30, 20, 10]\n"
     ]
    }
   ],
   "source": [
    "#10. Write a code to reverse the list [10,20,30,40,50]\n",
    "numbers = [10,20,30,40,50]\n",
    "numbers.reverse()\n",
    "print(numbers)\n",
    "# or\n",
    "num = [10,20,30,40,50]\n",
    "\n",
    "print(num[::-1])"
   ]
  },
  {
   "cell_type": "code",
   "execution_count": 2,
   "id": "cc78cf38-c583-4e05-9bcc-2e5638567d82",
   "metadata": {},
   "outputs": [
    {
     "name": "stdout",
     "output_type": "stream",
     "text": [
      "(100, 200, 300)\n"
     ]
    }
   ],
   "source": [
    "# 11. Write a code to create a tuple with the elements 100,200,300 and print it\n",
    "num = (100,200,300)\n",
    "print(num)"
   ]
  },
  {
   "cell_type": "code",
   "execution_count": 4,
   "id": "3b6764f0-f1b6-42a7-a6be-6587d8ee6a31",
   "metadata": {},
   "outputs": [
    {
     "name": "stdout",
     "output_type": "stream",
     "text": [
      "('gree', 'blue', 'yellow')\n"
     ]
    }
   ],
   "source": [
    "# 12. Write a code to access the second-to-last elements of the tuple ('red','green','blue','yellow').\n",
    "color = ('red','gree','blue','yellow')\n",
    "print(color[1:4])"
   ]
  },
  {
   "cell_type": "code",
   "execution_count": 8,
   "id": "c31e5025-280c-4d10-806e-3202eaf90288",
   "metadata": {},
   "outputs": [
    {
     "name": "stdout",
     "output_type": "stream",
     "text": [
      "5\n"
     ]
    }
   ],
   "source": [
    "#13. Write a code to find the minimum number in the tuple (10,20,5,15)\n",
    "num = (10,20,5,15)\n",
    "print(min(num))"
   ]
  },
  {
   "cell_type": "code",
   "execution_count": 9,
   "id": "0e21a69e-d67d-40e9-b8a3-930eb48f36c4",
   "metadata": {},
   "outputs": [
    {
     "name": "stdout",
     "output_type": "stream",
     "text": [
      "1\n"
     ]
    }
   ],
   "source": [
    "# 14. Write a code to find the index of the element \"cat\" in the tuple ('dog','cat','rabbit')\n",
    "animal = ('dog','cat','rabbit')\n",
    "print(animal.index('cat'))"
   ]
  },
  {
   "cell_type": "code",
   "execution_count": 11,
   "id": "195c64dc-023c-4a32-a65b-84ba92b8cd78",
   "metadata": {},
   "outputs": [
    {
     "name": "stdout",
     "output_type": "stream",
     "text": [
      "True\n"
     ]
    }
   ],
   "source": [
    "# 15. Write a code to create a tuple containing three different fruits and check if \"kiwi\" is in it.\n",
    "fruits = (\"Kiwi\",\"pineapple\",\"apple\")\n",
    "print(\"Kiwi\" in fruits)"
   ]
  },
  {
   "cell_type": "code",
   "execution_count": 12,
   "id": "cccc6510-affa-48a1-84ec-b20849415ae3",
   "metadata": {},
   "outputs": [
    {
     "name": "stdout",
     "output_type": "stream",
     "text": [
      "{'a', 'c', 'b'}\n"
     ]
    }
   ],
   "source": [
    "# 16. Write a code to create a set withthe elements 'a','b','c' and print it.\n",
    "letters = {'a','b','c'}\n",
    "print(letters)"
   ]
  },
  {
   "cell_type": "code",
   "execution_count": 22,
   "id": "049d038f-8007-477d-879a-8179814fabd2",
   "metadata": {},
   "outputs": [
    {
     "name": "stdout",
     "output_type": "stream",
     "text": [
      "set()\n"
     ]
    }
   ],
   "source": [
    "# 17. Write a code to clear all elements from the set {1,2,3,4,5}.\n",
    "num = {1,2,3,4,5}\n",
    "num.clear()\n",
    "print(num)"
   ]
  },
  {
   "cell_type": "code",
   "execution_count": 24,
   "id": "0bb8495a-4100-4b49-bbfa-7981e98ccd6b",
   "metadata": {},
   "outputs": [
    {
     "name": "stdout",
     "output_type": "stream",
     "text": [
      "{1, 2, 3}\n"
     ]
    }
   ],
   "source": [
    "# 18. Write a code to remove the elements 4 from the set {1,2,3,4}\n",
    "num = {1,2,3,4}\n",
    "num.remove(4)\n",
    "print(num)"
   ]
  },
  {
   "cell_type": "code",
   "execution_count": 28,
   "id": "a31aa6b7-d03e-41a3-8c79-9cc2f033150d",
   "metadata": {},
   "outputs": [
    {
     "name": "stdout",
     "output_type": "stream",
     "text": [
      "{1, 2, 3, 4, 5}\n"
     ]
    }
   ],
   "source": [
    "# 19. Write a code to find the union of two sets {1,2,3} and {3,4,5}\n",
    "num1 = {1,2,3}\n",
    "num2 = {3,4,5}\n",
    "# num = num1 + num2\n",
    "num = num1.union(num2)\n",
    "print(num)"
   ]
  },
  {
   "cell_type": "code",
   "execution_count": 34,
   "id": "fe0afd8a-3b96-49ae-ab5c-bc7a444c99d1",
   "metadata": {},
   "outputs": [
    {
     "name": "stdout",
     "output_type": "stream",
     "text": [
      "{3}\n"
     ]
    }
   ],
   "source": [
    "# 20. write a code to find the intersection of two sets {1,2,3} and {3,4,5}.\n",
    "num1 = {1,2,3}\n",
    "num2 = {3,4,5}\n",
    "num = num1.intersection(num2)\n",
    "print(num)"
   ]
  },
  {
   "cell_type": "code",
   "execution_count": 35,
   "id": "6b5accd7-d585-48c9-a985-feb979565e6a",
   "metadata": {},
   "outputs": [
    {
     "name": "stdout",
     "output_type": "stream",
     "text": [
      "{'name': 'Munish', 'age': 19, 'city': 'bilasput'}\n"
     ]
    }
   ],
   "source": [
    "#21. Write a code to create a dictionary with the keys \"name\",\"age\",and \"city\" and print it.\n",
    "details = {\"name\":\"Munish\",\"age\":19,\"city\":\"bilasput\"}\n",
    "print(details)"
   ]
  },
  {
   "cell_type": "code",
   "execution_count": 3,
   "id": "60bf2585-a3d3-4755-87fa-bf12518e9c35",
   "metadata": {},
   "outputs": [
    {
     "name": "stdout",
     "output_type": "stream",
     "text": [
      "{'name': 'John', 'age': 30, 'Country': 'USA'}\n"
     ]
    }
   ],
   "source": [
    "# 22. Write a code to add a new key- value pair \"country\":\"USA\" to the dictionary {'name':'John','age':25'}\n",
    "details = {\"name\":\"John\",\"age\":30}\n",
    "details[\"Country\"]=\"USA\"\n",
    "print(details)"
   ]
  },
  {
   "cell_type": "code",
   "execution_count": 5,
   "id": "46a16c68-28ac-4993-b77b-472f4d031810",
   "metadata": {},
   "outputs": [
    {
     "name": "stdout",
     "output_type": "stream",
     "text": [
      "Alice\n"
     ]
    }
   ],
   "source": [
    "# 23. Write a code to access the value associated with the key \"name\" in the dictinary {\"name\":\"Alic\",\"age\":30}\n",
    "details = {\"name\":\"Alice\",\"age\":30}\n",
    "name = details.get(\"name\")\n",
    "print(name)"
   ]
  },
  {
   "cell_type": "code",
   "execution_count": 12,
   "id": "4257eb32-4acb-4480-b037-74ac21461fbc",
   "metadata": {},
   "outputs": [
    {
     "name": "stdout",
     "output_type": "stream",
     "text": [
      "{'name': 'Bob', 'city': 'New York'}\n"
     ]
    }
   ],
   "source": [
    "# 24. Write a code to remove the key \"age\" from the dictionart {\"name\":\"Bob\",\"age\":22,\"city\":\"New York\"}\n",
    "details = {\"name\":\"Bob\",\"age\":22,\"city\":\"New York\"}\n",
    "details.pop(\"age\")\n",
    "print(details)"
   ]
  },
  {
   "cell_type": "code",
   "execution_count": 13,
   "id": "814be0c3-9004-4f5c-9519-9c94105b7d36",
   "metadata": {},
   "outputs": [
    {
     "name": "stdout",
     "output_type": "stream",
     "text": [
      "True\n"
     ]
    }
   ],
   "source": [
    "# 25. Write a code to check if the key \"city\" exists in the dictionar {\"name\":\"Akice\",\"city\":\"Paris\"}\n",
    "details = {\"name\":\"Alice\",\"city\":\"Paris\"}\n",
    "print(\"city\" in details)"
   ]
  },
  {
   "cell_type": "code",
   "execution_count": 16,
   "id": "8160d288-fc0e-4c50-8260-d89c3ebfbffe",
   "metadata": {},
   "outputs": [
    {
     "name": "stdout",
     "output_type": "stream",
     "text": [
      " This is my list ['Munish', 'Sahil', 'Abhishek'] \n",
      " and this is my tuple {'Apple', 'Pineapple', 'Banana'}  \n",
      " and this is my dictionary  {'name': 'Alice', 'city': 'Paris'}\n"
     ]
    }
   ],
   "source": [
    "# 26. Write a code to create a list , a tuple , and a dictionart , and print them all.\n",
    "my_dictionary = {\"name\":\"Alice\",\"city\":\"Paris\"}\n",
    "my_list = [\"Munish\",\"Sahil\",\"Abhishek\"]\n",
    "my_tuple = {\"Apple\",\"Pineapple\",\"Banana\"}\n",
    "print(f\" This is my list {my_list} \\n and this is my tuple {my_tuple}  \\n and this is my dictionary  {my_dictionary}\")\n"
   ]
  },
  {
   "cell_type": "code",
   "execution_count": 21,
   "id": "f52bf663-353d-47ea-987a-f6079609ac85",
   "metadata": {},
   "outputs": [
    {
     "name": "stdout",
     "output_type": "stream",
     "text": [
      "[11, 22, 3, 44, 5]\n",
      "[3, 5, 11, 22, 44]\n"
     ]
    }
   ],
   "source": [
    "# 27. Write a code to create a list of 5 random numbers between 1 and 100 , sort it in ascending order , and print the result (replaced)\n",
    "my_list = [11,22,3,44,5]\n",
    "print(my_list)\n",
    "my_list.sort() #unsorted\n",
    "print(my_list) # sorted "
   ]
  },
  {
   "cell_type": "code",
   "execution_count": 25,
   "id": "05a94758-d44d-4c66-8062-918c16e097bb",
   "metadata": {},
   "outputs": [
    {
     "name": "stdout",
     "output_type": "stream",
     "text": [
      "['My ', 'name ', 'is ', 'Munish ']\n"
     ]
    }
   ],
   "source": [
    "# 28. Write a code to create a list with strings and print the elements at the third index.\n",
    "first = \"My \"\n",
    "second = \"name \"\n",
    "third = \"is \"\n",
    "fourth = \"Munish \"\n",
    "combined = [ first,second,third,fourth,]\n",
    "print(combined)"
   ]
  },
  {
   "cell_type": "code",
   "execution_count": 28,
   "id": "70fa5e4a-099f-4d78-a8b6-903963885c32",
   "metadata": {},
   "outputs": [
    {
     "name": "stdout",
     "output_type": "stream",
     "text": [
      "{'name': 'Munish', 'age': 19, 'city': 'bilaspur'}\n"
     ]
    }
   ],
   "source": [
    "#29 . Write a code to combine two dictionaries into onne and print the result .\n",
    "first = {\"name\":\"Munish\",\"age\":19}\n",
    "second = {\"city\":\"bilaspur\"}\n",
    "combined = first | second\n",
    "print(combined)"
   ]
  },
  {
   "cell_type": "code",
   "execution_count": 31,
   "id": "a69176c5-7686-44bc-855b-cb82b44817d0",
   "metadata": {},
   "outputs": [
    {
     "name": "stdout",
     "output_type": "stream",
     "text": [
      "{'vishal', 'Munish', 'Sahil'}\n"
     ]
    }
   ],
   "source": [
    "# 30.  write a code to convert a list of strings into a set \n",
    "my_list = [\"Munish\",\"Sahil\",\"vishal\"]\n",
    "my_set = set(my_list)\n",
    "print(my_set)"
   ]
  },
  {
   "cell_type": "code",
   "execution_count": null,
   "id": "3d7dfb3a-567c-4c50-84f0-b044890f6ec9",
   "metadata": {},
   "outputs": [],
   "source": []
  }
 ],
 "metadata": {
  "kernelspec": {
   "display_name": "Python 3 (ipykernel)",
   "language": "python",
   "name": "python3"
  },
  "language_info": {
   "codemirror_mode": {
    "name": "ipython",
    "version": 3
   },
   "file_extension": ".py",
   "mimetype": "text/x-python",
   "name": "python",
   "nbconvert_exporter": "python",
   "pygments_lexer": "ipython3",
   "version": "3.13.5"
  }
 },
 "nbformat": 4,
 "nbformat_minor": 5
}
