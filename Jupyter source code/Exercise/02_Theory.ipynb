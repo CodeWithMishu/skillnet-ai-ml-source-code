{
 "cells": [
  {
   "cell_type": "markdown",
   "id": "0b0db66f",
   "metadata": {},
   "source": [
    "## Q1. What is the difference between a function and a method in Python?\n",
    "\n",
    "Well, the main thing to understand here is that functions and methods are quite similar but they work in different contexts. A function is basically a standalone piece of code that you can call from anywhere in your program. You define it using the `def` keyword and just call it by its name whenever you need it. On the other hand, a method is essentially a function that belongs to a class or object. The key difference is that methods are always tied to an object and you call them using the dot notation like `object.method()`.\n",
    "\n",
    "Think of it this way - if I want to greet someone, I can write a simple function that does that job. But if I have a Student class and I want each student to introduce themselves, that would be a method because it's specific to that student object."
   ]
  },
  {
   "cell_type": "markdown",
   "id": "a890c9af",
   "metadata": {},
   "source": [
    "## Q2. Explain the concept of function arguments and parameters in Python.\n",
    "\n",
    "So basically, parameters and arguments are like two sides of the same coin, but people often get confused about which is which. When you're defining a function, those variables you put in the parentheses are called parameters - they're like placeholders waiting for actual values. But when you actually call the function and pass real values to it, those values are called arguments.\n",
    "\n",
    "There are different types of parameters you can use. You have positional parameters which must be provided in a specific order, default parameters that have backup values if nothing is passed, keyword arguments where you specify the parameter name, and variable-length arguments using *args and **kwargs for when you don't know how many values you'll get. It's pretty flexible once you get the hang of it."
   ]
  },
  {
   "cell_type": "markdown",
   "id": "b4b28a79",
   "metadata": {},
   "source": [
    "## Q3. What are the different ways to define and call a function in Python?\n",
    "\n",
    "Python gives you several ways to create functions, and it's pretty cool how flexible it is. The most common way is just using the regular `def` statement where you give your function a name and define what it does. You can also create functions with default parameters, which is handy when you want some values to be optional. Then there are lambda functions, which are like mini functions for simple operations - they're anonymous and perfect for quick tasks. You can even create functions that accept a variable number of arguments, which is useful when you don't know exactly how many inputs you'll get."
   ]
  },
  {
   "cell_type": "markdown",
   "id": "471dc7d5",
   "metadata": {},
   "source": [
    "## Q4. What is the purpose of the 'return' statement in a Python function?\n",
    "\n",
    "The return statement is really important because it's how your function sends information back to whoever called it. When Python hits a return statement, it immediately stops executing the function and sends back whatever value you specified. If you don't put a return statement in your function, it automatically returns None, which might not be what you want.\n",
    "\n",
    "What's interesting is that you can return multiple values at once using tuples, and you can have multiple return statements in a function, though only one will actually execute depending on your logic flow. The return statement also enables you to chain functions together and use the output of one function as input for another, which makes your code more modular and reusable."
   ]
  },
  {
   "cell_type": "markdown",
   "id": "b3dbe4ae",
   "metadata": {},
   "source": [
    "## Q5. What are iterators in Python and how do they differ from iterables?\n",
    "\n",
    "This is something that trips up a lot of people initially. An iterable is basically any object you can loop through - like lists, strings, tuples, dictionaries, and sets. These objects have a special method called `__iter__()` that makes them loopable. But an iterator is different - it's an object that actually does the looping work and keeps track of where it is in the sequence.\n",
    "\n",
    "The iterator has both `__iter__()` and `__next__()` methods. It remembers its position and when you call `next()` on it, it gives you the next item. When there are no more items left, it raises a `StopIteration` exception to let you know it's done. You can think of iterables as containers and iterators as the mechanism that walks through those containers one step at a time."
   ]
  },
  {
   "cell_type": "markdown",
   "id": "3ef3a3b5",
   "metadata": {},
   "source": [
    "## Q6. Explain the concept of generators in Python and how they are defined.\n",
    "\n",
    "Generators are pretty neat because they're like smart functions that don't create everything at once. Instead of returning a regular value, they use the `yield` keyword to produce values on-demand. This makes them super memory-efficient because they only generate what you need when you need it, rather than creating a huge list in memory all at once.\n",
    "\n",
    "You can create generators in two main ways - either by using `yield` in a function or by using generator expressions that look similar to list comprehensions but with parentheses instead of square brackets. The cool thing about generators is that they remember where they left off between calls, so they maintain their state automatically. This is perfect for working with large datasets or creating infinite sequences without running out of memory."
   ]
  },
  {
   "cell_type": "markdown",
   "id": "09fd9d1f",
   "metadata": {},
   "source": [
    "## Q7. What are the advantages of using generators over regular functions?\n",
    "\n",
    "The biggest advantage of generators is how they handle memory. Regular functions create and store all their results at once, which can be a problem if you're dealing with lots of data. Generators are much smarter about this - they only create values when you actually ask for them, which saves a ton of memory.\n",
    "\n",
    "Another great thing about generators is lazy evaluation, meaning they don't do any work until you need the results. This can save processing time, especially if you end up not using all the values. They also maintain their state between calls, so you don't need to keep track of where you were manually. Plus, you can create infinite sequences with generators, which would be impossible with regular functions since you'd run out of memory trying to store everything."
   ]
  },
  {
   "cell_type": "markdown",
   "id": "11d52ace",
   "metadata": {},
   "source": [
    "## Q8. What is a lambda function in Python and when is it typically used?\n",
    "\n",
    "Lambda functions are basically mini functions that you can create on the fly. They're called \"anonymous\" functions because you don't give them a name like regular functions. The syntax is pretty simple - you just write `lambda`, followed by the arguments, a colon, and then the expression you want to evaluate.\n",
    "\n",
    "You'll mostly see lambda functions used with higher-order functions like map, filter, and reduce, where you need a simple function for a quick operation. They're perfect for short, simple tasks where writing a full function would be overkill. You might also see them used for event handling or callbacks. The main limitation is that they can only contain a single expression, so they're not suitable for complex logic."
   ]
  },
  {
   "cell_type": "markdown",
   "id": "8b07ff27",
   "metadata": {},
   "source": [
    "## Q9. Explain the purpose and usage of the 'map()' function in Python.\n",
    "\n",
    "The map function is really handy when you want to apply the same operation to every item in a list or other iterable. Instead of writing a loop to go through each element one by one, you can just use map to transform all the elements at once. It takes two arguments - the function you want to apply and the iterable you want to apply it to.\n",
    "\n",
    "What's nice about map is that it returns a map object, which is actually an iterator, so it's memory efficient. You usually convert it to a list to see the results, but you could also iterate through it directly. It's a more functional programming approach compared to traditional loops, and once you get used to it, it can make your code cleaner and more concise, especially when combined with lambda functions."
   ]
  },
  {
   "cell_type": "markdown",
   "id": "66da08d4",
   "metadata": {},
   "source": [
    "## Q10. What is the difference between 'map()', 'reduce()', and 'filter()' functions in Python?\n",
    "\n",
    "These three functions are like the holy trinity of functional programming in Python, and they each have different jobs. Map is all about transformation - it takes each element in your iterable and applies a function to transform it into something else, giving you back an iterator with all the transformed values. Filter, on the other hand, is about selection - it goes through your iterable and only keeps the elements that meet a certain condition, basically filtering out what you don't want.\n",
    "\n",
    "Reduce is the odd one out because instead of giving you back an iterator, it combines all the elements into a single value. It's like it takes your whole list and crushes it down into one result by repeatedly applying a function to pairs of elements. For example, you could use reduce to sum all numbers, find the maximum value, or multiply everything together. Each function serves a different purpose but they work great together when you need to process data."
   ]
  }
 ],
 "metadata": {
  "kernelspec": {
   "display_name": "Python 3",
   "language": "python",
   "name": "python3"
  },
  "language_info": {
   "codemirror_mode": {
    "name": "ipython",
    "version": 3
   },
   "file_extension": ".py",
   "mimetype": "text/x-python",
   "name": "python",
   "nbconvert_exporter": "python",
   "pygments_lexer": "ipython3",
   "version": "3.13.5"
  }
 },
 "nbformat": 4,
 "nbformat_minor": 5
}
