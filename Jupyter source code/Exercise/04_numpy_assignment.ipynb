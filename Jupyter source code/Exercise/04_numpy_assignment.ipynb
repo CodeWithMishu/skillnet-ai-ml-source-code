{
 "cells": [
  {
   "cell_type": "code",
   "execution_count": 2,
   "id": "e48717fc",
   "metadata": {},
   "outputs": [],
   "source": [
    "# 1. Import NumPy as np\n",
    "import numpy as np"
   ]
  },
  {
   "cell_type": "code",
   "execution_count": 3,
   "id": "71166708",
   "metadata": {},
   "outputs": [
    {
     "data": {
      "text/plain": [
       "array([0., 0., 0., 0., 0., 0., 0., 0., 0., 0.])"
      ]
     },
     "execution_count": 3,
     "metadata": {},
     "output_type": "execute_result"
    }
   ],
   "source": [
    "# 2. Create an array of 10 zeros\n",
    "arr = np.zeros(10)\n",
    "arr"
   ]
  },
  {
   "cell_type": "code",
   "execution_count": null,
   "id": "98546007",
   "metadata": {},
   "outputs": [],
   "source": [
    "# 3. Create an array of 10 ones\n",
    "arr = np.ones(10)\n",
    "arr"
   ]
  },
  {
   "cell_type": "code",
   "execution_count": null,
   "id": "e883ae55",
   "metadata": {},
   "outputs": [],
   "source": [
    "# 4. Create an array of 10 fives\n",
    "arr = np.ones(10) * 5\n",
    "arr"
   ]
  },
  {
   "cell_type": "code",
   "execution_count": null,
   "id": "4c90051a",
   "metadata": {},
   "outputs": [],
   "source": [
    "# 5. Create an array of the integers from 10 to 50\n",
    "arr = np.arange(10, 51)\n",
    "arr"
   ]
  },
  {
   "cell_type": "code",
   "execution_count": null,
   "id": "b30c5664",
   "metadata": {},
   "outputs": [],
   "source": [
    "# 6. Create an array of all the even integers from 10 to 50\n",
    "arr = np.arange(10, 51, 2)\n",
    "arr"
   ]
  },
  {
   "cell_type": "code",
   "execution_count": null,
   "id": "477ef71c",
   "metadata": {},
   "outputs": [],
   "source": [
    "# 7. Create a 3x3 matrix with values ranging from 0 to 8\n",
    "arr = np.arange(9).reshape(3, 3)\n",
    "arr"
   ]
  },
  {
   "cell_type": "code",
   "execution_count": null,
   "id": "420d30e0",
   "metadata": {},
   "outputs": [],
   "source": [
    "# 8. Create a 3x3 identity matrix\n",
    "arr = np.eye(3)\n",
    "arr"
   ]
  },
  {
   "cell_type": "code",
   "execution_count": null,
   "id": "c1dd016a",
   "metadata": {},
   "outputs": [],
   "source": [
    "# 9. Use NumPy to generate a random number between 0 and 1\n",
    "arr = np.random.rand()\n",
    "arr"
   ]
  },
  {
   "cell_type": "code",
   "execution_count": null,
   "id": "8d2cb4d3",
   "metadata": {},
   "outputs": [],
   "source": [
    "# 10. Use NumPy to generate an array of 25 random numbers sampled from a standard normal distribution\n",
    "arr = np.random.randn(25)\n",
    "arr"
   ]
  },
  {
   "cell_type": "code",
   "execution_count": null,
   "id": "f3f2cee4",
   "metadata": {},
   "outputs": [],
   "source": [
    "# 11. Create the following matrix:\n",
    "matrix_5x5 = np.arange(1, 26).reshape(5, 5) / np.arange(1, 26).reshape(5, 5)\n",
    "# Correction: The assignment expects a matrix with values from 1 to 25, not 1 divided by 1 to 25.\n",
    "matrix_5x5 = np.arange(1, 26).reshape(5, 5)\n",
    "matrix_5x5"
   ]
  },
  {
   "cell_type": "code",
   "execution_count": null,
   "id": "30551ed2",
   "metadata": {},
   "outputs": [],
   "source": [
    "# 12. Create an array of 20 linearly spaced points between 0 and 1\n",
    "linspace_20 = np.linspace(0, 1, 20)\n",
    "linspace_20"
   ]
  },
  {
   "cell_type": "code",
   "execution_count": null,
   "id": "beedc79f",
   "metadata": {},
   "outputs": [],
   "source": [
    "# Q13 (Numpy assignment)\n",
    "# Numpy Indexing and Selection\n",
    "mat = np.arange(1, 26).reshape(5, 5)\n",
    "mat"
   ]
  },
  {
   "cell_type": "code",
   "execution_count": null,
   "id": "1d122745",
   "metadata": {},
   "outputs": [],
   "source": [
    "# Q14 (Numpy assignment)\n",
    "# Select submatrix from mat (rows 3 to 5, columns 2 to 5)\n",
    "submatrix = mat[2:, 1:]\n",
    "submatrix"
   ]
  },
  {
   "cell_type": "code",
   "execution_count": null,
   "id": "378eb62c",
   "metadata": {},
   "outputs": [],
   "source": [
    "# Q15 (Numpy assignment)\n",
    "# Get the value 20 from mat\n",
    "value_20 = mat[3, 4]\n",
    "value_20"
   ]
  },
  {
   "cell_type": "code",
   "execution_count": null,
   "id": "48eb7cba",
   "metadata": {},
   "outputs": [],
   "source": [
    "# Q16 (Numpy assignment)\n",
    "# Get the column values from mat (first 3 rows, column 2)\n",
    "col_values = mat[:3, 1].reshape(3, 1)\n",
    "col_values"
   ]
  },
  {
   "cell_type": "code",
   "execution_count": null,
   "id": "7cdbe5c7",
   "metadata": {},
   "outputs": [],
   "source": [
    "# Q17 (Numpy assignment)\n",
    "# Get the last row from mat\n",
    "last_row = mat[-1]\n",
    "last_row"
   ]
  },
  {
   "cell_type": "code",
   "execution_count": null,
   "id": "08dcb87c",
   "metadata": {},
   "outputs": [],
   "source": [
    "# Q18 (Numpy assignment)\n",
    "# Get the sum of all the values in mat\n",
    "mat_sum = mat.sum()\n",
    "mat_sum"
   ]
  },
  {
   "cell_type": "code",
   "execution_count": null,
   "id": "98a4b84e",
   "metadata": {},
   "outputs": [],
   "source": [
    "# Q19 (Numpy assignment)\n",
    "# Get the standard deviation of the values in mat\n",
    "mat_std = mat.std()\n",
    "mat_std"
   ]
  },
  {
   "cell_type": "code",
   "execution_count": null,
   "id": "90dbf664",
   "metadata": {},
   "outputs": [],
   "source": [
    "# Q20 (Numpy assignment)\n",
    "# Get the sum of all the columns in mat\n",
    "mat_col_sum = mat.sum(axis=0)\n",
    "mat_col_sum"
   ]
  },
  {
   "cell_type": "code",
   "execution_count": null,
   "id": "8adca942",
   "metadata": {},
   "outputs": [],
   "source": [
    "# Q21 (Numpy assignment)\n",
    "# Given arr = np.array([[1,2,3,4],[5,6,7,8],[9,10,11,12]])\n",
    "arr = np.array([[1, 2, 3, 4],\n",
    "                [5, 6, 7, 8],\n",
    "                [9, 10, 11, 12]])\n",
    "# a. Retrieve the element at the second row and third column\n",
    "el_2_3 = arr[1, 2]\n",
    "# b. Slice the subarray containing the first two rows and the last two columns\n",
    "subarr = arr[:2, 2:]\n",
    "# c. Calculate the sum of each column in the array\n",
    "col_sum = arr.sum(axis=0)\n",
    "el_2_3, subarr, col_sum"
   ]
  },
  {
   "cell_type": "code",
   "execution_count": null,
   "id": "b0ae8ec6",
   "metadata": {},
   "outputs": [],
   "source": [
    "# Q22 (Numpy assignment)\n",
    "# Generate a 3x3 matrix of random integers between 1 and 100. Calculate the mean and standard deviation of the matrix.\n",
    "rand_matrix = np.random.randint(1, 101, (3, 3))\n",
    "mean_val = rand_matrix.mean()\n",
    "std_val = rand_matrix.std()\n",
    "rand_matrix, mean_val, std_val"
   ]
  },
  {
   "cell_type": "code",
   "execution_count": null,
   "id": "f5b27d76",
   "metadata": {},
   "outputs": [],
   "source": [
    "# Q23 (Numpy assignment)\n",
    "# Create a NumPy array with 100 random integers between 1 and 50. Find and print the elements that are greater than 30.\n",
    "arr_100 = np.random.randint(1, 51, 100)\n",
    "greater_than_30 = arr_100[arr_100 > 30]\n",
    "greater_than_30"
   ]
  },
  {
   "cell_type": "code",
   "execution_count": null,
   "id": "56be2e5d",
   "metadata": {},
   "outputs": [],
   "source": [
    "# Q24 (Numpy assignment)\n",
    "# Matrix operations with A and B\n",
    "A = np.array([[1, 2, 3],\n",
    "              [4, 5, 6],\n",
    "              [7, 8, 9]])\n",
    "B = np.array([[9, 8, 7],\n",
    "              [6, 5, 4],\n",
    "              [3, 2, 1]])\n",
    "# a. Compute the matrix multiplication of A and B\n",
    "matmul = np.dot(A, B)\n",
    "# b. Calculate the determinant of matrix A\n",
    "A_det = np.linalg.det(A)\n",
    "# c. Find the eigenvalues and eigenvectors of matrix B\n",
    "B_eigvals, B_eigvecs = np.linalg.eig(B)\n",
    "matmul, A_det, B_eigvals, B_eigvecs"
   ]
  },
  {
   "cell_type": "code",
   "execution_count": null,
   "id": "8633c3fb",
   "metadata": {},
   "outputs": [],
   "source": [
    "# Q25 (Numpy assignment)\n",
    "# Array Operations\n",
    "arr = np.arange(1, 11)\n",
    "# a. Square each element of the array\n",
    "squared = arr ** 2\n",
    "# b. Calculate the mean of the squared array\n",
    "mean_squared = squared.mean()\n",
    "# c. Reshape the array to a 2x5 matrix\n",
    "reshaped = arr.reshape(2, 5)\n",
    "squared, mean_squared, reshaped"
   ]
  },
  {
   "cell_type": "code",
   "execution_count": null,
   "id": "3ebf6517",
   "metadata": {},
   "outputs": [],
   "source": [
    "# Q26 (Numpy assignment)\n",
    "# Create a NumPy array with values ranging from 1 to 10\n",
    "arr_1_10 = np.arange(1, 11)\n",
    "arr_1_10"
   ]
  },
  {
   "cell_type": "code",
   "execution_count": null,
   "id": "4db9231f",
   "metadata": {},
   "outputs": [],
   "source": [
    "# Q27 (Numpy assignment)\n",
    "# Create a 3x3 matrix with values ranging from 0 to 8\n",
    "matrix_3x3_2 = np.arange(9).reshape(3, 3)\n",
    "matrix_3x3_2"
   ]
  },
  {
   "cell_type": "code",
   "execution_count": null,
   "id": "c318293d",
   "metadata": {},
   "outputs": [],
   "source": [
    "# Q28 (Numpy assignment)\n",
    "# Create a 2x2 identity matrix\n",
    "identity_2x2 = np.eye(2)\n",
    "identity_2x2"
   ]
  },
  {
   "cell_type": "code",
   "execution_count": null,
   "id": "86cebc43",
   "metadata": {},
   "outputs": [],
   "source": [
    "# Q29 (Numpy assignment)\n",
    "# Generate a random 4x4 matrix and find the minimum and maximum values in it\n",
    "rand_4x4 = np.random.rand(4, 4)\n",
    "min_val = rand_4x4.min()\n",
    "max_val = rand_4x4.max()\n",
    "rand_4x4, min_val, max_val"
   ]
  },
  {
   "cell_type": "code",
   "execution_count": null,
   "id": "b8b0e540",
   "metadata": {},
   "outputs": [],
   "source": [
    "# Q30 (Numpy assignment)\n",
    "# Create a 5x5 matrix with values 1,2,3,4 just below the main diagonal\n",
    "below_diag = np.diag([1, 2, 3, 4], k=-1)\n",
    "below_diag"
   ]
  },
  {
   "cell_type": "code",
   "execution_count": null,
   "id": "4b830ce3",
   "metadata": {},
   "outputs": [],
   "source": [
    "# Q31 (Numpy assignment)\n",
    "# Given a 1D array, negate all elements that are between 3 and 8, in place\n",
    "arr_1d = np.arange(1, 11)\n",
    "arr_1d[(arr_1d > 3) & (arr_1d < 8)] *= -1\n",
    "arr_1d"
   ]
  },
  {
   "cell_type": "code",
   "execution_count": null,
   "id": "c83ef3bb",
   "metadata": {},
   "outputs": [],
   "source": [
    "# Q32 (Numpy assignment)\n",
    "# Create a 2D array of shape (5, 5) with decimal numbers and round each element to the nearest integer\n",
    "arr_2d = np.random.rand(5, 5) * 10\n",
    "rounded_arr_2d = np.round(arr_2d)\n",
    "rounded_arr_2d"
   ]
  },
  {
   "cell_type": "code",
   "execution_count": null,
   "id": "d860bbc3",
   "metadata": {},
   "outputs": [],
   "source": [
    "# Q33 (Numpy assignment)\n",
    "# Create a random 5x5 matrix and normalize it by subtracting the mean and dividing by the standard deviation along each row\n",
    "rand_5x5 = np.random.rand(5, 5)\n",
    "row_mean = rand_5x5.mean(axis=1, keepdims=True)\n",
    "row_std = rand_5x5.std(axis=1, keepdims=True)\n",
    "normalized = (rand_5x5 - row_mean) / row_std\n",
    "normalized"
   ]
  },
  {
   "cell_type": "code",
   "execution_count": null,
   "id": "8fb49fe8",
   "metadata": {},
   "outputs": [],
   "source": [
    "# Q34 (Numpy assignment)\n",
    "# Generate a 1D array of 10 equally spaced values between 0 and 1, inclusive\n",
    "arr_10_linspace = np.linspace(0, 1, 10)\n",
    "arr_10_linspace"
   ]
  }
 ],
 "metadata": {
  "kernelspec": {
   "display_name": ".venv",
   "language": "python",
   "name": "python3"
  },
  "language_info": {
   "codemirror_mode": {
    "name": "ipython",
    "version": 3
   },
   "file_extension": ".py",
   "mimetype": "text/x-python",
   "name": "python",
   "nbconvert_exporter": "python",
   "pygments_lexer": "ipython3",
   "version": "3.11.2"
  }
 },
 "nbformat": 4,
 "nbformat_minor": 5
}
