{
 "cells": [
  {
   "cell_type": "code",
   "execution_count": 3,
   "id": "781bcb6d-1531-41d3-8fe6-3c3c12bf47e2",
   "metadata": {},
   "outputs": [
    {
     "name": "stdin",
     "output_type": "stream",
     "text": [
      "mishra: 5\n",
      "b: 2\n"
     ]
    },
    {
     "name": "stdout",
     "output_type": "stream",
     "text": [
      "(7+0j)\n"
     ]
    }
   ],
   "source": [
    "a=int(input(\"mishra:\"))\n",
    "b=complex(input(\"b:\"))\n",
    "c=a+b\n",
    "print(c)"
   ]
  },
  {
   "cell_type": "code",
   "execution_count": 5,
   "id": "f16bf631-24be-4130-badf-84b1d28ec892",
   "metadata": {},
   "outputs": [
    {
     "name": "stdout",
     "output_type": "stream",
     "text": [
      "90.0\n",
      "89\n",
      "56\n"
     ]
    }
   ],
   "source": [
    "a=90\n",
    "print(float(a))\n",
    "b=89.0\n",
    "print(int(b))\n",
    "c=56+78j\n",
    "print(int(c.real))"
   ]
  },
  {
   "cell_type": "code",
   "execution_count": null,
   "id": "7298bc2d-d64e-4c9c-b941-5a85e8c60a1a",
   "metadata": {},
   "outputs": [],
   "source": [
    "#basic , variable , datatypes - 10 programs each"
   ]
  },
  {
   "cell_type": "code",
   "execution_count": 7,
   "id": "7d31e87a-5608-40da-b5b6-1eadad5164b0",
   "metadata": {},
   "outputs": [
    {
     "name": "stdin",
     "output_type": "stream",
     "text": [
      "Enter a number: 11\n",
      "enter a number: 22\n"
     ]
    },
    {
     "name": "stdout",
     "output_type": "stream",
     "text": [
      "33\n",
      "<class 'int'>\n"
     ]
    }
   ],
   "source": [
    "a=int(input(\"Enter a number:\"))\n",
    "b=int(input(\"enter a number:\"))\n",
    "print(a+b)\n",
    "print(type(a))"
   ]
  },
  {
   "cell_type": "code",
   "execution_count": 8,
   "id": "53f39267-8e25-4628-a9a0-c61d5f1e86cd",
   "metadata": {},
   "outputs": [
    {
     "name": "stdout",
     "output_type": "stream",
     "text": [
      "<class 'complex'>\n"
     ]
    }
   ],
   "source": [
    "a=9\n",
    "a=9.0\n",
    "a=6+7j\n",
    "print(type(a))"
   ]
  },
  {
   "cell_type": "code",
   "execution_count": 10,
   "id": "860de454-3ccd-41ff-afd5-4a5bf08cfca6",
   "metadata": {},
   "outputs": [],
   "source": [
    "# a=\"sankeet\"\n",
    "# a='sankeet\"\n",
    "# print(type(a))"
   ]
  },
  {
   "cell_type": "code",
   "execution_count": 11,
   "id": "b012a8a3-0e4f-4776-8b1e-de303269dd97",
   "metadata": {},
   "outputs": [
    {
     "name": "stdout",
     "output_type": "stream",
     "text": [
      "(63+0j)\n",
      "63.0\n"
     ]
    }
   ],
   "source": [
    "a=63\n",
    "b=2\n",
    "print(complex(a))\n",
    "b=print(float(a))\n",
    "# print(float(a))"
   ]
  },
  {
   "cell_type": "code",
   "execution_count": 12,
   "id": "5666adba-f1a4-49c5-a4ac-3c0efa7eb5ab",
   "metadata": {},
   "outputs": [
    {
     "name": "stdout",
     "output_type": "stream",
     "text": [
      "90\n"
     ]
    }
   ],
   "source": [
    "a=90.8\n",
    "print(int(a))"
   ]
  },
  {
   "cell_type": "code",
   "execution_count": 13,
   "id": "39934b9b-f76d-47aa-9175-3ea1c852b41e",
   "metadata": {},
   "outputs": [
    {
     "name": "stdout",
     "output_type": "stream",
     "text": [
      "<class 'str'>\n",
      "<class 'int'>\n"
     ]
    }
   ],
   "source": [
    "a=6\n",
    "b=str(a)\n",
    "print(type(b))\n",
    "print(type(a))"
   ]
  },
  {
   "cell_type": "code",
   "execution_count": 14,
   "id": "b6289cc8-ffb4-4abc-9241-49b9051eb57a",
   "metadata": {},
   "outputs": [
    {
     "name": "stdin",
     "output_type": "stream",
     "text": [
      "enter a number 22\n",
      "enter a number 11\n",
      "enter a number 22\n"
     ]
    },
    {
     "name": "stdout",
     "output_type": "stream",
     "text": [
      "55.0\n"
     ]
    }
   ],
   "source": [
    "a=float(input(\"enter a number\"))\n",
    "b=float(input(\"enter a number\"))\n",
    "c=float(input(\"enter a number\"))\n",
    "d=a+b+c\n",
    "print(d)"
   ]
  },
  {
   "cell_type": "code",
   "execution_count": null,
   "id": "ef63fd4a-35f8-40ff-bd71-de462ef07c82",
   "metadata": {},
   "outputs": [],
   "source": [
    "#indexing in phthon refers to the process of accessing a particular elemenr sequence of data ....and so on "
   ]
  },
  {
   "cell_type": "code",
   "execution_count": 1,
   "id": "a7feea6a-d898-4c4c-985c-8db97b166ac5",
   "metadata": {},
   "outputs": [
    {
     "name": "stdout",
     "output_type": "stream",
     "text": [
      "5\n"
     ]
    }
   ],
   "source": [
    "a=\"preet\"\n",
    "print(len(a))\n",
    "#indexing and slicing "
   ]
  },
  {
   "cell_type": "code",
   "execution_count": null,
   "id": "529593cc-ca21-407c-b6f2-899533f7e773",
   "metadata": {},
   "outputs": [],
   "source": []
  }
 ],
 "metadata": {
  "kernelspec": {
   "display_name": "Python 3 (ipykernel)",
   "language": "python",
   "name": "python3"
  },
  "language_info": {
   "codemirror_mode": {
    "name": "ipython",
    "version": 3
   },
   "file_extension": ".py",
   "mimetype": "text/x-python",
   "name": "python",
   "nbconvert_exporter": "python",
   "pygments_lexer": "ipython3",
   "version": "3.13.5"
  }
 },
 "nbformat": 4,
 "nbformat_minor": 5
}
