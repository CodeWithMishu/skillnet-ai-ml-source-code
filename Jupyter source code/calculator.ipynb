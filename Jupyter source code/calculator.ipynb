{
 "cells": [
  {
   "cell_type": "code",
   "execution_count": 1,
   "id": "093fbf85-9752-46ca-9f40-f7a47cbe7dc0",
   "metadata": {},
   "outputs": [
    {
     "name": "stdin",
     "output_type": "stream",
     "text": [
      "Enter first number: 12\n",
      "Enter second number: 2\n",
      "Enter the operand (+,-,*,/): *\n"
     ]
    },
    {
     "name": "stdout",
     "output_type": "stream",
     "text": [
      "24\n"
     ]
    }
   ],
   "source": [
    "# make a calculator using if else statement \n",
    "num1 = int(input(\"Enter first number:\"))\n",
    "num2 = int(input(\"Enter second number:\"))\n",
    "operand = input(\"Enter the operand (+,-,*,/):\")\n",
    "if operand ==\"+\":\n",
    "    print(num1+num2)\n",
    "elif operand ==\"-\":\n",
    "    print(num1-num2)\n",
    "elif operand ==\"*\":\n",
    "    print(num1*num2)\n",
    "elif operand ==\"/\":\n",
    "    print(num1/num2)\n",
    "else:\n",
    "    print(\"invalid input\")\n"
   ]
  }
 ],
 "metadata": {
  "kernelspec": {
   "display_name": "Python 3 (ipykernel)",
   "language": "python",
   "name": "python3"
  },
  "language_info": {
   "codemirror_mode": {
    "name": "ipython",
    "version": 3
   },
   "file_extension": ".py",
   "mimetype": "text/x-python",
   "name": "python",
   "nbconvert_exporter": "python",
   "pygments_lexer": "ipython3",
   "version": "3.13.5"
  }
 },
 "nbformat": 4,
 "nbformat_minor": 5
}
