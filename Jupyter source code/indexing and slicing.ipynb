{
 "cells": [
  {
   "cell_type": "code",
   "execution_count": 3,
   "id": "45723d4e-ee8b-4b66-b851-d9e2546cd3d3",
   "metadata": {},
   "outputs": [
    {
     "name": "stdout",
     "output_type": "stream",
     "text": [
      "b\n"
     ]
    }
   ],
   "source": [
    "#indexing\n",
    "a=['a','b','c','d']\n",
    "print(a[-3])\n"
   ]
  },
  {
   "cell_type": "code",
   "execution_count": 6,
   "id": "43de97e4-fefb-462c-b4de-d5c8504ff522",
   "metadata": {},
   "outputs": [
    {
     "name": "stdout",
     "output_type": "stream",
     "text": [
      "['b']\n",
      "['a', 'b', 'c']\n",
      "['c', 'd', 'e', 'f']\n"
     ]
    }
   ],
   "source": [
    "#slicing\n",
    "# it is used to access a range of elements in a sequence\n",
    "list = ['a','b','c','d','e','f']\n",
    "print(list[1:2])\n",
    "print(list[ :3])\n",
    "print(list[2:])"
   ]
  },
  {
   "cell_type": "code",
   "execution_count": 7,
   "id": "aecc47f6-2d28-415a-83ed-7a5de6dd9a91",
   "metadata": {},
   "outputs": [
    {
     "name": "stdout",
     "output_type": "stream",
     "text": [
      "['cherry']\n"
     ]
    }
   ],
   "source": [
    "#eg. of slicing\n",
    "fruits = ['apple','banana','pineapple','cherry']\n",
    "print(fruits[3:])"
   ]
  },
  {
   "cell_type": "code",
   "execution_count": 12,
   "id": "1b4fa7fd-105b-4eaa-9138-7a5b029cd145",
   "metadata": {},
   "outputs": [
    {
     "name": "stdout",
     "output_type": "stream",
     "text": [
      "<class 'list'>\n",
      "['ramesh', 'ram']\n",
      "radha\n",
      "4\n"
     ]
    }
   ],
   "source": [
    "#lists\n",
    "b=[\"ramesh\",\"ram\",\"radha\",8]\n",
    "print(type(b))\n",
    "print(b[:2])\n",
    "print(b[2])\n",
    "print(len(b))"
   ]
  },
  {
   "cell_type": "code",
   "execution_count": 15,
   "id": "f8073eec-ff7a-48c7-b748-bf051fab07b7",
   "metadata": {},
   "outputs": [
    {
     "name": "stdout",
     "output_type": "stream",
     "text": [
      "6\n",
      "<class 'list'>\n",
      "['apple', 6]\n",
      "<class 'list'>\n",
      "apple\n"
     ]
    }
   ],
   "source": [
    "l=[2,3,\"apple\",6,[2,4],\"ram\"]\n",
    "print(len(l))\n",
    "print(type(l))\n",
    "a=l[2:4]\n",
    "print(a)\n",
    "print(type(a))\n",
    "c=l[-4]\n",
    "print(c)"
   ]
  },
  {
   "cell_type": "code",
   "execution_count": 16,
   "id": "21761d17-f158-4f33-abc9-40c8c2d97044",
   "metadata": {},
   "outputs": [
    {
     "name": "stdout",
     "output_type": "stream",
     "text": [
      "9\n",
      "<class 'list'>\n"
     ]
    }
   ],
   "source": [
    "a=[1,2,3,4,5,\"rahul\",(8,7),7,[7,8,98]]\n",
    "print(len(a))\n",
    "print(type(a))"
   ]
  },
  {
   "cell_type": "code",
   "execution_count": 18,
   "id": "ef320c52-df9c-40d8-957a-87fe0ee6db5e",
   "metadata": {},
   "outputs": [
    {
     "name": "stdout",
     "output_type": "stream",
     "text": [
      "\n"
     ]
    }
   ],
   "source": [
    "a=\"ilearnpython\"\n",
    "b=a[6:10:-1]\n",
    "print(b)\n"
   ]
  },
  {
   "cell_type": "code",
   "execution_count": 19,
   "id": "1d93dd98-984c-4b87-acd5-bd95ac82261e",
   "metadata": {},
   "outputs": [
    {
     "name": "stdout",
     "output_type": "stream",
     "text": [
      "[1, 2, 3, 'bhavya', [4, 5], [8, 9]]\n",
      "<class 'list'>\n"
     ]
    }
   ],
   "source": [
    "num=[1,2,3,\"bhavya\",[4,5],[8,9]]\n",
    "print(num)\n",
    "print(type(num))"
   ]
  },
  {
   "cell_type": "code",
   "execution_count": 22,
   "id": "f26703ac-177a-4212-b3ad-ca714db6afe2",
   "metadata": {},
   "outputs": [
    {
     "name": "stdout",
     "output_type": "stream",
     "text": [
      "<class 'list'>\n",
      "<class 'str'>\n"
     ]
    }
   ],
   "source": [
    "numbers = [1,2,3,4,5,\"aman\",6.7]\n",
    "print(type(numbers))\n",
    "print(type(numbers[5]))"
   ]
  },
  {
   "cell_type": "code",
   "execution_count": 25,
   "id": "1545e322-c097-435a-84dd-7bd38d76b0fa",
   "metadata": {},
   "outputs": [
    {
     "name": "stdout",
     "output_type": "stream",
     "text": [
      "<class 'list'>\n",
      "['apple', 'banana', '56', '57', '58']\n",
      "5\n"
     ]
    }
   ],
   "source": [
    "thislist = [\"apple\",\"banana\",\"cherry\"]\n",
    "a=thislist[0:2]+[\"56\",\"57\",\"58\"]\n",
    "print(type(a))\n",
    "print(a)\n",
    "print(len(a))"
   ]
  },
  {
   "cell_type": "code",
   "execution_count": 26,
   "id": "24990202-30b0-416c-88a2-380ef0de0cd7",
   "metadata": {},
   "outputs": [
    {
     "name": "stdout",
     "output_type": "stream",
     "text": [
      "[[7, 8, 9], 'banana', 'cherry']\n"
     ]
    }
   ],
   "source": [
    "thislist = [\"apple\",\"banana\",\"cherry\"]\n",
    "thislist[0] = [7,8,9]\n",
    "print(thislist)\n"
   ]
  },
  {
   "cell_type": "code",
   "execution_count": 29,
   "id": "1344d1e3-e2d8-40dc-a6f5-207e8710625f",
   "metadata": {},
   "outputs": [
    {
     "name": "stdout",
     "output_type": "stream",
     "text": [
      "[2, 3, 4, 5, 6, 45, 'richard']\n",
      "<class 'list'>\n",
      "7\n"
     ]
    }
   ],
   "source": [
    "a=[2,3,4,5,6]\n",
    "a.append(45)\n",
    "a.append(\"richard\")\n",
    "print(a)\n",
    "print(type(a))\n",
    "print(len(a))"
   ]
  },
  {
   "cell_type": "code",
   "execution_count": null,
   "id": "ecb359c1-2498-4331-962a-3b346d3f9714",
   "metadata": {},
   "outputs": [],
   "source": [
    "a=[5,6,7,8]\n",
    "a.extend=[1,2]\n",
    "print(a)"
   ]
  },
  {
   "cell_type": "code",
   "execution_count": 57,
   "id": "c104eed8-7d73-4819-9578-9f8878eaaeaf",
   "metadata": {},
   "outputs": [
    {
     "name": "stdout",
     "output_type": "stream",
     "text": [
      "[1, 2, 3, 4, 5, 6]\n"
     ]
    }
   ],
   "source": [
    "a=[1,2,3]\n",
    "a.extend([4,5,6])\n",
    "print(a)"
   ]
  },
  {
   "cell_type": "code",
   "execution_count": 58,
   "id": "cefb737a-6751-4a2a-9fba-32ba62c6c900",
   "metadata": {},
   "outputs": [
    {
     "name": "stdout",
     "output_type": "stream",
     "text": [
      "[40, 50.6, [40, 20.3]]\n"
     ]
    }
   ],
   "source": [
    "#Eaxmple:\n",
    "l1= [40,20.30]\n",
    "l2=[40,50.60]\n",
    "l2.append(l1)\n",
    "print(l2)"
   ]
  },
  {
   "cell_type": "code",
   "execution_count": 59,
   "id": "3da34344-13ab-4830-baa5-5f90023634da",
   "metadata": {},
   "outputs": [
    {
     "name": "stdout",
     "output_type": "stream",
     "text": [
      "['apple', 'banaa', 'cherry']\n",
      "['apple', 'hey richard', 'banaa', 'cherry']\n"
     ]
    }
   ],
   "source": [
    "fruits=['apple','banaa','cherry']\n",
    "print(fruits)\n",
    "fruits.insert(1,\"hey richard\")\n",
    "print(fruits)\n"
   ]
  },
  {
   "cell_type": "code",
   "execution_count": 61,
   "id": "be02ae5e-56a5-4c2c-b9c0-bd712ea51d91",
   "metadata": {},
   "outputs": [
    {
     "name": "stdout",
     "output_type": "stream",
     "text": [
      "[1, 2, 4, 5, 6]\n"
     ]
    }
   ],
   "source": [
    "a=[1,2,3,4,5,6]\n",
    "a.remove(3)\n",
    "print(a)"
   ]
  },
  {
   "cell_type": "code",
   "execution_count": 64,
   "id": "9e358d15-7c1c-4545-b9d2-798efdb9acd6",
   "metadata": {},
   "outputs": [
    {
     "name": "stdout",
     "output_type": "stream",
     "text": [
      "14\n",
      "apple\n",
      "['banana', 'cherry']\n"
     ]
    }
   ],
   "source": [
    "fruits = ['apple','banana','cherry',14]\n",
    "last_fruit = fruits.pop()\n",
    "print(last_fruit)\n",
    "print(fruits.pop(0))\n",
    "print(fruits)"
   ]
  },
  {
   "cell_type": "code",
   "execution_count": 66,
   "id": "d7ffaf43-c837-4aa5-9316-00dac18c71e5",
   "metadata": {},
   "outputs": [
    {
     "name": "stdout",
     "output_type": "stream",
     "text": [
      "[45.7, 8, 7, 6, 5, 2, 1]\n"
     ]
    }
   ],
   "source": [
    "fruits = [\"baui\",'cherry','banana','apple']\n",
    "num = [1,7,8,2,5,6,45.7]\n",
    "num.sort(reverse=True)\n",
    "print(num)"
   ]
  },
  {
   "cell_type": "code",
   "execution_count": 68,
   "id": "88894cb3-623f-4636-8115-a1d99e02a7e9",
   "metadata": {},
   "outputs": [
    {
     "name": "stdout",
     "output_type": "stream",
     "text": [
      "['apple', 'banana', 'cherry']\n"
     ]
    }
   ],
   "source": [
    "fruits = ['apple','banana','cherry']\n",
    "# del fruits\n",
    "print(fruits)"
   ]
  },
  {
   "cell_type": "code",
   "execution_count": 75,
   "id": "716f8cfa-acbb-4eaf-b379-763d2e4916b1",
   "metadata": {},
   "outputs": [
    {
     "name": "stdout",
     "output_type": "stream",
     "text": [
      "4\n",
      "6\n"
     ]
    }
   ],
   "source": [
    "a=6\n",
    "b=4\n",
    "a= a+b\n",
    "b=a-b\n",
    "a=a-b\n",
    "print(a)\n",
    "print(b)"
   ]
  },
  {
   "cell_type": "code",
   "execution_count": 77,
   "id": "8796c2e9-41f1-48c4-b259-7777ac0d5b2a",
   "metadata": {},
   "outputs": [
    {
     "name": "stdout",
     "output_type": "stream",
     "text": [
      "<class 'tuple'>\n"
     ]
    }
   ],
   "source": [
    "a=(7,8,9,\"hunny\")\n",
    "print(type(a))"
   ]
  },
  {
   "cell_type": "code",
   "execution_count": 78,
   "id": "48c3a577-df9a-49f3-8246-f55da01553fa",
   "metadata": {},
   "outputs": [
    {
     "name": "stdout",
     "output_type": "stream",
     "text": [
      "('p', 'y', 't', 'h', 'o', 'n')\n"
     ]
    }
   ],
   "source": [
    "a= \"python\"\n",
    "b = tuple(a)\n",
    "print(b)"
   ]
  },
  {
   "cell_type": "code",
   "execution_count": null,
   "id": "47eccd2a-72fa-4044-99fb-9a4b4e961498",
   "metadata": {},
   "outputs": [],
   "source": []
  }
 ],
 "metadata": {
  "kernelspec": {
   "display_name": "Python 3 (ipykernel)",
   "language": "python",
   "name": "python3"
  },
  "language_info": {
   "codemirror_mode": {
    "name": "ipython",
    "version": 3
   },
   "file_extension": ".py",
   "mimetype": "text/x-python",
   "name": "python",
   "nbconvert_exporter": "python",
   "pygments_lexer": "ipython3",
   "version": "3.13.5"
  }
 },
 "nbformat": 4,
 "nbformat_minor": 5
}
