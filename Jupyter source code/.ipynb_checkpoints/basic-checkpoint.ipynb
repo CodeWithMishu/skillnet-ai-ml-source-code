{
 "cells": [
  {
   "cell_type": "code",
   "execution_count": 2,
   "id": "a8ded4eb-0c1b-460e-a8c0-2cc9924f2a90",
   "metadata": {},
   "outputs": [
    {
     "name": "stdout",
     "output_type": "stream",
     "text": [
      "mishu\n"
     ]
    }
   ],
   "source": [
    "a = \"mishu\"\n",
    "print(a)"
   ]
  },
  {
   "cell_type": "code",
   "execution_count": 3,
   "id": "2ec16e8b-abc0-4d46-b141-a4c896e0b87d",
   "metadata": {},
   "outputs": [
    {
     "name": "stdout",
     "output_type": "stream",
     "text": [
      "60\n",
      "56\n",
      "140096468622944\n",
      "<class 'str'>\n"
     ]
    }
   ],
   "source": [
    "a,b,c=45,60,56\n",
    "a,b=b,c\n",
    "d='Dell'\n",
    "print(a)\n",
    "print(b)\n",
    "print(id(d))\n",
    "print(type(d))"
   ]
  },
  {
   "cell_type": "code",
   "execution_count": 1,
   "id": "ee7d3e0e-8ae2-40a7-99cc-47ae0c861aab",
   "metadata": {},
   "outputs": [
    {
     "name": "stdout",
     "output_type": "stream",
     "text": [
      "Hello, Python!\n"
     ]
    }
   ],
   "source": [
    "print(\"Hello, Python!\")"
   ]
  },
  {
   "cell_type": "code",
   "execution_count": 2,
   "id": "29cb125d-afd2-43ea-88c3-e9c2875e021f",
   "metadata": {},
   "outputs": [
    {
     "name": "stdout",
     "output_type": "stream",
     "text": [
      "My name is Munish \n"
     ]
    }
   ],
   "source": [
    "print(\"My name is Munish \")"
   ]
  },
  {
   "cell_type": "code",
   "execution_count": 3,
   "id": "842b1908-7d16-4c89-b77b-4d6f74b74bc8",
   "metadata": {},
   "outputs": [
    {
     "name": "stdout",
     "output_type": "stream",
     "text": [
      "123\n"
     ]
    }
   ],
   "source": [
    "print(123)"
   ]
  },
  {
   "cell_type": "code",
   "execution_count": 6,
   "id": "9e211f4d-2ca7-4b0d-9c17-6fa95c8199a4",
   "metadata": {},
   "outputs": [
    {
     "name": "stdout",
     "output_type": "stream",
     "text": [
      "3.14\n"
     ]
    }
   ],
   "source": [
    "print(3.14)"
   ]
  },
  {
   "cell_type": "code",
   "execution_count": 7,
   "id": "e1877309-96ba-47e5-acb1-4b3944b756ff",
   "metadata": {},
   "outputs": [
    {
     "name": "stdout",
     "output_type": "stream",
     "text": [
      "The answer is 42\n"
     ]
    }
   ],
   "source": [
    "print(\"The answer is\", 42)"
   ]
  },
  {
   "cell_type": "code",
   "execution_count": 8,
   "id": "c66ddfc0-d6c9-40a1-a0be-74eb7664ade5",
   "metadata": {},
   "outputs": [
    {
     "name": "stdout",
     "output_type": "stream",
     "text": [
      "8\n"
     ]
    }
   ],
   "source": [
    "print(5 + 3)"
   ]
  },
  {
   "cell_type": "code",
   "execution_count": 9,
   "id": "98b18c9a-bfdc-40a4-894e-840176829cc3",
   "metadata": {},
   "outputs": [
    {
     "name": "stdout",
     "output_type": "stream",
     "text": [
      "5 + 3 = 8\n"
     ]
    }
   ],
   "source": [
    "print(\"5 + 3 =\", 5 + 3)"
   ]
  },
  {
   "cell_type": "code",
   "execution_count": 10,
   "id": "44cf14b2-50e7-4404-bde6-047307f0658e",
   "metadata": {},
   "outputs": [
    {
     "name": "stdout",
     "output_type": "stream",
     "text": [
      "\n"
     ]
    }
   ],
   "source": [
    "print()"
   ]
  },
  {
   "cell_type": "code",
   "execution_count": 11,
   "id": "63eb7312-a52f-4f4f-9871-232dd2db89ef",
   "metadata": {},
   "outputs": [
    {
     "name": "stdout",
     "output_type": "stream",
     "text": [
      "This works with single quotes too!\n",
      "And double quotes are also fine.\n"
     ]
    }
   ],
   "source": [
    "print('This works with single quotes too!')\n",
    "print(\"And double quotes are also fine.\")"
   ]
  },
  {
   "cell_type": "code",
   "execution_count": 12,
   "id": "21cbd465-729b-400c-a146-e65ea255ca49",
   "metadata": {},
   "outputs": [
    {
     "name": "stdout",
     "output_type": "stream",
     "text": [
      "*****\n",
      "* *\n",
      "*****\n"
     ]
    }
   ],
   "source": [
    "print(\"*****\")\n",
    "print(\"* *\")\n",
    "print(\"*****\")"
   ]
  }
 ],
 "metadata": {
  "kernelspec": {
   "display_name": "Python 3 (ipykernel)",
   "language": "python",
   "name": "python3"
  },
  "language_info": {
   "codemirror_mode": {
    "name": "ipython",
    "version": 3
   },
   "file_extension": ".py",
   "mimetype": "text/x-python",
   "name": "python",
   "nbconvert_exporter": "python",
   "pygments_lexer": "ipython3",
   "version": "3.13.5"
  }
 },
 "nbformat": 4,
 "nbformat_minor": 5
}
