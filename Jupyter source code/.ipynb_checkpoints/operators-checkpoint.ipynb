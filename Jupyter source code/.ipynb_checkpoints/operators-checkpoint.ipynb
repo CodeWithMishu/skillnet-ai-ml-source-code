{
 "cells": [
  {
   "cell_type": "code",
   "execution_count": null,
   "id": "119c8c90-71cb-4a68-acbe-5e7951ffea32",
   "metadata": {},
   "outputs": [],
   "source": [
    "# Membership Operator :\n"
   ]
  },
  {
   "cell_type": "code",
   "execution_count": 2,
   "id": "bdfdb27f-b857-499b-8aed-290ce7441129",
   "metadata": {},
   "outputs": [
    {
     "name": "stdin",
     "output_type": "stream",
     "text": [
      "Enter your age: 55\n"
     ]
    },
    {
     "name": "stdout",
     "output_type": "stream",
     "text": [
      "You are eligible to vote\n"
     ]
    }
   ],
   "source": [
    "age = int(input(\"Enter your age:\"))\n",
    "if age>=18:\n",
    "    print(\"You are eligible to vote\")\n",
    "else:\n",
    "    print(\"not eligible to vote \")"
   ]
  },
  {
   "cell_type": "code",
   "execution_count": 7,
   "id": "14b51a3a-7aa4-4ff9-becd-ed94e6c31fbf",
   "metadata": {},
   "outputs": [
    {
     "name": "stdin",
     "output_type": "stream",
     "text": [
      "Enter any number: 22\n"
     ]
    },
    {
     "name": "stdout",
     "output_type": "stream",
     "text": [
      "Even no.\n"
     ]
    }
   ],
   "source": [
    "# check whether the no. is even or not \n",
    "num = int(input(\"Enter any number:\"))\n",
    "if (num%2==0):\n",
    "    print(\"Even no.\")\n",
    "else:\n",
    " print(\"odd no.\")"
   ]
  },
  {
   "cell_type": "code",
   "execution_count": 27,
   "id": "3ec7581e-5554-4be8-8d4a-32a0653d2f2a",
   "metadata": {},
   "outputs": [],
   "source": [
    "x =12\n",
    "y =10\n",
    "if x<y:\n",
    "    print(\"x is less then y\")"
   ]
  },
  {
   "cell_type": "code",
   "execution_count": 29,
   "id": "6506aa53-d0ce-45c8-b1bd-5a3d01cb8798",
   "metadata": {},
   "outputs": [
    {
     "name": "stdout",
     "output_type": "stream",
     "text": [
      "a\n"
     ]
    }
   ],
   "source": [
    "a =1\n",
    "b=6\n",
    "if a>b:\n",
    "   print(\"a is less then b e\")\n",
    "else:\n",
    "    print(\"a\")"
   ]
  },
  {
   "cell_type": "code",
   "execution_count": 36,
   "id": "61cf2e41-e291-4bd0-bfd2-a6e792dde791",
   "metadata": {},
   "outputs": [
    {
     "name": "stdout",
     "output_type": "stream",
     "text": [
      "Positive number\n"
     ]
    }
   ],
   "source": [
    "x =4\n",
    "if x>0:\n",
    " print(\"Positive number\")\n",
    "else:\n",
    " print(\"Negative number\")"
   ]
  },
  {
   "cell_type": "code",
   "execution_count": 38,
   "id": "08fb1a71-41c5-47e6-9bfb-99b59c02c651",
   "metadata": {
    "jupyter": {
     "source_hidden": true
    }
   },
   "outputs": [
    {
     "name": "stdout",
     "output_type": "stream",
     "text": [
      "x is greater than y\n"
     ]
    }
   ],
   "source": [
    "# Nested if else condition\n",
    "x =10\n",
    "y=9\n",
    "if x==y:\n",
    "    print(\"x and y are equal\")\n",
    "if x>y:\n",
    "    print(\"x is greater than y\")\n",
    "if y>x:\n",
    "    print(\"y is greater than x\")"
   ]
  },
  {
   "cell_type": "code",
   "execution_count": 41,
   "id": "ab56a554-e31f-493f-8f7e-06116b443dd6",
   "metadata": {},
   "outputs": [
    {
     "name": "stdout",
     "output_type": "stream",
     "text": [
      "Positive number\n"
     ]
    }
   ],
   "source": [
    "num = 17\n",
    "if num>0:\n",
    "    if num==0:\n",
    "        print(\"Zero\")\n",
    "    else:\n",
    "        print(\"Positive number\")\n",
    "else:\n",
    "    print(\"Negative number\")"
   ]
  },
  {
   "cell_type": "markdown",
   "id": "1df6dee5-b686-4c94-b3fd-b3914b143de0",
   "metadata": {},
   "source": [
    "# IF Else condition"
   ]
  },
  {
   "cell_type": "code",
   "execution_count": 44,
   "id": "b99b90ed-baa9-4a97-9158-7ea59aa8ec78",
   "metadata": {},
   "outputs": [
    {
     "name": "stdin",
     "output_type": "stream",
     "text": [
      "Enter the first number: 12\n",
      "Enter the second number: 13\n"
     ]
    },
    {
     "name": "stdout",
     "output_type": "stream",
     "text": [
      "13.0  is greater than  12.0\n"
     ]
    }
   ],
   "source": [
    "num1 = float (input(\"Enter the first number:\"))\n",
    "num2 = float(input(\"Enter the second number:\"))\n",
    "if num1>num2:\n",
    "    print(num1,\" is greater than \",num2)\n",
    "elif num2>num1:\n",
    "    print(num2,\" is greater than \",num1)"
   ]
  },
  {
   "cell_type": "markdown",
   "id": "18fdfc5a-9449-432b-a015-ce72ab5aa592",
   "metadata": {},
   "source": [
    "## For loop"
   ]
  },
  {
   "cell_type": "code",
   "execution_count": 45,
   "id": "ad12fd54-0db6-46d3-863a-fa6399e66368",
   "metadata": {},
   "outputs": [
    {
     "name": "stdout",
     "output_type": "stream",
     "text": [
      "apple\n",
      "pineapple\n",
      "banana\n"
     ]
    }
   ],
   "source": [
    "fruits = ['apple','pineapple','banana']\n",
    "for i in fruits:\n",
    "    print(i)"
   ]
  },
  {
   "cell_type": "code",
   "execution_count": 48,
   "id": "4bfadcfe-878c-4090-9859-bc6dfba61243",
   "metadata": {},
   "outputs": [
    {
     "name": "stdout",
     "output_type": "stream",
     "text": [
      "Munish\n",
      "Kumar\n",
      "Sharma\n",
      "Munish\n",
      "Kumar\n",
      "Sharma\n"
     ]
    }
   ],
   "source": [
    "for i in range(1,3):\n",
    "    print(\"Munish\")\n",
    "    print(\"Kumar\")\n",
    "    print(\"Sharma\")"
   ]
  },
  {
   "cell_type": "code",
   "execution_count": 50,
   "id": "12a8933c-42fe-48d1-93dd-6e6b945f9826",
   "metadata": {},
   "outputs": [
    {
     "name": "stdout",
     "output_type": "stream",
     "text": [
      "Rishav Mehak\n",
      "Rishav Mehak\n",
      "Rishav Mehak\n",
      "Rishav Mehak\n",
      "Rishav Mehak\n",
      "Rishav Mehak\n",
      "Rishav Mehak\n",
      "Rishav Mehak\n"
     ]
    }
   ],
   "source": [
    "a = \"Mehak\"\n",
    "b = \"Rishav\"\n",
    "for i in range(1,9):\n",
    "    print(b,a)"
   ]
  },
  {
   "cell_type": "code",
   "execution_count": 52,
   "id": "82fd9f36-1e47-442d-a45c-ce679f0aab91",
   "metadata": {},
   "outputs": [
    {
     "name": "stdout",
     "output_type": "stream",
     "text": [
      "Munish\n",
      "Munish\n",
      "Munish\n",
      "Munish\n",
      "Munish\n",
      "Munish\n",
      "Munish\n",
      "Munish\n",
      "Munish\n",
      "Munish\n"
     ]
    }
   ],
   "source": [
    "for i in range (1,11):\n",
    "    # print(i)\n",
    "    print(\"Munish\")"
   ]
  },
  {
   "cell_type": "code",
   "execution_count": 54,
   "id": "edeb7b50-82fe-4a27-9265-d1c86277d747",
   "metadata": {},
   "outputs": [
    {
     "name": "stdout",
     "output_type": "stream",
     "text": [
      "no of even: 601\n",
      "no. of odd: 600\n"
     ]
    }
   ],
   "source": [
    "odd =0\n",
    "even =0\n",
    "for i in range (1500,2701):\n",
    "    if i%2==0:\n",
    "        even+=1\n",
    "    else:\n",
    "        odd+=1\n",
    "print(\"no of even:\",even)\n",
    "print(\"no. of odd:\",odd)"
   ]
  },
  {
   "cell_type": "code",
   "execution_count": 57,
   "id": "872b877d-f00a-41a7-9e9e-e956438b37e5",
   "metadata": {},
   "outputs": [
    {
     "name": "stdout",
     "output_type": "stream",
     "text": [
      "no. of even: 49\n",
      "no. of odd: 50\n"
     ]
    }
   ],
   "source": [
    "# write a program to check even and odd number using for loop 1,100\n",
    "odd=0\n",
    "even = 0\n",
    "for i in range(1,100):\n",
    "    if i%2==0:\n",
    "        even+=1\n",
    "    else:\n",
    "        odd+=1\n",
    "print(\"no. of even:\",even)\n",
    "print(\"no. of odd:\", odd)"
   ]
  },
  {
   "cell_type": "code",
   "execution_count": 59,
   "id": "56114b10-2a18-42bb-9156-c6651bf61563",
   "metadata": {},
   "outputs": [
    {
     "name": "stdout",
     "output_type": "stream",
     "text": [
      "The count of even numbers is: 5\n",
      "The count of odd numbers is: 4\n"
     ]
    }
   ],
   "source": [
    "numbers = (1,2,3,4,5,6,7,8,9)\n",
    "count_odd = 0\n",
    "count_even = 0\n",
    "for x in numbers:\n",
    "    if x%2==0:\n",
    "        count_even+=1\n",
    "    else:\n",
    "        count_odd+=1\n",
    "print(\"The count of even numbers is:\",count_odd)\n",
    "print(\"The count of odd numbers is:\",count_even)"
   ]
  },
  {
   "cell_type": "code",
   "execution_count": null,
   "id": "55b5262e-1fde-4fc3-bf66-51df436f2c9d",
   "metadata": {},
   "outputs": [],
   "source": [
    "# i=1\n",
    "# j=1\n",
    "# while (i<=5):\n",
    "#     print('Hello')\n",
    "#  while(j<=4):\n",
    "#     print(\"Everyone\")\n",
    "#     j=j+1\n",
    "#     i=i+1"
   ]
  },
  {
   "cell_type": "code",
   "execution_count": 4,
   "id": "415cf93c-1ccb-4e57-875e-377cef41d4e4",
   "metadata": {},
   "outputs": [
    {
     "name": "stdout",
     "output_type": "stream",
     "text": [
      "i\n",
      "ii\n",
      "iii\n",
      "iiii\n",
      "iiiii\n",
      "iiiiii\n",
      "iiiiiii\n",
      "iiiiiiii\n",
      "iiiiiiiii\n"
     ]
    }
   ],
   "source": [
    "for i in range(1,10):\n",
    "    print(('i')*i)"
   ]
  },
  {
   "cell_type": "code",
   "execution_count": 2,
   "id": "9232e578-b242-40d2-a6ad-5acd4311f6a4",
   "metadata": {},
   "outputs": [
    {
     "name": "stdout",
     "output_type": "stream",
     "text": [
      "\n",
      "A\n",
      "AA\n",
      "AAA\n",
      "AAAA\n",
      "AAAAA\n",
      "AAAAAA\n",
      "AAAAAAA\n",
      "AAAAAAAA\n",
      "AAAAAAAAA\n"
     ]
    }
   ],
   "source": [
    "for i in range(10):\n",
    "    print(('A')*i)"
   ]
  },
  {
   "cell_type": "code",
   "execution_count": 3,
   "id": "37638204-4988-4674-979c-2ce81803a3b1",
   "metadata": {},
   "outputs": [
    {
     "name": "stdout",
     "output_type": "stream",
     "text": [
      "1\n",
      "4\n",
      "7\n",
      "10\n",
      "13\n",
      "16\n",
      "19\n",
      "22\n",
      "25\n",
      "28\n"
     ]
    }
   ],
   "source": [
    "for i in range(1,30,3):\n",
    "    print(i)"
   ]
  },
  {
   "cell_type": "code",
   "execution_count": 5,
   "id": "463a88ed-815e-4ec3-b72a-68f21d972613",
   "metadata": {},
   "outputs": [
    {
     "name": "stdout",
     "output_type": "stream",
     "text": [
      "p\n",
      "y\n",
      "t\n",
      "h\n",
      "o\n",
      "n\n"
     ]
    }
   ],
   "source": [
    "a = \"python\"\n",
    "for i in range(len(a)):\n",
    "    print(a[i])"
   ]
  },
  {
   "cell_type": "code",
   "execution_count": 8,
   "id": "a472cea4-5b29-41ea-aa4c-c06d7cec1b84",
   "metadata": {},
   "outputs": [
    {
     "name": "stdin",
     "output_type": "stream",
     "text": [
      "Enter the value whose table you want  5\n"
     ]
    },
    {
     "name": "stdout",
     "output_type": "stream",
     "text": [
      "5 X 1 = 5\n",
      "5 X 2 = 10\n",
      "5 X 3 = 15\n",
      "5 X 4 = 20\n",
      "5 X 5 = 25\n",
      "5 X 6 = 30\n",
      "5 X 7 = 35\n",
      "5 X 8 = 40\n",
      "5 X 9 = 45\n",
      "5 X 10 = 50\n"
     ]
    }
   ],
   "source": [
    "a = int(input(\"Enter the value whose table you want \"))\n",
    "for i in range(1,11):\n",
    "    print(a,'X',i, \"=\" ,a*i)"
   ]
  },
  {
   "cell_type": "code",
   "execution_count": 1,
   "id": "dc973763-b8ad-493d-b108-3aa1a60ee240",
   "metadata": {
    "scrolled": true
   },
   "outputs": [
    {
     "name": "stdout",
     "output_type": "stream",
     "text": [
      "1505\n",
      "1512\n",
      "1519\n",
      "1526\n",
      "1533\n",
      "1540\n",
      "1547\n",
      "1554\n",
      "1561\n",
      "1568\n",
      "1575\n",
      "1582\n",
      "1589\n",
      "1596\n",
      "1603\n",
      "1610\n",
      "1617\n",
      "1624\n",
      "1631\n",
      "1638\n",
      "1645\n",
      "1652\n",
      "1659\n",
      "1666\n",
      "1673\n",
      "1680\n",
      "1687\n",
      "1694\n",
      "1701\n",
      "1708\n",
      "1715\n",
      "1722\n",
      "1729\n",
      "1736\n",
      "1743\n",
      "1750\n",
      "1757\n",
      "1764\n",
      "1771\n",
      "1778\n",
      "1785\n",
      "1792\n",
      "1799\n",
      "1806\n",
      "1813\n",
      "1820\n",
      "1827\n",
      "1834\n",
      "1841\n",
      "1848\n",
      "1855\n",
      "1862\n",
      "1869\n",
      "1876\n",
      "1883\n",
      "1890\n",
      "1897\n",
      "1904\n",
      "1911\n",
      "1918\n",
      "1925\n",
      "1932\n",
      "1939\n",
      "1946\n",
      "1953\n",
      "1960\n",
      "1967\n",
      "1974\n",
      "1981\n",
      "1988\n",
      "1995\n",
      "2002\n",
      "2009\n",
      "2016\n",
      "2023\n",
      "2030\n",
      "2037\n",
      "2044\n",
      "2051\n",
      "2058\n",
      "2065\n",
      "2072\n",
      "2079\n",
      "2086\n",
      "2093\n",
      "2100\n",
      "2107\n",
      "2114\n",
      "2121\n",
      "2128\n",
      "2135\n",
      "2142\n",
      "2149\n",
      "2156\n",
      "2163\n",
      "2170\n",
      "2177\n",
      "2184\n",
      "2191\n",
      "2198\n",
      "2205\n",
      "2212\n",
      "2219\n",
      "2226\n",
      "2233\n",
      "2240\n",
      "2247\n",
      "2254\n",
      "2261\n",
      "2268\n",
      "2275\n",
      "2282\n",
      "2289\n",
      "2296\n",
      "2303\n",
      "2310\n",
      "2317\n",
      "2324\n",
      "2331\n",
      "2338\n",
      "2345\n",
      "2352\n",
      "2359\n",
      "2366\n",
      "2373\n",
      "2380\n",
      "2387\n",
      "2394\n",
      "2401\n",
      "2408\n",
      "2415\n",
      "2422\n",
      "2429\n",
      "2436\n",
      "2443\n",
      "2450\n",
      "2457\n",
      "2464\n",
      "2471\n",
      "2478\n",
      "2485\n",
      "2492\n",
      "2499\n",
      "2506\n",
      "2513\n",
      "2520\n",
      "2527\n",
      "2534\n",
      "2541\n",
      "2548\n",
      "2555\n",
      "2562\n",
      "2569\n",
      "2576\n",
      "2583\n",
      "2590\n",
      "2597\n",
      "2604\n",
      "2611\n",
      "2618\n",
      "2625\n",
      "2632\n",
      "2639\n",
      "2646\n",
      "2653\n",
      "2660\n",
      "2667\n",
      "2674\n",
      "2681\n",
      "2688\n",
      "2695\n"
     ]
    }
   ],
   "source": [
    "# find those numbers which are divisibble by 7 and multiples of 5, between 1500 and 2700(both included); by using for loop\n",
    "divisible = 0\n",
    "multiple = 0\n",
    "for i in range(1500,2700):\n",
    "    if i%7==0 and i/5:\n",
    "        print(i)"
   ]
  },
  {
   "cell_type": "code",
   "execution_count": 15,
   "id": "b373aa1d-ba71-4012-8d29-24c3eff2dbc8",
   "metadata": {},
   "outputs": [
    {
     "name": "stdin",
     "output_type": "stream",
     "text": [
      "Enter the year:  2025\n"
     ]
    },
    {
     "name": "stdout",
     "output_type": "stream",
     "text": [
      "2025 is not a leap year\n"
     ]
    }
   ],
   "source": [
    "# leap year calculation\n",
    "year = int(input(\"Enter the year: \"))\n",
    "if (year % 4 == 0):\n",
    "    if (year % 100 == 0):\n",
    "        if (year % 400 == 0):\n",
    "            print(year, \"is a leap year\")\n",
    "        else:\n",
    "            print(year, \"is not a leap year\")\n",
    "    else:\n",
    "        print(year, \"is a leap year\")\n",
    "else:\n",
    "    print(year, \"is not a leap year\")\n"
   ]
  },
  {
   "cell_type": "code",
   "execution_count": null,
   "id": "3f33d9a6-6102-4c45-8850-9cd0a652bcf3",
   "metadata": {},
   "outputs": [],
   "source": []
  },
  {
   "cell_type": "code",
   "execution_count": null,
   "id": "15af2ecb-afd0-40b3-9530-03f23b3beff7",
   "metadata": {},
   "outputs": [],
   "source": []
  }
 ],
 "metadata": {
  "kernelspec": {
   "display_name": "Python 3 (ipykernel)",
   "language": "python",
   "name": "python3"
  },
  "language_info": {
   "codemirror_mode": {
    "name": "ipython",
    "version": 3
   },
   "file_extension": ".py",
   "mimetype": "text/x-python",
   "name": "python",
   "nbconvert_exporter": "python",
   "pygments_lexer": "ipython3",
   "version": "3.13.5"
  }
 },
 "nbformat": 4,
 "nbformat_minor": 5
}
