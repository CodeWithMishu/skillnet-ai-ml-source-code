{
 "cells": [
  {
   "cell_type": "code",
   "execution_count": 11,
   "id": "549263c3-08e4-4143-88e1-7aa80e6bb4e2",
   "metadata": {},
   "outputs": [
    {
     "name": "stdout",
     "output_type": "stream",
     "text": [
      "Aditya\n",
      "10000.22\n",
      "-6699.779999999999\n",
      "-0.0\n"
     ]
    }
   ],
   "source": [
    "class account():\n",
    "    def __init__ (self,name=None,balance=0):\n",
    "        self.name=name\n",
    "        self.balance = balance\n",
    "    def getbalance(self):\n",
    "         return self.balance\n",
    "    def deposit(self,amount=0):\n",
    "         self.balance += amount\n",
    "    def withdraw (self,amount=0):\n",
    "        self.balance -= amount\n",
    "class savingsaccount(account):\n",
    "    def __init__ (self,name=None,balance = 0,interestrate=0):\n",
    "        super(). __init__(name,balance)\n",
    "        self.interestrate = interestrate\n",
    "    def interestamount(self):\n",
    "        return (self.balance*self.interestrate)/100\n",
    "user1 = savingsaccount(\"Aditya\",10000.22)\n",
    "print(user1.name)\n",
    "print(user1.getbalance())\n",
    "user1.deposit(10000)\n",
    "user1.withdraw(26700)\n",
    "print(user1.getbalance())\n",
    "print(user1.interestamount())"
   ]
  },
  {
   "cell_type": "code",
   "execution_count": 12,
   "id": "59343fb2-fcb3-413d-a35c-989d34779d7a",
   "metadata": {},
   "outputs": [
    {
     "name": "stdout",
     "output_type": "stream",
     "text": [
      "Munish 22\n"
     ]
    }
   ],
   "source": [
    "class add:\n",
    "    name = \"Munish\"\n",
    "    age = 22\n",
    "obj = add()\n",
    "print(obj.name,obj.age)"
   ]
  },
  {
   "cell_type": "code",
   "execution_count": 16,
   "id": "6197fc7b-66e0-460f-9276-6c2c82d49880",
   "metadata": {},
   "outputs": [
    {
     "name": "stdout",
     "output_type": "stream",
     "text": [
      "Sahil 1\n",
      "Abhisek 1e-16\n"
     ]
    }
   ],
   "source": [
    "class employee:\n",
    "    emp_name = \"Munish\"\n",
    "    emp_salary = 14000000000\n",
    "emp1 = employee()\n",
    "# print(emp1.emp_name)\n",
    "emp1.emp_name = \"Sahil\"\n",
    "emp1.emp_salary = 1\n",
    "emp2 = employee()\n",
    "emp2.emp_name = \"Abhisek\"\n",
    "emp2.emp_salary = 0.0000000000000001\n",
    "print(emp1.emp_name,emp1.emp_salary)\n",
    "print(emp2.emp_name,emp2.emp_salary)"
   ]
  },
  {
   "cell_type": "code",
   "execution_count": 24,
   "id": "786ba4bb-84d2-45f0-a062-08eae95519d4",
   "metadata": {
    "editable": true,
    "slideshow": {
     "slide_type": ""
    },
    "tags": []
   },
   "outputs": [
    {
     "name": "stdout",
     "output_type": "stream",
     "text": [
      "Munish 2323 Bilaspur\n"
     ]
    }
   ],
   "source": [
    "class person:\n",
    "    def __init__ (self,name,_class,city):\n",
    "     self.name = name\n",
    "     self._class = _class\n",
    "     self.city = city\n",
    "obj = person\n",
    "obj.name = \"Munish\"\n",
    "obj._class = 2323\n",
    "obj.city = \"Bilaspur\"\n",
    "print(obj.name,obj._class,obj.city)\n"
   ]
  },
  {
   "cell_type": "code",
   "execution_count": 25,
   "id": "df5376f0-ee93-4208-a88f-7576762f6aac",
   "metadata": {},
   "outputs": [
    {
     "name": "stdout",
     "output_type": "stream",
     "text": [
      "This is classA\n"
     ]
    }
   ],
   "source": [
    "class classA:\n",
    "    def __init__(self):\n",
    "        print(\"This is classA\")\n",
    "class classB:\n",
    "    def __init__ (self):\n",
    "        print(\"This is class B\")\n",
    "class classC(classA,classB):\n",
    "    pass\n",
    "object = classC()"
   ]
  },
  {
   "cell_type": "code",
   "execution_count": 30,
   "id": "3aa742d1-8a0d-44e2-9a8f-14d88088602e",
   "metadata": {},
   "outputs": [],
   "source": [
    "class X:\n",
    "    def info(self):\n",
    "        print(\"Info from x\")\n",
    "class Y:\n",
    "    def info(self):\n",
    "        print(\"Info from Y\")\n",
    "class Z(X,Y):\n",
    "    def info(self):\n",
    "        print(\"Info from Z\")\n",
    "class W(Z):\n",
    "    pass\n",
    "obj = W()"
   ]
  },
  {
   "cell_type": "code",
   "execution_count": null,
   "id": "b994fb10-f505-44c0-bcdf-df6d129d91ae",
   "metadata": {},
   "outputs": [],
   "source": [
    "# student , faculty , non teacing class make for tomorrow\n",
    "stduent - name , roll no. , department, marks \n",
    "faculty - name , department , role"
   ]
  },
  {
   "cell_type": "code",
   "execution_count": 32,
   "id": "f989bb44-9f89-4700-a8ea-4d556e874499",
   "metadata": {},
   "outputs": [
    {
     "name": "stdout",
     "output_type": "stream",
     "text": [
      "Munish\n",
      "Sahil\n",
      "Munish\n",
      "Sahil\n",
      "Munish\n",
      "Sahil\n"
     ]
    }
   ],
   "source": [
    "class person:\n",
    "    def __init__(self):\n",
    "        print(\"Munish\")\n",
    "        print(\"Sahil\")\n",
    "obj =person()\n",
    "obj1 = person()\n",
    "obj2 = person()\n",
    "# print(obj,obj1,obj2)"
   ]
  },
  {
   "cell_type": "code",
   "execution_count": 33,
   "id": "8b19cde9-6034-4a84-8506-8c61394937c7",
   "metadata": {},
   "outputs": [
    {
     "name": "stdout",
     "output_type": "stream",
     "text": [
      "Munish 11 2323\n"
     ]
    }
   ],
   "source": [
    "class student:\n",
    "    def __init__ (self):\n",
    "     name = \"Munish\"\n",
    "     age = 11\n",
    "     marks = 2323\n",
    "     print(name,age,marks)\n",
    "obj = student()"
   ]
  },
  {
   "cell_type": "code",
   "execution_count": 35,
   "id": "c1f501e3-b512-417e-ae4c-66edb2f72f36",
   "metadata": {},
   "outputs": [
    {
     "name": "stdout",
     "output_type": "stream",
     "text": [
      "The name is Munish and age is 12 and my marks are 3232\n",
      "The name is Sahil and age is 1 and my marks are 0\n"
     ]
    }
   ],
   "source": [
    "class student:\n",
    "    def __init__ (self,name,age,marks):\n",
    "        self.name = name\n",
    "        self.age = age\n",
    "        self.marks = marks\n",
    "    def display(self):\n",
    "        print(f\"The name is {self.name} and age is {self.age} and my marks are {self.marks}\")\n",
    "a = student(\"Munish\",12,3232)\n",
    "b = student(\"Sahil\",1,0)\n",
    "a.display()\n",
    "b.display()\n"
   ]
  },
  {
   "cell_type": "code",
   "execution_count": 37,
   "id": "f1dd17dc-fe40-4a39-ad53-d2bcb8aa984d",
   "metadata": {},
   "outputs": [
    {
     "name": "stdout",
     "output_type": "stream",
     "text": [
      "Good night\n",
      "Chal be abhi hawa aane de\n",
      "so jaa chal\n",
      "Good night\n",
      "htt be\n",
      "so jaa chal\n"
     ]
    }
   ],
   "source": [
    "def greet(fx):\n",
    "    print(\"Good night\")\n",
    "    fx()\n",
    "    print(\"so jaa chal\")\n",
    "@greet\n",
    "def Hello():\n",
    "    print(\"Chal be abhi hawa aane de\")\n",
    "@greet\n",
    "def show():\n",
    "    print(\"htt be\")\n",
    "# @greet\n",
    "# def add(a,b):\n",
    "#     c=a+b\n",
    "#     print(c)\n",
    "# add(55,33)"
   ]
  },
  {
   "cell_type": "code",
   "execution_count": 39,
   "id": "bb68f312-7ae4-4e54-81e8-aba3e0920764",
   "metadata": {},
   "outputs": [
    {
     "name": "stdout",
     "output_type": "stream",
     "text": [
      "4\n",
      "6\n",
      "7\n"
     ]
    }
   ],
   "source": [
    "def topten():\n",
    "    yield 4\n",
    "    yield 6\n",
    "    yield 7\n",
    "value = topten()\n",
    "print(next(value))\n",
    "\n",
    "for i in value:\n",
    "    print(i)"
   ]
  },
  {
   "cell_type": "code",
   "execution_count": 138,
   "id": "5819bda5-b39c-4d8c-98e4-54cc5a22cb1e",
   "metadata": {},
   "outputs": [
    {
     "name": "stdout",
     "output_type": "stream",
     "text": [
      "0\n"
     ]
    }
   ],
   "source": [
    "def mygenerator():\n",
    "    for i in range(50):\n",
    "        yield i\n",
    "print(next(gen))\n",
    "gen = mygenerator()"
   ]
  },
  {
   "cell_type": "code",
   "execution_count": null,
   "id": "f3efe810-d535-44ee-a4a4-4bf5db8878af",
   "metadata": {},
   "outputs": [
    {
     "ename": "",
     "evalue": "",
     "output_type": "error",
     "traceback": [
      "\u001b[1;31mRunning cells with '.venv (Python 3.13.5)' requires the ipykernel package.\n",
      "\u001b[1;31mInstall 'ipykernel' into the Python environment. \n",
      "\u001b[1;31mCommand: '\"d:/skillnet ai ml source code/.venv/Scripts/python.exe\" -m pip install ipykernel -U --force-reinstall'"
     ]
    }
   ],
   "source": [
    "# Student class with name, roll_no, department, marks\n",
    "class student:\n",
    "    def __init__(self, name, roll_no, department, marks):\n",
    "        self.name = name\n",
    "        self.roll_no = roll_no\n",
    "        self.department = department\n",
    "        self.marks = marks\n",
    "        print(f\"Student Name: {self.name}\")\n",
    "        print(f\"Roll No: {self.roll_no}\")\n",
    "        print(f\"Department: {self.department}\")\n",
    "        print(f\"Marks: {self.marks}\")\n",
    "\n",
    "stu1 = student(\"Munish\", 101, \"CSE\", 95)\n",
    "stu2 = student(\"Sahil\", 102, \"ECE\", 88)\n",
    "stu3 = student(\"Abhishek\", 103, \"ME\", 92)"
   ]
  },
  {
   "cell_type": "code",
   "execution_count": null,
   "id": "165fb286",
   "metadata": {},
   "outputs": [],
   "source": [
    "# Non-teaching class with name, department, role\n",
    "class non_teaching:\n",
    "    def __init__(self, name, department, role):\n",
    "        self.name = name\n",
    "        self.department = department\n",
    "        self.role = role\n",
    "        print(f\"Non-Teaching Staff Name: {self.name}\")\n",
    "        print(f\"Department: {self.department}\")\n",
    "        print(f\"Role: {self.role}\")\n",
    "\n",
    "nt1 = non_teaching(\"Mr. Kumar\", \"Admin\", \"Clerk\")\n",
    "nt2 = non_teaching(\"Ms. Verma\", \"Library\", \"Librarian\")\n",
    "nt3 = non_teaching(\"Mr. Das\", \"Maintenance\", \"Supervisor\")"
   ]
  },
  {
   "cell_type": "code",
   "execution_count": null,
   "id": "42ff0679",
   "metadata": {},
   "outputs": [],
   "source": [
    "# Faculty class with name, department, role\n",
    "class faculty:\n",
    "    def __init__(self, name, department, role):\n",
    "        self.name = name\n",
    "        self.department = department\n",
    "        self.role = role\n",
    "        print(f\"Faculty Name: {self.name}\")\n",
    "        print(f\"Department: {self.department}\")\n",
    "        print(f\"Role: {self.role}\")\n",
    "\n",
    "fac1 = faculty(\"Dr. Sharma\", \"CSE\", \"Professor\")\n",
    "fac2 = faculty(\"Ms. Gupta\", \"ECE\", \"Assistant Professor\")\n",
    "fac3 = faculty(\"Mr. Singh\", \"ME\", \"Lecturer\")"
   ]
  }
 ],
 "metadata": {
  "kernelspec": {
   "display_name": ".venv",
   "language": "python",
   "name": "python3"
  },
  "language_info": {
   "codemirror_mode": {
    "name": "ipython",
    "version": 3
   },
   "file_extension": ".py",
   "mimetype": "text/x-python",
   "name": "python",
   "nbconvert_exporter": "python",
   "pygments_lexer": "ipython3",
   "version": "3.13.5"
  }
 },
 "nbformat": 4,
 "nbformat_minor": 5
}
