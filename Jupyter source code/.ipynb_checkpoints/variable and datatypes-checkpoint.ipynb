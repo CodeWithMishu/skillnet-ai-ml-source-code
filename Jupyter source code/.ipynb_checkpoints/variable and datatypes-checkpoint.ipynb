{
 "cells": [
  {
   "cell_type": "code",
   "execution_count": 1,
   "id": "f020aa33-e1e9-4b02-8c65-5fc0196a9bdb",
   "metadata": {},
   "outputs": [
    {
     "name": "stdout",
     "output_type": "stream",
     "text": [
      "22\n"
     ]
    }
   ],
   "source": [
    "num1=\"22\"\n",
    "print(num1)"
   ]
  },
  {
   "cell_type": "code",
   "execution_count": 4,
   "id": "8750b8de-155f-4db7-b590-43b87ac8812d",
   "metadata": {},
   "outputs": [
    {
     "name": "stdout",
     "output_type": "stream",
     "text": [
      "Munish\n",
      "<class 'str'>\n"
     ]
    }
   ],
   "source": [
    "a =\"Munish\"\n",
    "print(a)\n",
    "print(type(a))"
   ]
  },
  {
   "cell_type": "code",
   "execution_count": 5,
   "id": "ceba1d4f-b1db-4cbf-8f85-f1f8ee3b2a22",
   "metadata": {},
   "outputs": [
    {
     "name": "stdout",
     "output_type": "stream",
     "text": [
      "90\n",
      "<class 'float'>\n",
      "139996339165232\n",
      "139996049469744\n",
      "<class 'float'>\n"
     ]
    }
   ],
   "source": [
    "a,b=90,67.0\n",
    "print(a)\n",
    "print(type(b))\n",
    "print(id(a))\n",
    "print(id(b))\n",
    "print(type(b))"
   ]
  },
  {
   "cell_type": "code",
   "execution_count": 6,
   "id": "a30a9baf-2ff2-4dfa-a079-54521d44210d",
   "metadata": {},
   "outputs": [
    {
     "name": "stdout",
     "output_type": "stream",
     "text": [
      "<class 'int'>\n",
      "<class 'str'>\n"
     ]
    }
   ],
   "source": [
    "a=9\n",
    "a=b\n",
    "a=9.9999\n",
    "a=9\n",
    "b=\"name\"\n",
    "print(type(a))\n",
    "print(type(b))"
   ]
  },
  {
   "cell_type": "code",
   "execution_count": 8,
   "id": "8778255f-ee3e-450e-ba6c-ba6eaf4a9532",
   "metadata": {},
   "outputs": [
    {
     "name": "stdout",
     "output_type": "stream",
     "text": [
      "<class 'str'>\n",
      "139995767131568\n",
      "harmanmohit78\n"
     ]
    }
   ],
   "source": [
    "a,b,c=\"harman\",\"mohit\",\"78\"\n",
    "print(type(b))\n",
    "print(id(b))\n",
    "print(a+b+c)"
   ]
  },
  {
   "cell_type": "code",
   "execution_count": 9,
   "id": "7fc6c978-79c1-449f-a389-5f393ecec7c2",
   "metadata": {},
   "outputs": [
    {
     "name": "stdout",
     "output_type": "stream",
     "text": [
      "78\n"
     ]
    }
   ],
   "source": [
    "age=78\n",
    "print(age)"
   ]
  },
  {
   "cell_type": "code",
   "execution_count": 11,
   "id": "9a4861f7-067e-4117-9611-b8ce16eedeec",
   "metadata": {},
   "outputs": [
    {
     "name": "stdout",
     "output_type": "stream",
     "text": [
      "17\n",
      "139996339162640\n",
      "<class 'int'>\n",
      "139996339162608\n"
     ]
    }
   ],
   "source": [
    "x=5\n",
    "x=9\n",
    "y=8\n",
    "y=8\n",
    "print(x+y)\n",
    "print(id(x))\n",
    "print(type(y))\n",
    "print(id(y))"
   ]
  },
  {
   "cell_type": "code",
   "execution_count": 12,
   "id": "f5c0bd2a-1e95-4eb0-8aa0-3e9a59ddfdbc",
   "metadata": {},
   "outputs": [
    {
     "name": "stdout",
     "output_type": "stream",
     "text": [
      "3\n",
      "3 4 1\n",
      "1\n"
     ]
    }
   ],
   "source": [
    "a,b,c=1,3,4\n",
    "print(b)\n",
    "a,b,c=b,c,a\n",
    "print(a,b,c)\n",
    "print(c)"
   ]
  },
  {
   "cell_type": "code",
   "execution_count": 14,
   "id": "668a48b0-1d6b-4923-bfc6-c2df97bc1874",
   "metadata": {},
   "outputs": [
    {
     "name": "stdout",
     "output_type": "stream",
     "text": [
      "139995749288528\n",
      "139995749288528\n",
      "car\n",
      "car\n",
      "car\n"
     ]
    }
   ],
   "source": [
    "x=y=z=\"car\"\n",
    "print(id(y))\n",
    "print(id(z))\n",
    "print(y)\n",
    "print(z)\n",
    "print(x)"
   ]
  },
  {
   "cell_type": "code",
   "execution_count": 19,
   "id": "dfec47e9-7287-4ab0-9a89-65d4ba2ac385",
   "metadata": {},
   "outputs": [],
   "source": [
    "# there are three types of datatypes:\n",
    "# 1. Numeric = int,float,complex\n",
    "# 2. Sequence = string , list , tupple\n",
    "# 3. Mapping = Dictionaries "
   ]
  },
  {
   "cell_type": "code",
   "execution_count": null,
   "id": "6eb98d60-b79a-494d-85c1-c44acf79895a",
   "metadata": {},
   "outputs": [],
   "source": []
  }
 ],
 "metadata": {
  "kernelspec": {
   "display_name": "Python 3 (ipykernel)",
   "language": "python",
   "name": "python3"
  },
  "language_info": {
   "codemirror_mode": {
    "name": "ipython",
    "version": 3
   },
   "file_extension": ".py",
   "mimetype": "text/x-python",
   "name": "python",
   "nbconvert_exporter": "python",
   "pygments_lexer": "ipython3",
   "version": "3.13.5"
  }
 },
 "nbformat": 4,
 "nbformat_minor": 5
}
