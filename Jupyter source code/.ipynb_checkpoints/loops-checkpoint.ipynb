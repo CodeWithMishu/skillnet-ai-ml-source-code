{
 "cells": [
  {
   "cell_type": "code",
   "execution_count": 1,
   "id": "37256e18-cb2f-4e2f-9ba9-f9d611fc4b9d",
   "metadata": {},
   "outputs": [
    {
     "name": "stdout",
     "output_type": "stream",
     "text": [
      "rahul\n",
      "rahul\n",
      "rahul\n",
      "rahul\n",
      "rahul\n"
     ]
    }
   ],
   "source": [
    "i=1\n",
    "while i <=5:\n",
    "    print(\"rahul\")\n",
    "    i+=1"
   ]
  },
  {
   "cell_type": "code",
   "execution_count": 4,
   "id": "51aa1e04-6848-4ee1-a2a6-b6912fa9d59e",
   "metadata": {},
   "outputs": [
    {
     "name": "stdout",
     "output_type": "stream",
     "text": [
      "6\n",
      "7\n",
      "7\n"
     ]
    }
   ],
   "source": [
    "l=[6,7,7]\n",
    "for i in range(len(l)):\n",
    "    print(l[i])"
   ]
  },
  {
   "cell_type": "code",
   "execution_count": 300,
   "id": "05dc8118-323c-4301-bf3e-5aee594623e9",
   "metadata": {},
   "outputs": [
    {
     "name": "stdout",
     "output_type": "stream",
     "text": [
      "aditya , Mishra\n",
      "aditya , Mishra\n",
      "aditya , Mishra\n",
      "aditya , Mishra\n",
      "aditya , Mishra\n",
      "aditya , Mishra\n",
      "aditya , Mishra\n",
      "aditya , Mishra\n",
      "aditya , Mishra\n"
     ]
    }
   ],
   "source": [
    "for i in range(1,10):\n",
    "    print(\"aditya , Mishra\")"
   ]
  },
  {
   "cell_type": "code",
   "execution_count": 301,
   "id": "9af2721f-c1f8-4fdc-a1be-201228b368a7",
   "metadata": {},
   "outputs": [
    {
     "name": "stdout",
     "output_type": "stream",
     "text": [
      "5\n",
      "4\n",
      "3\n",
      "2\n",
      "1\n"
     ]
    }
   ],
   "source": [
    "i = 5\n",
    "while i>=1:\n",
    "    print(i)\n",
    "    i=i-1"
   ]
  },
  {
   "cell_type": "code",
   "execution_count": 303,
   "id": "81aaecb9-3f16-46e0-bc05-84261933390f",
   "metadata": {},
   "outputs": [
    {
     "name": "stdout",
     "output_type": "stream",
     "text": [
      "24\n"
     ]
    }
   ],
   "source": [
    "l=[1,2,3,4]\n",
    "sum=1\n",
    "for i in l:\n",
    "    sum=sum*i\n",
    "print(sum)"
   ]
  },
  {
   "cell_type": "code",
   "execution_count": 305,
   "id": "856915ac-f0d6-450f-af5b-8aee97378299",
   "metadata": {},
   "outputs": [
    {
     "name": "stdout",
     "output_type": "stream",
     "text": [
      "-1 -2 -3 -4 "
     ]
    }
   ],
   "source": [
    "# write a program to print negative number in a list:\n",
    "l = [-1,-2,-3,-4]\n",
    "for i in l:\n",
    "    if i<0:\n",
    "        print(i,end=\" \")"
   ]
  },
  {
   "cell_type": "code",
   "execution_count": 309,
   "id": "89081ea3-ebe0-4d1e-9521-6dfb09eec8d5",
   "metadata": {},
   "outputs": [
    {
     "name": "stdout",
     "output_type": "stream",
     "text": [
      "10\n"
     ]
    }
   ],
   "source": [
    "# write a program to print sum of numbers in  a list:\n",
    "l=[1,2,3,4]\n",
    "sum=0\n",
    "for i in l:\n",
    "    sum=sum+i\n",
    "print(sum)\n"
   ]
  },
  {
   "cell_type": "code",
   "execution_count": 311,
   "id": "be8d6874-3171-4b74-a43d-18bdd8d26725",
   "metadata": {},
   "outputs": [
    {
     "name": "stdin",
     "output_type": "stream",
     "text": [
      "enter a elements 2\n"
     ]
    }
   ],
   "source": [
    "l=[]\n",
    "n=int(input(\"enter a elements\"))\n",
    "for i in range(i,n+1):\n",
    "    e=int(input(\"enter elements\"))\n",
    "    l.append(e)\n",
    "    print(min(l))"
   ]
  },
  {
   "cell_type": "code",
   "execution_count": 312,
   "id": "8166358d-0236-46a2-9fb0-b5669f60ab64",
   "metadata": {},
   "outputs": [
    {
     "name": "stdin",
     "output_type": "stream",
     "text": [
      "Enter any number 5\n"
     ]
    },
    {
     "name": "stdout",
     "output_type": "stream",
     "text": [
      " 5 X 1 = 5\n",
      " 5 X 2 = 10\n",
      " 5 X 3 = 15\n",
      " 5 X 4 = 20\n",
      " 5 X 5 = 25\n",
      " 5 X 6 = 30\n",
      " 5 X 7 = 35\n",
      " 5 X 8 = 40\n",
      " 5 X 9 = 45\n",
      " 5 X 10 = 50\n"
     ]
    }
   ],
   "source": [
    "# write a program to print a table:\n",
    "num = int(input(\"Enter any number\"))\n",
    "count = 1\n",
    "while count<=10:\n",
    "    print(f\" {num} X {count} = {num*count}\")\n",
    "    count+=1\n",
    "    "
   ]
  },
  {
   "cell_type": "code",
   "execution_count": 313,
   "id": "412c263e-c05a-4310-9668-310866a80f38",
   "metadata": {},
   "outputs": [
    {
     "name": "stdout",
     "output_type": "stream",
     "text": [
      "10\n",
      "9\n",
      "8\n",
      "7\n",
      "6\n",
      "5\n",
      "4\n",
      "3\n",
      "2\n",
      "1\n"
     ]
    }
   ],
   "source": [
    "i=10\n",
    "while(i>=1):\n",
    "    print(i)\n",
    "\n",
    "    i=i-1"
   ]
  },
  {
   "cell_type": "code",
   "execution_count": 314,
   "id": "d9c00f3d-133a-415d-bd8a-cf4d688a1cf4",
   "metadata": {},
   "outputs": [
    {
     "name": "stdout",
     "output_type": "stream",
     "text": [
      "2\n",
      "4\n",
      "6\n",
      "8\n",
      "10\n"
     ]
    }
   ],
   "source": [
    "i = 2\n",
    "while (i<=10):\n",
    "    print(i)\n",
    "    i+=2"
   ]
  },
  {
   "cell_type": "code",
   "execution_count": 2,
   "id": "19ef85bf-d631-4c1f-a873-68a3feb83440",
   "metadata": {},
   "outputs": [
    {
     "name": "stdout",
     "output_type": "stream",
     "text": [
      "2\n",
      "4\n",
      "6\n",
      "8\n",
      "10\n"
     ]
    }
   ],
   "source": [
    "# even no. 1 to 10\n",
    "i=1\n",
    "while(i<=10):\n",
    "    if(i%2==0):\n",
    "        print(i)\n",
    "    i+=1"
   ]
  },
  {
   "cell_type": "code",
   "execution_count": 5,
   "id": "6c7d094e-b50e-4355-96f0-e25c312bdef3",
   "metadata": {
    "scrolled": true
   },
   "outputs": [
    {
     "name": "stdout",
     "output_type": "stream",
     "text": [
      "2\n",
      "4\n",
      "6\n",
      "8\n",
      "10\n",
      "12\n",
      "14\n",
      "16\n",
      "18\n",
      "20\n",
      "22\n",
      "24\n",
      "26\n",
      "28\n",
      "30\n",
      "32\n",
      "34\n",
      "36\n",
      "38\n",
      "40\n",
      "42\n",
      "44\n",
      "46\n",
      "48\n",
      "50\n",
      "52\n",
      "54\n",
      "56\n",
      "58\n",
      "60\n",
      "62\n",
      "64\n",
      "66\n",
      "68\n",
      "70\n",
      "72\n",
      "74\n",
      "76\n",
      "78\n",
      "80\n",
      "82\n",
      "84\n",
      "86\n",
      "88\n",
      "90\n",
      "92\n",
      "94\n",
      "96\n",
      "98\n",
      "100\n",
      "sum of even is 2550\n"
     ]
    }
   ],
   "source": [
    "# write a program to print sum of even numbers in range 1 to 100 using while loop\n",
    "i = 1\n",
    "sum = 0\n",
    "while (i<=100):\n",
    "    if(i%2==0):\n",
    "        print(i)\n",
    "        sum+=i\n",
    "    i+=1\n",
    "print(\"sum of even is\",sum)"
   ]
  },
  {
   "cell_type": "code",
   "execution_count": 6,
   "id": "91aafd12-0820-4dbc-9a6d-901b71ed8b12",
   "metadata": {},
   "outputs": [
    {
     "name": "stdin",
     "output_type": "stream",
     "text": [
      "Enter a number: 5\n"
     ]
    },
    {
     "name": "stdout",
     "output_type": "stream",
     "text": [
      "5\n",
      "10\n",
      "15\n",
      "20\n",
      "25\n",
      "30\n",
      "35\n",
      "40\n",
      "45\n",
      "50\n"
     ]
    }
   ],
   "source": [
    "i = 1\n",
    "n=int(input(\"Enter a number:\"))\n",
    "while (i<=10):\n",
    "    a=n*i\n",
    "    print(a)\n",
    "    i=i+1"
   ]
  },
  {
   "cell_type": "code",
   "execution_count": 9,
   "id": "be1c7dc4-2a70-4e8d-9177-6d4beee6c3f4",
   "metadata": {},
   "outputs": [
    {
     "name": "stdin",
     "output_type": "stream",
     "text": [
      "Enter a number: 5\n"
     ]
    },
    {
     "name": "stdout",
     "output_type": "stream",
     "text": [
      "5\n",
      "10\n",
      "15\n",
      "20\n",
      "25\n",
      "30\n",
      "35\n",
      "40\n",
      "45\n",
      "50\n"
     ]
    }
   ],
   "source": [
    "\n",
    "n=int(input(\"Enter a number:\"))\n",
    "for i in range(1,11):\n",
    "    a=n*i\n",
    "    print(a)\n",
    "    i=i+1"
   ]
  },
  {
   "cell_type": "code",
   "execution_count": 2,
   "id": "6f3170e2-2fd2-4c68-a032-e2f05670c18f",
   "metadata": {},
   "outputs": [
    {
     "name": "stdout",
     "output_type": "stream",
     "text": [
      "0 0\n",
      "1 1\n",
      "2 2\n"
     ]
    }
   ],
   "source": [
    "i =0\n",
    "j=0\n",
    "while i<3:\n",
    "    j=0\n",
    "    while j<3:\n",
    "        print(i,j)\n",
    "        j+=1\n",
    "        i+=1"
   ]
  },
  {
   "cell_type": "code",
   "execution_count": 6,
   "id": "d99009bd-5c29-4351-8566-56584bebaddd",
   "metadata": {},
   "outputs": [
    {
     "name": "stdout",
     "output_type": "stream",
     "text": [
      "0\n",
      "1\n",
      "2\n",
      "3\n",
      "4\n",
      "5\n"
     ]
    }
   ],
   "source": [
    "for i in range(10):\n",
    "    if i==6:\n",
    "        # continue\n",
    "        break\n",
    "    print(i)"
   ]
  },
  {
   "cell_type": "markdown",
   "id": "84a88379-1f81-428f-a036-627c395940b8",
   "metadata": {},
   "source": [
    "# Functions"
   ]
  }
 ],
 "metadata": {
  "kernelspec": {
   "display_name": "Python 3 (ipykernel)",
   "language": "python",
   "name": "python3"
  },
  "language_info": {
   "codemirror_mode": {
    "name": "ipython",
    "version": 3
   },
   "file_extension": ".py",
   "mimetype": "text/x-python",
   "name": "python",
   "nbconvert_exporter": "python",
   "pygments_lexer": "ipython3",
   "version": "3.13.5"
  }
 },
 "nbformat": 4,
 "nbformat_minor": 5
}
