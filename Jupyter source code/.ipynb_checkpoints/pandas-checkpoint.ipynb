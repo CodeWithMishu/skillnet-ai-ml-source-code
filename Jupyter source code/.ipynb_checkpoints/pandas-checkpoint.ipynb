{
 "cells": [
  {
   "cell_type": "code",
   "execution_count": null,
   "id": "72a14f9d",
   "metadata": {},
   "outputs": [
    {
     "name": "stdout",
     "output_type": "stream",
     "text": [
      "         Unnamed: 0  Dst Port  Protocol  Flow Duration  Tot Fwd Pkts  \\\n",
      "0            146275      3389         6        5206015             9   \n",
      "1            512109       443         6       60991608            14   \n",
      "2            807703        53        17          27292             1   \n",
      "3            491912       443         6       70343424            17   \n",
      "4            858679        53        17         137267             2   \n",
      "...             ...       ...       ...            ...           ...   \n",
      "1252841      940974     64678         6           1397             5   \n",
      "1252842       45433     51274         6              1             3   \n",
      "1252843      912254        80         6            233             2   \n",
      "1252844      990683        53        17          23818             1   \n",
      "1252845      576130        80         6             70             2   \n",
      "\n",
      "         Tot Bwd Pkts  TotLen Fwd Pkts  TotLen Bwd Pkts  Fwd Pkt Len Max  \\\n",
      "0                  11             1213             1948              661   \n",
      "1                  14             1211             3396              875   \n",
      "2                   1               45              163               45   \n",
      "3                  20             1118             5653              258   \n",
      "4                   2               94              214               47   \n",
      "...               ...              ...              ...              ...   \n",
      "1252841             2              935              267              935   \n",
      "1252842             0               77                0               46   \n",
      "1252843             0                0                0                0   \n",
      "1252844             1               34              204               34   \n",
      "1252845             0                0                0                0   \n",
      "\n",
      "         Fwd Pkt Len Min  ...  Fwd Seg Size Min    Active Mean     Active Std  \\\n",
      "0                      0  ...                20       0.000000       0.000000   \n",
      "1                      0  ...                20  116504.666667  117401.762867   \n",
      "2                     45  ...                 8       0.000000       0.000000   \n",
      "3                      0  ...                20  527683.500000  386311.526445   \n",
      "4                     47  ...                 8       0.000000       0.000000   \n",
      "...                  ...  ...               ...            ...            ...   \n",
      "1252841                0  ...                20       0.000000       0.000000   \n",
      "1252842                0  ...                20       0.000000       0.000000   \n",
      "1252843                0  ...                20       0.000000       0.000000   \n",
      "1252844               34  ...                 8       0.000000       0.000000   \n",
      "1252845                0  ...                20       0.000000       0.000000   \n",
      "\n",
      "         Active Max  Active Min     Idle Mean      Idle Std  Idle Max  \\\n",
      "0                 0           0  0.000000e+00  0.000000e+00         0   \n",
      "1            356150       68519  1.000239e+07  1.665183e+04  10009249   \n",
      "2                 0           0  0.000000e+00  0.000000e+00         0   \n",
      "3            800847      254520  3.457024e+07  3.406089e+07  58654921   \n",
      "4                 0           0  0.000000e+00  0.000000e+00         0   \n",
      "...             ...         ...           ...           ...       ...   \n",
      "1252841           0           0  0.000000e+00  0.000000e+00         0   \n",
      "1252842           0           0  0.000000e+00  0.000000e+00         0   \n",
      "1252843           0           0  0.000000e+00  0.000000e+00         0   \n",
      "1252844           0           0  0.000000e+00  0.000000e+00         0   \n",
      "1252845           0           0  0.000000e+00  0.000000e+00         0   \n",
      "\n",
      "         Idle Min  Label  \n",
      "0               0      1  \n",
      "1         9968397      1  \n",
      "2               0      1  \n",
      "3        10485549      1  \n",
      "4               0      1  \n",
      "...           ...    ...  \n",
      "1252841         0      1  \n",
      "1252842         0      1  \n",
      "1252843         0      1  \n",
      "1252844         0      1  \n",
      "1252845         0      1  \n",
      "\n",
      "[1252846 rows x 79 columns]\n"
     ]
    }
   ],
   "source": [
    "import pandas as pd\n",
    "import numpy as np\n",
    "df = pd.read_csv('data.csv')\n",
    "# print(df.head())\n",
    "print(df)"
   ]
  },
  {
   "cell_type": "code",
   "execution_count": null,
   "id": "262c4e2a",
   "metadata": {},
   "outputs": [
    {
     "name": "stdout",
     "output_type": "stream",
     "text": [
      "0    Munish\n",
      "1    Munish\n",
      "2    Munish\n",
      "3    Munish\n",
      "4    Munish\n",
      "dtype: object\n"
     ]
    }
   ],
   "source": [
    "ser=pd.Series('bye mishra',index=[0,1,2,3,4])\n",
    "print(ser)\n"
   ]
  },
  {
   "cell_type": "code",
   "execution_count": 12,
   "id": "8bce51e6",
   "metadata": {},
   "outputs": [
    {
     "name": "stdout",
     "output_type": "stream",
     "text": [
      "0     2.000000\n",
      "1    12.333333\n",
      "2    22.666667\n",
      "3    33.000000\n",
      "dtype: float64\n"
     ]
    }
   ],
   "source": [
    "import numpy as np\n",
    "ser1 =pd.Series(np.linspace(2,33,4))\n",
    "print(ser1)"
   ]
  },
  {
   "cell_type": "code",
   "execution_count": 15,
   "id": "a4092bc0",
   "metadata": {},
   "outputs": [
    {
     "name": "stdout",
     "output_type": "stream",
     "text": [
      "0     2\n",
      "1    12\n",
      "2    22\n",
      "3    33\n",
      "dtype: int64\n"
     ]
    }
   ],
   "source": [
    "ser1 =pd.Series(np.linspace(2,33,4).astype(int))\n",
    "print(ser1)"
   ]
  },
  {
   "cell_type": "code",
   "execution_count": 21,
   "id": "71245f3d",
   "metadata": {},
   "outputs": [
    {
     "name": "stdout",
     "output_type": "stream",
     "text": [
      "a\n",
      "b\n",
      "c\n",
      "d\n",
      "e\n",
      "f\n",
      "g\n",
      "h\n"
     ]
    }
   ],
   "source": [
    "for x in \"abcdefgh\":\n",
    "    print(x)"
   ]
  },
  {
   "cell_type": "code",
   "execution_count": 22,
   "id": "af9cfe8a",
   "metadata": {},
   "outputs": [
    {
     "name": "stdout",
     "output_type": "stream",
     "text": [
      "a     1\n",
      "b     4\n",
      "c     7\n",
      "d    10\n",
      "e    13\n",
      "f    16\n",
      "g    19\n",
      "dtype: int64\n"
     ]
    }
   ],
   "source": [
    "ser=pd.Series(range(1,20,3),index=[x for x in 'abcdefg'])\n",
    "print(ser)"
   ]
  },
  {
   "cell_type": "code",
   "execution_count": 23,
   "id": "c03bcc35",
   "metadata": {},
   "outputs": [
    {
     "name": "stdout",
     "output_type": "stream",
     "text": [
      "0    0\n",
      "1    1\n",
      "2    2\n",
      "3    3\n",
      "4    4\n",
      "5    5\n",
      "6    6\n",
      "7    7\n",
      "8    8\n",
      "9    9\n",
      "dtype: int64\n"
     ]
    }
   ],
   "source": [
    "ser=pd.Series(range(10))\n",
    "print(ser)"
   ]
  },
  {
   "cell_type": "code",
   "execution_count": 25,
   "id": "3cd6ea53",
   "metadata": {},
   "outputs": [
    {
     "name": "stdout",
     "output_type": "stream",
     "text": [
      "0    10\n",
      "1    20\n",
      "2    30\n",
      "3    40\n",
      "4    50\n",
      "dtype: int64\n",
      "30\n",
      "40\n"
     ]
    }
   ],
   "source": [
    "data = [10,20,30,40,50]\n",
    "ser=pd.Series(data)\n",
    "print(ser)\n",
    "\n",
    "#Access element at position 2 using indexing operator\n",
    "element = ser[2]\n",
    "print(element)\n",
    "elements=ser[3]\n",
    "print(elements)"
   ]
  },
  {
   "cell_type": "code",
   "execution_count": null,
   "id": "e1f30a4c",
   "metadata": {},
   "outputs": [],
   "source": []
  }
 ],
 "metadata": {
  "kernelspec": {
   "display_name": ".venv",
   "language": "python",
   "name": "python3"
  },
  "language_info": {
   "codemirror_mode": {
    "name": "ipython",
    "version": 3
   },
   "file_extension": ".py",
   "mimetype": "text/x-python",
   "name": "python",
   "nbconvert_exporter": "python",
   "pygments_lexer": "ipython3",
   "version": "3.11.2"
  }
 },
 "nbformat": 4,
 "nbformat_minor": 5
}
