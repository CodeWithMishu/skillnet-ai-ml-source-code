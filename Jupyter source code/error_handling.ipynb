{
 "cells": [
  {
   "cell_type": "markdown",
   "id": "7cbe41b7",
   "metadata": {},
   "source": [
    "# Error handling"
   ]
  },
  {
   "cell_type": "code",
   "execution_count": null,
   "id": "69d667ac",
   "metadata": {},
   "outputs": [
    {
     "data": {
      "text/plain": [
       "1.8"
      ]
     },
     "metadata": {},
     "output_type": "display_data"
    }
   ],
   "source": [
    "a=9/5\n",
    "a"
   ]
  },
  {
   "cell_type": "markdown",
   "id": "e922971e",
   "metadata": {},
   "source": []
  },
  {
   "cell_type": "code",
   "execution_count": null,
   "id": "8cbdbdf6",
   "metadata": {},
   "outputs": [
    {
     "name": "stdout",
     "output_type": "stream",
     "text": [
      "rosan\n",
      "hi\n"
     ]
    }
   ],
   "source": [
    "print(\"rosan\")\n",
    "print(\"hi\")"
   ]
  },
  {
   "cell_type": "code",
   "execution_count": null,
   "id": "80c218f6",
   "metadata": {},
   "outputs": [],
   "source": [
    "# import tkinter \n",
    "# from tkinter import widgets # import error"
   ]
  },
  {
   "cell_type": "code",
   "execution_count": null,
   "id": "4c62496b",
   "metadata": {},
   "outputs": [],
   "source": [
    "for i in range(10):\n",
    "    pass"
   ]
  },
  {
   "cell_type": "code",
   "execution_count": null,
   "id": "5c3124dd",
   "metadata": {},
   "outputs": [
    {
     "name": "stdout",
     "output_type": "stream",
     "text": [
      "unsupported operand type(s) for +: 'int' and 'str'\n",
      "hi\n"
     ]
    }
   ],
   "source": [
    "try:\n",
    "     a=int(input(\"enter  a number\"))\n",
    "     b=input(\"enter string\")\n",
    "     print(a+b)\n",
    "except (ValueError,TypeError) as  e:\n",
    "    print(e)\n",
    "print(\"hi\")\n",
    "\n"
   ]
  },
  {
   "cell_type": "code",
   "execution_count": null,
   "id": "57da6ad2",
   "metadata": {},
   "outputs": [],
   "source": [
    "# import tkinter as tk"
   ]
  },
  {
   "cell_type": "code",
   "execution_count": null,
   "id": "12724654",
   "metadata": {},
   "outputs": [
    {
     "name": "stdout",
     "output_type": "stream",
     "text": [
      "list index out of range\n",
      "8\n"
     ]
    }
   ],
   "source": [
    "try:\n",
    "    l=[1,2,3,5]\n",
    "    print(l[6])\n",
    "except IndexError as e:\n",
    "    print(e)\n",
    "\n",
    "print(8)"
   ]
  },
  {
   "cell_type": "code",
   "execution_count": null,
   "id": "7d3afa0c",
   "metadata": {},
   "outputs": [
    {
     "ename": "KeyError",
     "evalue": "3",
     "output_type": "error",
     "traceback": [
      "\u001b[31m---------------------------------------------------------------------------\u001b[39m\n",
      "\u001b[31mKeyError\u001b[39m                                  Traceback (most recent call last)\n",
      "\u001b[36mCell\u001b[39m\u001b[36m \u001b[39m\u001b[32mIn[25]\u001b[39m\u001b[32m, line 2\u001b[39m\n",
      "\u001b[32m      1\u001b[39m d={\u001b[33m\"\u001b[39m\u001b[33m1\u001b[39m\u001b[33m\"\u001b[39m:\u001b[33m\"\u001b[39m\u001b[33mpreet\u001b[39m\u001b[33m\"\u001b[39m}\n",
      "\u001b[32m----> \u001b[39m\u001b[32m2\u001b[39m \u001b[38;5;28mprint\u001b[39m(\u001b[43md\u001b[49m\u001b[43m[\u001b[49m\u001b[32;43m3\u001b[39;49m\u001b[43m]\u001b[49m)\n",
      "\n",
      "\u001b[31mKeyError\u001b[39m: 3"
     ]
    }
   ],
   "source": [
    "d={\"1\":\"preet\"}\n",
    "print(d[3])"
   ]
  },
  {
   "cell_type": "code",
   "execution_count": null,
   "id": "5dfab4be",
   "metadata": {},
   "outputs": [
    {
     "ename": "ModuleNotFoundError",
     "evalue": "No module named 'tkinters'",
     "output_type": "error",
     "traceback": [
      "\u001b[31m---------------------------------------------------------------------------\u001b[39m\n",
      "\u001b[31mModuleNotFoundError\u001b[39m                       Traceback (most recent call last)\n",
      "\u001b[36mCell\u001b[39m\u001b[36m \u001b[39m\u001b[32mIn[26]\u001b[39m\u001b[32m, line 2\u001b[39m\n",
      "\u001b[32m      1\u001b[39m \u001b[38;5;66;03m# calculator\u001b[39;00m\n",
      "\u001b[32m----> \u001b[39m\u001b[32m2\u001b[39m \u001b[38;5;28;01mimport\u001b[39;00m\u001b[38;5;250m \u001b[39m\u001b[34;01mtkinters\u001b[39;00m\n",
      "\n",
      "\u001b[31mModuleNotFoundError\u001b[39m: No module named 'tkinters'"
     ]
    }
   ],
   "source": [
    "# calculator\n",
    "import tkinters"
   ]
  },
  {
   "cell_type": "markdown",
   "id": "45da2ab8",
   "metadata": {},
   "source": [
    "# Syntax error"
   ]
  },
  {
   "cell_type": "code",
   "execution_count": null,
   "id": "3afa7964",
   "metadata": {},
   "outputs": [
    {
     "name": "stdout",
     "output_type": "stream",
     "text": [
      "no\n"
     ]
    }
   ],
   "source": [
    "a=89\n",
    "b=78\n",
    "try:\n",
    "    if a>100:\n",
    "       print(\"yes\")\n",
    "    else:\n",
    "        print(\"no\")\n",
    "except:\n",
    "     print(\"preet\")"
   ]
  },
  {
   "cell_type": "code",
   "execution_count": null,
   "id": "41858065",
   "metadata": {},
   "outputs": [
    {
     "name": "stdout",
     "output_type": "stream",
     "text": [
      "Sum is: 10\n"
     ]
    }
   ],
   "source": [
    "a = int(input(\"Enter the first number: \"))\n",
    "b = int(input(\"Enter the second number: \"))\n",
    "print(\"Sum is:\", a + b)"
   ]
  },
  {
   "cell_type": "code",
   "execution_count": null,
   "id": "61bdaa20",
   "metadata": {},
   "outputs": [
    {
     "name": "stdout",
     "output_type": "stream",
     "text": [
      "enter a number 6\n"
     ]
    },
    {
     "name": "stdout",
     "output_type": "stream",
     "text": [
      "6\n"
     ]
    }
   ],
   "source": [
    "a=int(input(\"enter a number\"))\n",
    "print(a)"
   ]
  },
  {
   "cell_type": "code",
   "execution_count": null,
   "id": "0237dc33",
   "metadata": {},
   "outputs": [
    {
     "name": "stdout",
     "output_type": "stream",
     "text": [
      "enter a numberfhgjhbjjjjjjjjjjjjjjhbj\n",
      "enter a numberpreet\n",
      "invalid literal for int() with base 10: 'preet'\n",
      "thank you\n"
     ]
    }
   ],
   "source": [
    "try:\n",
    "    a=input(\"enter a number\")\n",
    "    b=int(input(\"enter a number\"))\n",
    "    print(a+b)\n",
    "except (ValueError,TypeError) as a:\n",
    "    print(a)\n",
    "print(\"thank you\") "
   ]
  },
  {
   "cell_type": "code",
   "execution_count": null,
   "id": "a2f60811",
   "metadata": {},
   "outputs": [
    {
     "name": "stdout",
     "output_type": "stream",
     "text": [
      "18.0\n"
     ]
    }
   ],
   "source": [
    "a=90\n",
    "print(a/5)"
   ]
  },
  {
   "cell_type": "code",
   "execution_count": null,
   "id": "f9720a63",
   "metadata": {},
   "outputs": [
    {
     "name": "stdout",
     "output_type": "stream",
     "text": [
      "90\n"
     ]
    }
   ],
   "source": [
    "a=90\n",
    "print(a)"
   ]
  },
  {
   "cell_type": "code",
   "execution_count": null,
   "id": "806575ce",
   "metadata": {},
   "outputs": [
    {
     "name": "stdout",
     "output_type": "stream",
     "text": [
      "60\n"
     ]
    }
   ],
   "source": [
    "a=int(input(\"\"))\n",
    "b=int(input(\"\"))\n",
    "print(a+b)"
   ]
  },
  {
   "cell_type": "code",
   "execution_count": null,
   "id": "37719611",
   "metadata": {},
   "outputs": [
    {
     "name": "stdout",
     "output_type": "stream",
     "text": [
      "5\n"
     ]
    }
   ],
   "source": [
    "a=int(input(\"Enter a no.\"))\n",
    "print(a)"
   ]
  },
  {
   "cell_type": "code",
   "execution_count": null,
   "id": "8cacefd8",
   "metadata": {},
   "outputs": [
    {
     "name": "stdout",
     "output_type": "stream",
     "text": [
      "3\n"
     ]
    }
   ],
   "source": [
    "l=[1,2,3]\n",
    "print(l[2])"
   ]
  },
  {
   "cell_type": "code",
   "execution_count": null,
   "id": "e1b79794",
   "metadata": {},
   "outputs": [
    {
     "name": "stdout",
     "output_type": "stream",
     "text": [
      "4\n"
     ]
    }
   ],
   "source": [
    "d={\"num\":4}\n",
    "print(d[\"num\"])"
   ]
  },
  {
   "cell_type": "code",
   "execution_count": null,
   "id": "a599e90f",
   "metadata": {},
   "outputs": [
    {
     "name": "stdout",
     "output_type": "stream",
     "text": [
      "fdf\n"
     ]
    }
   ],
   "source": [
    "try:\n",
    "    a=input(\"enter a number\")\n",
    "    b=int(input(\"enter a number\"))\n",
    "    print(a)\n",
    "except Exception as a:\n",
    "    print(a)"
   ]
  },
  {
   "cell_type": "code",
   "execution_count": null,
   "id": "07aa4203",
   "metadata": {},
   "outputs": [
    {
     "name": "stdout",
     "output_type": "stream",
     "text": [
      "5\n",
      "list index out of range\n"
     ]
    }
   ],
   "source": [
    "try:\n",
    "    a=int(input(\"\"))\n",
    "    print(a)\n",
    "    try:\n",
    "        l=[10,20,40]\n",
    "        i =int(input(\"enter your index\"))\n",
    "        print(l[i])\n",
    "    except Exception as ex:\n",
    "        print(ex)\n",
    "except Exception as e:\n",
    "    print(e)"
   ]
  }
 ],
 "metadata": {
  "kernelspec": {
   "display_name": "Python 3",
   "language": "python",
   "name": "python3"
  },
  "language_info": {
   "codemirror_mode": {
    "name": "ipython",
    "version": 3
   },
   "file_extension": ".py",
   "mimetype": "text/x-python",
   "name": "python",
   "nbconvert_exporter": "python",
   "pygments_lexer": "ipython3",
   "version": "3.13.5"
  }
 },
 "nbformat": 4,
 "nbformat_minor": 5
}
