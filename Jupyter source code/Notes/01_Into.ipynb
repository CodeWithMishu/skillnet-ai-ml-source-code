{
 "cells": [
  {
   "cell_type": "markdown",
   "id": "ca57d858",
   "metadata": {},
   "source": [
    "# what is python ?"
   ]
  },
  {
   "cell_type": "code",
   "execution_count": null,
   "id": "f15222a9",
   "metadata": {},
   "outputs": [],
   "source": [
    "Python is a high-level, interpreted, general-purpose programming language known for its simplicity, readability, and versatility.\n",
    "It was created by Guido van Rossum and first released in 1991.\n",
    "Python emphasizes code readability and allows developers to express concepts in fewer lines of code compared to other programming languages like C++ or Java.\n",
    "\n",
    "Python supports multiple programming paradigms, including procedural, object-oriented, and functional programming.\n",
    "It comes with a comprehensive standard library and a large ecosystem of third-party packages, making it suitable for a wide range of applications—from web development and automation to data science and machine learning.\n",
    "\n",
    "\n"
   ]
  },
  {
   "cell_type": "markdown",
   "id": "e461aad0",
   "metadata": {},
   "source": [
    "# Applications of Python"
   ]
  },
  {
   "cell_type": "code",
   "execution_count": null,
   "id": "ad4678a7",
   "metadata": {},
   "outputs": [],
   "source": [
    "# Python is used in many areas due to its flexibility and ease of use:\n",
    "\n",
    "Web Development: Frameworks like Django and Flask help build dynamic web applications.\n",
    "\n",
    "Data Science & Analytics: Libraries such as Pandas, NumPy, Matplotlib, and Seaborn make Python ideal for analyzing and visualizing data.\n",
    "\n",
    "Machine Learning & AI: TensorFlow, PyTorch, and Scikit-learn allow developers to build intelligent systems.\n",
    "\n",
    "Automation & Scripting: Python is commonly used to automate repetitive tasks or processes.\n",
    "\n",
    "Game Development: Tools like Pygame help in developing simple games.\n",
    "\n",
    "Internet of Things (IoT): Python can run on small devices like Raspberry Pi, making it useful in IoT applications."
   ]
  },
  {
   "cell_type": "code",
   "execution_count": 1,
   "id": "fde217de-469d-46bf-a9c5-d29436aec8cc",
   "metadata": {},
   "outputs": [
    {
     "ename": "SyntaxError",
     "evalue": "invalid syntax (3891538906.py, line 1)",
     "output_type": "error",
     "traceback": [
      "  \u001b[36mCell\u001b[39m\u001b[36m \u001b[39m\u001b[32mIn[1]\u001b[39m\u001b[32m, line 1\u001b[39m\n\u001b[31m    \u001b[39m\u001b[31mwhat is string ?\u001b[39m\n                   ^\n\u001b[31mSyntaxError\u001b[39m\u001b[31m:\u001b[39m invalid syntax\n"
     ]
    }
   ],
   "source": [
    " what is string ?"
   ]
  },
  {
   "cell_type": "code",
   "execution_count": null,
   "id": "31af1c94-d59c-4ec7-8a38-48e4cf68bf1f",
   "metadata": {},
   "outputs": [],
   "source": [
    "In Python, a string is a sequence of characters enclosed in either single quotes (') or\n",
    "double quotes (\"). Strings are one of the most commonly used data types in Python and are immutable, meaning they cannot be changed after creation."
   ]
  },
  {
   "cell_type": "code",
   "execution_count": 3,
   "id": "f53ce307",
   "metadata": {},
   "outputs": [
    {
     "name": "stdout",
     "output_type": "stream",
     "text": [
      " think\n",
      "1617987566160\n"
     ]
    }
   ],
   "source": [
    "a =\"think\" \n",
    "print(a)\n",
    "print(id(a))"
   ]
  },
  {
   "cell_type": "code",
   "execution_count": 3,
   "id": "483d18fd-b539-4ca9-96cf-dedbfc6d4dda",
   "metadata": {},
   "outputs": [
    {
     "name": "stdout",
     "output_type": "stream",
     "text": [
      "1996779934928\n"
     ]
    }
   ],
   "source": [
    "print(id(a))"
   ]
  },
  {
   "cell_type": "code",
   "execution_count": 1,
   "id": "4cb8dd0e-1501-4859-996a-0f7b0d174e83",
   "metadata": {},
   "outputs": [
    {
     "name": "stdout",
     "output_type": "stream",
     "text": [
      "34\n",
      "<class 'int'>\n"
     ]
    }
   ],
   "source": [
    "a=34\n",
    "print(a)\n",
    "print(type(a))"
   ]
  },
  {
   "cell_type": "code",
   "execution_count": 3,
   "id": "a4d20531-b258-40c6-b8d3-f0e146cc2637",
   "metadata": {},
   "outputs": [
    {
     "name": "stdout",
     "output_type": "stream",
     "text": [
      "2527508210016\n"
     ]
    }
   ],
   "source": [
    "print(id(a))"
   ]
  },
  {
   "cell_type": "code",
   "execution_count": 1,
   "id": "f53adb80",
   "metadata": {},
   "outputs": [
    {
     "name": "stdout",
     "output_type": "stream",
     "text": [
      "<class 'str'>\n",
      "career point university\n"
     ]
    }
   ],
   "source": [
    "a=\"career point university\"\n",
    "print(type(a))\n",
    "print(a)"
   ]
  },
  {
   "cell_type": "code",
   "execution_count": 4,
   "id": "29e05a6b",
   "metadata": {},
   "outputs": [
    {
     "name": "stdout",
     "output_type": "stream",
     "text": [
      "60\n",
      "80\n",
      "60\n",
      "80\n"
     ]
    }
   ],
   "source": [
    "a,b,c,d= 20,40,60,80\n",
    "a,b=c,d\n",
    "print(a)\n",
    "print(b)\n",
    "print(c)\n",
    "print(d)"
   ]
  },
  {
   "cell_type": "code",
   "execution_count": 2,
   "id": "b5e4f97d",
   "metadata": {},
   "outputs": [
    {
     "name": "stdout",
     "output_type": "stream",
     "text": [
      "67\n",
      "140716459305960\n"
     ]
    }
   ],
   "source": [
    "a=67\n",
    "print(a)\n",
    "print(id(a))"
   ]
  },
  {
   "cell_type": "code",
   "execution_count": 3,
   "id": "47101557",
   "metadata": {},
   "outputs": [
    {
     "name": "stdout",
     "output_type": "stream",
     "text": [
      "60\n"
     ]
    }
   ],
   "source": [
    "a=60\n",
    "print(a)"
   ]
  },
  {
   "cell_type": "code",
   "execution_count": 4,
   "id": "c3286f64-8008-4689-8172-75366aedf0de",
   "metadata": {},
   "outputs": [
    {
     "name": "stdout",
     "output_type": "stream",
     "text": [
      "130\n"
     ]
    }
   ],
   "source": [
    "a=80\n",
    "b=50\n",
    "c= a+b\n",
    "print(c)"
   ]
  },
  {
   "cell_type": "code",
   "execution_count": 12,
   "id": "6c178e9f",
   "metadata": {},
   "outputs": [
    {
     "name": "stdout",
     "output_type": "stream",
     "text": [
      "140726247238984\n",
      "140726247239368\n",
      "168\n",
      "168\n"
     ]
    }
   ],
   "source": [
    "a=78\n",
    "print(id(a))\n",
    "b=90\n",
    "print(id(b))\n",
    "c=a+b\n",
    "print(c)\n",
    "print(c)"
   ]
  },
  {
   "cell_type": "code",
   "execution_count": 5,
   "id": "492fc617",
   "metadata": {},
   "outputs": [
    {
     "name": "stdout",
     "output_type": "stream",
     "text": [
      "Alankrita\n"
     ]
    }
   ],
   "source": [
    "name = 'Alankrita'\n",
    "print(name)"
   ]
  },
  {
   "cell_type": "code",
   "execution_count": 6,
   "id": "5eed41ab",
   "metadata": {},
   "outputs": [
    {
     "name": "stdout",
     "output_type": "stream",
     "text": [
      "89\n"
     ]
    }
   ],
   "source": [
    "a_b=89\n",
    "print(a_b)\n",
    "#NAME,Name"
   ]
  },
  {
   "cell_type": "code",
   "execution_count": 7,
   "id": "f9eafb02",
   "metadata": {},
   "outputs": [
    {
     "name": "stdout",
     "output_type": "stream",
     "text": [
      "56\n"
     ]
    }
   ],
   "source": [
    "jhaa = 56\n",
    "print(jhaa)"
   ]
  },
  {
   "cell_type": "code",
   "execution_count": 8,
   "id": "3582e3d7-a894-44e2-9ccd-2655f6465e80",
   "metadata": {},
   "outputs": [
    {
     "name": "stdout",
     "output_type": "stream",
     "text": [
      "['False', 'None', 'True', 'and', 'as', 'assert', 'async', 'await', 'break', 'class', 'continue', 'def', 'del', 'elif', 'else', 'except', 'finally', 'for', 'from', 'global', 'if', 'import', 'in', 'is', 'lambda', 'nonlocal', 'not', 'or', 'pass', 'raise', 'return', 'try', 'while', 'with', 'yield']\n"
     ]
    }
   ],
   "source": [
    "import keyword\n",
    "print(keyword.kwlist)"
   ]
  },
  {
   "cell_type": "code",
   "execution_count": 9,
   "id": "f48e1c6b",
   "metadata": {},
   "outputs": [
    {
     "ename": "SyntaxError",
     "evalue": "invalid syntax (1262690073.py, line 1)",
     "output_type": "error",
     "traceback": [
      "  \u001b[36mCell\u001b[39m\u001b[36m \u001b[39m\u001b[32mIn[9]\u001b[39m\u001b[32m, line 1\u001b[39m\n\u001b[31m    \u001b[39m\u001b[31mif=45\u001b[39m\n      ^\n\u001b[31mSyntaxError\u001b[39m\u001b[31m:\u001b[39m invalid syntax\n"
     ]
    }
   ],
   "source": [
    "if=45\n",
    "print(if)"
   ]
  },
  {
   "cell_type": "code",
   "execution_count": 10,
   "id": "61b89922",
   "metadata": {},
   "outputs": [
    {
     "name": "stdout",
     "output_type": "stream",
     "text": [
      "140716636319432\n",
      "140716636316776\n",
      "97\n"
     ]
    }
   ],
   "source": [
    "a=9\n",
    "a=78\n",
    "a=90\n",
    "\n",
    "print(id(a))\n",
    "b=7\n",
    "print(id(b))\n",
    "c=a+b\n",
    "print(c)"
   ]
  },
  {
   "cell_type": "code",
   "execution_count": 7,
   "id": "57bf302b",
   "metadata": {},
   "outputs": [
    {
     "name": "stdout",
     "output_type": "stream",
     "text": [
      "60\n",
      "56\n",
      "140716777679624\n",
      "<class 'str'>\n",
      "<class 'str'>\n",
      "<class 'int'>\n"
     ]
    }
   ],
   "source": [
    "a,b,c=45,60,56\n",
    "a,b=b,c\n",
    "d='Dell'\n",
    "print(a)\n",
    "print(b)\n",
    "print(id(a))\n",
    "print(type(d))\n",
    "print(type(d))\n",
    "print(type(b))"
   ]
  },
  {
   "cell_type": "code",
   "execution_count": 12,
   "id": "cd19fad2",
   "metadata": {},
   "outputs": [
    {
     "name": "stdout",
     "output_type": "stream",
     "text": [
      "['False', 'None', 'True', 'and', 'as', 'assert', 'async', 'await', 'break', 'class', 'continue', 'def', 'del', 'elif', 'else', 'except', 'finally', 'for', 'from', 'global', 'if', 'import', 'in', 'is', 'lambda', 'nonlocal', 'not', 'or', 'pass', 'raise', 'return', 'try', 'while', 'with', 'yield']\n"
     ]
    }
   ],
   "source": [
    "import keyword\n",
    "print(keyword.kwlist)"
   ]
  },
  {
   "cell_type": "code",
   "execution_count": 13,
   "id": "889adada",
   "metadata": {},
   "outputs": [
    {
     "name": "stdout",
     "output_type": "stream",
     "text": [
      "10\n",
      "140716636318152\n",
      "<class 'int'>\n"
     ]
    }
   ],
   "source": [
    "a,b=10,50\n",
    "a,b=b,a\n",
    "print(b)\n",
    "print(id(a))\n",
    "print(type(b))"
   ]
  },
  {
   "cell_type": "code",
   "execution_count": 14,
   "id": "dcd2ef34",
   "metadata": {},
   "outputs": [
    {
     "name": "stdout",
     "output_type": "stream",
     "text": [
      "brahaman\n"
     ]
    }
   ],
   "source": [
    "print(\"brahaman\")"
   ]
  },
  {
   "cell_type": "code",
   "execution_count": 15,
   "id": "af188354",
   "metadata": {},
   "outputs": [],
   "source": [
    "import keyword"
   ]
  },
  {
   "cell_type": "code",
   "execution_count": 16,
   "id": "453f2e50",
   "metadata": {},
   "outputs": [
    {
     "name": "stdout",
     "output_type": "stream",
     "text": [
      "['False', 'None', 'True', 'and', 'as', 'assert', 'async', 'await', 'break', 'class', 'continue', 'def', 'del', 'elif', 'else', 'except', 'finally', 'for', 'from', 'global', 'if', 'import', 'in', 'is', 'lambda', 'nonlocal', 'not', 'or', 'pass', 'raise', 'return', 'try', 'while', 'with', 'yield']\n"
     ]
    }
   ],
   "source": [
    "print(keyword.kwlist)"
   ]
  },
  {
   "cell_type": "code",
   "execution_count": 17,
   "id": "e68ba516",
   "metadata": {},
   "outputs": [
    {
     "name": "stdout",
     "output_type": "stream",
     "text": [
      "jjjjakahihjek\n"
     ]
    }
   ],
   "source": [
    "karan_vir='jjjjakahihjek'\n",
    "print(karan_vir)"
   ]
  },
  {
   "cell_type": "code",
   "execution_count": 18,
   "id": "0cd51456",
   "metadata": {},
   "outputs": [
    {
     "name": "stdout",
     "output_type": "stream",
     "text": [
      "ritik\n"
     ]
    }
   ],
   "source": [
    "print(\"ritik\")"
   ]
  },
  {
   "cell_type": "code",
   "execution_count": 19,
   "id": "350f96ca",
   "metadata": {},
   "outputs": [
    {
     "name": "stdout",
     "output_type": "stream",
     "text": [
      "amit\n",
      "50\n",
      "8\n"
     ]
    },
    {
     "data": {
      "text/plain": [
       "17"
      ]
     },
     "execution_count": 19,
     "metadata": {},
     "output_type": "execute_result"
    }
   ],
   "source": [
    "print(\"amit\")\n",
    "#print(\"hi\")\n",
    "'''jgfdj\n",
    " fkgk\n",
    " agk\n",
    " djfvkj\n",
    "dfcfhgj'''\n",
    "print(a)\n",
    "print(3+5)\n",
    "9+8"
   ]
  },
  {
   "cell_type": "code",
   "execution_count": 20,
   "id": "d92df64b",
   "metadata": {},
   "outputs": [
    {
     "name": "stdout",
     "output_type": "stream",
     "text": [
      "ram\n"
     ]
    }
   ],
   "source": [
    "a = 'ram'\n",
    "print(a)"
   ]
  },
  {
   "cell_type": "markdown",
   "id": "14529b00",
   "metadata": {},
   "source": [
    "#    python"
   ]
  },
  {
   "cell_type": "code",
   "execution_count": 9,
   "id": "a6a347b6",
   "metadata": {},
   "outputs": [
    {
     "name": "stdout",
     "output_type": "stream",
     "text": [
      "delhi\n"
     ]
    }
   ],
   "source": [
    "''' there are two types of comments:\n",
    " 1. single line #\n",
    " 2. Multi line''' \n",
    "print('delhi')"
   ]
  },
  {
   "cell_type": "code",
   "execution_count": 22,
   "id": "a1a867f1",
   "metadata": {},
   "outputs": [
    {
     "data": {
      "text/plain": [
       "'mahima is sadxfcghbnm dsfghjk asdxfghbjnkm awdefffffffffffffffff \\nhgjkk\\njhjfh'"
      ]
     },
     "execution_count": 22,
     "metadata": {},
     "output_type": "execute_result"
    }
   ],
   "source": [
    "'''mahima is sadxfcghbnm dsfghjk asdxfghbjnkm awdefffffffffffffffff \n",
    "hgjkk\n",
    "jhjfh'''"
   ]
  },
  {
   "cell_type": "code",
   "execution_count": 23,
   "id": "eee06b2a",
   "metadata": {},
   "outputs": [
    {
     "ename": "SyntaxError",
     "evalue": "cannot assign to literal here. Maybe you meant '==' instead of '='? (2755770596.py, line 2)",
     "output_type": "error",
     "traceback": [
      "  \u001b[36mCell\u001b[39m\u001b[36m \u001b[39m\u001b[32mIn[23]\u001b[39m\u001b[32m, line 2\u001b[39m\n\u001b[31m    \u001b[39m\u001b[31m1=6\u001b[39m\n    ^\n\u001b[31mSyntaxError\u001b[39m\u001b[31m:\u001b[39m cannot assign to literal here. Maybe you meant '==' instead of '='?\n"
     ]
    }
   ],
   "source": [
    "# an integer stores whole number values in a variable.\n",
    "1=6\n",
    "print(1)"
   ]
  },
  {
   "cell_type": "code",
   "execution_count": 24,
   "id": "9302f00a",
   "metadata": {},
   "outputs": [
    {
     "ename": "SyntaxError",
     "evalue": "invalid syntax (1591730394.py, line 1)",
     "output_type": "error",
     "traceback": [
      "  \u001b[36mCell\u001b[39m\u001b[36m \u001b[39m\u001b[32mIn[24]\u001b[39m\u001b[32m, line 1\u001b[39m\n\u001b[31m    \u001b[39m\u001b[31mif=90\u001b[39m\n      ^\n\u001b[31mSyntaxError\u001b[39m\u001b[31m:\u001b[39m invalid syntax\n"
     ]
    }
   ],
   "source": [
    "if=90\n",
    "print(if)"
   ]
  },
  {
   "cell_type": "code",
   "execution_count": 25,
   "id": "37dfe39e-9201-4517-a176-986dd80a6ce7",
   "metadata": {},
   "outputs": [
    {
     "ename": "SyntaxError",
     "evalue": "invalid syntax (239770899.py, line 2)",
     "output_type": "error",
     "traceback": [
      "  \u001b[36mCell\u001b[39m\u001b[36m \u001b[39m\u001b[32mIn[25]\u001b[39m\u001b[32m, line 2\u001b[39m\n\u001b[31m    \u001b[39m\u001b[31mjupyter notebook\u001b[39m\n            ^\n\u001b[31mSyntaxError\u001b[39m\u001b[31m:\u001b[39m invalid syntax\n"
     ]
    }
   ],
   "source": [
    "python\n",
    "jupyter notebook\n",
    "vs code "
   ]
  },
  {
   "cell_type": "code",
   "execution_count": 26,
   "id": "76200d9d",
   "metadata": {},
   "outputs": [
    {
     "ename": "SyntaxError",
     "evalue": "unterminated string literal (detected at line 51) (2375291035.py, line 51)",
     "output_type": "error",
     "traceback": [
      "  \u001b[36mCell\u001b[39m\u001b[36m \u001b[39m\u001b[32mIn[26]\u001b[39m\u001b[32m, line 51\u001b[39m\n\u001b[31m    \u001b[39m\u001b[31m90's\u001b[39m\n      ^\n\u001b[31mSyntaxError\u001b[39m\u001b[31m:\u001b[39m unterminated string literal (detected at line 51)\n"
     ]
    }
   ],
   "source": [
    "intro\n",
    "variables\n",
    "keywords\n",
    "multiple variables assign\n",
    "operators 6 (LIMCAA) \n",
    "data types 3 \n",
    "control structures if statements\n",
    "loops\n",
    "for loop\n",
    "while loop\n",
    "iterative statements pass break continue\n",
    "functions\n",
    "lambda functions\n",
    "file handling\n",
    "exception handling try and except method\n",
    "moddules:-\n",
    "date time module,calendar module\n",
    "oops \n",
    "databases: Mysql\n",
    "project: Road Accident  \n",
    "python libraries:\n",
    "numpy\n",
    "pandas\n",
    "matplotlib\n",
    "seaborn\n",
    "excel: basic to advance\n",
    "data visualisation tools:\n",
    "1. Power Bi  DAX\n",
    "2. Tableau\n",
    "machine learning:\n",
    "1. supervised\n",
    "2. unsupervised\n",
    "3. Reinforcement\n",
    "deep learning:\n",
    "nlp: text sumarziation, chatgpt, gibhli\n",
    "Natural Language processing: web scrapping\n",
    "cnn:image identification , object identification\n",
    "ann, blink detector, face recogni\n",
    "ai ml+dl+genai\n",
    "\n",
    "gui:-\n",
    "tkinter,sql\n",
    "oops :- \n",
    "classes and objects\n",
    "inheritance\n",
    "polymorphism\n",
    "framework:-django\n",
    "python pandas numpy matplotlib \n",
    "power bi, tableau\n",
    "machine\n",
    "90's\n",
    "deep learning\n"
   ]
  },
  {
   "cell_type": "code",
   "execution_count": 27,
   "id": "aab5c861",
   "metadata": {},
   "outputs": [
    {
     "name": "stdout",
     "output_type": "stream",
     "text": [
      "sanket\n"
     ]
    }
   ],
   "source": [
    "print(\"sanket\")"
   ]
  },
  {
   "cell_type": "code",
   "execution_count": 28,
   "id": "63e0d946",
   "metadata": {},
   "outputs": [
    {
     "ename": "SyntaxError",
     "evalue": "invalid syntax (3082051697.py, line 3)",
     "output_type": "error",
     "traceback": [
      "  \u001b[36mCell\u001b[39m\u001b[36m \u001b[39m\u001b[32mIn[28]\u001b[39m\u001b[32m, line 3\u001b[39m\n\u001b[31m    \u001b[39m\u001b[31mint main\u001b[39m\n        ^\n\u001b[31mSyntaxError\u001b[39m\u001b[31m:\u001b[39m invalid syntax\n"
     ]
    }
   ],
   "source": [
    "#include<stdio.h>\n",
    "#include<conio.h>\n",
    "int main\n",
    "{\n",
    "    \n",
    "}"
   ]
  },
  {
   "cell_type": "code",
   "execution_count": 13,
   "id": "36ea1cf5-dd80-4003-baed-ebaf0f93ac41",
   "metadata": {},
   "outputs": [
    {
     "name": "stdout",
     "output_type": "stream",
     "text": [
      "python\n"
     ]
    }
   ],
   "source": [
    "r=\"python\"\n",
    "print(r)"
   ]
  },
  {
   "cell_type": "code",
   "execution_count": 29,
   "id": "b29db86c",
   "metadata": {},
   "outputs": [
    {
     "name": "stdout",
     "output_type": "stream",
     "text": [
      "sanvi\n"
     ]
    }
   ],
   "source": [
    "print(\"sanvi\")  "
   ]
  },
  {
   "cell_type": "code",
   "execution_count": 23,
   "id": "15772f8c",
   "metadata": {},
   "outputs": [
    {
     "name": "stdout",
     "output_type": "stream",
     "text": [
      "56\n",
      "<class 'int'>\n"
     ]
    }
   ],
   "source": [
    "A=78 \n",
    "B=45\n",
    "C=A+B\n",
    "print(c)\n",
    "print(type(c))"
   ]
  },
  {
   "cell_type": "code",
   "execution_count": 31,
   "id": "eb4df54b",
   "metadata": {},
   "outputs": [
    {
     "name": "stdout",
     "output_type": "stream",
     "text": [
      "158\n",
      "140716636319112\n",
      "140716636319048\n",
      "158\n"
     ]
    }
   ],
   "source": [
    "a=90\n",
    "a=56\n",
    "a=80\n",
    "b=78\n",
    "c=a+b\n",
    "print(c)\n",
    "print(id(a))\n",
    "print(id(b))\n",
    "print(c)"
   ]
  },
  {
   "cell_type": "code",
   "execution_count": 32,
   "id": "c425850b",
   "metadata": {},
   "outputs": [
    {
     "name": "stdout",
     "output_type": "stream",
     "text": [
      "67\n"
     ]
    }
   ],
   "source": [
    "a,b,c=34,45,67\n",
    "a,b=b,c\n",
    "print(b)"
   ]
  },
  {
   "cell_type": "code",
   "execution_count": 33,
   "id": "23ee6875",
   "metadata": {},
   "outputs": [
    {
     "name": "stdout",
     "output_type": "stream",
     "text": [
      "['False', 'None', 'True', 'and', 'as', 'assert', 'async', 'await', 'break', 'class', 'continue', 'def', 'del', 'elif', 'else', 'except', 'finally', 'for', 'from', 'global', 'if', 'import', 'in', 'is', 'lambda', 'nonlocal', 'not', 'or', 'pass', 'raise', 'return', 'try', 'while', 'with', 'yield']\n"
     ]
    }
   ],
   "source": [
    "# keywords:-35\n",
    "import keyword\n",
    "print(keyword.kwlist)"
   ]
  },
  {
   "cell_type": "code",
   "execution_count": 34,
   "id": "e9fac6f5",
   "metadata": {},
   "outputs": [
    {
     "name": "stdout",
     "output_type": "stream",
     "text": [
      "bhavya\n"
     ]
    }
   ],
   "source": [
    "print(\"bhavya\")"
   ]
  },
  {
   "cell_type": "code",
   "execution_count": 35,
   "id": "870b515c",
   "metadata": {},
   "outputs": [
    {
     "name": "stdout",
     "output_type": "stream",
     "text": [
      "10\n",
      "140716636316776\n",
      "<class 'int'>\n",
      "140716636316648\n"
     ]
    }
   ],
   "source": [
    "a=2\n",
    "b=3\n",
    "a=7\n",
    "c=a+b\n",
    "print(c)\n",
    "print(id(a))\n",
    "print(type(a))\n",
    "print(id(b))\n",
    "# a=2.0\n",
    "# a=\"python\"\n",
    "# print(id(a))\n",
    "# b=3\n",
    "# print(id(b))\n",
    "# print(a)"
   ]
  },
  {
   "cell_type": "code",
   "execution_count": 36,
   "id": "e8c8ef95",
   "metadata": {},
   "outputs": [
    {
     "name": "stdout",
     "output_type": "stream",
     "text": [
      "<class 'int'>\n"
     ]
    }
   ],
   "source": [
    "a=12\n",
    "print(type(a))"
   ]
  },
  {
   "cell_type": "code",
   "execution_count": 37,
   "id": "704f4bc9",
   "metadata": {},
   "outputs": [
    {
     "ename": "SyntaxError",
     "evalue": "invalid syntax (3708767246.py, line 1)",
     "output_type": "error",
     "traceback": [
      "  \u001b[36mCell\u001b[39m\u001b[36m \u001b[39m\u001b[32mIn[37]\u001b[39m\u001b[32m, line 1\u001b[39m\n\u001b[31m    \u001b[39m\u001b[31mfirst program in python\u001b[39m\n          ^\n\u001b[31mSyntaxError\u001b[39m\u001b[31m:\u001b[39m invalid syntax\n"
     ]
    }
   ],
   "source": [
    "first program in python\n",
    "zsgfdy\n",
    "xfdcgh\n",
    "cgv\n",
    "print(\"asif\")"
   ]
  },
  {
   "cell_type": "code",
   "execution_count": 38,
   "id": "2bcd2db6",
   "metadata": {},
   "outputs": [
    {
     "data": {
      "text/plain": [
       "17"
      ]
     },
     "execution_count": 38,
     "metadata": {},
     "output_type": "execute_result"
    }
   ],
   "source": [
    "'''python:-ghgfhj gjb\n",
    "     vhjbkj hn\n",
    "        hgufjuhkjh\n",
    "        hgvjhbjhgbj\n",
    "        bhjbkjtgkj'''\n",
    "9+8"
   ]
  },
  {
   "cell_type": "code",
   "execution_count": 39,
   "id": "f46f9111",
   "metadata": {},
   "outputs": [
    {
     "name": "stdout",
     "output_type": "stream",
     "text": [
      "aryan\n"
     ]
    }
   ],
   "source": [
    "print(\"aryan\")"
   ]
  },
  {
   "cell_type": "markdown",
   "id": "7e3fd2b4",
   "metadata": {},
   "source": [
    "- Python is a general purpose high-level, interpreted programming language that is widely used for web development, scientific computing, data analysis, artificial intelligence, and a wide variety of other tasks. It is known for its simplicity, readability, and ease of use, making it a popular choice for beginners and experienced developers alike\n"
   ]
  },
  {
   "cell_type": "code",
   "execution_count": 40,
   "id": "b4ee5e43",
   "metadata": {
    "scrolled": true
   },
   "outputs": [
    {
     "name": "stdout",
     "output_type": "stream",
     "text": [
      "hlol\n",
      "hi\n",
      "hlo\n"
     ]
    }
   ],
   "source": [
    "print(\"hlol\")\n",
    "print(\"hi\")\n",
    "print(\"hlo\")"
   ]
  },
  {
   "cell_type": "code",
   "execution_count": 41,
   "id": "6e8d2374",
   "metadata": {},
   "outputs": [
    {
     "name": "stdout",
     "output_type": "stream",
     "text": [
      "anishka\n"
     ]
    }
   ],
   "source": [
    "print(\"anishka\") \n",
    "#interpreter-0 and 1-machine-output-interpreter-0 and 1-convert-human understandable           "
   ]
  },
  {
   "cell_type": "code",
   "execution_count": 42,
   "id": "8f147898",
   "metadata": {},
   "outputs": [
    {
     "name": "stdout",
     "output_type": "stream",
     "text": [
      "hello\n"
     ]
    },
    {
     "ename": "NameError",
     "evalue": "name 'goihxof' is not defined",
     "output_type": "error",
     "traceback": [
      "\u001b[31m---------------------------------------------------------------------------\u001b[39m",
      "\u001b[31mNameError\u001b[39m                                 Traceback (most recent call last)",
      "\u001b[36mCell\u001b[39m\u001b[36m \u001b[39m\u001b[32mIn[42]\u001b[39m\u001b[32m, line 3\u001b[39m\n\u001b[32m      1\u001b[39m \u001b[38;5;28mprint\u001b[39m(\u001b[33m\"\u001b[39m\u001b[33mhello\u001b[39m\u001b[33m\"\u001b[39m)\n\u001b[32m      2\u001b[39m \u001b[38;5;66;03m# dhgih\u001b[39;00m\n\u001b[32m----> \u001b[39m\u001b[32m3\u001b[39m \u001b[43mgoihxof\u001b[49m\n\u001b[32m      4\u001b[39m sdhbv\n",
      "\u001b[31mNameError\u001b[39m: name 'goihxof' is not defined"
     ]
    }
   ],
   "source": [
    "print(\"hello\")\n",
    "# dhgih\n",
    "goihxof\n",
    "sdhbv"
   ]
  },
  {
   "cell_type": "markdown",
   "id": "7933d7a3",
   "metadata": {},
   "source": [
    "- Developed by--->Guido van Rossum"
   ]
  },
  {
   "cell_type": "markdown",
   "id": "db049b22",
   "metadata": {},
   "source": [
    "- created---> in 1991"
   ]
  },
  {
   "cell_type": "markdown",
   "id": "f856c36f",
   "metadata": {},
   "source": [
    "- Name taken from BBC channel---->fun show---->Monty Python's Flying Circus"
   ]
  },
  {
   "cell_type": "markdown",
   "id": "d17161c7",
   "metadata": {},
   "source": [
    "# what is high level programming language ?"
   ]
  },
  {
   "cell_type": "markdown",
   "id": "3190034b",
   "metadata": {},
   "source": [
    " - A high-level programming language is a programming language that is designed to be easier for humans to read, write, and understand.  which can make writing code faster and more efficient. Examples of high-level programming languages include Python, Java, C#, and JavaScript."
   ]
  },
  {
   "cell_type": "markdown",
   "id": "d82e56a8",
   "metadata": {},
   "source": [
    "# What is an Interpreted language?"
   ]
  },
  {
   "cell_type": "markdown",
   "id": "b3cb79a9",
   "metadata": {},
   "source": [
    "- An Interpreted language executes its statements line by line.\n",
    " Languages such as Python, Javascript, R, PHP, and Ruby are prime \n",
    " examples of Interpreted languages. Programs written in an interpreted \n",
    " language runs directly from \n",
    "the source code, with no intermediary compilation step"
   ]
  },
  {
   "cell_type": "markdown",
   "id": "43404d40",
   "metadata": {},
   "source": [
    "# Difference between Compiler and Interpreter ?"
   ]
  },
  {
   "cell_type": "code",
   "execution_count": 11,
   "id": "7221de35",
   "metadata": {},
   "outputs": [
    {
     "name": "stdout",
     "output_type": "stream",
     "text": [
      "anubhav\n",
      "hi\n"
     ]
    }
   ],
   "source": [
    "print(\"anubhav\") \n",
    "\n",
    "print(\"hi\")"
   ]
  },
  {
   "cell_type": "code",
   "execution_count": 48,
   "id": "dc243d37",
   "metadata": {},
   "outputs": [
    {
     "name": "stdout",
     "output_type": "stream",
     "text": [
      "rasprret\n"
     ]
    }
   ],
   "source": [
    "print(\"rasprret\")"
   ]
  },
  {
   "cell_type": "markdown",
   "id": "2f38f3de",
   "metadata": {},
   "source": [
    "COMPILER"
   ]
  },
  {
   "cell_type": "markdown",
   "id": "476e1e17",
   "metadata": {},
   "source": [
    "- it scans the entire programs first and translates it into machine code"
   ]
  },
  {
   "cell_type": "markdown",
   "id": "1af0a0e3",
   "metadata": {},
   "source": [
    "INTERPRETER"
   ]
  },
  {
   "cell_type": "markdown",
   "id": "45157b2e",
   "metadata": {},
   "source": [
    "- it scans the program line by line and translate it into machine code"
   ]
  },
  {
   "cell_type": "markdown",
   "id": "fc4ad63d",
   "metadata": {},
   "source": [
    "COMPILER"
   ]
  },
  {
   "cell_type": "markdown",
   "id": "36921066",
   "metadata": {},
   "source": [
    "- compiler show all errors and waring at same time"
   ]
  },
  {
   "cell_type": "markdown",
   "id": "7e9dc094",
   "metadata": {},
   "source": [
    "INTERPRETER"
   ]
  },
  {
   "cell_type": "markdown",
   "id": "872e59b2",
   "metadata": {},
   "source": [
    "- interpreter show one error at a time"
   ]
  },
  {
   "cell_type": "markdown",
   "id": "1deaec9b",
   "metadata": {},
   "source": [
    "COMPILER"
   ]
  },
  {
   "cell_type": "markdown",
   "id": "c626148f",
   "metadata": {},
   "source": [
    "- Debugging is slow"
   ]
  },
  {
   "cell_type": "markdown",
   "id": "80916794",
   "metadata": {},
   "source": [
    "INTERPRETER"
   ]
  },
  {
   "cell_type": "markdown",
   "id": "36a99d1b",
   "metadata": {},
   "source": [
    "- debugging is faster"
   ]
  },
  {
   "cell_type": "markdown",
   "id": "1a60e859",
   "metadata": {},
   "source": [
    "COMPILER "
   ]
  },
  {
   "cell_type": "markdown",
   "id": "141381f0",
   "metadata": {},
   "source": [
    "- excecution time is less"
   ]
  },
  {
   "cell_type": "markdown",
   "id": "37c49c3f",
   "metadata": {},
   "source": [
    "COMPILER IS USED BY LANGUAGE SUCH C,C++"
   ]
  },
  {
   "cell_type": "markdown",
   "id": "d33f0325",
   "metadata": {},
   "source": [
    "INTERPRETER"
   ]
  },
  {
   "cell_type": "markdown",
   "id": "ff7c6fa6",
   "metadata": {},
   "source": [
    "- excecution time is more"
   ]
  },
  {
   "cell_type": "markdown",
   "id": "009dd4f7",
   "metadata": {},
   "source": [
    "AN INTERPRETER IS USED BY LANGUAGE SUCH AS JAVA, PYTHON ,c# etc"
   ]
  },
  {
   "cell_type": "markdown",
   "id": "0ec0fea9",
   "metadata": {},
   "source": [
    "# what is python use for ?"
   ]
  },
  {
   "cell_type": "markdown",
   "id": "5487026e",
   "metadata": {},
   "source": [
    "1.web development"
   ]
  },
  {
   "cell_type": "markdown",
   "id": "bf147f06",
   "metadata": {},
   "source": [
    "2.game development"
   ]
  },
  {
   "cell_type": "markdown",
   "id": "0e56b117",
   "metadata": {},
   "source": [
    "3.Desktop based applications"
   ]
  },
  {
   "cell_type": "markdown",
   "id": "093258c1",
   "metadata": {},
   "source": [
    "4.Data science"
   ]
  },
  {
   "cell_type": "markdown",
   "id": "94b6d327",
   "metadata": {},
   "source": [
    "5.AI and machine learning"
   ]
  },
  {
   "cell_type": "markdown",
   "id": "49c6255e",
   "metadata": {},
   "source": [
    "6.Cyber security"
   ]
  },
  {
   "cell_type": "markdown",
   "id": "877223d5",
   "metadata": {},
   "source": [
    "# What are the top companies that use Python?"
   ]
  },
  {
   "cell_type": "markdown",
   "id": "5aeeea91",
   "metadata": {},
   "source": [
    "Google.\n",
    "Facebook.\n",
    "Amazon.\n",
    "Instagram.\n",
    "Spotify.\n",
    "Netflix."
   ]
  },
  {
   "cell_type": "markdown",
   "id": "8da60302",
   "metadata": {},
   "source": [
    "# Features"
   ]
  },
  {
   "cell_type": "markdown",
   "id": "545f611d",
   "metadata": {},
   "source": [
    " 1.easy to learn and understand"
   ]
  },
  {
   "cell_type": "markdown",
   "id": "8cbd8628",
   "metadata": {},
   "source": [
    "2.easy to debug"
   ]
  },
  {
   "cell_type": "markdown",
   "id": "72de6d3d",
   "metadata": {},
   "source": [
    "3.Large Library (numpy,pandas)"
   ]
  },
  {
   "cell_type": "markdown",
   "id": "4cdefc7e",
   "metadata": {},
   "source": [
    "4.Free and Open Source"
   ]
  },
  {
   "cell_type": "markdown",
   "id": "d7460a7b",
   "metadata": {},
   "source": [
    "5.Object-Oriented Language"
   ]
  },
  {
   "cell_type": "markdown",
   "id": "a2f57652",
   "metadata": {},
   "source": [
    "6.High level language"
   ]
  },
  {
   "cell_type": "markdown",
   "id": "6c22c1e5",
   "metadata": {},
   "source": [
    "flow----->keyword---->variables------>Data types ------>operator----->expression------->control structure------->program"
   ]
  },
  {
   "cell_type": "markdown",
   "id": "046c8749",
   "metadata": {},
   "source": [
    "# comments"
   ]
  },
  {
   "cell_type": "code",
   "execution_count": 15,
   "id": "ea6c6ef4",
   "metadata": {},
   "outputs": [
    {
     "name": "stdout",
     "output_type": "stream",
     "text": [
      "anishka\n"
     ]
    }
   ],
   "source": [
    "# first program in python \n",
    "# drtsdfuyjtg\n",
    "# vvjughbkir\n",
    "# gkiuuhji\n",
    "# vhgfjdhbkf\n",
    "# jgdogjifo\n",
    "# define:-\n",
    "print(\"anishka\")"
   ]
  },
  {
   "cell_type": "code",
   "execution_count": 24,
   "id": "fec19335",
   "metadata": {},
   "outputs": [
    {
     "name": "stdout",
     "output_type": "stream",
     "text": [
      "17\n",
      "8\n"
     ]
    }
   ],
   "source": [
    "#python is a high level languge\n",
    "#vgkiuh\n",
    "#gvhjbkjgb\n",
    "print(8+9)\n",
    "print(8)"
   ]
  },
  {
   "cell_type": "code",
   "execution_count": 39,
   "id": "913272d8",
   "metadata": {},
   "outputs": [],
   "source": [
    "#keyword:-"
   ]
  },
  {
   "cell_type": "code",
   "execution_count": 52,
   "id": "d61beda1",
   "metadata": {},
   "outputs": [
    {
     "name": "stdout",
     "output_type": "stream",
     "text": [
      "['False', 'None', 'True', 'and', 'as', 'assert', 'async', 'await', 'break', 'class', 'continue', 'def', 'del', 'elif', 'else', 'except', 'finally', 'for', 'from', 'global', 'if', 'import', 'in', 'is', 'lambda', 'nonlocal', 'not', 'or', 'pass', 'raise', 'return', 'try', 'while', 'with', 'yield']\n"
     ]
    }
   ],
   "source": [
    "import keyword\n",
    "print(keyword.kwlist)"
   ]
  },
  {
   "cell_type": "code",
   "execution_count": 16,
   "id": "23a76eb3",
   "metadata": {},
   "outputs": [
    {
     "name": "stdout",
     "output_type": "stream",
     "text": [
      "8\n",
      "rahul\n",
      "9\n"
     ]
    }
   ],
   "source": [
    "a,b,c=8,9,\"rahul\"\n",
    "a,b,c=b,a,c\n",
    "print(b)\n",
    "print(c)\n",
    "# a=89\n",
    "# b=90\n",
    "# print(id(a))\n",
    "# print(id(b))\n",
    "print(a)"
   ]
  },
  {
   "cell_type": "code",
   "execution_count": 43,
   "id": "5b655993",
   "metadata": {},
   "outputs": [
    {
     "name": "stdout",
     "output_type": "stream",
     "text": [
      "90\n"
     ]
    }
   ],
   "source": [
    "a_b=90\n",
    "print(a_b)\n"
   ]
  },
  {
   "cell_type": "code",
   "execution_count": 45,
   "id": "8c34f5ce",
   "metadata": {},
   "outputs": [
    {
     "name": "stdout",
     "output_type": "stream",
     "text": [
      "hunny\n"
     ]
    }
   ],
   "source": [
    "a='hunny'\n",
    "print(a)"
   ]
  },
  {
   "cell_type": "code",
   "execution_count": 46,
   "id": "658a7985",
   "metadata": {},
   "outputs": [
    {
     "name": "stdout",
     "output_type": "stream",
     "text": [
      "hi\n"
     ]
    }
   ],
   "source": [
    "'''comments:-\n",
    "    two types:\n",
    "        1.single line comment\n",
    "        2.multiline comment'''\n",
    "print(\"hi\")"
   ]
  },
  {
   "cell_type": "code",
   "execution_count": 47,
   "id": "cf16c2c9",
   "metadata": {},
   "outputs": [
    {
     "name": "stdout",
     "output_type": "stream",
     "text": [
      "rash\n",
      "hi\n"
     ]
    }
   ],
   "source": [
    "# first program in python \n",
    "# gffujhg\n",
    "# gvkjhnk\n",
    "# hgk\n",
    "print(\"rash\")\n",
    "print(\"hi\")"
   ]
  },
  {
   "cell_type": "markdown",
   "id": "74595ce8",
   "metadata": {},
   "source": [
    "In python,  two type of comments are single line comments and multiline comments"
   ]
  },
  {
   "cell_type": "code",
   "execution_count": 21,
   "id": "ad611790",
   "metadata": {},
   "outputs": [
    {
     "name": "stdout",
     "output_type": "stream",
     "text": [
      "hi\n"
     ]
    }
   ],
   "source": [
    "# single line comment\n",
    "# first program in python\n",
    "# asdfghjk\n",
    "print(\"hi\")"
   ]
  },
  {
   "cell_type": "code",
   "execution_count": null,
   "id": "304c7e88",
   "metadata": {},
   "outputs": [],
   "source": []
  },
  {
   "cell_type": "code",
   "execution_count": 22,
   "id": "dea3b853",
   "metadata": {},
   "outputs": [
    {
     "name": "stdout",
     "output_type": "stream",
     "text": [
      "hi\n"
     ]
    }
   ],
   "source": [
    "'''keywords:-\n",
    "    hgdf ukuh\n",
    "    bgjof\n",
    "print(\"hello\")'''\n",
    "print(\"hi\")"
   ]
  },
  {
   "cell_type": "markdown",
   "id": "90e182e8",
   "metadata": {},
   "source": [
    "# keywords"
   ]
  },
  {
   "cell_type": "code",
   "execution_count": 23,
   "id": "508c84c6",
   "metadata": {},
   "outputs": [
    {
     "name": "stdout",
     "output_type": "stream",
     "text": [
      "12\n"
     ]
    }
   ],
   "source": [
    "'''bgfrvubyt\n",
    "jbvk\n",
    "jhbfiu on\n",
    "hfnchi\n",
    "dbvcfg ihihnonho'''\n",
    "print(5+7)"
   ]
  },
  {
   "cell_type": "code",
   "execution_count": 20,
   "id": "7380e218",
   "metadata": {},
   "outputs": [
    {
     "name": "stdout",
     "output_type": "stream",
     "text": [
      "hi\n"
     ]
    }
   ],
   "source": [
    "# my first program in python\n",
    "# dagdsh\n",
    "# cxn\n",
    "# fbhh\n",
    "# print(\"ADFHK\"\n",
    "print(\"hi\")"
   ]
  },
  {
   "cell_type": "code",
   "execution_count": 21,
   "id": "50299528",
   "metadata": {},
   "outputs": [
    {
     "name": "stdout",
     "output_type": "stream",
     "text": [
      "['False', 'None', 'True', 'and', 'as', 'assert', 'async', 'await', 'break', 'class', 'continue', 'def', 'del', 'elif', 'else', 'except', 'finally', 'for', 'from', 'global', 'if', 'import', 'in', 'is', 'lambda', 'nonlocal', 'not', 'or', 'pass', 'raise', 'return', 'try', 'while', 'with', 'yield']\n"
     ]
    }
   ],
   "source": [
    "import keyword\n",
    "print(keyword.kwlist)"
   ]
  },
  {
   "cell_type": "code",
   "execution_count": 22,
   "id": "339e114f",
   "metadata": {},
   "outputs": [
    {
     "name": "stdout",
     "output_type": "stream",
     "text": [
      "somya\n"
     ]
    }
   ],
   "source": [
    "# first program in python\n",
    "print(\"somya\")"
   ]
  },
  {
   "cell_type": "code",
   "execution_count": 23,
   "id": "8e277282",
   "metadata": {},
   "outputs": [
    {
     "data": {
      "text/plain": [
       "'hello\\ni \\nam \\nlearning \\npython'"
      ]
     },
     "execution_count": 23,
     "metadata": {},
     "output_type": "execute_result"
    }
   ],
   "source": [
    "#multiline comment\n",
    "\n",
    "'''hello\n",
    "i \n",
    "am \n",
    "learning \n",
    "python'''"
   ]
  },
  {
   "cell_type": "code",
   "execution_count": 24,
   "id": "34fbe4cb",
   "metadata": {},
   "outputs": [
    {
     "data": {
      "text/plain": [
       "'jkfijhgkjkre\\n\\nreldkjgtior34u'"
      ]
     },
     "execution_count": 24,
     "metadata": {},
     "output_type": "execute_result"
    }
   ],
   "source": [
    "'''jkfijhgkjkre\n",
    " \n",
    "reldkjgtior34u'''"
   ]
  },
  {
   "cell_type": "code",
   "execution_count": 25,
   "id": "070e968e",
   "metadata": {},
   "outputs": [
    {
     "data": {
      "text/plain": [
       "6"
      ]
     },
     "execution_count": 25,
     "metadata": {},
     "output_type": "execute_result"
    }
   ],
   "source": [
    "# sum of two numbers \n",
    "# sfuooo\n",
    "# dl\n",
    "2+4"
   ]
  },
  {
   "cell_type": "code",
   "execution_count": 26,
   "id": "4974da87",
   "metadata": {},
   "outputs": [
    {
     "name": "stdout",
     "output_type": "stream",
     "text": [
      "chetan\n"
     ]
    }
   ],
   "source": [
    "print(\"chetan\")"
   ]
  },
  {
   "cell_type": "markdown",
   "id": "fc648844",
   "metadata": {},
   "source": [
    "# tjodx"
   ]
  },
  {
   "cell_type": "markdown",
   "id": "496ed75c",
   "metadata": {},
   "source": [
    "# first program in python\n"
   ]
  },
  {
   "cell_type": "code",
   "execution_count": 27,
   "id": "bf0ab679",
   "metadata": {},
   "outputs": [
    {
     "name": "stdout",
     "output_type": "stream",
     "text": [
      "hello\n"
     ]
    }
   ],
   "source": [
    "print('hello')"
   ]
  },
  {
   "cell_type": "code",
   "execution_count": 3,
   "id": "bd1c8540",
   "metadata": {},
   "outputs": [
    {
     "data": {
      "text/plain": [
       "167"
      ]
     },
     "execution_count": 3,
     "metadata": {},
     "output_type": "execute_result"
    }
   ],
   "source": [
    "78+89"
   ]
  },
  {
   "cell_type": "code",
   "execution_count": 4,
   "id": "68f152c8",
   "metadata": {},
   "outputs": [
    {
     "data": {
      "text/plain": [
       "167"
      ]
     },
     "execution_count": 4,
     "metadata": {},
     "output_type": "execute_result"
    }
   ],
   "source": [
    "78+89"
   ]
  },
  {
   "cell_type": "code",
   "execution_count": 5,
   "id": "c8976d19",
   "metadata": {},
   "outputs": [
    {
     "name": "stdout",
     "output_type": "stream",
     "text": [
      "90\n",
      "140718763880136\n",
      "140718763880104\n"
     ]
    }
   ],
   "source": [
    "a=78\n",
    "a=90\n",
    "b=89\n",
    "print(a)\n",
    "print(id(a))\n",
    "print(id(b))"
   ]
  },
  {
   "cell_type": "code",
   "execution_count": 6,
   "id": "15a4c40e",
   "metadata": {},
   "outputs": [
    {
     "name": "stdout",
     "output_type": "stream",
     "text": [
      "78\n"
     ]
    }
   ],
   "source": [
    "a=78\n",
    "b=89\n",
    "print(a)"
   ]
  },
  {
   "cell_type": "code",
   "execution_count": 32,
   "id": "45dbdef9",
   "metadata": {},
   "outputs": [
    {
     "data": {
      "text/plain": [
       "147"
      ]
     },
     "execution_count": 32,
     "metadata": {},
     "output_type": "execute_result"
    }
   ],
   "source": [
    "78+69"
   ]
  },
  {
   "cell_type": "markdown",
   "id": "f95d8707",
   "metadata": {},
   "source": [
    "###### 6+8"
   ]
  },
  {
   "cell_type": "code",
   "execution_count": 33,
   "id": "5828bf35",
   "metadata": {},
   "outputs": [
    {
     "data": {
      "text/plain": [
       "2268"
      ]
     },
     "execution_count": 33,
     "metadata": {},
     "output_type": "execute_result"
    }
   ],
   "source": [
    "567*4"
   ]
  },
  {
   "cell_type": "code",
   "execution_count": 7,
   "id": "d41cc28d",
   "metadata": {},
   "outputs": [
    {
     "name": "stdout",
     "output_type": "stream",
     "text": [
      "1\n",
      "2\n",
      "3\n",
      "4\n",
      "5\n"
     ]
    }
   ],
   "source": [
    "for i in range(1,6):\n",
    "    print(i)"
   ]
  },
  {
   "cell_type": "code",
   "execution_count": 8,
   "id": "e6e58ec6",
   "metadata": {},
   "outputs": [
    {
     "name": "stdout",
     "output_type": "stream",
     "text": [
      "78\n"
     ]
    }
   ],
   "source": [
    "print(a)"
   ]
  },
  {
   "cell_type": "code",
   "execution_count": 9,
   "id": "4f3ef3f0",
   "metadata": {},
   "outputs": [
    {
     "name": "stdout",
     "output_type": "stream",
     "text": [
      "140718763878696\n"
     ]
    }
   ],
   "source": [
    "a=45\n",
    "print(id(a))"
   ]
  },
  {
   "cell_type": "code",
   "execution_count": 10,
   "id": "8e700e8b",
   "metadata": {},
   "outputs": [
    {
     "name": "stdout",
     "output_type": "stream",
     "text": [
      "<class 'int'>\n"
     ]
    }
   ],
   "source": [
    "print(type(a))"
   ]
  },
  {
   "cell_type": "code",
   "execution_count": 11,
   "id": "4d636695",
   "metadata": {},
   "outputs": [
    {
     "name": "stdout",
     "output_type": "stream",
     "text": [
      "8\n"
     ]
    }
   ],
   "source": [
    "a_b=8\n",
    "# NAME,name\n",
    "print(a_b)"
   ]
  },
  {
   "cell_type": "code",
   "execution_count": 39,
   "id": "6a01406f",
   "metadata": {},
   "outputs": [
    {
     "name": "stdout",
     "output_type": "stream",
     "text": [
      "['False', 'None', 'True', 'and', 'as', 'assert', 'async', 'await', 'break', 'class', 'continue', 'def', 'del', 'elif', 'else', 'except', 'finally', 'for', 'from', 'global', 'if', 'import', 'in', 'is', 'lambda', 'nonlocal', 'not', 'or', 'pass', 'raise', 'return', 'try', 'while', 'with', 'yield']\n"
     ]
    }
   ],
   "source": [
    "import keyword\n",
    "print(keyword.kwlist)"
   ]
  },
  {
   "cell_type": "code",
   "execution_count": 40,
   "id": "6a776d61",
   "metadata": {},
   "outputs": [
    {
     "name": "stdout",
     "output_type": "stream",
     "text": [
      "23\n"
     ]
    }
   ],
   "source": [
    "# a=34\n",
    "a,b,c=23,\"ritik\",\"aditya\"\n",
    "a,b,c=b,c,a\n",
    "print(c)"
   ]
  },
  {
   "cell_type": "code",
   "execution_count": 41,
   "id": "004fcc30",
   "metadata": {},
   "outputs": [
    {
     "name": "stdout",
     "output_type": "stream",
     "text": [
      "10\n",
      "5\n"
     ]
    }
   ],
   "source": [
    "\n",
    "x = 5\n",
    "y = 10\n",
    "\n",
    "\n",
    "c = x\n",
    "x = y\n",
    "y = c\n",
    "print(x)\n",
    "print(y)"
   ]
  },
  {
   "cell_type": "code",
   "execution_count": 42,
   "id": "23276482",
   "metadata": {},
   "outputs": [
    {
     "name": "stdout",
     "output_type": "stream",
     "text": [
      "89\n",
      "90\n"
     ]
    }
   ],
   "source": [
    "a=90\n",
    "\n",
    "b=89\n",
    "c=a\n",
    "a=b\n",
    "b=c\n",
    "print(a)\n",
    "print(b)\n"
   ]
  },
  {
   "cell_type": "code",
   "execution_count": 43,
   "id": "f3ff19a5",
   "metadata": {},
   "outputs": [
    {
     "name": "stdout",
     "output_type": "stream",
     "text": [
      "<class 'float'>\n"
     ]
    }
   ],
   "source": [
    "a=9.0\n",
    "print(type(a))"
   ]
  },
  {
   "cell_type": "code",
   "execution_count": 44,
   "id": "301fffd8",
   "metadata": {},
   "outputs": [],
   "source": [
    "a=\"asif\"\n",
    "a=90\n",
    "a=89.0"
   ]
  },
  {
   "cell_type": "code",
   "execution_count": 45,
   "id": "0d7a10d2",
   "metadata": {},
   "outputs": [
    {
     "ename": "NameError",
     "evalue": "name 'numeric' is not defined",
     "output_type": "error",
     "traceback": [
      "\u001b[31m---------------------------------------------------------------------------\u001b[39m",
      "\u001b[31mNameError\u001b[39m                                 Traceback (most recent call last)",
      "\u001b[36mCell\u001b[39m\u001b[36m \u001b[39m\u001b[32mIn[45]\u001b[39m\u001b[32m, line 1\u001b[39m\n\u001b[32m----> \u001b[39m\u001b[32m1\u001b[39m \u001b[43mnumeric\u001b[49m-\u001b[38;5;28mint\u001b[39m,\u001b[38;5;28mfloat\u001b[39m,\u001b[38;5;28mcomplex\u001b[39m\n\u001b[32m      2\u001b[39m sequence-\u001b[38;5;28mlist\u001b[39m,\u001b[38;5;28mtuple\u001b[39m,string\n\u001b[32m      3\u001b[39m mapping-dictionary\n",
      "\u001b[31mNameError\u001b[39m: name 'numeric' is not defined"
     ]
    }
   ],
   "source": [
    "numeric-int,float,complex\n",
    "sequence-list,tuple,string\n",
    "mapping-dictionary"
   ]
  },
  {
   "cell_type": "code",
   "execution_count": null,
   "id": "5889b389",
   "metadata": {},
   "outputs": [],
   "source": []
  },
  {
   "cell_type": "code",
   "execution_count": null,
   "id": "74c6cb14",
   "metadata": {},
   "outputs": [],
   "source": []
  },
  {
   "cell_type": "code",
   "execution_count": null,
   "id": "43559b77",
   "metadata": {},
   "outputs": [],
   "source": []
  },
  {
   "cell_type": "code",
   "execution_count": null,
   "id": "4b72c8eb",
   "metadata": {},
   "outputs": [],
   "source": []
  },
  {
   "cell_type": "code",
   "execution_count": null,
   "id": "323d5a83-300c-41e4-acda-655a2a619f22",
   "metadata": {},
   "outputs": [],
   "source": []
  },
  {
   "cell_type": "code",
   "execution_count": null,
   "id": "0caa1137-7b8e-4b1d-983c-92e12d1d6bda",
   "metadata": {},
   "outputs": [],
   "source": []
  }
 ],
 "metadata": {
  "kernelspec": {
   "display_name": "Python 3 (ipykernel)",
   "language": "python",
   "name": "python3"
  },
  "language_info": {
   "codemirror_mode": {
    "name": "ipython",
    "version": 3
   },
   "file_extension": ".py",
   "mimetype": "text/x-python",
   "name": "python",
   "nbconvert_exporter": "python",
   "pygments_lexer": "ipython3",
   "version": "3.13.3"
  },
  "vscode": {
   "interpreter": {
    "hash": "72b2382ece9768098284d92bbc69d35954e75b60d1e25897d1389c232f4796f0"
   }
  }
 },
 "nbformat": 4,
 "nbformat_minor": 5
}
