{
 "cells": [
  {
   "cell_type": "markdown",
   "id": "89900371",
   "metadata": {},
   "source": [
    "# while loop"
   ]
  },
  {
   "cell_type": "code",
   "execution_count": 1,
   "id": "5b5f5e60",
   "metadata": {},
   "outputs": [
    {
     "ename": "NameError",
     "evalue": "name 'initilization' is not defined",
     "output_type": "error",
     "traceback": [
      "\u001b[31m---------------------------------------------------------------------------\u001b[39m",
      "\u001b[31mNameError\u001b[39m                                 Traceback (most recent call last)",
      "\u001b[36mCell\u001b[39m\u001b[36m \u001b[39m\u001b[32mIn[1]\u001b[39m\u001b[32m, line 1\u001b[39m\n\u001b[32m----> \u001b[39m\u001b[32m1\u001b[39m \u001b[43minitilization\u001b[49m\n\u001b[32m      2\u001b[39m condition\n\u001b[32m      3\u001b[39m inc/dec\n",
      "\u001b[31mNameError\u001b[39m: name 'initilization' is not defined"
     ]
    }
   ],
   "source": [
    "initilization\n",
    "condition\n",
    "inc/dec"
   ]
  },
  {
   "cell_type": "code",
   "execution_count": null,
   "id": "07ecfa42",
   "metadata": {},
   "outputs": [],
   "source": [
    "a=90\n",
    "a=a-5\n",
    "a"
   ]
  },
  {
   "cell_type": "code",
   "execution_count": 4,
   "id": "e005dc2a",
   "metadata": {},
   "outputs": [
    {
     "name": "stdout",
     "output_type": "stream",
     "text": [
      "mishra\n",
      "mishra\n",
      "mishra\n",
      "mishra\n",
      "mishra\n"
     ]
    }
   ],
   "source": [
    "i=1\n",
    "while i<=5:\n",
    "    print(\"mishra\")\n",
    "    i=i+1"
   ]
  },
  {
   "cell_type": "code",
   "execution_count": 3,
   "id": "244702dc",
   "metadata": {},
   "outputs": [
    {
     "name": "stdout",
     "output_type": "stream",
     "text": [
      "6\n",
      "7\n",
      "8\n"
     ]
    }
   ],
   "source": [
    "l=[6,7,8]\n",
    "for i in range(len(l)):\n",
    "    print(l[i])"
   ]
  },
  {
   "cell_type": "code",
   "execution_count": 10,
   "id": "8c8d05eb",
   "metadata": {},
   "outputs": [
    {
     "name": "stdout",
     "output_type": "stream",
     "text": [
      "carrer,point university\n",
      "carrer,point university\n",
      "carrer,point university\n",
      "carrer,point university\n",
      "carrer,point university\n",
      "carrer,point university\n",
      "carrer,point university\n",
      "carrer,point university\n",
      "carrer,point university\n"
     ]
    }
   ],
   "source": [
    "for i in range( 1,10):\n",
    "    print(\"carrer,point university\")"
   ]
  },
  {
   "cell_type": "code",
   "execution_count": 14,
   "id": "5a67d66d",
   "metadata": {},
   "outputs": [
    {
     "name": "stdout",
     "output_type": "stream",
     "text": [
      "5\n",
      "4\n",
      "3\n",
      "2\n",
      "1\n"
     ]
    }
   ],
   "source": [
    "# intialization\n",
    "# condition\n",
    "# inc/dec\n",
    "i=5\n",
    "while i>=1:\n",
    "    print(i)\n",
    "    i=i-1"
   ]
  },
  {
   "cell_type": "code",
   "execution_count": 16,
   "id": "e26a9a8a",
   "metadata": {},
   "outputs": [
    {
     "name": "stdout",
     "output_type": "stream",
     "text": [
      "24\n"
     ]
    }
   ],
   "source": [
    "l=[1,2,3,4]\n",
    "sum=1\n",
    "for i in l:\n",
    "    sum=sum*i\n",
    "print(sum)"
   ]
  },
  {
   "cell_type": "code",
   "execution_count": 17,
   "id": "5c157233",
   "metadata": {},
   "outputs": [],
   "source": [
    "# wap  to print negative no.in a list"
   ]
  },
  {
   "cell_type": "code",
   "execution_count": null,
   "id": "dd322f42",
   "metadata": {},
   "outputs": [],
   "source": []
  },
  {
   "cell_type": "code",
   "execution_count": 1,
   "id": "92b702fe",
   "metadata": {},
   "outputs": [
    {
     "name": "stdout",
     "output_type": "stream",
     "text": [
      "-6 -7 "
     ]
    }
   ],
   "source": [
    "l=[-6,-7,8,9]\n",
    "for i in l:\n",
    "   if i<0:\n",
    "    print(i,end=\" \")"
   ]
  },
  {
   "cell_type": "code",
   "execution_count": 18,
   "id": "95fdc1f8",
   "metadata": {},
   "outputs": [
    {
     "name": "stdout",
     "output_type": "stream",
     "text": [
      "15\n"
     ]
    }
   ],
   "source": [
    "# wap  to print sum of no.in a list\n",
    "sum=0\n",
    "l=[1,2,3,4,5]\n",
    "for i in l:\n",
    "    sum=sum+i\n",
    "print(sum)"
   ]
  },
  {
   "cell_type": "code",
   "execution_count": 19,
   "id": "b5f1008e",
   "metadata": {},
   "outputs": [
    {
     "name": "stdout",
     "output_type": "stream",
     "text": [
      "1\n",
      "3\n",
      "5\n"
     ]
    }
   ],
   "source": [
    "#wap  to print odd of no.in a list\n",
    "l=[1,2,3,4,5]\n",
    "for i in l:\n",
    "    if i%2!=0:\n",
    "        print(i)\n"
   ]
  },
  {
   "cell_type": "code",
   "execution_count": null,
   "id": "7f03ec32",
   "metadata": {},
   "outputs": [],
   "source": [
    "# 1+2+3+4+5"
   ]
  },
  {
   "cell_type": "code",
   "execution_count": 7,
   "id": "a176ebd2",
   "metadata": {},
   "outputs": [
    {
     "name": "stdout",
     "output_type": "stream",
     "text": [
      "['False', 'None', 'True', 'and', 'as', 'assert', 'async', 'await', 'break', 'class', 'continue', 'def', 'del', 'elif', 'else', 'except', 'finally', 'for', 'from', 'global', 'if', 'import', 'in', 'is', 'lambda', 'nonlocal', 'not', 'or', 'pass', 'raise', 'return', 'try', 'while', 'with', 'yield']\n"
     ]
    }
   ],
   "source": [
    "import keyword\n",
    "print(keyword.kwlist)"
   ]
  },
  {
   "cell_type": "code",
   "execution_count": 20,
   "id": "6648172f",
   "metadata": {},
   "outputs": [
    {
     "name": "stdin",
     "output_type": "stream",
     "text": [
      "enter a elements 5\n",
      "enter elements 7\n",
      "enter elements 8\n",
      "enter elements 9\n",
      "enter elements 8\n",
      "enter elements 5\n"
     ]
    },
    {
     "name": "stdout",
     "output_type": "stream",
     "text": [
      "5\n"
     ]
    }
   ],
   "source": [
    "l=[]\n",
    "n=int(input(\"enter a elements\"))\n",
    "for i in range(1,n+1):\n",
    "    e=int(input(\"enter elements\"))\n",
    "    l.append(e)\n",
    "print(min(l))"
   ]
  },
  {
   "cell_type": "markdown",
   "id": "520e591b",
   "metadata": {},
   "source": [
    "- A while loop, on the other hand, is used to repeat a set of actions as long as a certain condition is true"
   ]
  },
  {
   "cell_type": "code",
   "execution_count": null,
   "id": "05d26adb",
   "metadata": {},
   "outputs": [],
   "source": [
    "# intialization\n",
    "# condition\n",
    "# inc/dec"
   ]
  },
  {
   "cell_type": "code",
   "execution_count": 11,
   "id": "5262c711",
   "metadata": {},
   "outputs": [
    {
     "name": "stdout",
     "output_type": "stream",
     "text": [
      "rahul\n",
      "rahul\n",
      "rahul\n",
      "rahul\n",
      "rahul\n"
     ]
    }
   ],
   "source": [
    "for i in range(5):\n",
    "    print(\"rahul\")"
   ]
  },
  {
   "cell_type": "code",
   "execution_count": 1,
   "id": "3803d375",
   "metadata": {},
   "outputs": [
    {
     "name": "stdout",
     "output_type": "stream",
     "text": [
      "rahul\n",
      "rahul\n",
      "rahul\n",
      "rahul\n",
      "rahul\n"
     ]
    }
   ],
   "source": [
    "i=5\n",
    "while i>=1:\n",
    "    print('rahul')\n",
    "    i=i-1"
   ]
  },
  {
   "cell_type": "code",
   "execution_count": 3,
   "id": "b88cde88",
   "metadata": {},
   "outputs": [
    {
     "name": "stdout",
     "output_type": "stream",
     "text": [
      "hunny\n",
      "hunny\n",
      "hunny\n",
      "hunny\n",
      "hunny\n"
     ]
    }
   ],
   "source": [
    "for i in range(5):\n",
    "    print(\"hunny\")"
   ]
  },
  {
   "cell_type": "code",
   "execution_count": 5,
   "id": "90695419",
   "metadata": {},
   "outputs": [
    {
     "name": "stdout",
     "output_type": "stream",
     "text": [
      "hunny\n",
      "hunny\n",
      "hunny\n",
      "hunny\n",
      "hunny\n"
     ]
    }
   ],
   "source": [
    "i=1\n",
    "while i<=5: \n",
    "    print(\"hunny\")\n",
    "    i=i+1   "
   ]
  },
  {
   "cell_type": "code",
   "execution_count": 22,
   "id": "1951c37e",
   "metadata": {},
   "outputs": [
    {
     "name": "stdout",
     "output_type": "stream",
     "text": [
      "10x 1 = 10\n",
      "10x 2 = 20\n",
      "10x 3 = 30\n",
      "10x 4 = 40\n",
      "10x 5 = 50\n",
      "10x 6 = 60\n",
      "10x 7 = 70\n",
      "10x 8 = 80\n",
      "10x 9 = 90\n",
      "10x 10 = 100\n"
     ]
    }
   ],
   "source": [
    "i=1 \n",
    "while i<=10: \n",
    "    \n",
    "    print(\"10x\",i,\"=\",10*i)\n",
    "    i+=1"
   ]
  },
  {
   "cell_type": "code",
   "execution_count": 3,
   "id": "2afe32e6",
   "metadata": {},
   "outputs": [
    {
     "name": "stdout",
     "output_type": "stream",
     "text": [
      "10\n",
      "9\n",
      "8\n",
      "7\n",
      "6\n",
      "5\n",
      "4\n",
      "3\n",
      "2\n",
      "1\n"
     ]
    }
   ],
   "source": [
    "i=10  \n",
    "while(i>=1):\n",
    "    print (i)\n",
    "    \n",
    "    i=i-1"
   ]
  },
  {
   "cell_type": "code",
   "execution_count": null,
   "id": "8e3395d5",
   "metadata": {},
   "outputs": [],
   "source": [
    "#Q1Write a program to print no  \n",
    "intialization\n",
    "condition\n",
    "ince /dec"
   ]
  },
  {
   "cell_type": "code",
   "execution_count": 24,
   "id": "c0c0e90d",
   "metadata": {},
   "outputs": [
    {
     "name": "stdout",
     "output_type": "stream",
     "text": [
      "2\n",
      "4\n",
      "6\n",
      "8\n",
      "10\n"
     ]
    }
   ],
   "source": [
    "i = 2\n",
    "while (i<=10):    \n",
    "    \n",
    "    print(i)     \n",
    "    \n",
    "    i+=2   "
   ]
  },
  {
   "cell_type": "code",
   "execution_count": null,
   "id": "0fc36849",
   "metadata": {},
   "outputs": [],
   "source": []
  },
  {
   "cell_type": "code",
   "execution_count": 25,
   "id": "f003ac63",
   "metadata": {},
   "outputs": [
    {
     "name": "stdout",
     "output_type": "stream",
     "text": [
      "2\n",
      "4\n",
      "6\n",
      "8\n",
      "10\n"
     ]
    }
   ],
   "source": [
    "#Q2 even no 1 -10 \n",
    "i =1\n",
    "while(i<=10):   \n",
    "    if(i%2==0):\n",
    "        print(i)  \n",
    "    i+=1  "
   ]
  },
  {
   "cell_type": "code",
   "execution_count": null,
   "id": "748fbe04",
   "metadata": {},
   "outputs": [],
   "source": []
  },
  {
   "cell_type": "code",
   "execution_count": null,
   "id": "12430104",
   "metadata": {},
   "outputs": [],
   "source": [
    "i=1 \n",
    "sum=0 \n",
    "while(i<=10): \n",
    "     sum = sum + i \n",
    "     i+=1 \n",
    "print(\"sum of no. is\",sum)   "
   ]
  },
  {
   "cell_type": "code",
   "execution_count": 6,
   "id": "3cd28d5d",
   "metadata": {},
   "outputs": [
    {
     "ename": "SyntaxError",
     "evalue": "invalid syntax (643932026.py, line 6)",
     "output_type": "error",
     "traceback": [
      "  \u001b[36mCell\u001b[39m\u001b[36m \u001b[39m\u001b[32mIn[6]\u001b[39m\u001b[32m, line 6\u001b[39m\n\u001b[31m    \u001b[39m\u001b[31mi+=1        0\u001b[39m\n                ^\n\u001b[31mSyntaxError\u001b[39m\u001b[31m:\u001b[39m invalid syntax\n"
     ]
    }
   ],
   "source": [
    "#Q3 write a program to print sum of 1 - 10 no.\n",
    "i = 1\n",
    "sum =0\n",
    "while(i<=10):  \n",
    "    sum = sum+i  \n",
    "    i+=1        \n",
    "print(sum)  "
   ]
  },
  {
   "cell_type": "code",
   "execution_count": 8,
   "id": "12508ee4",
   "metadata": {},
   "outputs": [
    {
     "name": "stdout",
     "output_type": "stream",
     "text": [
      "0\n",
      "1\n",
      "2\n",
      "3\n",
      "4\n"
     ]
    }
   ],
   "source": [
    "#Q4Print numbers from 0 to 4\n",
    "i = 0\n",
    "while i <5:\n",
    "    print(i)\n",
    "    i += 1 "
   ]
  },
  {
   "cell_type": "code",
   "execution_count": 9,
   "id": "b9a96edb",
   "metadata": {},
   "outputs": [
    {
     "name": "stdout",
     "output_type": "stream",
     "text": [
      "55\n"
     ]
    }
   ],
   "source": [
    "1+2+3+4+5\n",
    "sum=0\n",
    "i=1\n",
    "while i<=10:\n",
    "    sum=sum+i\n",
    "    i=i+1\n",
    "print(sum)"
   ]
  },
  {
   "cell_type": "code",
   "execution_count": 26,
   "id": "225e7eb1",
   "metadata": {
    "scrolled": true
   },
   "outputs": [
    {
     "name": "stdout",
     "output_type": "stream",
     "text": [
      "2550\n"
     ]
    }
   ],
   "source": [
    "#Q5 Write a program to print sum of even no. in range 1-100\n",
    "i = 1 \n",
    "sum =0 \n",
    "while(i<=100):  \n",
    "    if(i%2==0): \n",
    "        sum =sum+i  \n",
    "    i+=1   \n",
    "print(sum)"
   ]
  },
  {
   "cell_type": "code",
   "execution_count": 11,
   "id": "7b9c969d",
   "metadata": {},
   "outputs": [],
   "source": [
    "# I=2\n",
    "# Sum=0\n",
    "# While I<=100:\n",
    "#          Sum=sum+I\n",
    "#      I=i+2\n",
    "# Print(Sum)"
   ]
  },
  {
   "cell_type": "code",
   "execution_count": 12,
   "id": "61099794",
   "metadata": {},
   "outputs": [
    {
     "name": "stdout",
     "output_type": "stream",
     "text": [
      "even numbers between 1 to 100 are: \n",
      "100 "
     ]
    }
   ],
   "source": [
    "num=1\n",
    "print(\"even numbers between 1 to 100 are: \")\n",
    "while num<100:\n",
    "    num=num+1\n",
    "    if(num%2==0):\n",
    "        continue\n",
    "print(num,'',end='')"
   ]
  },
  {
   "cell_type": "code",
   "execution_count": 27,
   "id": "0e9879a9",
   "metadata": {},
   "outputs": [
    {
     "name": "stdin",
     "output_type": "stream",
     "text": [
      "Enter a number: 4\n"
     ]
    },
    {
     "name": "stdout",
     "output_type": "stream",
     "text": [
      "4\n",
      "8\n",
      "12\n",
      "16\n",
      "20\n",
      "24\n",
      "28\n",
      "32\n",
      "36\n",
      "40\n"
     ]
    }
   ],
   "source": [
    "i=1\n",
    "n=int(input(\"Enter a number:\"))\n",
    "while(i<=10): \n",
    "      a=n*i\n",
    "        print(a)\n",
    "        i=i+1 "
   ]
  },
  {
   "cell_type": "code",
   "execution_count": null,
   "id": "a86b2edc",
   "metadata": {},
   "outputs": [],
   "source": []
  },
  {
   "cell_type": "code",
   "execution_count": 6,
   "id": "7b3230db",
   "metadata": {},
   "outputs": [
    {
     "name": "stdout",
     "output_type": "stream",
     "text": [
      "enter no. 6\n",
      "6 x 1 = 6\n",
      "6 x 2 = 12\n",
      "6 x 3 = 18\n",
      "6 x 4 = 24\n",
      "6 x 5 = 30\n",
      "6 x 6 = 36\n",
      "6 x 7 = 42\n",
      "6 x 8 = 48\n",
      "6 x 9 = 54\n",
      "6 x 10 = 60\n",
      "6 x 11 = 66\n",
      "6 x 12 = 72\n",
      "6 x 13 = 78\n",
      "6 x 14 = 84\n",
      "6 x 15 = 90\n",
      "6 x 16 = 96\n",
      "6 x 17 = 102\n",
      "6 x 18 = 108\n",
      "6 x 19 = 114\n",
      "6 x 20 = 120\n"
     ]
    }
   ],
   "source": [
    "#Q6 write a program to print table of entered no\n",
    "a =int(input(\"enter no. \"))  \n",
    "b =1  1<=10\n",
    "while(b<=10):  \n",
    "    print(a,\"x\",b,'=',a*b)  \n",
    "#         6X1=6\n",
    "#         6X2=12\n",
    "                    \n",
    "    \n",
    "    b+=1  "
   ]
  },
  {
   "cell_type": "code",
   "execution_count": 29,
   "id": "f7570cdd",
   "metadata": {},
   "outputs": [
    {
     "name": "stdout",
     "output_type": "stream",
     "text": [
      "6\n",
      "s\n",
      "h\n",
      "o\n"
     ]
    },
    {
     "ename": "IndexError",
     "evalue": "string index out of range",
     "output_type": "error",
     "traceback": [
      "\u001b[31m---------------------------------------------------------------------------\u001b[39m",
      "\u001b[31mIndexError\u001b[39m                                Traceback (most recent call last)",
      "\u001b[36mCell\u001b[39m\u001b[36m \u001b[39m\u001b[32mIn[29]\u001b[39m\u001b[32m, line 6\u001b[39m\n\u001b[32m      4\u001b[39m i =\u001b[32m0\u001b[39m    \n\u001b[32m      5\u001b[39m \u001b[38;5;28;01mwhile\u001b[39;00m (i<=\u001b[38;5;28mlen\u001b[39m(a)):  \n\u001b[32m----> \u001b[39m\u001b[32m6\u001b[39m     \u001b[38;5;28mprint\u001b[39m(\u001b[43ma\u001b[49m\u001b[43m[\u001b[49m\u001b[43mi\u001b[49m\u001b[43m]\u001b[49m) \n\u001b[32m      7\u001b[39m     i+=\u001b[32m2\u001b[39m \n",
      "\u001b[31mIndexError\u001b[39m: string index out of range"
     ]
    }
   ],
   "source": [
    "#Q7write a program to print  character at even position of a string\n",
    "a=\"sehjor\"\n",
    "#print(len(a))\n",
    "i =0    \n",
    "while (i<=len(a)):  \n",
    "    print(a[i]) \n",
    "    i+=2 "
   ]
  },
  {
   "cell_type": "code",
   "execution_count": 10,
   "id": "3c7de9c7",
   "metadata": {},
   "outputs": [
    {
     "name": "stdout",
     "output_type": "stream",
     "text": [
      "bhavya\n",
      "bhavya\n",
      "bhavya\n",
      "bhavya\n",
      "bhavya\n",
      "bhavya\n",
      "bhavya\n",
      "bhavya\n",
      "bhavya\n",
      "bhavya\n"
     ]
    }
   ],
   "source": [
    "i =1\n",
    "while (i<=10):\n",
    "    print(\"bhavya\")\n",
    "    i =i+1"
   ]
  },
  {
   "cell_type": "code",
   "execution_count": 30,
   "id": "3b2e7a6b",
   "metadata": {},
   "outputs": [
    {
     "name": "stdout",
     "output_type": "stream",
     "text": [
      "5\n",
      "4\n",
      "3\n",
      "2\n",
      "1\n"
     ]
    }
   ],
   "source": [
    "i = 5\n",
    "while(i>=1):\n",
    "    print(i)\n",
    "    i-=1 \n",
    "    "
   ]
  },
  {
   "cell_type": "code",
   "execution_count": null,
   "id": "08adfc9c",
   "metadata": {},
   "outputs": [],
   "source": []
  },
  {
   "cell_type": "markdown",
   "id": "78c8157a",
   "metadata": {},
   "source": [
    "# nested while "
   ]
  },
  {
   "cell_type": "code",
   "execution_count": 31,
   "id": "f6887fc7",
   "metadata": {},
   "outputs": [
    {
     "name": "stdout",
     "output_type": "stream",
     "text": [
      "0 0\n",
      "0 1\n",
      "0 2\n",
      "1 0\n",
      "1 1\n",
      "1 2\n",
      "2 0\n",
      "2 1\n",
      "2 2\n"
     ]
    }
   ],
   "source": [
    "i = 0\n",
    "j = 0\n",
    "while i < 3: \n",
    "    j=0\n",
    "    while j < 3:  \n",
    "        print(i, j) \n",
    "        j +=1   \n",
    "    i +=1 \n",
    "  \n",
    " \n",
    "    \n",
    "    "
   ]
  },
  {
   "cell_type": "code",
   "execution_count": 3,
   "id": "af5cbec1",
   "metadata": {},
   "outputs": [
    {
     "name": "stdout",
     "output_type": "stream",
     "text": [
      "Enter the number : 67\n",
      "67 x 1 = 67\n",
      "67 x 2 = 134\n",
      "67 x 3 = 201\n",
      "67 x 4 = 268\n",
      "67 x 5 = 335\n",
      "67 x 6 = 402\n",
      "67 x 7 = 469\n",
      "67 x 8 = 536\n",
      "67 x 9 = 603\n",
      "67 x 10 = 670\n"
     ]
    }
   ],
   "source": [
    "n = int(input(\"Enter the number : \"))    \n",
    "i = 1\n",
    "\n",
    "while i<=10:  \n",
    "    n = n * 1  \n",
    "    print(n,'x',i,'=',n*i)  \n",
    "    i += 1"
   ]
  },
  {
   "cell_type": "code",
   "execution_count": 2,
   "id": "63815fb9",
   "metadata": {},
   "outputs": [
    {
     "name": "stdout",
     "output_type": "stream",
     "text": [
      "Hello\n",
      "Everyone\n",
      "Everyone\n",
      "Everyone\n",
      "Hello\n",
      "Hello\n",
      "Hello\n",
      "Hello\n"
     ]
    }
   ],
   "source": [
    "a=0\n",
    "b=0\n",
    "c=0\n",
    "while(a<5):\n",
    "        print(\"Hello\")\n",
    "        while(b<3):\n",
    "            print(\"Everyone\")\n",
    "            b=b+1\n",
    "        \n",
    "        a=a+1\n",
    "          \n",
    "            \n",
    "#         b=0   "
   ]
  },
  {
   "cell_type": "code",
   "execution_count": 4,
   "id": "3e8950a3",
   "metadata": {},
   "outputs": [
    {
     "name": "stdout",
     "output_type": "stream",
     "text": [
      "hello everyone everyone everyone \n",
      "hello everyone everyone everyone \n",
      "hello everyone everyone everyone \n",
      "hello everyone everyone everyone \n",
      "hello everyone everyone everyone \n"
     ]
    }
   ],
   "source": [
    "i =1\n",
    "while i<=5:  2<=5\n",
    "    print(\"hello\",end=\" \")\n",
    "    j=1\n",
    "    while j<4: \n",
    "        print(\"everyone\",end=\" \")\n",
    "        j =j+1  4\n",
    "    i =i+1 2\n",
    "    print()\n"
   ]
  },
  {
   "cell_type": "code",
   "execution_count": 16,
   "id": "8cf83c8c",
   "metadata": {
    "scrolled": true
   },
   "outputs": [
    {
     "name": "stdout",
     "output_type": "stream",
     "text": [
      "hello everyone everyone everyone \n",
      "hello everyone everyone everyone \n",
      "hello everyone everyone everyone \n",
      "hello everyone everyone everyone \n",
      "hello everyone everyone everyone \n"
     ]
    }
   ],
   "source": [
    "i =1\n",
    "j=1\n",
    "while i<=5:  \n",
    "    print(\"hello\",end=\" \")\n",
    "    \n",
    "    while j<4:\n",
    "        print(\"everyone\",end=\" \")\n",
    "        j =j+1  \n",
    "    i =i+1  \n",
    "    j=1\n",
    "    print()\n"
   ]
  },
  {
   "cell_type": "markdown",
   "id": "7d4347c4",
   "metadata": {},
   "source": [
    "# iterative statements"
   ]
  },
  {
   "cell_type": "markdown",
   "id": "ad925364",
   "metadata": {},
   "source": [
    " - Both for loops and while loops can be controlled using statements such as break ,pass and continue . The break statement is used to exit a loop prematurely, while the continue statement is used to skip the current iteration and move on to the next one."
   ]
  },
  {
   "cell_type": "markdown",
   "id": "a1501658",
   "metadata": {},
   "source": [
    "break:"
   ]
  },
  {
   "cell_type": "markdown",
   "id": "630e7fcf",
   "metadata": {},
   "source": [
    "- The break statement is used to exit a loop prematurely, before the loop condition is met. When a break statement is encountered inside a loop, the loop is immediately terminated and the program continues to execute the next line of code after the loop"
   ]
  },
  {
   "cell_type": "code",
   "execution_count": 33,
   "id": "7747502c",
   "metadata": {},
   "outputs": [
    {
     "name": "stdout",
     "output_type": "stream",
     "text": [
      "10\n",
      "13\n",
      "16\n",
      "19\n",
      "22\n",
      "25\n",
      "28\n",
      "31\n",
      "34\n",
      "37\n",
      "40\n",
      "43\n",
      "46\n",
      "49\n",
      "52\n",
      "55\n",
      "58\n",
      "61\n",
      "64\n",
      "67\n",
      "70\n",
      "73\n",
      "76\n",
      "79\n",
      "82\n",
      "85\n",
      "88\n",
      "91\n",
      "94\n",
      "97\n"
     ]
    }
   ],
   "source": [
    "#for example :\n",
    "for i in range(10,100): \n",
    "    if i == 6:\n",
    "        break\n",
    "    print(i)"
   ]
  },
  {
   "cell_type": "markdown",
   "id": "8bee5808",
   "metadata": {},
   "source": [
    " - the for loop will iterate 10 times, printing the values 0 to 4. However, when i becomes 5, the if statement will be triggered and the break statement will be executed, causing the loop to terminate. As a result, the value 5 will not be printed to the console."
   ]
  },
  {
   "cell_type": "markdown",
   "id": "83fcf493",
   "metadata": {},
   "source": [
    "continue:"
   ]
  },
  {
   "cell_type": "markdown",
   "id": "3362200e",
   "metadata": {},
   "source": [
    "- The continue statement is used to skip the current iteration of a loop and move on to the next one. When a continue statement is encountered inside a loop, the program immediately skips to the next iteration and continues executing the loop."
   ]
  },
  {
   "cell_type": "code",
   "execution_count": 35,
   "id": "85adb518",
   "metadata": {},
   "outputs": [
    {
     "name": "stdout",
     "output_type": "stream",
     "text": [
      "1\n",
      "3\n",
      "5\n",
      "7\n",
      "9\n",
      "11\n"
     ]
    }
   ],
   "source": [
    "#for example\n",
    "for i in range(12):   \n",
    "    \n",
    "    if i % 2== 0:\n",
    "        continue\n",
    "    print(i) "
   ]
  },
  {
   "cell_type": "markdown",
   "id": "2ffe1c4e",
   "metadata": {},
   "source": [
    " - the for loop will iterate 10 times, but the continue statement will cause the program to skip printing even numbers to the console."
   ]
  },
  {
   "cell_type": "markdown",
   "id": "5412c84c",
   "metadata": {},
   "source": [
    "pass:"
   ]
  },
  {
   "cell_type": "markdown",
   "id": "df776a1c",
   "metadata": {},
   "source": [
    "- The pass statement is used as a placeholder in the code when there is no action required. It is often used when you need to have an empty loop or an empty if statement for the time being, but you plan to add code to it later."
   ]
  },
  {
   "cell_type": "code",
   "execution_count": 36,
   "id": "faae5138",
   "metadata": {},
   "outputs": [],
   "source": [
    "for i in range(4):\n",
    "    pass\n"
   ]
  },
  {
   "cell_type": "code",
   "execution_count": 37,
   "id": "6d5ad9c6",
   "metadata": {},
   "outputs": [
    {
     "name": "stdout",
     "output_type": "stream",
     "text": [
      "shivani\n"
     ]
    }
   ],
   "source": [
    "for i in range(10):\n",
    "    pass\n",
    "\n",
    "    \n",
    "print(\"shivani\")\n",
    "    "
   ]
  },
  {
   "cell_type": "code",
   "execution_count": 38,
   "id": "f048cf85",
   "metadata": {},
   "outputs": [
    {
     "ename": "IndentationError",
     "evalue": "expected an indented block after 'for' statement on line 1 (3528916428.py, line 9)",
     "output_type": "error",
     "traceback": [
      "  \u001b[36mCell\u001b[39m\u001b[36m \u001b[39m\u001b[32mIn[38]\u001b[39m\u001b[32m, line 9\u001b[39m\n\u001b[31m    \u001b[39m\u001b[31mprint(\"hello\")\u001b[39m\n    ^\n\u001b[31mIndentationError\u001b[39m\u001b[31m:\u001b[39m expected an indented block after 'for' statement on line 1\n"
     ]
    }
   ],
   "source": [
    "for i in range(10):\n",
    "    \n",
    "    \n",
    "    \n",
    "\n",
    "\n",
    "    \n",
    "    \n",
    "print(\"hello\")\n",
    "print(\"hi\")"
   ]
  },
  {
   "cell_type": "code",
   "execution_count": 39,
   "id": "dbc52907",
   "metadata": {},
   "outputs": [
    {
     "name": "stdout",
     "output_type": "stream",
     "text": [
      "15\n",
      "bhavya\n"
     ]
    }
   ],
   "source": [
    "for i in range(10):\n",
    "    pass\n",
    "    \n",
    "    \n",
    "print(7+8)\n",
    "print(\"bhavya\")\n",
    "\n",
    "    \n"
   ]
  },
  {
   "cell_type": "code",
   "execution_count": 41,
   "id": "833cf2d8",
   "metadata": {},
   "outputs": [],
   "source": [
    "for i in range(10):\n",
    "    pass\n",
    "    \n",
    "    \n",
    "    "
   ]
  },
  {
   "cell_type": "code",
   "execution_count": null,
   "id": "ea542fce",
   "metadata": {},
   "outputs": [],
   "source": [
    "#\n",
    "##\n",
    "###\n",
    "####"
   ]
  },
  {
   "cell_type": "code",
   "execution_count": 42,
   "id": "66cde754",
   "metadata": {
    "scrolled": true
   },
   "outputs": [
    {
     "name": "stdout",
     "output_type": "stream",
     "text": [
      "# \n",
      "# # \n",
      "# # # \n",
      "# # # # \n"
     ]
    }
   ],
   "source": [
    "for i in range(4):\n",
    "    for j in range(i+1): \n",
    "        print(\"#\",end=\" \")\n",
    "    print()"
   ]
  },
  {
   "cell_type": "code",
   "execution_count": null,
   "id": "092ced71",
   "metadata": {},
   "outputs": [],
   "source": [
    "1\n",
    "12\n",
    "123\n",
    "1234\n",
    "12345"
   ]
  },
  {
   "cell_type": "code",
   "execution_count": null,
   "id": "0675c6f4",
   "metadata": {},
   "outputs": [],
   "source": [
    "1\n",
    "22\n",
    "333\n",
    "4444\n",
    "55555"
   ]
  }
 ],
 "metadata": {
  "kernelspec": {
   "display_name": "Python 3 (ipykernel)",
   "language": "python",
   "name": "python3"
  },
  "language_info": {
   "codemirror_mode": {
    "name": "ipython",
    "version": 3
   },
   "file_extension": ".py",
   "mimetype": "text/x-python",
   "name": "python",
   "nbconvert_exporter": "python",
   "pygments_lexer": "ipython3",
   "version": "3.13.3"
  },
  "vscode": {
   "interpreter": {
    "hash": "72b2382ece9768098284d92bbc69d35954e75b60d1e25897d1389c232f4796f0"
   }
  }
 },
 "nbformat": 4,
 "nbformat_minor": 5
}
