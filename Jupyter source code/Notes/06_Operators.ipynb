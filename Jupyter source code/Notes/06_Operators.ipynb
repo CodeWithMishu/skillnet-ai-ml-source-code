{
 "cells": [
  {
   "cell_type": "markdown",
   "id": "5c51e8be",
   "metadata": {},
   "source": [
    "# Operators"
   ]
  },
  {
   "cell_type": "code",
   "execution_count": 1,
   "id": "98279dd7",
   "metadata": {},
   "outputs": [
    {
     "name": "stdout",
     "output_type": "stream",
     "text": [
      "{'a': '1', 'b': '2', 'c': '3'}\n"
     ]
    }
   ],
   "source": [
    "a=\"a1\",\"b2\",\"c3\"\n",
    "print(dict(a))"
   ]
  },
  {
   "cell_type": "code",
   "execution_count": 1,
   "id": "6b1aa749",
   "metadata": {},
   "outputs": [
    {
     "ename": "SyntaxError",
     "evalue": "invalid decimal literal (831849197.py, line 1)",
     "output_type": "error",
     "traceback": [
      "  \u001b[36mCell\u001b[39m\u001b[36m \u001b[39m\u001b[32mIn[1]\u001b[39m\u001b[32m, line 1\u001b[39m\n\u001b[31m    \u001b[39m\u001b[31m1.print a minimum number in a list.\u001b[39m\n     ^\n\u001b[31mSyntaxError\u001b[39m\u001b[31m:\u001b[39m invalid decimal literal\n"
     ]
    }
   ],
   "source": [
    "1.print a minimum number in a list.\n",
    "2.calculate the simple interest in python.\n",
    "3.reverse a list\n",
    "4.\n",
    "a='python'\n",
    "b=[7,8,9]\n",
    "c=(a,b)\n",
    "print(c[1][1:])"
   ]
  },
  {
   "cell_type": "code",
   "execution_count": 2,
   "id": "37c59669",
   "metadata": {},
   "outputs": [
    {
     "name": "stdout",
     "output_type": "stream",
     "text": [
      "The minimum number in the list is: 1\n"
     ]
    }
   ],
   "source": [
    "#Minimum number \n",
    "numbers = [10, 5, 3, 9, 21, 1, 8]\n",
    "\n",
    "# Find and print the minimum number\n",
    "min_number = min(numbers)\n",
    "print(\"The minimum number in the list is:\", min_number)"
   ]
  },
  {
   "cell_type": "code",
   "execution_count": 1,
   "id": "f814c35b",
   "metadata": {},
   "outputs": [
    {
     "name": "stdout",
     "output_type": "stream",
     "text": [
      "the maximum number in the list is: 87\n"
     ]
    }
   ],
   "source": [
    "#max numbers\n",
    "numbers   = [10,30,40,67,78,87]\n",
    "max_number = max(numbers)\n",
    "print(\"the maximum number in the list is:\",max_number)"
   ]
  },
  {
   "cell_type": "code",
   "execution_count": null,
   "id": "2dceeaa5",
   "metadata": {},
   "outputs": [],
   "source": [
    "#simple interest\n",
    "P = float(input(\"Enter the principal amount: \"))\n",
    "R = float(input(\"Enter the rate of interest: \"))\n",
    "T = float(input(\"Enter the time (in years): \"))\n",
    "\n",
    "# Calculate Simple Interest\n",
    "SI = (P * R * T) / 100\n",
    "\n",
    "# Display the result\n",
    "print(\"Simple Interest is:\", SI)"
   ]
  },
  {
   "cell_type": "code",
   "execution_count": 1,
   "id": "83ed173d",
   "metadata": {},
   "outputs": [
    {
     "name": "stdout",
     "output_type": "stream",
     "text": [
      "Reversed list: [5, 9, 8, 1]\n"
     ]
    }
   ],
   "source": [
    "#Reversed list\n",
    "my_list = [1, 8, 9, 5] \n",
    "\n",
    "# Reversing the list in-place\n",
    "my_list.reverse()\n",
    "\n",
    "# Printing the reversed list\n",
    "print(\"Reversed list:\", my_list)"
   ]
  },
  {
   "cell_type": "code",
   "execution_count": 7,
   "id": "b5b04578",
   "metadata": {},
   "outputs": [
    {
     "name": "stdout",
     "output_type": "stream",
     "text": [
      "('python', [7, 8, 9])\n",
      "[8, 9]\n"
     ]
    }
   ],
   "source": [
    "a='python'\n",
    "b=[7,8,9]\n",
    "c=(a,b)\n",
    "print(c)\n",
    "print(c[1][1:])"
   ]
  },
  {
   "cell_type": "code",
   "execution_count": 8,
   "id": "d15be6b5",
   "metadata": {},
   "outputs": [
    {
     "name": "stdout",
     "output_type": "stream",
     "text": [
      "-2\n"
     ]
    }
   ],
   "source": [
    "a=7\n",
    "b=9\n",
    "c=a-b\n",
    "print(c)"
   ]
  },
  {
   "cell_type": "markdown",
   "id": "2527c3cf",
   "metadata": {},
   "source": [
    "- In Python, operators are symbols that perform operations on values and variables"
   ]
  },
  {
   "cell_type": "code",
   "execution_count": 3,
   "id": "636e17ce",
   "metadata": {},
   "outputs": [
    {
     "data": {
      "text/plain": [
       "5"
      ]
     },
     "execution_count": 3,
     "metadata": {},
     "output_type": "execute_result"
    }
   ],
   "source": [
    "2+3"
   ]
  },
  {
   "cell_type": "code",
   "execution_count": null,
   "id": "d442d1fd",
   "metadata": {},
   "outputs": [],
   "source": [
    "# 2/5float divis"
   ]
  },
  {
   "cell_type": "code",
   "execution_count": null,
   "id": "e69003ed",
   "metadata": {},
   "outputs": [],
   "source": [
    "2/4"
   ]
  },
  {
   "cell_type": "code",
   "execution_count": null,
   "id": "b7d13651",
   "metadata": {},
   "outputs": [],
   "source": [
    "# integer divison 2//9"
   ]
  },
  {
   "cell_type": "code",
   "execution_count": 1,
   "id": "15217ca3",
   "metadata": {},
   "outputs": [
    {
     "data": {
      "text/plain": [
       "4.0"
      ]
     },
     "execution_count": 1,
     "metadata": {},
     "output_type": "execute_result"
    }
   ],
   "source": [
    "8/2"
   ]
  },
  {
   "cell_type": "code",
   "execution_count": null,
   "id": "fea5828b",
   "metadata": {},
   "outputs": [],
   "source": [
    "a=float(input(\"please enter value\"))\n",
    "print(a)\n",
    "print(type(a))"
   ]
  },
  {
   "cell_type": "code",
   "execution_count": 1,
   "id": "00fa30e4",
   "metadata": {},
   "outputs": [
    {
     "name": "stdout",
     "output_type": "stream",
     "text": [
      "please give one value: 4\n",
      "4\n"
     ]
    }
   ],
   "source": [
    "a=int(input('please give one value: '))\n",
    "a%=5\n",
    "print(a)"
   ]
  },
  {
   "cell_type": "code",
   "execution_count": null,
   "id": "2bc56db0",
   "metadata": {},
   "outputs": [],
   "source": [
    "# Types of operators"
   ]
  },
  {
   "cell_type": "markdown",
   "id": "c1cfff5d",
   "metadata": {},
   "source": [
    "- Arithmetic Operators:"
   ]
  },
  {
   "cell_type": "markdown",
   "id": "67575d2c",
   "metadata": {},
   "source": [
    "- Comparison Operators:"
   ]
  },
  {
   "cell_type": "markdown",
   "id": "750f04b9",
   "metadata": {},
   "source": [
    "- Assignment Operators:"
   ]
  },
  {
   "cell_type": "markdown",
   "id": "f1532e73",
   "metadata": {},
   "source": [
    "- Logical Operators:"
   ]
  },
  {
   "cell_type": "markdown",
   "id": "d683331a",
   "metadata": {},
   "source": [
    "- Membership Operators:"
   ]
  },
  {
   "cell_type": "code",
   "execution_count": null,
   "id": "e27e13d9",
   "metadata": {},
   "outputs": [],
   "source": [
    "limcaa"
   ]
  },
  {
   "cell_type": "markdown",
   "id": "63e14181",
   "metadata": {},
   "source": [
    "- Identity Operators:"
   ]
  },
  {
   "cell_type": "markdown",
   "id": "8f656d2f",
   "metadata": {},
   "source": [
    "Arithmetic Operators:"
   ]
  },
  {
   "cell_type": "markdown",
   "id": "cbe8f2f2",
   "metadata": {},
   "source": [
    "- These perform mathematical operations like addition, subtraction, multiplication"
   ]
  },
  {
   "cell_type": "code",
   "execution_count": null,
   "id": "38cec130",
   "metadata": {},
   "outputs": [],
   "source": [
    "#a+b \n",
    "# (+) operator \n",
    "#a,b---->operand"
   ]
  },
  {
   "cell_type": "code",
   "execution_count": 2,
   "id": "b8099b96",
   "metadata": {},
   "outputs": [
    {
     "name": "stdout",
     "output_type": "stream",
     "text": [
      "32\n"
     ]
    }
   ],
   "source": [
    "a=2\n",
    "b=5\n",
    "c= a**b\n",
    "print(c)"
   ]
  },
  {
   "cell_type": "code",
   "execution_count": 3,
   "id": "119d70ca",
   "metadata": {},
   "outputs": [
    {
     "name": "stdout",
     "output_type": "stream",
     "text": [
      "please give one value: 5\n",
      "please give second value7\n",
      "12\n"
     ]
    }
   ],
   "source": [
    "#Addition(+)\n",
    "a =int(input('please give one value: '))\n",
    "b =int(input('please give second value'))\n",
    "add =a+b\n",
    "print(add)"
   ]
  },
  {
   "cell_type": "code",
   "execution_count": 4,
   "id": "2e333d1b",
   "metadata": {},
   "outputs": [
    {
     "name": "stdout",
     "output_type": "stream",
     "text": [
      "please give one value: 77\n",
      "please give second value56\n",
      "a-b: 21\n"
     ]
    }
   ],
   "source": [
    "#Subtraction(-)\n",
    "a =int(input('please give one value: '))\n",
    "b =int(input('please give second value'))\n",
    "sub =a-b\n",
    "print(\"a-b:\",sub)"
   ]
  },
  {
   "cell_type": "code",
   "execution_count": null,
   "id": "b1350c2b",
   "metadata": {},
   "outputs": [],
   "source": [
    "#multiplication(*)\n",
    "a =int(input('please give one value: '))\n",
    "b =int(input('please give second value'))\n",
    "multi =a*b \n",
    "print(\"a*b:\",multi)"
   ]
  },
  {
   "cell_type": "code",
   "execution_count": 5,
   "id": "9c708168",
   "metadata": {},
   "outputs": [
    {
     "name": "stdout",
     "output_type": "stream",
     "text": [
      "please give one value: 45\n",
      "please give second value67\n",
      "a/b: 0.6716417910447762\n"
     ]
    }
   ],
   "source": [
    "#division (/) gives float value\n",
    "a =int(input('please give one value: '))\n",
    "b =int(input('please give second value'))\n",
    "div =a/b \n",
    "print(\"a/b:\",div)"
   ]
  },
  {
   "cell_type": "code",
   "execution_count": 6,
   "id": "4e117568",
   "metadata": {},
   "outputs": [
    {
     "name": "stdin",
     "output_type": "stream",
     "text": [
      "please give one value:  5\n",
      "please give second value 7\n"
     ]
    },
    {
     "name": "stdout",
     "output_type": "stream",
     "text": [
      "a//b: 0\n"
     ]
    }
   ],
   "source": [
    "#division (//) gives int value gives round value\n",
    "a =int(input('please give one value: '))\n",
    "b =int(input('please give second value'))\n",
    "div =a//b\n",
    "print(\"a//b:\",div)"
   ]
  },
  {
   "cell_type": "markdown",
   "id": "77187dd6",
   "metadata": {},
   "source": [
    "###### remender(%)\n",
    "a =int(input('please give one value: '))\n",
    "b =int(input('please give second value'))\n",
    "remender = a%b\n",
    "print(\"a%b:\",remender)"
   ]
  },
  {
   "cell_type": "code",
   "execution_count": null,
   "id": "12c7a48a",
   "metadata": {},
   "outputs": [],
   "source": [
    "#power (**)\n",
    "a =int(input('please give one value: '))\n",
    "b =int(input('please give second value'))\n",
    "power = a**b\n",
    "print(\"a**b:\",power)"
   ]
  },
  {
   "cell_type": "code",
   "execution_count": 3,
   "id": "f64b1812",
   "metadata": {},
   "outputs": [
    {
     "name": "stdout",
     "output_type": "stream",
     "text": [
      "mishra\n",
      "mishra\n",
      "mishra\n",
      "mishra\n",
      "mishra\n",
      "mishra\n",
      "mishra\n",
      "mishra\n",
      "mishra\n",
      "mishra\n",
      "\n"
     ]
    }
   ],
   "source": [
    "print(\"mishra\\n\"*10)"
   ]
  },
  {
   "cell_type": "code",
   "execution_count": 5,
   "id": "6e6b249a",
   "metadata": {},
   "outputs": [
    {
     "data": {
      "text/plain": [
       "16"
      ]
     },
     "execution_count": 5,
     "metadata": {},
     "output_type": "execute_result"
    }
   ],
   "source": [
    "2**5"
   ]
  },
  {
   "cell_type": "markdown",
   "id": "054d40d1",
   "metadata": {},
   "source": [
    "Comparison Operators:"
   ]
  },
  {
   "cell_type": "markdown",
   "id": "935621fe",
   "metadata": {},
   "source": [
    " - These operators compare two values and return a Boolean value indicating whether the comparison is True or False"
   ]
  },
  {
   "cell_type": "code",
   "execution_count": 9,
   "id": "afb64110-70e1-4415-af08-7439b92c45c3",
   "metadata": {},
   "outputs": [
    {
     "name": "stdout",
     "output_type": "stream",
     "text": [
      "True\n"
     ]
    }
   ],
   "source": [
    "a=34\n",
    "b=35\n",
    "print(a<=b)"
   ]
  },
  {
   "cell_type": "code",
   "execution_count": 10,
   "id": "c87e464e",
   "metadata": {},
   "outputs": [
    {
     "name": "stdin",
     "output_type": "stream",
     "text": [
      "please give first value:   4\n",
      "please give second value 8\n"
     ]
    },
    {
     "name": "stdout",
     "output_type": "stream",
     "text": [
      "False\n",
      "True\n"
     ]
    }
   ],
   "source": [
    "#equal(==)\n",
    "a =int(input('please give first value: '))\n",
    "b =int(input('please give second value'))\n",
    "print(a==b)\n",
    "print(a!=b)"
   ]
  },
  {
   "cell_type": "code",
   "execution_count": 12,
   "id": "491a408a",
   "metadata": {},
   "outputs": [
    {
     "name": "stdout",
     "output_type": "stream",
     "text": [
      "True\n"
     ]
    }
   ],
   "source": [
    "#equal(==)\n",
    "a =6\n",
    "b = 6\n",
    "print(a==b)"
   ]
  },
  {
   "cell_type": "code",
   "execution_count": null,
   "id": "aad0f3c3",
   "metadata": {},
   "outputs": [
    {
     "name": "stdin",
     "output_type": "stream",
     "text": [
      "please give one value:  45\n"
     ]
    }
   ],
   "source": [
    "# not equal(!=)\n",
    "a =int(input('please give one value: '))\n",
    "b =int(input('please give second value'))\n",
    "print(a!=b)"
   ]
  },
  {
   "cell_type": "code",
   "execution_count": 1,
   "id": "54eba1aa",
   "metadata": {},
   "outputs": [
    {
     "name": "stdin",
     "output_type": "stream",
     "text": [
      "please give one value:  3\n",
      "please give second value 5\n"
     ]
    },
    {
     "name": "stdout",
     "output_type": "stream",
     "text": [
      "False\n",
      "False\n"
     ]
    }
   ],
   "source": [
    "#greater then (>)\n",
    "a =int(input('please give one value: '))\n",
    "b =int(input('please give second value'))\n",
    "print(a>4)\n",
    "print(b>7)"
   ]
  },
  {
   "cell_type": "code",
   "execution_count": 18,
   "id": "b9956b72",
   "metadata": {},
   "outputs": [
    {
     "name": "stdout",
     "output_type": "stream",
     "text": [
      "number7\n",
      "number229\n",
      "True\n"
     ]
    }
   ],
   "source": [
    "a=int(input(\"number\"))\n",
    "b=int(input(\"number2\"))\n",
    "print(a<=b)"
   ]
  },
  {
   "cell_type": "code",
   "execution_count": 10,
   "id": "c4ae93ff",
   "metadata": {},
   "outputs": [
    {
     "name": "stdout",
     "output_type": "stream",
     "text": [
      "please give one value: 6\n",
      "please give second value6\n",
      "False\n",
      "True\n"
     ]
    }
   ],
   "source": [
    "#less than (<)-\n",
    "a =int(input('please give one value: '))\n",
    "b =int(input('please give second value'))\n",
    "print(a<4)\n",
    "print(b<7)"
   ]
  },
  {
   "cell_type": "code",
   "execution_count": 10,
   "id": "580b2fab",
   "metadata": {},
   "outputs": [
    {
     "name": "stdout",
     "output_type": "stream",
     "text": [
      "please give one value: 5\n",
      "True\n"
     ]
    }
   ],
   "source": [
    "#equal to or greater then(>=)\n",
    "a =int(input('please give one value: '))\n",
    "\n",
    "print(a>=5)\n",
    "# print(a>=4)\n",
    "# print(a>=3)\n",
    "# print(a>=2)\n",
    "# print(a>=1)\n",
    "# b =4\n",
    "# print(a>=b)"
   ]
  },
  {
   "cell_type": "code",
   "execution_count": 11,
   "id": "6b79f8d3",
   "metadata": {},
   "outputs": [
    {
     "name": "stdout",
     "output_type": "stream",
     "text": [
      "please give one value: 6\n",
      "please give second value7\n",
      "True\n"
     ]
    }
   ],
   "source": [
    "#equal to and less then then(<=)\n",
    "a =int(input('please give one value: '))\n",
    "b =int(input('please give second value'))\n",
    "print(a<=b) "
   ]
  },
  {
   "cell_type": "code",
   "execution_count": 12,
   "id": "18abf538",
   "metadata": {},
   "outputs": [
    {
     "ename": "SyntaxError",
     "evalue": "invalid syntax (1100370962.py, line 1)",
     "output_type": "error",
     "traceback": [
      "\u001b[1;36m  File \u001b[1;32m\"C:\\Users\\Admin\\AppData\\Local\\Temp\\ipykernel_908\\1100370962.py\"\u001b[1;36m, line \u001b[1;32m1\u001b[0m\n\u001b[1;33m    ==\u001b[0m\n\u001b[1;37m     ^\u001b[0m\n\u001b[1;31mSyntaxError\u001b[0m\u001b[1;31m:\u001b[0m invalid syntax\n"
     ]
    }
   ],
   "source": [
    "==\n",
    "!=\n",
    ">\n",
    "<\n",
    ">=\n",
    "<="
   ]
  },
  {
   "cell_type": "markdown",
   "id": "fb6a12b7",
   "metadata": {},
   "source": [
    "Assignment Operators:"
   ]
  },
  {
   "cell_type": "code",
   "execution_count": 15,
   "id": "b7f98714",
   "metadata": {},
   "outputs": [],
   "source": [
    "a = 56"
   ]
  },
  {
   "cell_type": "markdown",
   "id": "6794b4ec",
   "metadata": {},
   "source": [
    "- These operators are used to assign values to variables"
   ]
  },
  {
   "cell_type": "code",
   "execution_count": null,
   "id": "521030a2",
   "metadata": {},
   "outputs": [],
   "source": [
    "a = int(input('please give one value: '))"
   ]
  },
  {
   "cell_type": "code",
   "execution_count": null,
   "id": "c59d51ae",
   "metadata": {},
   "outputs": [],
   "source": [
    "a =int(input('please give one value: '))\n",
    "a+=5\n",
    "print(a)"
   ]
  },
  {
   "cell_type": "code",
   "execution_count": null,
   "id": "9e89203e",
   "metadata": {},
   "outputs": [],
   "source": []
  },
  {
   "cell_type": "markdown",
   "id": "bbd0aea7",
   "metadata": {},
   "source": [
    "z"
   ]
  },
  {
   "cell_type": "code",
   "execution_count": 9,
   "id": "cb55da29",
   "metadata": {},
   "outputs": [
    {
     "name": "stdout",
     "output_type": "stream",
     "text": [
      "please give one value: 8.3\n",
      "4.0\n"
     ]
    }
   ],
   "source": [
    "a =float(input('please give one value: '))\n",
    "\n",
    "a//=2\n",
    "print(a)"
   ]
  },
  {
   "cell_type": "code",
   "execution_count": 7,
   "id": "ffed72a6",
   "metadata": {},
   "outputs": [
    {
     "name": "stdout",
     "output_type": "stream",
     "text": [
      "please give one value: 2\n",
      "2\n"
     ]
    }
   ],
   "source": [
    "a =int(input('please give one value: '))\n",
    "a%=5\n",
    "print(a)"
   ]
  },
  {
   "cell_type": "code",
   "execution_count": null,
   "id": "70cdc84c",
   "metadata": {},
   "outputs": [],
   "source": [
    "a =int(input('please give one value: '))\n",
    "a**=2\n",
    "print(a)"
   ]
  },
  {
   "cell_type": "code",
   "execution_count": 3,
   "id": "f20ca2e0",
   "metadata": {},
   "outputs": [
    {
     "name": "stdout",
     "output_type": "stream",
     "text": [
      "Enter a number: 78\n",
      "number is Even\n"
     ]
    }
   ],
   "source": [
    "num = int(input(\"Enter a number: \"))\n",
    "if (num % 2) == 0:\n",
    "    print(\"number is Even\")\n",
    "else:\n",
    "     print(\"number is Odd\")"
   ]
  },
  {
   "cell_type": "code",
   "execution_count": null,
   "id": "b2d071c2",
   "metadata": {},
   "outputs": [],
   "source": []
  },
  {
   "cell_type": "code",
   "execution_count": null,
   "id": "ffc605f4",
   "metadata": {},
   "outputs": [],
   "source": []
  }
 ],
 "metadata": {
  "kernelspec": {
   "display_name": "Python 3 (ipykernel)",
   "language": "python",
   "name": "python3"
  },
  "language_info": {
   "codemirror_mode": {
    "name": "ipython",
    "version": 3
   },
   "file_extension": ".py",
   "mimetype": "text/x-python",
   "name": "python",
   "nbconvert_exporter": "python",
   "pygments_lexer": "ipython3",
   "version": "3.13.3"
  },
  "vscode": {
   "interpreter": {
    "hash": "72b2382ece9768098284d92bbc69d35954e75b60d1e25897d1389c232f4796f0"
   }
  }
 },
 "nbformat": 4,
 "nbformat_minor": 5
}
