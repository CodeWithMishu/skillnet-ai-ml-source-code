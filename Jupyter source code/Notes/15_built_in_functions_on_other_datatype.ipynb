{
 "cells": [
  {
   "cell_type": "markdown",
   "id": "637dd822",
   "metadata": {},
   "source": [
    "# functions on tuple"
   ]
  },
  {
   "cell_type": "code",
   "execution_count": 27,
   "id": "0c11480f",
   "metadata": {},
   "outputs": [
    {
     "data": {
      "text/plain": [
       "(10, 2, 6, 89, 56, 456, 90, 23, 10, 2)"
      ]
     },
     "execution_count": 27,
     "metadata": {},
     "output_type": "execute_result"
    }
   ],
   "source": [
    "l = (10,2,6,89,56,456,90,23,10,2)\n",
    "l"
   ]
  },
  {
   "cell_type": "markdown",
   "id": "eece6d95",
   "metadata": {},
   "source": [
    "index:"
   ]
  },
  {
   "cell_type": "code",
   "execution_count": 34,
   "id": "51de4fd6",
   "metadata": {},
   "outputs": [
    {
     "name": "stdout",
     "output_type": "stream",
     "text": [
      "0\n"
     ]
    }
   ],
   "source": [
    "l = (10,2,6,89,56,456,90,23,10,2)\n",
    "print(l.index(10))"
   ]
  },
  {
   "cell_type": "markdown",
   "id": "d9345026",
   "metadata": {},
   "source": [
    "count:"
   ]
  },
  {
   "cell_type": "code",
   "execution_count": 31,
   "id": "a7cae410",
   "metadata": {},
   "outputs": [
    {
     "name": "stdout",
     "output_type": "stream",
     "text": [
      "2\n"
     ]
    }
   ],
   "source": [
    "l = (10,2,6,89,56,456,90,23,10,2)\n",
    "print(l.count(10))"
   ]
  },
  {
   "cell_type": "markdown",
   "id": "19b1a3d3",
   "metadata": {},
   "source": [
    "sort:"
   ]
  },
  {
   "cell_type": "code",
   "execution_count": 32,
   "id": "ae889485",
   "metadata": {},
   "outputs": [
    {
     "name": "stdout",
     "output_type": "stream",
     "text": [
      "[2, 2, 6, 10, 10, 23, 56, 89, 90, 456]\n"
     ]
    }
   ],
   "source": [
    "l = (10,2,6,89,56,456,90,23,10,2)\n",
    "print(sorted(l))"
   ]
  },
  {
   "cell_type": "markdown",
   "id": "cd4cbf5c",
   "metadata": {},
   "source": [
    "max"
   ]
  },
  {
   "cell_type": "code",
   "execution_count": 17,
   "id": "088ea568",
   "metadata": {},
   "outputs": [
    {
     "name": "stdout",
     "output_type": "stream",
     "text": [
      "456\n"
     ]
    }
   ],
   "source": [
    "l = (10,2,6,89,56,456,90,23,10,2)\n",
    "print(max(l))"
   ]
  },
  {
   "cell_type": "markdown",
   "id": "73f6267d",
   "metadata": {},
   "source": [
    "min:"
   ]
  },
  {
   "cell_type": "code",
   "execution_count": 18,
   "id": "677080d1",
   "metadata": {},
   "outputs": [
    {
     "name": "stdout",
     "output_type": "stream",
     "text": [
      "2\n"
     ]
    }
   ],
   "source": [
    "l = (10,2,6,89,56,456,90,23,10,2)\n",
    "print(min(l))"
   ]
  },
  {
   "cell_type": "markdown",
   "id": "30183910",
   "metadata": {},
   "source": [
    "packing"
   ]
  },
  {
   "cell_type": "code",
   "execution_count": 19,
   "id": "797576e4",
   "metadata": {},
   "outputs": [
    {
     "name": "stdout",
     "output_type": "stream",
     "text": [
      "(10, 20, 30)\n"
     ]
    }
   ],
   "source": [
    "a,b,c=10,20,30\n",
    "t =a,b,c\n",
    "print(t)"
   ]
  },
  {
   "cell_type": "markdown",
   "id": "cfd1817c",
   "metadata": {},
   "source": [
    "# functions on dictionary"
   ]
  },
  {
   "cell_type": "code",
   "execution_count": 33,
   "id": "db9ce678",
   "metadata": {},
   "outputs": [],
   "source": [
    "d ={1:10,2:20,5:50}"
   ]
  },
  {
   "cell_type": "markdown",
   "id": "a0e53cb8",
   "metadata": {},
   "source": [
    "copy:"
   ]
  },
  {
   "cell_type": "code",
   "execution_count": 35,
   "id": "c3d80d76",
   "metadata": {},
   "outputs": [],
   "source": [
    "d ={1:10,2:20,5:50}\n",
    "d1 =d.copy()"
   ]
  },
  {
   "cell_type": "markdown",
   "id": "cacdaca8",
   "metadata": {},
   "source": [
    "get:"
   ]
  },
  {
   "cell_type": "code",
   "execution_count": 36,
   "id": "3eee3a22",
   "metadata": {},
   "outputs": [
    {
     "name": "stdout",
     "output_type": "stream",
     "text": [
      "10\n"
     ]
    }
   ],
   "source": [
    "d ={1:10,2:20,5:50}\n",
    "print(d.get(1))"
   ]
  },
  {
   "cell_type": "markdown",
   "id": "40b4b599",
   "metadata": {},
   "source": [
    "# Functions on set :"
   ]
  },
  {
   "cell_type": "code",
   "execution_count": 23,
   "id": "28295396",
   "metadata": {},
   "outputs": [],
   "source": [
    "d ={1,3,1,5,7,100,5}"
   ]
  },
  {
   "cell_type": "markdown",
   "id": "75c6dac5",
   "metadata": {},
   "source": [
    "add"
   ]
  },
  {
   "cell_type": "code",
   "execution_count": 38,
   "id": "04ed89da",
   "metadata": {},
   "outputs": [
    {
     "name": "stdout",
     "output_type": "stream",
     "text": [
      "{1, 3, 100, 5, 500, 7}\n"
     ]
    }
   ],
   "source": [
    "d ={1,3,1,5,7,100,5}\n",
    "d.add(500)\n",
    "print(d)"
   ]
  },
  {
   "cell_type": "markdown",
   "id": "c435307e",
   "metadata": {},
   "source": [
    "update"
   ]
  },
  {
   "cell_type": "code",
   "execution_count": 39,
   "id": "f2fc4921",
   "metadata": {},
   "outputs": [
    {
     "name": "stdout",
     "output_type": "stream",
     "text": [
      "{2, 'h', 4, 'y', 6, 40, 8, 10, 9, 'p', 45, 'n', 'o', 't'}\n"
     ]
    }
   ],
   "source": [
    "s ={10,40,45}\n",
    "l ={2,4,6,8,9}\n",
    "s.update(l,(\"python\"))\n",
    "print(s)"
   ]
  },
  {
   "cell_type": "code",
   "execution_count": null,
   "id": "034c8de5",
   "metadata": {},
   "outputs": [],
   "source": []
  },
  {
   "cell_type": "code",
   "execution_count": null,
   "id": "dd3e772f-34ab-4b42-90ca-eddd491eb6bf",
   "metadata": {},
   "outputs": [],
   "source": []
  },
  {
   "cell_type": "code",
   "execution_count": null,
   "id": "186a4d39-89a1-4e2e-b884-e8040153593c",
   "metadata": {},
   "outputs": [],
   "source": []
  },
  {
   "cell_type": "code",
   "execution_count": null,
   "id": "bb452c27-e50a-4d03-b3a4-1715d31a2cd7",
   "metadata": {},
   "outputs": [],
   "source": []
  },
  {
   "cell_type": "code",
   "execution_count": null,
   "id": "c05aec5d-d5db-48b5-8a9b-ea34fdc0b4b4",
   "metadata": {},
   "outputs": [],
   "source": []
  }
 ],
 "metadata": {
  "kernelspec": {
   "display_name": "Python 3 (ipykernel)",
   "language": "python",
   "name": "python3"
  },
  "language_info": {
   "codemirror_mode": {
    "name": "ipython",
    "version": 3
   },
   "file_extension": ".py",
   "mimetype": "text/x-python",
   "name": "python",
   "nbconvert_exporter": "python",
   "pygments_lexer": "ipython3",
   "version": "3.13.3"
  }
 },
 "nbformat": 4,
 "nbformat_minor": 5
}
