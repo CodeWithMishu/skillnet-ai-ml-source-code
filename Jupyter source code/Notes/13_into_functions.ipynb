{
 "cells": [
  {
   "cell_type": "markdown",
   "id": "b86b5110",
   "metadata": {},
   "source": [
    "# Functions"
   ]
  },
  {
   "cell_type": "code",
   "execution_count": 181,
   "id": "3f0bcba5",
   "metadata": {},
   "outputs": [
    {
     "data": {
      "text/plain": [
       "5"
      ]
     },
     "execution_count": 181,
     "metadata": {},
     "output_type": "execute_result"
    }
   ],
   "source": [
    "2+3"
   ]
  },
  {
   "cell_type": "markdown",
   "id": "0b3052af",
   "metadata": {},
   "source": [
    "- In Python, a function is a group of related statements that perform a specific task. Functions help break our program into smaller and modular chunks. As our program grows larger and more complex, functions make it more organized and manageable.\n"
   ]
  },
  {
   "cell_type": "markdown",
   "id": "c4c6d809",
   "metadata": {},
   "source": [
    "Types of functions:"
   ]
  },
  {
   "cell_type": "markdown",
   "id": "acbf2054",
   "metadata": {},
   "source": [
    " - built-in functions"
   ]
  },
  {
   "cell_type": "code",
   "execution_count": 182,
   "id": "096ee7bb",
   "metadata": {},
   "outputs": [
    {
     "ename": "SyntaxError",
     "evalue": "invalid syntax (3810992751.py, line 1)",
     "output_type": "error",
     "traceback": [
      "  \u001b[36mCell\u001b[39m\u001b[36m \u001b[39m\u001b[32mIn[182]\u001b[39m\u001b[32m, line 1\u001b[39m\n\u001b[31m    \u001b[39m\u001b[31mfor example:\u001b[39m\n               ^\n\u001b[31mSyntaxError\u001b[39m\u001b[31m:\u001b[39m invalid syntax\n"
     ]
    }
   ],
   "source": [
    "for example:\n",
    "    print(),upper(),id(),type(),int(),str(),float()...etc"
   ]
  },
  {
   "cell_type": "markdown",
   "id": "e64077c2",
   "metadata": {},
   "source": [
    "- User-defined function"
   ]
  },
  {
   "cell_type": "code",
   "execution_count": 183,
   "id": "14ba2b75",
   "metadata": {},
   "outputs": [
    {
     "name": "stdin",
     "output_type": "stream",
     "text": [
      "enter   3\n",
      "enter 4\n"
     ]
    },
    {
     "name": "stdout",
     "output_type": "stream",
     "text": [
      "7\n"
     ]
    }
   ],
   "source": [
    "#for example\n",
    "def mishra(): #definition of add functions\n",
    "    a =int(input(\"enter \"))\n",
    "    b =int(input(\"enter\"))\n",
    "    c = a +b\n",
    "    print(c)\n",
    "\n",
    "mishra()"
   ]
  },
  {
   "cell_type": "markdown",
   "id": "38922b4d",
   "metadata": {},
   "source": [
    "# Functions on string"
   ]
  },
  {
   "cell_type": "markdown",
   "id": "d1e2017a",
   "metadata": {},
   "source": [
    " Pre-defined or built -in function"
   ]
  },
  {
   "cell_type": "code",
   "execution_count": 184,
   "id": "a0e311d4",
   "metadata": {},
   "outputs": [],
   "source": [
    "a =\"This is python\""
   ]
  },
  {
   "cell_type": "code",
   "execution_count": 186,
   "id": "d621c01b",
   "metadata": {},
   "outputs": [
    {
     "name": "stdout",
     "output_type": "stream",
     "text": [
      "3\n",
      "14\n",
      "5\n"
     ]
    }
   ],
   "source": [
    "a =\"This is python\"\n",
    "print(a.index('s'))\n",
    "print(len(a))\n",
    "\n",
    "a1 ='is'\n",
    "print(a.rindex(a1))"
   ]
  },
  {
   "cell_type": "markdown",
   "id": "a44000d3",
   "metadata": {},
   "source": [
    "rindex\n"
   ]
  },
  {
   "cell_type": "markdown",
   "id": "7c7e9659",
   "metadata": {},
   "source": [
    "- The rindex() method finds the last occurrence of the specified value."
   ]
  },
  {
   "cell_type": "markdown",
   "id": "8f023dde",
   "metadata": {},
   "source": [
    "- The rindex() method raises an exception if the value is not found."
   ]
  },
  {
   "cell_type": "code",
   "execution_count": 188,
   "id": "2642b416",
   "metadata": {},
   "outputs": [
    {
     "ename": "SyntaxError",
     "evalue": "invalid syntax. Perhaps you forgot a comma? (1156865129.py, line 3)",
     "output_type": "error",
     "traceback": [
      "  \u001b[36mCell\u001b[39m\u001b[36m \u001b[39m\u001b[32mIn[188]\u001b[39m\u001b[32m, line 3\u001b[39m\n\u001b[31m    \u001b[39m\u001b[31mprint(a.r index('is'))\u001b[39m\n          ^\n\u001b[31mSyntaxError\u001b[39m\u001b[31m:\u001b[39m invalid syntax. Perhaps you forgot a comma?\n"
     ]
    }
   ],
   "source": [
    "#string.rindex(value, start, end)\n",
    "a =\"This is python is\"\n",
    "print(a.r index('is'))"
   ]
  },
  {
   "cell_type": "markdown",
   "id": "07a95063-1355-46e9-96b3-e829f9f7b262",
   "metadata": {},
   "source": [
    "In R, indexing means accessing elements of  data frames using positions (indexes). \n",
    "Indexing is 1-based in R (i.e., indexing starts from 1, not 0 like Python)."
   ]
  },
  {
   "cell_type": "code",
   "execution_count": 189,
   "id": "d6c495a6-e76c-4009-af47-1c7be0ead58a",
   "metadata": {},
   "outputs": [
    {
     "name": "stdout",
     "output_type": "stream",
     "text": [
      "2\n"
     ]
    }
   ],
   "source": [
    "print(a.rindex('is',0, 4))"
   ]
  },
  {
   "cell_type": "code",
   "execution_count": 190,
   "id": "5bd6019b",
   "metadata": {},
   "outputs": [
    {
     "name": "stdout",
     "output_type": "stream",
     "text": [
      "15\n"
     ]
    }
   ],
   "source": [
    "a =\"This is python is\"\n",
    "print(a.rindex('is',0))"
   ]
  },
  {
   "cell_type": "code",
   "execution_count": 150,
   "id": "01b7f8db",
   "metadata": {},
   "outputs": [
    {
     "ename": "ValueError",
     "evalue": "substring not found",
     "output_type": "error",
     "traceback": [
      "\u001b[31m---------------------------------------------------------------------------\u001b[39m",
      "\u001b[31mValueError\u001b[39m                                Traceback (most recent call last)",
      "\u001b[36mCell\u001b[39m\u001b[36m \u001b[39m\u001b[32mIn[150]\u001b[39m\u001b[32m, line 2\u001b[39m\n\u001b[32m      1\u001b[39m a =\u001b[33m\"\u001b[39m\u001b[33mThis is python is\u001b[39m\u001b[33m\"\u001b[39m\n\u001b[32m----> \u001b[39m\u001b[32m2\u001b[39m \u001b[38;5;28mprint\u001b[39m(\u001b[43ma\u001b[49m\u001b[43m.\u001b[49m\u001b[43mrindex\u001b[49m\u001b[43m(\u001b[49m\u001b[33;43m'\u001b[39;49m\u001b[33;43mhello\u001b[39;49m\u001b[33;43m'\u001b[39;49m\u001b[43m)\u001b[49m)\n",
      "\u001b[31mValueError\u001b[39m: substring not found"
     ]
    }
   ],
   "source": [
    "a =\"This is python is\"\n",
    "print(a.rindex('hello'))"
   ]
  },
  {
   "cell_type": "markdown",
   "id": "d001e970",
   "metadata": {},
   "source": [
    "Find:"
   ]
  },
  {
   "cell_type": "markdown",
   "id": "b3c5b9eb",
   "metadata": {},
   "source": [
    "- The find() method finds the first occurrence of the specified value."
   ]
  },
  {
   "cell_type": "markdown",
   "id": "a07ac545",
   "metadata": {},
   "source": [
    "- The find() method returns -1 if the value is not found."
   ]
  },
  {
   "cell_type": "markdown",
   "id": "336e6489",
   "metadata": {},
   "source": [
    "- The find() method is almost the same as the index() method, the only difference is that the index() method raises an exception if the value is not found."
   ]
  },
  {
   "cell_type": "code",
   "execution_count": 195,
   "id": "99a4c81b",
   "metadata": {},
   "outputs": [
    {
     "name": "stdout",
     "output_type": "stream",
     "text": [
      "7\n"
     ]
    }
   ],
   "source": [
    "#string.find(value, start, end)\n",
    "\n",
    "txt = \"Hello, welcome to my world.\"\n",
    "\n",
    "x = txt.find(\"w\")\n",
    "\n",
    "print(x)"
   ]
  },
  {
   "cell_type": "code",
   "execution_count": 196,
   "id": "84f7cadf",
   "metadata": {},
   "outputs": [
    {
     "name": "stdout",
     "output_type": "stream",
     "text": [
      "8\n"
     ]
    }
   ],
   "source": [
    "txt = \"Hello, welcome to carrer point university.\"\n",
    "\n",
    "x = txt.find(\"e\", 5)\n",
    "\n",
    "print(x)"
   ]
  },
  {
   "cell_type": "code",
   "execution_count": 198,
   "id": "bd5dba16",
   "metadata": {},
   "outputs": [
    {
     "name": "stdout",
     "output_type": "stream",
     "text": [
      "7\n",
      "10\n"
     ]
    }
   ],
   "source": [
    "txt = \"Hello, welcome to carrer point university  \"\n",
    "\n",
    "print(txt.find(\"w\"))\n",
    "print(txt.index(\"c\"))"
   ]
  },
  {
   "cell_type": "markdown",
   "id": "5b4e53ec",
   "metadata": {},
   "source": [
    "r,Find:"
   ]
  },
  {
   "cell_type": "markdown",
   "id": "9f66ed30",
   "metadata": {},
   "source": [
    "- The rfind() method finds the last occurrence of the specified value."
   ]
  },
  {
   "cell_type": "markdown",
   "id": "ecd78974",
   "metadata": {},
   "source": [
    "- The rfind() method returns -1 if the value is not found."
   ]
  },
  {
   "cell_type": "markdown",
   "id": "532dd2aa",
   "metadata": {},
   "source": [
    "- The rfind() method is almost the same as the rindex() method"
   ]
  },
  {
   "cell_type": "code",
   "execution_count": 116,
   "id": "dcce4681",
   "metadata": {},
   "outputs": [
    {
     "ename": "NameError",
     "evalue": "name 'string' is not defined",
     "output_type": "error",
     "traceback": [
      "\u001b[31m---------------------------------------------------------------------------\u001b[39m",
      "\u001b[31mNameError\u001b[39m                                 Traceback (most recent call last)",
      "\u001b[36mCell\u001b[39m\u001b[36m \u001b[39m\u001b[32mIn[116]\u001b[39m\u001b[32m, line 1\u001b[39m\n\u001b[32m----> \u001b[39m\u001b[32m1\u001b[39m \u001b[43mstring\u001b[49m.rfind(value, start, end)\n",
      "\u001b[31mNameError\u001b[39m: name 'string' is not defined"
     ]
    }
   ],
   "source": [
    "string.rfind(value, start, end)"
   ]
  },
  {
   "cell_type": "code",
   "execution_count": 199,
   "id": "5545176b",
   "metadata": {},
   "outputs": [
    {
     "name": "stdout",
     "output_type": "stream",
     "text": [
      "12\n"
     ]
    }
   ],
   "source": [
    "txt = \"Hello,welcome to my world.\"\n",
    "\n",
    "x = txt.rfind(\"e\")\n",
    "\n",
    "print(x)"
   ]
  },
  {
   "cell_type": "code",
   "execution_count": 118,
   "id": "26ce4305",
   "metadata": {},
   "outputs": [
    {
     "name": "stdout",
     "output_type": "stream",
     "text": [
      "-1\n"
     ]
    }
   ],
   "source": [
    "txt = \"Hello, welcome to my world q\"\n",
    "\n",
    "x = txt.rfind(\"e\", 2, 6)\n",
    "\n",
    "print(x)"
   ]
  },
  {
   "cell_type": "code",
   "execution_count": 153,
   "id": "5e846904",
   "metadata": {},
   "outputs": [
    {
     "name": "stdout",
     "output_type": "stream",
     "text": [
      "-1\n"
     ]
    },
    {
     "ename": "ValueError",
     "evalue": "substring not found",
     "output_type": "error",
     "traceback": [
      "\u001b[31m---------------------------------------------------------------------------\u001b[39m",
      "\u001b[31mValueError\u001b[39m                                Traceback (most recent call last)",
      "\u001b[36mCell\u001b[39m\u001b[36m \u001b[39m\u001b[32mIn[153]\u001b[39m\u001b[32m, line 4\u001b[39m\n\u001b[32m      1\u001b[39m txt = \u001b[33m\"\u001b[39m\u001b[33mHello, welcome to my world. \u001b[39m\u001b[33m\"\u001b[39m\n\u001b[32m      3\u001b[39m \u001b[38;5;28mprint\u001b[39m(txt.rfind(\u001b[33m\"\u001b[39m\u001b[33mq\u001b[39m\u001b[33m\"\u001b[39m))\n\u001b[32m----> \u001b[39m\u001b[32m4\u001b[39m \u001b[38;5;28mprint\u001b[39m(\u001b[43mtxt\u001b[49m\u001b[43m.\u001b[49m\u001b[43mrindex\u001b[49m\u001b[43m(\u001b[49m\u001b[33;43m\"\u001b[39;49m\u001b[33;43mq\u001b[39;49m\u001b[33;43m\"\u001b[39;49m\u001b[43m)\u001b[49m)\n",
      "\u001b[31mValueError\u001b[39m: substring not found"
     ]
    }
   ],
   "source": [
    "txt = \"Hello, welcome to my world. \"\n",
    "\n",
    "print(txt.rfind(\"q\"))\n",
    "print(txt.rindex(\"q\"))"
   ]
  },
  {
   "cell_type": "markdown",
   "id": "33eae7a0",
   "metadata": {},
   "source": [
    "Count:"
   ]
  },
  {
   "cell_type": "code",
   "execution_count": 120,
   "id": "32ff73e3",
   "metadata": {},
   "outputs": [
    {
     "ename": "SyntaxError",
     "evalue": "invalid syntax (3172311117.py, line 1)",
     "output_type": "error",
     "traceback": [
      "  \u001b[36mCell\u001b[39m\u001b[36m \u001b[39m\u001b[32mIn[120]\u001b[39m\u001b[32m, line 1\u001b[39m\n\u001b[31m    \u001b[39m\u001b[31msyntax a.count(sub,start,end)\u001b[39m\n           ^\n\u001b[31mSyntaxError\u001b[39m\u001b[31m:\u001b[39m invalid syntax\n"
     ]
    }
   ],
   "source": [
    "syntax a.count(sub,start,end)"
   ]
  },
  {
   "cell_type": "code",
   "execution_count": 201,
   "id": "ecb00092",
   "metadata": {},
   "outputs": [
    {
     "name": "stdout",
     "output_type": "stream",
     "text": [
      "2\n"
     ]
    }
   ],
   "source": [
    "a =\"This is  a India\"\n",
    "print(a.count(\"is\",0,len(a)))"
   ]
  },
  {
   "cell_type": "code",
   "execution_count": 206,
   "id": "7a4f305d",
   "metadata": {},
   "outputs": [
    {
     "name": "stdout",
     "output_type": "stream",
     "text": [
      "5\n"
     ]
    }
   ],
   "source": [
    "a =\"This is  carrer point university\"\n",
    "print(a.count(\"is\"))"
   ]
  },
  {
   "cell_type": "markdown",
   "id": "0f1977c0",
   "metadata": {},
   "source": [
    "sorted:"
   ]
  },
  {
   "cell_type": "code",
   "execution_count": 202,
   "id": "b7778635",
   "metadata": {},
   "outputs": [
    {
     "name": "stdout",
     "output_type": "stream",
     "text": [
      "['#', '1', '4', '5', '6', '7', '8', '9', 'a', 'c', 'c', 'i', 'm', 'x', 'z']\n"
     ]
    }
   ],
   "source": [
    "a=\"cziacmx1#789456\"\n",
    "print(sorted(a))"
   ]
  },
  {
   "cell_type": "markdown",
   "id": "82e61b00",
   "metadata": {},
   "source": [
    "join:"
   ]
  },
  {
   "cell_type": "code",
   "execution_count": 93,
   "id": "5443c3d1",
   "metadata": {},
   "outputs": [
    {
     "name": "stdout",
     "output_type": "stream",
     "text": [
      "1:3:5\n"
     ]
    }
   ],
   "source": [
    "a =['1','3','5']\n",
    "print(':'.join(a))"
   ]
  },
  {
   "cell_type": "code",
   "execution_count": 207,
   "id": "b3b2cd99-6604-40e2-80b2-d51020ad5e1d",
   "metadata": {},
   "outputs": [
    {
     "name": "stdout",
     "output_type": "stream",
     "text": [
      "4:5:8\n"
     ]
    }
   ],
   "source": [
    "b=['4','5','8']\n",
    "print(':'.join(b))"
   ]
  },
  {
   "cell_type": "markdown",
   "id": "67e46a0f",
   "metadata": {},
   "source": [
    "replace:"
   ]
  },
  {
   "cell_type": "code",
   "execution_count": 209,
   "id": "3b4a7903",
   "metadata": {},
   "outputs": [
    {
     "name": "stdout",
     "output_type": "stream",
     "text": [
      "Python is difficult\n"
     ]
    }
   ],
   "source": [
    "a =\"Python is easy\"\n",
    "print(a.replace(\"easy\",\"difficult\"))"
   ]
  },
  {
   "cell_type": "markdown",
   "id": "b52a0aff",
   "metadata": {},
   "source": [
    "upper:"
   ]
  },
  {
   "cell_type": "code",
   "execution_count": 210,
   "id": "456fdba9",
   "metadata": {},
   "outputs": [
    {
     "name": "stdout",
     "output_type": "stream",
     "text": [
      "PYTHON IS EASY \n"
     ]
    }
   ],
   "source": [
    "a = \"python is easy \"\n",
    "print(a.upper())"
   ]
  },
  {
   "cell_type": "code",
   "execution_count": 212,
   "id": "d87ae58e-eb76-483e-a668-a5daee126594",
   "metadata": {},
   "outputs": [
    {
     "name": "stdout",
     "output_type": "stream",
     "text": [
      "CARRER POINT UNIVERSITY\n"
     ]
    }
   ],
   "source": [
    "b=\"carrer point university\"\n",
    "print(b.upper())"
   ]
  },
  {
   "cell_type": "markdown",
   "id": "a3d46f57",
   "metadata": {},
   "source": [
    "lower:"
   ]
  },
  {
   "cell_type": "code",
   "execution_count": 218,
   "id": "8d2e45ad",
   "metadata": {},
   "outputs": [
    {
     "name": "stdout",
     "output_type": "stream",
     "text": [
      "python is easy\n"
     ]
    }
   ],
   "source": [
    "a = \"PYTHON IS eASY\"\n",
    "print(a.lower())"
   ]
  },
  {
   "cell_type": "markdown",
   "id": "bf7e3238",
   "metadata": {},
   "source": [
    "capitalize:"
   ]
  },
  {
   "cell_type": "code",
   "execution_count": 219,
   "id": "7d5092a4",
   "metadata": {},
   "outputs": [
    {
     "name": "stdout",
     "output_type": "stream",
     "text": [
      "Python is easy\n"
     ]
    }
   ],
   "source": [
    "a = \"python is easy\"\n",
    "print(a.capitalize())"
   ]
  },
  {
   "cell_type": "code",
   "execution_count": 221,
   "id": "cfe6fbe4-b0c6-4533-a7b7-58ce2077fe56",
   "metadata": {},
   "outputs": [
    {
     "ename": "AttributeError",
     "evalue": "'str' object has no attribute 'small'",
     "output_type": "error",
     "traceback": [
      "\u001b[31m---------------------------------------------------------------------------\u001b[39m",
      "\u001b[31mAttributeError\u001b[39m                            Traceback (most recent call last)",
      "\u001b[36mCell\u001b[39m\u001b[36m \u001b[39m\u001b[32mIn[221]\u001b[39m\u001b[32m, line 2\u001b[39m\n\u001b[32m      1\u001b[39m g= \u001b[33m\"\u001b[39m\u001b[33mpython is easy\u001b[39m\u001b[33m\"\u001b[39m\n\u001b[32m----> \u001b[39m\u001b[32m2\u001b[39m \u001b[38;5;28mprint\u001b[39m(\u001b[43mg\u001b[49m\u001b[43m.\u001b[49m\u001b[43msmall\u001b[49m())\n",
      "\u001b[31mAttributeError\u001b[39m: 'str' object has no attribute 'small'"
     ]
    }
   ],
   "source": []
  },
  {
   "cell_type": "markdown",
   "id": "19c3f275",
   "metadata": {},
   "source": [
    "title:"
   ]
  },
  {
   "cell_type": "code",
   "execution_count": 217,
   "id": "5fc14d73",
   "metadata": {},
   "outputs": [
    {
     "name": "stdout",
     "output_type": "stream",
     "text": [
      "Computer Science Department\n"
     ]
    }
   ],
   "source": [
    "a = \"computer science department\"\n",
    "print(a.title())"
   ]
  },
  {
   "cell_type": "markdown",
   "id": "21af1ce8",
   "metadata": {},
   "source": [
    "swapcase:"
   ]
  },
  {
   "cell_type": "code",
   "execution_count": 222,
   "id": "b05e139e",
   "metadata": {},
   "outputs": [
    {
     "name": "stdout",
     "output_type": "stream",
     "text": [
      "pYTHON IS EAsY\n"
     ]
    }
   ],
   "source": [
    "a = \"Python is eaSy\"\n",
    "print(a.swapcase())"
   ]
  },
  {
   "cell_type": "markdown",
   "id": "aa0b7f70",
   "metadata": {},
   "source": [
    "startswith:"
   ]
  },
  {
   "cell_type": "code",
   "execution_count": 223,
   "id": "11825c89",
   "metadata": {},
   "outputs": [
    {
     "data": {
      "text/plain": [
       "'Result will be in true/false'"
      ]
     },
     "execution_count": 223,
     "metadata": {},
     "output_type": "execute_result"
    }
   ],
   "source": [
    "'Result will be in true/false'"
   ]
  },
  {
   "cell_type": "code",
   "execution_count": 226,
   "id": "54335a22",
   "metadata": {},
   "outputs": [
    {
     "name": "stdout",
     "output_type": "stream",
     "text": [
      "False\n"
     ]
    }
   ],
   "source": [
    "a = \"TPython is eaSy\"\n",
    "print(a.startswith(\"T\"))"
   ]
  },
  {
   "cell_type": "code",
   "execution_count": null,
   "id": "e96071c2-9105-4011-9941-624ea768146e",
   "metadata": {},
   "outputs": [],
   "source": []
  },
  {
   "cell_type": "markdown",
   "id": "1635c616",
   "metadata": {},
   "source": [
    "endswith:"
   ]
  },
  {
   "cell_type": "code",
   "execution_count": 228,
   "id": "8dab0534",
   "metadata": {},
   "outputs": [
    {
     "name": "stdout",
     "output_type": "stream",
     "text": [
      "True\n"
     ]
    }
   ],
   "source": [
    "a = \"Python is eaSy\"\n",
    "print(a.endswith(\"y\"))"
   ]
  },
  {
   "cell_type": "markdown",
   "id": "1aca1f92",
   "metadata": {},
   "source": [
    "isdigit:"
   ]
  },
  {
   "cell_type": "code",
   "execution_count": 163,
   "id": "a56a3efe",
   "metadata": {},
   "outputs": [
    {
     "data": {
      "text/plain": [
       "'Result will be in true/false'"
      ]
     },
     "execution_count": 163,
     "metadata": {},
     "output_type": "execute_result"
    }
   ],
   "source": [
    "'Result will be in true/false'"
   ]
  },
  {
   "cell_type": "code",
   "execution_count": 231,
   "id": "d04a0991",
   "metadata": {},
   "outputs": [
    {
     "name": "stdout",
     "output_type": "stream",
     "text": [
      "True\n"
     ]
    }
   ],
   "source": [
    "a='321'\n",
    "print(a.isdigit())"
   ]
  },
  {
   "cell_type": "markdown",
   "id": "6c00e7e6",
   "metadata": {},
   "source": [
    "isalpha:"
   ]
  },
  {
   "cell_type": "markdown",
   "id": "4cb83e35",
   "metadata": {},
   "source": [
    "works for single character or word"
   ]
  },
  {
   "cell_type": "code",
   "execution_count": 239,
   "id": "1d596148",
   "metadata": {},
   "outputs": [
    {
     "name": "stdout",
     "output_type": "stream",
     "text": [
      "True\n"
     ]
    }
   ],
   "source": [
    "a=\"python\"\n",
    "print(a.isalpha())"
   ]
  },
  {
   "cell_type": "code",
   "execution_count": 240,
   "id": "efb5d34b",
   "metadata": {},
   "outputs": [
    {
     "name": "stdout",
     "output_type": "stream",
     "text": [
      "False\n"
     ]
    }
   ],
   "source": [
    "a=\"my_name\"\n",
    "print(a.isalpha())"
   ]
  },
  {
   "cell_type": "code",
   "execution_count": 243,
   "id": "01cf37c9",
   "metadata": {},
   "outputs": [
    {
     "name": "stdout",
     "output_type": "stream",
     "text": [
      "True\n"
     ]
    }
   ],
   "source": [
    "a=\"myname\"\n",
    "print(a.isalpha())"
   ]
  },
  {
   "cell_type": "markdown",
   "id": "1703d475",
   "metadata": {},
   "source": [
    "sep:"
   ]
  },
  {
   "cell_type": "code",
   "execution_count": 248,
   "id": "87b43eec",
   "metadata": {},
   "outputs": [
    {
     "name": "stdout",
     "output_type": "stream",
     "text": [
      "10/20/30\n"
     ]
    }
   ],
   "source": [
    "a,b,c =10,20,30\n",
    "print(a,b,c,sep=\"/\") "
   ]
  },
  {
   "cell_type": "markdown",
   "id": "496e105a",
   "metadata": {},
   "source": [
    "eval:"
   ]
  },
  {
   "cell_type": "code",
   "execution_count": 250,
   "id": "ac6c0d2f",
   "metadata": {},
   "outputs": [
    {
     "name": "stdout",
     "output_type": "stream",
     "text": [
      "P 2\n",
      "y 1\n",
      "t 1\n",
      "h 1\n",
      "o 2\n",
      "n 2\n",
      "i 2\n",
      "s 1\n",
      "r 2\n",
      "g 2\n",
      "a 1\n",
      "m 2\n"
     ]
    }
   ],
   "source": [
    "#Q1 write a program to print occurence of each character of a string\n",
    "a =\"Python is Programming\"\n",
    "\n",
    "a1 =\" \"\n",
    "for i in a :\n",
    "    if i not in a1:\n",
    "        print(i,a.count(i))\n",
    "        a1=a1+i\n"
   ]
  },
  {
   "cell_type": "code",
   "execution_count": 251,
   "id": "967f4efb",
   "metadata": {},
   "outputs": [
    {
     "name": "stdout",
     "output_type": "stream",
     "text": [
      "2\n"
     ]
    }
   ],
   "source": [
    "a =\"Python is Programming\"\n",
    "print(a.count(\"P\"))"
   ]
  },
  {
   "cell_type": "code",
   "execution_count": 252,
   "id": "7e2e1b0c",
   "metadata": {},
   "outputs": [
    {
     "name": "stdout",
     "output_type": "stream",
     "text": [
      "abc123\n"
     ]
    }
   ],
   "source": [
    "#Q2 \"c3a1b2\"=\"abc123\"\n",
    "a =\"c3a1b2\"\n",
    "a1=\"\"\n",
    "a2=\"\"\n",
    "res =\"\"\n",
    "for i in (a):\n",
    "    if i.isalpha():\n",
    "        a1=a1+i\n",
    "    elif i.isdigit():\n",
    "        a2 =a2+i\n",
    "for i in sorted(a1):\n",
    "    res=res+i\n",
    "for i in sorted(a2):\n",
    "    res =res + i\n",
    "print(res)"
   ]
  },
  {
   "cell_type": "code",
   "execution_count": 172,
   "id": "07604e1b",
   "metadata": {
    "scrolled": true
   },
   "outputs": [
    {
     "name": "stdout",
     "output_type": "stream",
     "text": [
      "aaabbccc"
     ]
    }
   ],
   "source": [
    "#Q3 \"a3b2c3\"=\"aaabbccc\"\n",
    "a =\"a3b2c3\"\n",
    "\n",
    "for i in range(0,len(a),2):\n",
    "    v =int(a[i+1])\n",
    "    print(a[i]*v,end=\"\")"
   ]
  },
  {
   "cell_type": "code",
   "execution_count": null,
   "id": "caf7a088-5153-491d-9e8d-b5fe58da0ade",
   "metadata": {},
   "outputs": [],
   "source": []
  },
  {
   "cell_type": "code",
   "execution_count": null,
   "id": "d25aaf00-6778-4140-90bf-9def49fb5203",
   "metadata": {},
   "outputs": [],
   "source": []
  },
  {
   "cell_type": "code",
   "execution_count": null,
   "id": "967384dd-bda1-453e-9be1-eb2a3febf80f",
   "metadata": {},
   "outputs": [],
   "source": []
  },
  {
   "cell_type": "code",
   "execution_count": null,
   "id": "b2afd07a-7c7e-4dec-b385-02532511760b",
   "metadata": {},
   "outputs": [],
   "source": []
  },
  {
   "cell_type": "code",
   "execution_count": null,
   "id": "b52968c1-f0fe-4c82-946d-017b25c1bac9",
   "metadata": {},
   "outputs": [],
   "source": []
  },
  {
   "cell_type": "code",
   "execution_count": null,
   "id": "9d2d26a0-ff5c-4dea-b192-c5417ee8fa64",
   "metadata": {},
   "outputs": [],
   "source": []
  }
 ],
 "metadata": {
  "kernelspec": {
   "display_name": "Python 3 (ipykernel)",
   "language": "python",
   "name": "python3"
  },
  "language_info": {
   "codemirror_mode": {
    "name": "ipython",
    "version": 3
   },
   "file_extension": ".py",
   "mimetype": "text/x-python",
   "name": "python",
   "nbconvert_exporter": "python",
   "pygments_lexer": "ipython3",
   "version": "3.13.3"
  }
 },
 "nbformat": 4,
 "nbformat_minor": 5
}
