{
 "cells": [
  {
   "cell_type": "markdown",
   "id": "2ff1e043",
   "metadata": {},
   "source": [
    "# loops in python"
   ]
  },
  {
   "cell_type": "code",
   "execution_count": null,
   "id": "e44704ab",
   "metadata": {},
   "outputs": [],
   "source": []
  },
  {
   "cell_type": "markdown",
   "id": "822b4f5b",
   "metadata": {},
   "source": [
    "- Loops are an important construct in programming that allow you to repeat a set of actions multiple times. In Python, there are two main types of loops: for loops and while loops."
   ]
  },
  {
   "cell_type": "markdown",
   "id": "707504a4",
   "metadata": {},
   "source": [
    "for loop"
   ]
  },
  {
   "cell_type": "markdown",
   "id": "0bcbd699",
   "metadata": {},
   "source": [
    "while loop"
   ]
  },
  {
   "cell_type": "markdown",
   "id": "12ea6e17",
   "metadata": {},
   "source": [
    "# for loop"
   ]
  },
  {
   "cell_type": "raw",
   "id": "c4281256",
   "metadata": {},
   "source": [
    "- A for loop is used to iterate over a sequence (such as a list, tuple, or string) or a range of numbers"
   ]
  },
  {
   "cell_type": "code",
   "execution_count": null,
   "id": "ebe8b46a",
   "metadata": {},
   "outputs": [],
   "source": [
    "initialization\n",
    "condition\n",
    "inc/dec\\"
   ]
  },
  {
   "cell_type": "raw",
   "id": "b6f1a2df",
   "metadata": {},
   "source": [
    " - when no. of iterations are known in advance we using for loop"
   ]
  },
  {
   "cell_type": "code",
   "execution_count": 15,
   "id": "889b32e4",
   "metadata": {},
   "outputs": [
    {
     "name": "stdout",
     "output_type": "stream",
     "text": [
      "apple\n",
      "banana\n",
      "cherry\n",
      "1\n",
      "2\n",
      "3\n",
      "4\n",
      "5\n",
      "6\n",
      "7\n",
      "8\n",
      "9\n"
     ]
    }
   ],
   "source": [
    "# # # Loop over a list\n",
    "fruits = ['apple', 'banana', 'cherry']\n",
    "for i in fruits:\n",
    "        print(i)\n",
    "\n",
    "# print(fruits)\n",
    "# for i in fruits:\n",
    "#     print(i)\n",
    "# # print(fruits)\n",
    "\n",
    "# Loop over a range of numbers\n",
    "for i in range(1,10):     \n",
    "    print(i)"
   ]
  },
  {
   "cell_type": "code",
   "execution_count": 16,
   "id": "86f9f8f4-9dcf-40e2-93b6-e72c2d691a7c",
   "metadata": {},
   "outputs": [
    {
     "name": "stdout",
     "output_type": "stream",
     "text": [
      "aditya\n",
      "mishra\n",
      "aditya\n",
      "mishra\n",
      "aditya\n",
      "mishra\n",
      "aditya\n",
      "mishra\n",
      "aditya\n",
      "mishra\n",
      "aditya\n",
      "mishra\n",
      "aditya\n",
      "mishra\n"
     ]
    }
   ],
   "source": [
    "for i in range(1,8):\n",
    "    print('aditya')\n",
    "    print('mishra')"
   ]
  },
  {
   "cell_type": "code",
   "execution_count": 17,
   "id": "75ef19f7-060f-4f14-bb9c-51d63dd2fd37",
   "metadata": {},
   "outputs": [
    {
     "name": "stdout",
     "output_type": "stream",
     "text": [
      "10\n",
      "11\n",
      "12\n",
      "13\n",
      "14\n",
      "15\n",
      "16\n",
      "17\n",
      "18\n",
      "19\n",
      "20\n"
     ]
    }
   ],
   "source": [
    "for i in range (10,21):\n",
    "    print(i)"
   ]
  },
  {
   "cell_type": "code",
   "execution_count": 4,
   "id": "7bae1537",
   "metadata": {},
   "outputs": [
    {
     "name": "stdout",
     "output_type": "stream",
     "text": [
      "1\n",
      "2\n",
      "3\n",
      "4\n",
      "5\n",
      "6\n",
      "7\n",
      "8\n",
      "9\n",
      "10\n"
     ]
    }
   ],
   "source": [
    "# l=[1,2,3]\n",
    "for i in range(1,11):\n",
    "    print(i)"
   ]
  },
  {
   "cell_type": "code",
   "execution_count": 3,
   "id": "ca982619-70a2-418d-a0f8-24a05ebfdb1a",
   "metadata": {},
   "outputs": [],
   "source": [
    "# find those numbers which are divisible by 7 and multiples of 5, between 1500 and 2700 (both included)."
   ]
  },
  {
   "cell_type": "code",
   "execution_count": 2,
   "id": "4f6c771a-c108-46a5-9e74-0a9720a22617",
   "metadata": {},
   "outputs": [
    {
     "name": "stdout",
     "output_type": "stream",
     "text": [
      "1505,1,5,0,5,1540,1,5,4,0,1575,1,5,7,5,1610,1,6,1,0,1645,1,6,4,5,1680,1,6,8,0,1715,1,7,1,5,1750,1,7,5,0,1785,1,7,8,5,1820,1,8,2,0,1855,1,8,5,5,1890,1,8,9,0,1925,1,9,2,5,1960,1,9,6,0,1995,1,9,9,5,2030,2,0,3,0,2065,2,0,6,5,2100,2,1,0,0,2135,2,1,3,5,2170,2,1,7,0,2205,2,2,0,5,2240,2,2,4,0,2275,2,2,7,5,2310,2,3,1,0,2345,2,3,4,5,2380,2,3,8,0,2415,2,4,1,5,2450,2,4,5,0,2485,2,4,8,5,2520,2,5,2,0,2555,2,5,5,5,2590,2,5,9,0,2625,2,6,2,5,2660,2,6,6,0,2695,2,6,9,5\n"
     ]
    }
   ],
   "source": [
    "a=[]\n",
    "for i in range(1500, 2701):\n",
    "    if (i%7==0) and (i%5==0):\n",
    "        a.append(str(i))\n",
    "        a.extend(str(i))\n",
    "print(\",\".join(a))"
   ]
  },
  {
   "cell_type": "code",
   "execution_count": 15,
   "id": "d851c592",
   "metadata": {},
   "outputs": [
    {
     "name": "stdout",
     "output_type": "stream",
     "text": [
      "['1505', '1540', '1575', '1610', '1645', '1680', '1715', '1750', '1785', '1820', '1855', '1890', '1925', '1960', '1995', '2030', '2065', '2100', '2135', '2170', '2205', '2240', '2275', '2310', '2345', '2380', '2415', '2450', '2485', '2520', '2555', '2590', '2625', '2660', '2695']\n",
      "<class 'str'>\n",
      "1505,1540,1575,1610,1645,1680,1715,1750,1785,1820,1855,1890,1925,1960,1995,2030,2065,2100,2135,2170,2205,2240,2275,2310,2345,2380,2415,2450,2485,2520,2555,2590,2625,2660,2695\n"
     ]
    }
   ],
   "source": [
    "nl=[]\n",
    "for x in range(1500, 2701):\n",
    "    if (x%7==0) and (x%5==0):\n",
    "        nl.append(str(x))\n",
    "print(nl)\n",
    "print(type(nl[1]))\n",
    "print (','.join(nl))"
   ]
  },
  {
   "cell_type": "code",
   "execution_count": 6,
   "id": "b3dde339",
   "metadata": {},
   "outputs": [
    {
     "data": {
      "image/png": "[encoded data removed]",
      "text/plain": [
       "<IPython.core.display.Image object>"
      ]
     },
     "execution_count": 6,
     "metadata": {},
     "output_type": "execute_result"
    }
   ],
   "source": [
    "from IPython.display import Image\n",
    "Image(filename='for.png') "
   ]
  },
  {
   "cell_type": "code",
   "execution_count": 18,
   "id": "c1d5094c-c53b-4ca9-b4a8-94715fb70f67",
   "metadata": {},
   "outputs": [
    {
     "name": "stdout",
     "output_type": "stream",
     "text": [
      "tushar sir Mishra\n",
      "tushar sir Mishra\n",
      "tushar sir Mishra\n",
      "tushar sir Mishra\n",
      "tushar sir Mishra\n",
      "tushar sir Mishra\n",
      "tushar sir Mishra\n",
      "tushar sir Mishra\n"
     ]
    }
   ],
   "source": [
    "a= \"Mishra\"\n",
    "b=\"tushar sir\"\n",
    "for i in range(1,9):\n",
    "    print(b,a)"
   ]
  },
  {
   "cell_type": "code",
   "execution_count": 21,
   "id": "9f417c8e",
   "metadata": {},
   "outputs": [
    {
     "name": "stdout",
     "output_type": "stream",
     "text": [
      "adisha\n",
      "adisha\n",
      "adisha\n",
      "adisha\n",
      "adisha\n",
      "adisha\n",
      "adisha\n",
      "adisha\n",
      "adisha\n",
      "adisha\n"
     ]
    }
   ],
   "source": [
    "for i in range(1,11):\n",
    "    \n",
    "    print(\"adisha\")"
   ]
  },
  {
   "cell_type": "code",
   "execution_count": 12,
   "id": "155f9310",
   "metadata": {},
   "outputs": [
    {
     "name": "stdout",
     "output_type": "stream",
     "text": [
      "No. of even : 601\n",
      "No. of odd: 600\n"
     ]
    }
   ],
   "source": [
    "# wap and check even and odd number using for loop(1, 100)\n",
    "# a  = (1,2,3,4,5,6,7,8,9)\n",
    "odd = 0\n",
    "even=0\n",
    "for i in range(1500,2701):\n",
    "    if i%2==0:\n",
    "        even+=1\n",
    "    else:\n",
    "        odd+=1\n",
    "print(\"No. of even :\", even)\n",
    "print(\"No. of odd:\" , odd)"
   ]
  },
  {
   "cell_type": "code",
   "execution_count": 13,
   "id": "b216d98e",
   "metadata": {},
   "outputs": [
    {
     "name": "stdout",
     "output_type": "stream",
     "text": [
      "Number of even numbers : 4\n",
      "Number of odd numbers : 5\n"
     ]
    }
   ],
   "source": [
    "#count the number of even and odd numbers in a series of numbers\n",
    "numbers = (1, 2, 3, 4, 5, 6, 7, 8, 9)# Declaring the tuple\n",
    "count_odd = 0\n",
    "count_even = 0\n",
    "for x in numbers:\n",
    "        if  x % 2==0:\n",
    "    \t     count_even+=1\n",
    "        else:\n",
    "    \t     count_odd+=1\n",
    "print(\"Number of even numbers :\",count_even)\n",
    "print(\"Number of odd numbers :\",count_odd)"
   ]
  },
  {
   "cell_type": "code",
   "execution_count": 22,
   "id": "5cbcfb51",
   "metadata": {},
   "outputs": [
    {
     "name": "stdout",
     "output_type": "stream",
     "text": [
      "hello\n",
      "everyone\n",
      "everyone\n",
      "everyone\n",
      "everyone\n",
      "hello\n",
      "hello\n",
      "hello\n",
      "hello\n"
     ]
    }
   ],
   "source": [
    "i=1\n",
    "j=1\n",
    "while (i<=5):\n",
    "     print('hello')\n",
    "     while (j<=4): \n",
    "        print('everyone')\n",
    "        j=j+1\n",
    "     i=i+1"
   ]
  },
  {
   "cell_type": "code",
   "execution_count": null,
   "id": "9f5f1834",
   "metadata": {},
   "outputs": [],
   "source": [
    "# Python program to create the multiplication table (from 1 to 10) of a number."
   ]
  },
  {
   "cell_type": "code",
   "execution_count": 3,
   "id": "24515ce6",
   "metadata": {},
   "outputs": [
    {
     "ename": "SyntaxError",
     "evalue": "invalid syntax (61570558.py, line 2)",
     "output_type": "error",
     "traceback": [
      "  \u001b[36mCell\u001b[39m\u001b[36m \u001b[39m\u001b[32mIn[3]\u001b[39m\u001b[32m, line 2\u001b[39m\n\u001b[31m    \u001b[39m\u001b[31mstr =2*2 1 22\u001b[39m\n             ^\n\u001b[31mSyntaxError\u001b[39m\u001b[31m:\u001b[39m invalid syntax\n"
     ]
    }
   ],
   "source": [
    "str=a\n",
    "str  2*2 1 22"
   ]
  },
  {
   "cell_type": "code",
   "execution_count": 24,
   "id": "f7ffb112",
   "metadata": {},
   "outputs": [
    {
     "name": "stdout",
     "output_type": "stream",
     "text": [
      "i\n",
      "ii\n",
      "iii\n",
      "iiii\n",
      "iiiii\n",
      "iiiiii\n",
      "iiiiiii\n",
      "iiiiiiii\n",
      "iiiiiiiii\n"
     ]
    }
   ],
   "source": [
    "for i in range(1,10):\n",
    "    print(('i')*i)\n",
    "   # 1,2,3,4,5,6,7,8,9       \n",
    "    \n",
    "    \n",
    "    \n",
    "#     1*1=1    1*1\n",
    "\n",
    "#     2*2   1*1\n",
    "    \n",
    "\n",
    "\n",
    "#     1*2=aa\n"
   ]
  },
  {
   "cell_type": "code",
   "execution_count": 26,
   "id": "2174419a",
   "metadata": {},
   "outputs": [
    {
     "name": "stdout",
     "output_type": "stream",
     "text": [
      "\n",
      "A\n",
      "AA\n",
      "AAA\n",
      "AAAA\n",
      "AAAAA\n",
      "AAAAAA\n",
      "AAAAAAA\n",
      "AAAAAAAA\n",
      "AAAAAAAAA\n"
     ]
    }
   ],
   "source": [
    "for i in range(10):\n",
    "    print('A'*i)\n",
    "           \n",
    "        "
   ]
  },
  {
   "cell_type": "code",
   "execution_count": 27,
   "id": "9c5873ac",
   "metadata": {
    "scrolled": true
   },
   "outputs": [
    {
     "name": "stdout",
     "output_type": "stream",
     "text": [
      "1\n",
      "6\n",
      "11\n",
      "16\n",
      "21\n",
      "26\n"
     ]
    }
   ],
   "source": [
    "for i in range(1,30,5):\n",
    "    print(i)"
   ]
  },
  {
   "cell_type": "code",
   "execution_count": 30,
   "id": "486cf0ee",
   "metadata": {},
   "outputs": [
    {
     "name": "stdout",
     "output_type": "stream",
     "text": [
      "6\n",
      "10\n",
      "20\n",
      "30\n",
      "40\n",
      "50\n",
      "60\n"
     ]
    }
   ],
   "source": [
    "l =[10,20,30,40,50,60]\n",
    "print(len(l))\n",
    "for i in range(6):   \n",
    "    \n",
    "    print(l[i]) "
   ]
  },
  {
   "cell_type": "code",
   "execution_count": 19,
   "id": "4e7bdfeb",
   "metadata": {},
   "outputs": [
    {
     "name": "stdout",
     "output_type": "stream",
     "text": [
      "p\n",
      "y\n",
      "t\n",
      "h\n",
      "o\n",
      "n\n"
     ]
    }
   ],
   "source": [
    "a =\"python\"\n",
    "for i in range(len(a)):\n",
    "    print(a[i])\n",
    "    "
   ]
  },
  {
   "cell_type": "markdown",
   "id": "54f44f13",
   "metadata": {},
   "source": [
    "# Nested-loop"
   ]
  },
  {
   "cell_type": "markdown",
   "id": "01852cc0",
   "metadata": {},
   "source": [
    " - A nested loop is a loop that is inside another loop"
   ]
  },
  {
   "cell_type": "code",
   "execution_count": 11,
   "id": "60114329",
   "metadata": {},
   "outputs": [
    {
     "ename": "FileNotFoundError",
     "evalue": "[Errno 2] No such file or directory: 'nested-for.png'",
     "output_type": "error",
     "traceback": [
      "\u001b[31m---------------------------------------------------------------------------\u001b[39m",
      "\u001b[31mFileNotFoundError\u001b[39m                         Traceback (most recent call last)",
      "\u001b[36mCell\u001b[39m\u001b[36m \u001b[39m\u001b[32mIn[11]\u001b[39m\u001b[32m, line 2\u001b[39m\n\u001b[32m      1\u001b[39m \u001b[38;5;28;01mfrom\u001b[39;00m\u001b[38;5;250m \u001b[39m\u001b[34;01mIPython\u001b[39;00m\u001b[34;01m.\u001b[39;00m\u001b[34;01mdisplay\u001b[39;00m\u001b[38;5;250m \u001b[39m\u001b[38;5;28;01mimport\u001b[39;00m Image\n\u001b[32m----> \u001b[39m\u001b[32m2\u001b[39m \u001b[43mImage\u001b[49m\u001b[43m(\u001b[49m\u001b[43mfilename\u001b[49m\u001b[43m=\u001b[49m\u001b[33;43m'\u001b[39;49m\u001b[33;43mnested-for.png\u001b[39;49m\u001b[33;43m'\u001b[39;49m\u001b[43m)\u001b[49m \n",
      "\u001b[36mFile \u001b[39m\u001b[32m~\\AppData\\Local\\Programs\\Python\\Python313\\Lib\\site-packages\\IPython\\core\\display.py:1025\u001b[39m, in \u001b[36mImage.__init__\u001b[39m\u001b[34m(self, data, url, filename, format, embed, width, height, retina, unconfined, metadata, alt)\u001b[39m\n\u001b[32m   1023\u001b[39m \u001b[38;5;28mself\u001b[39m.unconfined = unconfined\n\u001b[32m   1024\u001b[39m \u001b[38;5;28mself\u001b[39m.alt = alt\n\u001b[32m-> \u001b[39m\u001b[32m1025\u001b[39m \u001b[38;5;28;43msuper\u001b[39;49m\u001b[43m(\u001b[49m\u001b[43mImage\u001b[49m\u001b[43m,\u001b[49m\u001b[43m \u001b[49m\u001b[38;5;28;43mself\u001b[39;49m\u001b[43m)\u001b[49m\u001b[43m.\u001b[49m\u001b[34;43m__init__\u001b[39;49m\u001b[43m(\u001b[49m\u001b[43mdata\u001b[49m\u001b[43m=\u001b[49m\u001b[43mdata\u001b[49m\u001b[43m,\u001b[49m\u001b[43m \u001b[49m\u001b[43murl\u001b[49m\u001b[43m=\u001b[49m\u001b[43murl\u001b[49m\u001b[43m,\u001b[49m\u001b[43m \u001b[49m\u001b[43mfilename\u001b[49m\u001b[43m=\u001b[49m\u001b[43mfilename\u001b[49m\u001b[43m,\u001b[49m\n\u001b[32m   1026\u001b[39m \u001b[43m        \u001b[49m\u001b[43mmetadata\u001b[49m\u001b[43m=\u001b[49m\u001b[43mmetadata\u001b[49m\u001b[43m)\u001b[49m\n\u001b[32m   1028\u001b[39m \u001b[38;5;28;01mif\u001b[39;00m \u001b[38;5;28mself\u001b[39m.width \u001b[38;5;129;01mis\u001b[39;00m \u001b[38;5;28;01mNone\u001b[39;00m \u001b[38;5;129;01mand\u001b[39;00m \u001b[38;5;28mself\u001b[39m.metadata.get(\u001b[33m'\u001b[39m\u001b[33mwidth\u001b[39m\u001b[33m'\u001b[39m, {}):\n\u001b[32m   1029\u001b[39m     \u001b[38;5;28mself\u001b[39m.width = metadata[\u001b[33m'\u001b[39m\u001b[33mwidth\u001b[39m\u001b[33m'\u001b[39m]\n",
      "\u001b[36mFile \u001b[39m\u001b[32m~\\AppData\\Local\\Programs\\Python\\Python313\\Lib\\site-packages\\IPython\\core\\display.py:343\u001b[39m, in \u001b[36mDisplayObject.__init__\u001b[39m\u001b[34m(self, data, url, filename, metadata)\u001b[39m\n\u001b[32m    340\u001b[39m \u001b[38;5;28;01melif\u001b[39;00m \u001b[38;5;28mself\u001b[39m.metadata \u001b[38;5;129;01mis\u001b[39;00m \u001b[38;5;28;01mNone\u001b[39;00m:\n\u001b[32m    341\u001b[39m     \u001b[38;5;28mself\u001b[39m.metadata = {}\n\u001b[32m--> \u001b[39m\u001b[32m343\u001b[39m \u001b[38;5;28;43mself\u001b[39;49m\u001b[43m.\u001b[49m\u001b[43mreload\u001b[49m\u001b[43m(\u001b[49m\u001b[43m)\u001b[49m\n\u001b[32m    344\u001b[39m \u001b[38;5;28mself\u001b[39m._check_data()\n",
      "\u001b[36mFile \u001b[39m\u001b[32m~\\AppData\\Local\\Programs\\Python\\Python313\\Lib\\site-packages\\IPython\\core\\display.py:1060\u001b[39m, in \u001b[36mImage.reload\u001b[39m\u001b[34m(self)\u001b[39m\n\u001b[32m   1058\u001b[39m \u001b[38;5;250m\u001b[39m\u001b[33;03m\"\"\"Reload the raw data from file or URL.\"\"\"\u001b[39;00m\n\u001b[32m   1059\u001b[39m \u001b[38;5;28;01mif\u001b[39;00m \u001b[38;5;28mself\u001b[39m.embed:\n\u001b[32m-> \u001b[39m\u001b[32m1060\u001b[39m     \u001b[38;5;28;43msuper\u001b[39;49m\u001b[43m(\u001b[49m\u001b[43mImage\u001b[49m\u001b[43m,\u001b[49m\u001b[38;5;28;43mself\u001b[39;49m\u001b[43m)\u001b[49m\u001b[43m.\u001b[49m\u001b[43mreload\u001b[49m\u001b[43m(\u001b[49m\u001b[43m)\u001b[49m\n\u001b[32m   1061\u001b[39m     \u001b[38;5;28;01mif\u001b[39;00m \u001b[38;5;28mself\u001b[39m.retina:\n\u001b[32m   1062\u001b[39m         \u001b[38;5;28mself\u001b[39m._retina_shape()\n",
      "\u001b[36mFile \u001b[39m\u001b[32m~\\AppData\\Local\\Programs\\Python\\Python313\\Lib\\site-packages\\IPython\\core\\display.py:369\u001b[39m, in \u001b[36mDisplayObject.reload\u001b[39m\u001b[34m(self)\u001b[39m\n\u001b[32m    367\u001b[39m \u001b[38;5;28;01mif\u001b[39;00m \u001b[38;5;28mself\u001b[39m.filename \u001b[38;5;129;01mis\u001b[39;00m \u001b[38;5;129;01mnot\u001b[39;00m \u001b[38;5;28;01mNone\u001b[39;00m:\n\u001b[32m    368\u001b[39m     encoding = \u001b[38;5;28;01mNone\u001b[39;00m \u001b[38;5;28;01mif\u001b[39;00m \u001b[33m\"\u001b[39m\u001b[33mb\u001b[39m\u001b[33m\"\u001b[39m \u001b[38;5;129;01min\u001b[39;00m \u001b[38;5;28mself\u001b[39m._read_flags \u001b[38;5;28;01melse\u001b[39;00m \u001b[33m\"\u001b[39m\u001b[33mutf-8\u001b[39m\u001b[33m\"\u001b[39m\n\u001b[32m--> \u001b[39m\u001b[32m369\u001b[39m     \u001b[38;5;28;01mwith\u001b[39;00m \u001b[38;5;28;43mopen\u001b[39;49m\u001b[43m(\u001b[49m\u001b[38;5;28;43mself\u001b[39;49m\u001b[43m.\u001b[49m\u001b[43mfilename\u001b[49m\u001b[43m,\u001b[49m\u001b[43m \u001b[49m\u001b[38;5;28;43mself\u001b[39;49m\u001b[43m.\u001b[49m\u001b[43m_read_flags\u001b[49m\u001b[43m,\u001b[49m\u001b[43m \u001b[49m\u001b[43mencoding\u001b[49m\u001b[43m=\u001b[49m\u001b[43mencoding\u001b[49m\u001b[43m)\u001b[49m \u001b[38;5;28;01mas\u001b[39;00m f:\n\u001b[32m    370\u001b[39m         \u001b[38;5;28mself\u001b[39m.data = f.read()\n\u001b[32m    371\u001b[39m \u001b[38;5;28;01melif\u001b[39;00m \u001b[38;5;28mself\u001b[39m.url \u001b[38;5;129;01mis\u001b[39;00m \u001b[38;5;129;01mnot\u001b[39;00m \u001b[38;5;28;01mNone\u001b[39;00m:\n\u001b[32m    372\u001b[39m     \u001b[38;5;66;03m# Deferred import\u001b[39;00m\n",
      "\u001b[31mFileNotFoundError\u001b[39m: [Errno 2] No such file or directory: 'nested-for.png'"
     ]
    }
   ],
   "source": [
    "from IPython.display import Image\n",
    "Image(filename='nested-for.png') "
   ]
  },
  {
   "cell_type": "code",
   "execution_count": 4,
   "id": "9459b0ed",
   "metadata": {},
   "outputs": [
    {
     "name": "stdout",
     "output_type": "stream",
     "text": [
      "0 0\n",
      "0 1\n",
      "0 2\n",
      "1 0\n",
      "1 1\n",
      "1 2\n",
      "2 0\n",
      "2 1\n",
      "2 2\n"
     ]
    }
   ],
   "source": [
    "#for example 1\n",
    "for i in range(3):    \n",
    "    for j in range(3):\n",
    "        print(i, j)  \n",
    "\n",
    "                        "
   ]
  },
  {
   "cell_type": "code",
   "execution_count": 31,
   "id": "5347d130",
   "metadata": {},
   "outputs": [
    {
     "name": "stdin",
     "output_type": "stream",
     "text": [
      "enter the value whose table you want to print 49\n"
     ]
    },
    {
     "name": "stdout",
     "output_type": "stream",
     "text": [
      "49 x 1 = 49\n",
      "49 x 2 = 98\n",
      "49 x 3 = 147\n",
      "49 x 4 = 196\n",
      "49 x 5 = 245\n",
      "49 x 6 = 294\n",
      "49 x 7 = 343\n",
      "49 x 8 = 392\n",
      "49 x 9 = 441\n",
      "49 x 10 = 490\n"
     ]
    }
   ],
   "source": [
    "a=int(input(\"enter the value whose table you want to print\"))\n",
    "for i in range (1,11):\n",
    "        print(a,'x',i, '=', a*i, end=\"\\n\")\n",
    "  "
   ]
  },
  {
   "cell_type": "code",
   "execution_count": 6,
   "id": "0cf6ab74",
   "metadata": {},
   "outputs": [
    {
     "name": "stdout",
     "output_type": "stream",
     "text": [
      "1 x 1 = 1\n",
      "1 x 2 = 2\n",
      "1 x 3 = 3\n",
      "1 x 4 = 4\n",
      "1 x 5 = 5\n",
      "1 x 6 = 6\n",
      "1 x 7 = 7\n",
      "1 x 8 = 8\n",
      "1 x 9 = 9\n",
      "1 x 10 = 10\n",
      "\n",
      "2 x 1 = 2\n",
      "2 x 2 = 4\n",
      "2 x 3 = 6\n",
      "2 x 4 = 8\n",
      "2 x 5 = 10\n",
      "2 x 6 = 12\n",
      "2 x 7 = 14\n",
      "2 x 8 = 16\n",
      "2 x 9 = 18\n",
      "2 x 10 = 20\n",
      "\n",
      "3 x 1 = 3\n",
      "3 x 2 = 6\n",
      "3 x 3 = 9\n",
      "3 x 4 = 12\n",
      "3 x 5 = 15\n",
      "3 x 6 = 18\n",
      "3 x 7 = 21\n",
      "3 x 8 = 24\n",
      "3 x 9 = 27\n",
      "3 x 10 = 30\n",
      "\n",
      "4 x 1 = 4\n",
      "4 x 2 = 8\n",
      "4 x 3 = 12\n",
      "4 x 4 = 16\n",
      "4 x 5 = 20\n",
      "4 x 6 = 24\n",
      "4 x 7 = 28\n",
      "4 x 8 = 32\n",
      "4 x 9 = 36\n",
      "4 x 10 = 40\n",
      "\n",
      "5 x 1 = 5\n",
      "5 x 2 = 10\n",
      "5 x 3 = 15\n",
      "5 x 4 = 20\n",
      "5 x 5 = 25\n",
      "5 x 6 = 30\n",
      "5 x 7 = 35\n",
      "5 x 8 = 40\n",
      "5 x 9 = 45\n",
      "5 x 10 = 50\n",
      "\n",
      "6 x 1 = 6\n",
      "6 x 2 = 12\n",
      "6 x 3 = 18\n",
      "6 x 4 = 24\n",
      "6 x 5 = 30\n",
      "6 x 6 = 36\n",
      "6 x 7 = 42\n",
      "6 x 8 = 48\n",
      "6 x 9 = 54\n",
      "6 x 10 = 60\n",
      "\n",
      "7 x 1 = 7\n",
      "7 x 2 = 14\n",
      "7 x 3 = 21\n",
      "7 x 4 = 28\n",
      "7 x 5 = 35\n",
      "7 x 6 = 42\n",
      "7 x 7 = 49\n",
      "7 x 8 = 56\n",
      "7 x 9 = 63\n",
      "7 x 10 = 70\n",
      "\n",
      "8 x 1 = 8\n",
      "8 x 2 = 16\n",
      "8 x 3 = 24\n",
      "8 x 4 = 32\n",
      "8 x 5 = 40\n",
      "8 x 6 = 48\n",
      "8 x 7 = 56\n",
      "8 x 8 = 64\n",
      "8 x 9 = 72\n",
      "8 x 10 = 80\n",
      "\n",
      "9 x 1 = 9\n",
      "9 x 2 = 18\n",
      "9 x 3 = 27\n",
      "9 x 4 = 36\n",
      "9 x 5 = 45\n",
      "9 x 6 = 54\n",
      "9 x 7 = 63\n",
      "9 x 8 = 72\n",
      "9 x 9 = 81\n",
      "9 x 10 = 90\n",
      "\n",
      "10 x 1 = 10\n",
      "10 x 2 = 20\n",
      "10 x 3 = 30\n",
      "10 x 4 = 40\n",
      "10 x 5 = 50\n",
      "10 x 6 = 60\n",
      "10 x 7 = 70\n",
      "10 x 8 = 80\n",
      "10 x 9 = 90\n",
      "10 x 10 = 100\n",
      "\n"
     ]
    }
   ],
   "source": [
    "#Q1Write a nested for loop program to print multiplication table in Python\n",
    "# outer loop\n",
    "for i in range(1, 11):#row 1\n",
    "    \n",
    "    for j in range(1, 11): #colums 1\n",
    "        \n",
    "        print(i,\"x\",j,\"=\",i * j ,end=\"\\n\") \n",
    "                     \n",
    "                \n",
    "    print()"
   ]
  },
  {
   "cell_type": "markdown",
   "id": "19a76761",
   "metadata": {},
   "source": [
    "# Pattern:"
   ]
  },
  {
   "cell_type": "code",
   "execution_count": 32,
   "id": "4fbe294b",
   "metadata": {
    "scrolled": true
   },
   "outputs": [
    {
     "name": "stdout",
     "output_type": "stream",
     "text": [
      "* \n",
      "* * \n",
      "* * * \n",
      "* * * * \n",
      "* * * * * \n"
     ]
    }
   ],
   "source": [
    "a = 5\n",
    "for i in range(1,a+1):\n",
    "    for j in range(1,i+1):\n",
    "        print(\"*\" ,end=\" \")\n",
    "    print()    "
   ]
  },
  {
   "cell_type": "code",
   "execution_count": 2,
   "id": "90f32659-f7aa-4796-ac99-b1d98932f6dc",
   "metadata": {},
   "outputs": [],
   "source": [
    "# # # # #\n",
    "# # # #\n",
    "# # #\n",
    "# #\n",
    "#"
   ]
  },
  {
   "cell_type": "code",
   "execution_count": 13,
   "id": "583ddf45-f58a-4aef-8639-2bf101eac243",
   "metadata": {},
   "outputs": [
    {
     "name": "stdout",
     "output_type": "stream",
     "text": [
      "0\n",
      "1\n",
      "2\n",
      "3\n",
      "4\n",
      "5\n"
     ]
    }
   ],
   "source": [
    "for i in range(6):\n",
    "    print(i)"
   ]
  },
  {
   "cell_type": "code",
   "execution_count": 14,
   "id": "a71e52f2-c78d-46cb-9a12-b98b004b3a7f",
   "metadata": {},
   "outputs": [
    {
     "name": "stdout",
     "output_type": "stream",
     "text": [
      "6\n"
     ]
    }
   ],
   "source": [
    "i=6\n",
    "print(i)"
   ]
  },
  {
   "cell_type": "code",
   "execution_count": null,
   "id": "3efe3190-899a-469a-ae26-7e45f40cc78c",
   "metadata": {},
   "outputs": [],
   "source": []
  },
  {
   "cell_type": "code",
   "execution_count": null,
   "id": "8a9f500e-7efb-44c7-9a1d-80a094f4afd3",
   "metadata": {},
   "outputs": [],
   "source": [
    "55555\n",
    "4444\n",
    "333\n",
    "22\n",
    "1"
   ]
  },
  {
   "cell_type": "code",
   "execution_count": 6,
   "id": "ac4d2aff",
   "metadata": {},
   "outputs": [
    {
     "name": "stdout",
     "output_type": "stream",
     "text": [
      "0 0 0 1 0 2 0 3 0 4 0 5 \n",
      "1 0 1 1 1 2 1 3 1 4 1 5 \n",
      "2 0 2 1 2 2 2 3 2 4 2 5 \n",
      "3 0 3 1 3 2 3 3 3 4 3 5 \n",
      "4 0 4 1 4 2 4 3 4 4 4 5 \n",
      "5 0 5 1 5 2 5 3 5 4 5 5 \n"
     ]
    }
   ],
   "source": [
    "rows = 6\n",
    "# if you want user to enter a number, uncomment the below line\n",
    "# rows = int(input('Enter the number of rows'))\n",
    "# outer loop\n",
    "\n",
    "for i in range(rows): \n",
    "    # print('')\n",
    "    # nested loop\n",
    "    for j in range(rows):  \n",
    "        # display number\n",
    "        print(i,j,end=' ') \n",
    "    # new line after each row\n",
    "    print('')\n",
    "\n",
    "\n"
   ]
  },
  {
   "cell_type": "code",
   "execution_count": 28,
   "id": "a65f5d78",
   "metadata": {},
   "outputs": [
    {
     "name": "stdout",
     "output_type": "stream",
     "text": [
      "1 \n",
      "1 2 \n",
      "1 2 3 \n",
      "1 2 3 4 \n",
      "1 2 3 4 5 \n"
     ]
    }
   ],
   "source": [
    "rows = 5\n",
    "for i in range(1, rows + 1):\n",
    "    for j in range(1, i + 1):\n",
    "        print(j, end=' ')\n",
    "    print('')\n",
    "\n"
   ]
  },
  {
   "cell_type": "code",
   "execution_count": 29,
   "id": "ba6366b4",
   "metadata": {},
   "outputs": [
    {
     "name": "stdout",
     "output_type": "stream",
     "text": [
      "1 1 1 1 1 \n",
      "\n",
      "2 2 2 2 \n",
      "\n",
      "3 3 3 \n",
      "\n",
      "4 4 \n",
      "\n",
      "5 \n",
      "\n"
     ]
    }
   ],
   "source": [
    "rows = 5\n",
    "b = 0\n",
    "# reverse for loop from 5 to 0\n",
    "for i in range(rows, 0, -1):\n",
    "    b += 1\n",
    "    for j in range(1, i + 1):\n",
    "        print(b, end=' ')\n",
    "    print('\\n')"
   ]
  },
  {
   "cell_type": "code",
   "execution_count": 7,
   "id": "2f13d279",
   "metadata": {},
   "outputs": [
    {
     "name": "stdout",
     "output_type": "stream",
     "text": [
      "[1, 2, 2, 2, 9]\n"
     ]
    }
   ],
   "source": [
    "l =[1,5,3,2,9]\n",
    "# temp = 0\n",
    "for i in range(len(l)):\n",
    "    for j in range(i+1, len(l)):\n",
    "        if l[i]>l[j]:\n",
    "            # temp = l[i]\n",
    "            l[i] = l[j]\n",
    "            l[j] = l[i]\n",
    "            # l[j] = temp\n",
    "print(l)\n"
   ]
  },
  {
   "cell_type": "code",
   "execution_count": 8,
   "id": "98fcd937",
   "metadata": {},
   "outputs": [
    {
     "name": "stdout",
     "output_type": "stream",
     "text": [
      "[1, 2, 3, 5, 9]\n"
     ]
    }
   ],
   "source": [
    "l = [1, 5, 3, 2, 9]\n",
    "\n",
    "for i in range(len(l)):\n",
    "    for j in range(i+1, len(l)):\n",
    "        if l[i] > l[j]:\n",
    "            l[i], l[j] = l[j], l[i]  # Swap using tuple unpacking\n",
    "\n",
    "print(l)"
   ]
  },
  {
   "cell_type": "code",
   "execution_count": null,
   "id": "f7a6693e-83e4-43e5-ab83-36778dbe3073",
   "metadata": {},
   "outputs": [],
   "source": []
  }
 ],
 "metadata": {
  "kernelspec": {
   "display_name": "Python 3 (ipykernel)",
   "language": "python",
   "name": "python3"
  },
  "language_info": {
   "codemirror_mode": {
    "name": "ipython",
    "version": 3
   },
   "file_extension": ".py",
   "mimetype": "text/x-python",
   "name": "python",
   "nbconvert_exporter": "python",
   "pygments_lexer": "ipython3",
   "version": "3.13.3"
  },
  "vscode": {
   "interpreter": {
    "hash": "72b2382ece9768098284d92bbc69d35954e75b60d1e25897d1389c232f4796f0"
   }
  }
 },
 "nbformat": 4,
 "nbformat_minor": 5
}
