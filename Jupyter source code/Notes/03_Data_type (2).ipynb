{
 "cells": [
  {
   "cell_type": "markdown",
   "id": "74da5f9d",
   "metadata": {},
   "source": [
    "# DATA TYPE"
   ]
  },
  {
   "cell_type": "code",
   "execution_count": 1,
   "id": "48fcbce2-ed07-40a8-a988-e0b5fe934749",
   "metadata": {},
   "outputs": [
    {
     "ename": "SyntaxError",
     "evalue": "invalid syntax (3652697680.py, line 1)",
     "output_type": "error",
     "traceback": [
      "  \u001b[36mCell\u001b[39m\u001b[36m \u001b[39m\u001b[32mIn[1]\u001b[39m\u001b[32m, line 1\u001b[39m\n\u001b[31m    \u001b[39m\u001b[31mThere are three types of data types:\u001b[39m\n          ^\n\u001b[31mSyntaxError\u001b[39m\u001b[31m:\u001b[39m invalid syntax\n"
     ]
    }
   ],
   "source": [
    "There are three types of data types:\n",
    "1. Numeric: int, float, complex \n",
    "2. Sequence: string, list, tuple\n",
    "3. Mapping: Dictionaries"
   ]
  },
  {
   "cell_type": "code",
   "execution_count": null,
   "id": "64a415fe-03c8-4178-9491-f480cfe97ae9",
   "metadata": {},
   "outputs": [
    {
     "name": "stdin",
     "output_type": "stream",
     "text": [
      "mishra 5\n"
     ]
    }
   ],
   "source": [
    "a=int(input(\"mishra\"))\n",
    "b=complex(input(\"b:\" ))   \n",
    "c=a+b\n",
    "print(c)"
   ]
  },
  {
   "cell_type": "code",
   "execution_count": 2,
   "id": "37300fa6-4084-44e3-b003-095f38193791",
   "metadata": {},
   "outputs": [
    {
     "name": "stdin",
     "output_type": "stream",
     "text": [
      "Palash 2\n",
      "b: 5\n"
     ]
    },
    {
     "name": "stdout",
     "output_type": "stream",
     "text": [
      "(7+0j)\n",
      "<class 'int'>\n"
     ]
    }
   ],
   "source": [
    "a= int(input(\"Palash\"))\n",
    "b= complex(input(\"b:\"))\n",
    "c=a+b\n",
    "print(c)\n",
    "print(type(a))"
   ]
  },
  {
   "cell_type": "code",
   "execution_count": 1,
   "id": "c5760d67",
   "metadata": {},
   "outputs": [
    {
     "name": "stdout",
     "output_type": "stream",
     "text": [
      "<class 'float'>\n",
      "<class 'str'>\n",
      "<class 'int'>\n"
     ]
    }
   ],
   "source": [
    "a=90.0\n",
    "b=\"python\"\n",
    "c=90\n",
    "print(type(a))\n",
    "print(type(b))\n",
    "print(type(c))"
   ]
  },
  {
   "cell_type": "code",
   "execution_count": null,
   "id": "bfe81131",
   "metadata": {},
   "outputs": [],
   "source": [
    "a=complex(input(\"enter a number\"))\n",
    "b=int(input(\"enter a number\"))\n",
    "c=a+b \n",
    "print(c)\n",
    "print(type(a))"
   ]
  },
  {
   "cell_type": "code",
   "execution_count": 3,
   "id": "68d9991e",
   "metadata": {},
   "outputs": [
    {
     "name": "stdout",
     "output_type": "stream",
     "text": [
      "90.0\n",
      "89\n"
     ]
    },
    {
     "ename": "TypeError",
     "evalue": "int() argument must be a string, a bytes-like object or a real number, not 'complex'",
     "output_type": "error",
     "traceback": [
      "\u001b[31m---------------------------------------------------------------------------\u001b[39m",
      "\u001b[31mTypeError\u001b[39m                                 Traceback (most recent call last)",
      "\u001b[36mCell\u001b[39m\u001b[36m \u001b[39m\u001b[32mIn[3]\u001b[39m\u001b[32m, line 6\u001b[39m\n\u001b[32m      4\u001b[39m \u001b[38;5;28mprint\u001b[39m(\u001b[38;5;28mint\u001b[39m(b))\n\u001b[32m      5\u001b[39m c=\u001b[32m56\u001b[39m+\u001b[32m78\u001b[39mj \n\u001b[32m----> \u001b[39m\u001b[32m6\u001b[39m \u001b[38;5;28mprint\u001b[39m(\u001b[38;5;28;43mint\u001b[39;49m\u001b[43m(\u001b[49m\u001b[43mc\u001b[49m\u001b[43m)\u001b[49m) \n",
      "\u001b[31mTypeError\u001b[39m: int() argument must be a string, a bytes-like object or a real number, not 'complex'"
     ]
    }
   ],
   "source": [
    "a=90\n",
    "print(float(a))\n",
    "b=89.0\n",
    "print(int(b))\n",
    "c=56+78j \n",
    "print(int(c)) "
   ]
  },
  {
   "cell_type": "code",
   "execution_count": 10,
   "id": "e826fe52",
   "metadata": {},
   "outputs": [
    {
     "name": "stdout",
     "output_type": "stream",
     "text": [
      "\n"
     ]
    }
   ],
   "source": [
    "a=\"hello\"\n",
    "print(a[-1:-5])"
   ]
  },
  {
   "cell_type": "code",
   "execution_count": 6,
   "id": "34af6a0b",
   "metadata": {},
   "outputs": [
    {
     "name": "stdout",
     "output_type": "stream",
     "text": [
      "6\n",
      "<class 'NoneType'>\n"
     ]
    }
   ],
   "source": [
    "a=6\n",
    "z=print(str(a))\n",
    "print(type(z))"
   ]
  },
  {
   "cell_type": "code",
   "execution_count": null,
   "id": "8f0ecfd4",
   "metadata": {},
   "outputs": [],
   "source": [
    "a=int(input(\"enter numebr\"))\n",
    "b=int(input(\"enter numebr\"))\n",
    "print(a+b)\n",
    "print(type(a))\n",
    "print(a)  "
   ]
  },
  {
   "cell_type": "markdown",
   "id": "630d8a2f",
   "metadata": {},
   "source": [
    "Variables can store data of different types, and different types can do different things."
   ]
  },
  {
   "cell_type": "markdown",
   "id": "bcb14093",
   "metadata": {},
   "source": [
    "- interger"
   ]
  },
  {
   "cell_type": "markdown",
   "id": "a38e242a",
   "metadata": {},
   "source": [
    "- float"
   ]
  },
  {
   "cell_type": "markdown",
   "id": "77ed958c",
   "metadata": {},
   "source": [
    "- complex"
   ]
  },
  {
   "cell_type": "markdown",
   "id": "b949051d",
   "metadata": {},
   "source": [
    "- Boolean"
   ]
  },
  {
   "cell_type": "markdown",
   "id": "352d0c4a",
   "metadata": {},
   "source": [
    "- Range"
   ]
  },
  {
   "cell_type": "markdown",
   "id": "8e374bfe",
   "metadata": {},
   "source": [
    "- byetarray"
   ]
  },
  {
   "cell_type": "markdown",
   "id": "865a8715",
   "metadata": {},
   "source": [
    "- set"
   ]
  },
  {
   "cell_type": "markdown",
   "id": "234f8d61",
   "metadata": {},
   "source": [
    "- frozenset"
   ]
  },
  {
   "cell_type": "markdown",
   "id": "fc78159e",
   "metadata": {},
   "source": [
    "- List"
   ]
  },
  {
   "cell_type": "markdown",
   "id": "aa0ab021",
   "metadata": {},
   "source": [
    "- Tuple"
   ]
  },
  {
   "cell_type": "markdown",
   "id": "b93359b0",
   "metadata": {},
   "source": [
    "- string"
   ]
  },
  {
   "cell_type": "markdown",
   "id": "535b9b89",
   "metadata": {},
   "source": [
    "- Dicitionary"
   ]
  },
  {
   "cell_type": "markdown",
   "id": "33eeaf43",
   "metadata": {},
   "source": [
    "- None"
   ]
  },
  {
   "cell_type": "markdown",
   "id": "b0bf30ff",
   "metadata": {},
   "source": [
    "1.Numeric: int,float"
   ]
  },
  {
   "cell_type": "markdown",
   "id": "02e99155",
   "metadata": {},
   "source": [
    "2.Sequence Types: str,tuple,list"
   ]
  },
  {
   "cell_type": "markdown",
   "id": "c6039848",
   "metadata": {},
   "source": [
    "3.Mapping Type:dict"
   ]
  },
  {
   "cell_type": "markdown",
   "id": "7dfd2649",
   "metadata": {},
   "source": [
    "# Numeric Type"
   ]
  },
  {
   "cell_type": "markdown",
   "id": "7d9dacc0",
   "metadata": {},
   "source": [
    " - (int,float)"
   ]
  },
  {
   "cell_type": "markdown",
   "id": "0a63c204",
   "metadata": {},
   "source": [
    "Integers:"
   ]
  },
  {
   "cell_type": "markdown",
   "id": "673e3806",
   "metadata": {},
   "source": [
    "- It contains positive or negative whole numbers"
   ]
  },
  {
   "cell_type": "code",
   "execution_count": null,
   "id": "61979c58",
   "metadata": {},
   "outputs": [],
   "source": [
    "a=\"damini\"\n",
    "print(type(a))\n",
    "# b=90\n",
    "# print(type(b))\n",
    "# print(type(a))\n",
    "# print(a)"
   ]
  },
  {
   "cell_type": "code",
   "execution_count": null,
   "id": "c8d66d96",
   "metadata": {},
   "outputs": [],
   "source": [
    "a=int(input(\"enter a number\"))\n",
    "b=int(input(\"enter a number\"))\n",
    "print(a+b)\n",
    "print(type(a))"
   ]
  },
  {
   "cell_type": "code",
   "execution_count": null,
   "id": "3b314939",
   "metadata": {},
   "outputs": [],
   "source": [
    "a=90 \n",
    "b=90.0\n",
    "c=9+8j"
   ]
  },
  {
   "cell_type": "code",
   "execution_count": null,
   "id": "a120f9c8",
   "metadata": {},
   "outputs": [],
   "source": [
    "a=\"kartik\"\n",
    "print(type(a))"
   ]
  },
  {
   "cell_type": "code",
   "execution_count": null,
   "id": "777e20ff",
   "metadata": {},
   "outputs": [],
   "source": [
    "a=\"aditya\"\n",
    "print(type(a))"
   ]
  },
  {
   "cell_type": "code",
   "execution_count": null,
   "id": "b346a249",
   "metadata": {},
   "outputs": [],
   "source": [
    "b=9.0\n",
    "print(type(b))"
   ]
  },
  {
   "cell_type": "markdown",
   "id": "de7356f0",
   "metadata": {},
   "source": [
    "for example :"
   ]
  },
  {
   "cell_type": "markdown",
   "id": "18adacf7",
   "metadata": {},
   "source": [
    "1,2,3,4,-9,-8,-6,7,-546,-1"
   ]
  },
  {
   "cell_type": "markdown",
   "id": "113980c6",
   "metadata": {},
   "source": [
    "float:"
   ]
  },
  {
   "cell_type": "markdown",
   "id": "f1232956",
   "metadata": {},
   "source": [
    "- It is specified by a decimal point"
   ]
  },
  {
   "cell_type": "markdown",
   "id": "3892e50c",
   "metadata": {},
   "source": [
    "for example :"
   ]
  },
  {
   "cell_type": "markdown",
   "id": "6dc4b44f",
   "metadata": {},
   "source": [
    "13.2,-12.5,-4.8,7.8"
   ]
  },
  {
   "cell_type": "code",
   "execution_count": 7,
   "id": "2d59be50",
   "metadata": {},
   "outputs": [
    {
     "name": "stdout",
     "output_type": "stream",
     "text": [
      "<class 'complex'>\n"
     ]
    }
   ],
   "source": [
    "a=4+0j\n",
    "print(type(a)) "
   ]
  },
  {
   "cell_type": "code",
   "execution_count": 8,
   "id": "3985adcc",
   "metadata": {},
   "outputs": [
    {
     "name": "stdout",
     "output_type": "stream",
     "text": [
      "<class 'complex'>\n",
      "5.6\n",
      "<class 'float'>\n"
     ]
    }
   ],
   "source": [
    "#if we need to check data type in python we use type() function\n",
    "a=9\n",
    "a=9.0\n",
    "a=6+7j\n",
    "print(type(a))\n",
    "\n",
    "a = 5.6\n",
    "print(a)\n",
    "print(type(a))"
   ]
  },
  {
   "cell_type": "code",
   "execution_count": null,
   "id": "21bcefe8",
   "metadata": {},
   "outputs": [],
   "source": [
    "a=\"preet\"\n",
    "a='sanket'\n",
    "print(type(a))"
   ]
  },
  {
   "cell_type": "markdown",
   "id": "e281bcb1",
   "metadata": {},
   "source": [
    "# Casting"
   ]
  },
  {
   "cell_type": "markdown",
   "id": "6c11060e",
   "metadata": {},
   "source": [
    "- Casting in Python refers to the process of converting a value from one data type to another. For example, converting an integer to a string, a float to an integer, etc."
   ]
  },
  {
   "cell_type": "markdown",
   "id": "5de95c6a",
   "metadata": {},
   "source": [
    "functions for casting:"
   ]
  },
  {
   "cell_type": "code",
   "execution_count": 4,
   "id": "01036e18",
   "metadata": {},
   "outputs": [
    {
     "name": "stdout",
     "output_type": "stream",
     "text": [
      "(63+0j)\n",
      "63.0\n"
     ]
    }
   ],
   "source": [
    "a=63\n",
    "b=2\n",
    "print(complex(a))\n",
    "#print(float(a))\n",
    "# print(type(b))\n",
    "# b=print(float(a))\n",
    "# print(b)"
   ]
  },
  {
   "cell_type": "code",
   "execution_count": 5,
   "id": "6ac4f553",
   "metadata": {},
   "outputs": [
    {
     "name": "stdout",
     "output_type": "stream",
     "text": [
      "90\n"
     ]
    }
   ],
   "source": [
    "a=90.8\n",
    "print(int(a))"
   ]
  },
  {
   "cell_type": "code",
   "execution_count": 6,
   "id": "3e9c8b1b",
   "metadata": {},
   "outputs": [
    {
     "name": "stdout",
     "output_type": "stream",
     "text": [
      "90\n"
     ]
    }
   ],
   "source": [
    "a=90.0\n",
    "print(int(a))"
   ]
  },
  {
   "cell_type": "code",
   "execution_count": 7,
   "id": "75a16272",
   "metadata": {},
   "outputs": [
    {
     "name": "stdout",
     "output_type": "stream",
     "text": [
      "<class 'str'>\n",
      "6\n"
     ]
    }
   ],
   "source": [
    "a=6 \n",
    "b=str(a)\n",
    "print(type(b))\n",
    "print(b) "
   ]
  },
  {
   "cell_type": "code",
   "execution_count": null,
   "id": "2bbe9e3e",
   "metadata": {},
   "outputs": [],
   "source": [
    "a=int(input(\"enter a number\"))\n",
    "b=complex(input(\"enter a number\"))\n",
    "print(a+b)\n",
    "print(type(a))"
   ]
  },
  {
   "cell_type": "markdown",
   "id": "6d2b4cde",
   "metadata": {},
   "source": [
    "- int()"
   ]
  },
  {
   "cell_type": "markdown",
   "id": "104b7049",
   "metadata": {},
   "source": [
    "- float()"
   ]
  },
  {
   "cell_type": "code",
   "execution_count": null,
   "id": "0ef98d0c",
   "metadata": {},
   "outputs": [],
   "source": [
    "a=float(input(\"enter a number\"))\n",
    "print(a)\n",
    "print(type(a))"
   ]
  },
  {
   "cell_type": "code",
   "execution_count": null,
   "id": "1b5b500e",
   "metadata": {},
   "outputs": [],
   "source": [
    "a=(input(\"enter a number\"))\n",
    "b=(input(\"enter a number\"))\n",
    "# c=a+b\n",
    "print(a+b) "
   ]
  },
  {
   "cell_type": "code",
   "execution_count": null,
   "id": "a8f5058f",
   "metadata": {
    "scrolled": true
   },
   "outputs": [],
   "source": [
    "#for example:\n",
    "a=63\n",
    "b = 9.5\n",
    "c = 6\n",
    "\n",
    "print(float(a))\n",
    "print(str(c))\n",
    "print(type(c))\n",
    "print(int(b))"
   ]
  },
  {
   "cell_type": "code",
   "execution_count": null,
   "id": "ed9928e9",
   "metadata": {},
   "outputs": [],
   "source": [
    "a=float(input(\"\"))\n",
    "b=7\n",
    "print(a+b)"
   ]
  },
  {
   "cell_type": "markdown",
   "id": "3600f1f6",
   "metadata": {},
   "source": [
    "- str()"
   ]
  },
  {
   "cell_type": "code",
   "execution_count": null,
   "id": "2317d0d6",
   "metadata": {},
   "outputs": [],
   "source": [
    "b=5\n",
    "\n",
    "#Checking the data type of variable \"num\"\n",
    "print(type(b))\n",
    "\n",
    "# Converting \"num\" from an integer to a string\n",
    "a = str(b)\n",
    "\n",
    "# Checking the data of variable \"num\" after int to string conversion\n",
    "print( type(a))\n",
    "print(a)"
   ]
  },
  {
   "cell_type": "code",
   "execution_count": null,
   "id": "3e9c318e",
   "metadata": {},
   "outputs": [],
   "source": [
    "a=int(input(\"enter a  no.\")) \n",
    "b=complex(input(\"enter a  no.\"))\n",
    "print(a+b)\n",
    "print(type(a))"
   ]
  },
  {
   "cell_type": "code",
   "execution_count": null,
   "id": "33af1f0a",
   "metadata": {},
   "outputs": [],
   "source": [
    "a=float(input(\"enter a number\"))\n",
    "print(a)\n",
    "print(type(a))"
   ]
  },
  {
   "cell_type": "code",
   "execution_count": null,
   "id": "67ca4e86",
   "metadata": {},
   "outputs": [],
   "source": [
    "print(\"amit\")"
   ]
  },
  {
   "cell_type": "code",
   "execution_count": 9,
   "id": "e7ffa113",
   "metadata": {},
   "outputs": [
    {
     "name": "stdin",
     "output_type": "stream",
     "text": [
      "enter a number 45.6\n",
      "enter a number 56.7\n",
      "enter a number 87.9\n"
     ]
    },
    {
     "name": "stdout",
     "output_type": "stream",
     "text": [
      "190.20000000000002\n"
     ]
    }
   ],
   "source": [
    "a=float(input(\"enter a number\"))\n",
    "b=float(input(\"enter a number\"))\n",
    "c=float(input(\"enter a number\"))\n",
    "d=a+b+c \n",
    "print(d)"
   ]
  },
  {
   "cell_type": "code",
   "execution_count": null,
   "id": "4e25a69c",
   "metadata": {},
   "outputs": [],
   "source": [
    "n=5\n",
    "print(type(n))\n",
    "b=str(n)\n",
    "print(b)\n",
    "print(type(b))"
   ]
  },
  {
   "cell_type": "markdown",
   "id": "6c21214a",
   "metadata": {},
   "source": [
    "# Sequence Type"
   ]
  },
  {
   "cell_type": "markdown",
   "id": "d4ef49b5",
   "metadata": {},
   "source": [
    "- A sequence in Python is an ordered collection of elements. There are several built-in sequence types in Python, including:"
   ]
  },
  {
   "cell_type": "markdown",
   "id": "ff8de86c",
   "metadata": {},
   "source": [
    "- string"
   ]
  },
  {
   "cell_type": "markdown",
   "id": "60363a7d",
   "metadata": {},
   "source": [
    "- list"
   ]
  },
  {
   "cell_type": "markdown",
   "id": "eaa1864d",
   "metadata": {},
   "source": [
    "- tuple ()"
   ]
  },
  {
   "cell_type": "markdown",
   "id": "1a7fbe56",
   "metadata": {},
   "source": [
    "# String:"
   ]
  },
  {
   "cell_type": "markdown",
   "id": "3e1f1c5c",
   "metadata": {},
   "source": [
    "- A string is a squence of characters that can be a combination of letters, numbers,and special characters"
   ]
  },
  {
   "cell_type": "code",
   "execution_count": null,
   "id": "14b2ddad",
   "metadata": {},
   "outputs": [],
   "source": [
    "a=\"8\"\n",
    "b=\"9\"\n",
    "print(a+b)"
   ]
  },
  {
   "cell_type": "code",
   "execution_count": 12,
   "id": "686ad32b",
   "metadata": {},
   "outputs": [
    {
     "name": "stdout",
     "output_type": "stream",
     "text": [
      "<class 'int'>\n"
     ]
    }
   ],
   "source": [
    "a=6\n",
    "print(type(a))"
   ]
  },
  {
   "cell_type": "code",
   "execution_count": 15,
   "id": "a2be9573",
   "metadata": {},
   "outputs": [
    {
     "name": "stdout",
     "output_type": "stream",
     "text": [
      "h\n",
      "6\n"
     ]
    }
   ],
   "source": [
    "a='harman'\n",
    "#    012345\n",
    "#          -2-1\n",
    "print(a[-6])\n",
    "\n",
    "print(len(a))"
   ]
  },
  {
   "cell_type": "code",
   "execution_count": 16,
   "id": "f1ed051e",
   "metadata": {},
   "outputs": [
    {
     "name": "stdout",
     "output_type": "stream",
     "text": [
      "\n"
     ]
    }
   ],
   "source": [
    "# indexing:\n",
    "#     positive indexing 0\n",
    "#     negative indexing -1\n",
    "a='hunny'\n",
    "#    ynnuh\n",
    "#  01234\n",
    "# print(a[0:5:3])\n",
    "print(a[-1:-6])\n",
    "#    12345\n",
    "#    01234\n",
    "#  -54-3-2-1\n",
    "# n-1\n",
    "# a[start:end:step] "
   ]
  },
  {
   "cell_type": "markdown",
   "id": "bc8e0b46",
   "metadata": {},
   "source": [
    "- It can be declared in python by using single quotes,double quotes,or even triple quotes."
   ]
  },
  {
   "cell_type": "markdown",
   "id": "1df676a0",
   "metadata": {},
   "source": [
    "- strings are immutable, they cannot be changed Each element of the string can be accessed using indexing or slicing"
   ]
  },
  {
   "cell_type": "code",
   "execution_count": 17,
   "id": "cc2f2d4b",
   "metadata": {},
   "outputs": [
    {
     "name": "stdout",
     "output_type": "stream",
     "text": [
      "n\n",
      "11\n"
     ]
    }
   ],
   "source": [
    "a=\"karan singh\"\n",
    "print(a[-7])\n",
    "   \n",
    "#    1\n",
    "print(len(a))\n",
    "#    12345\n",
    "#    01234\n",
    "#         2--1\n",
    "#    n-1\n",
    "#    5-1=5=4      "
   ]
  },
  {
   "cell_type": "markdown",
   "id": "561f636d",
   "metadata": {},
   "source": [
    "indexing:"
   ]
  },
  {
   "cell_type": "markdown",
   "id": "de4b91b8",
   "metadata": {},
   "source": [
    "- Indexing in Python refers to the process of accessing a particular element sequence data type for example: (list,tuple,string)"
   ]
  },
  {
   "cell_type": "code",
   "execution_count": 13,
   "id": "7a1f81bb",
   "metadata": {},
   "outputs": [
    {
     "name": "stdout",
     "output_type": "stream",
     "text": [
      "5\n",
      "t\n"
     ]
    }
   ],
   "source": [
    "a=\"preet\"\n",
    "print(len(a))\n",
    "print(a[-1])"
   ]
  },
  {
   "cell_type": "markdown",
   "id": "7fd96603",
   "metadata": {},
   "source": [
    "- Indexing starts from zero (0) for the first element and goes up to n-1 for an n element sequence, where n is the length of the sequence. You can access elements in a sequence by specifying the index of the element inside square brackets ([])"
   ]
  },
  {
   "cell_type": "code",
   "execution_count": 18,
   "id": "86e19959",
   "metadata": {},
   "outputs": [
    {
     "ename": "IndentationError",
     "evalue": "unexpected indent (2938979457.py, line 5)",
     "output_type": "error",
     "traceback": [
      "  \u001b[36mCell\u001b[39m\u001b[36m \u001b[39m\u001b[32mIn[18]\u001b[39m\u001b[32m, line 5\u001b[39m\n\u001b[31m    \u001b[39m\u001b[31m0lleh\u001b[39m\n    ^\n\u001b[31mIndentationError\u001b[39m\u001b[31m:\u001b[39m unexpected indent\n"
     ]
    }
   ],
   "source": [
    "#for example\n",
    "#     01234\n",
    "#     12345\n",
    "a =\"hello\"\n",
    "    0lleh\n",
    "print(a[0:5:2])\n",
    "# print(a[0,1])\n",
    "\n",
    "#     0   -1\n",
    "#     0123\n",
    "#     0\n",
    "#     n-1 \n",
    "#     5-1=4\n",
    "#     01234\n",
    "start:end:step []\n",
    "# print(a[0:4:3])\n",
    "# print(a[-1])\n",
    "    \n",
    "# print(a[-5])"
   ]
  },
  {
   "cell_type": "code",
   "execution_count": 19,
   "id": "af577ff0",
   "metadata": {},
   "outputs": [
    {
     "name": "stdout",
     "output_type": "stream",
     "text": [
      "l\n"
     ]
    }
   ],
   "source": [
    "a=\"hello\"\n",
    "print(a[2])"
   ]
  },
  {
   "cell_type": "markdown",
   "id": "b0518053",
   "metadata": {},
   "source": [
    "We can access characters in a String in Two ways :"
   ]
  },
  {
   "cell_type": "markdown",
   "id": "fd442f46",
   "metadata": {},
   "source": [
    "- Accessing Characters by Positive Index Number"
   ]
  },
  {
   "cell_type": "code",
   "execution_count": 20,
   "id": "a401f1af",
   "metadata": {},
   "outputs": [
    {
     "name": "stdout",
     "output_type": "stream",
     "text": [
      "o\n"
     ]
    }
   ],
   "source": [
    " #Example 1 (Positive Indexing) : \n",
    "\n",
    "a =\"hello\"\n",
    "#          \n",
    "print(a[-1])"
   ]
  },
  {
   "cell_type": "markdown",
   "id": "7f3b9cd7",
   "metadata": {},
   "source": [
    "- Accessing Characters by Negative Index Number"
   ]
  },
  {
   "cell_type": "code",
   "execution_count": null,
   "id": "06582164",
   "metadata": {},
   "outputs": [],
   "source": [
    "#Example 2 (Negative Indexing) : \n",
    "\n",
    "a =\"hello\"\n",
    "#     01234\n",
    "print(a[0])\n",
    "print(a[1])"
   ]
  },
  {
   "cell_type": "markdown",
   "id": "3d0ba589",
   "metadata": {},
   "source": [
    "slicing:"
   ]
  },
  {
   "cell_type": "markdown",
   "id": "478ee72f",
   "metadata": {},
   "source": [
    "- Slicing in Python refers to the process of extracting a portion of a sequence, such as a list, tuple, or string, and creating a new sequence from it. The original sequence remains unchanged."
   ]
  },
  {
   "cell_type": "code",
   "execution_count": null,
   "id": "4ecb4f0a",
   "metadata": {},
   "outputs": [],
   "source": [
    "a=\"iamlearningpython\"\n",
    "print(len(a))\n",
    "print(a[::-2])\n",
    "# [start point: end point: step]"
   ]
  },
  {
   "cell_type": "markdown",
   "id": "b874fa9c",
   "metadata": {},
   "source": [
    "- Slicing is performed by specifying two indices separated by a colon : inside square brackets ([]). The first index is the starting position, and the second index is the ending position. The slice includes all the elements between the start and end indices, including the start index but excluding the end index. The start index is optional and defaults to 0, and the end index is optional and defaults to the length of the sequence. For example:"
   ]
  },
  {
   "cell_type": "markdown",
   "id": "5ea2b325",
   "metadata": {},
   "source": [
    "- string[start : end : step]"
   ]
  },
  {
   "cell_type": "code",
   "execution_count": 1,
   "id": "10e2ee81",
   "metadata": {},
   "outputs": [
    {
     "name": "stdout",
     "output_type": "stream",
     "text": [
      "anu\n"
     ]
    }
   ],
   "source": [
    "a=\"anurag\"\n",
    "print(a[-7:-3])"
   ]
  },
  {
   "cell_type": "code",
   "execution_count": 3,
   "id": "d5303f1a",
   "metadata": {},
   "outputs": [
    {
     "ename": "_IncompleteInputError",
     "evalue": "incomplete input (2872058958.py, line 11)",
     "output_type": "error",
     "traceback": [
      "  \u001b[36mCell\u001b[39m\u001b[36m \u001b[39m\u001b[32mIn[3]\u001b[39m\u001b[32m, line 11\u001b[39m\n\u001b[31m    \u001b[39m\u001b[31m# print(str[1 : 10 : 3])\u001b[39m\n                            ^\n\u001b[31m_IncompleteInputError\u001b[39m\u001b[31m:\u001b[39m incomplete input\n"
     ]
    }
   ],
   "source": [
    "# declaring the string\n",
    "#     012345678910  12345\n",
    "str =\"Iamlearningpython\"\n",
    "#         l a\n",
    "# print(len(str))\n",
    "# print(str[0:17:3])\n",
    "print(str[ : :-1]\n",
    "# slicing using indexing sequence\n",
    "# print(str[2:7:2])\n",
    "# print(str[3:7:2])\n",
    "# print(str[1 : 10 : 3])"
   ]
  },
  {
   "cell_type": "code",
   "execution_count": 21,
   "id": "016863dd",
   "metadata": {},
   "outputs": [
    {
     "name": "stdout",
     "output_type": "stream",
     "text": [
      "nohtypgninraelmaI\n"
     ]
    }
   ],
   "source": [
    "str =\"Iamlearningpython\"\n",
    "print(str[ : :-1])"
   ]
  },
  {
   "cell_type": "code",
   "execution_count": 22,
   "id": "37d7a758",
   "metadata": {},
   "outputs": [
    {
     "name": "stdout",
     "output_type": "stream",
     "text": [
      "kdp\n"
     ]
    }
   ],
   "source": [
    "a=\"kuldeep\"\n",
    "print(a[0:7:3])"
   ]
  },
  {
   "cell_type": "code",
   "execution_count": 23,
   "id": "429f0b0b",
   "metadata": {},
   "outputs": [
    {
     "name": "stdout",
     "output_type": "stream",
     "text": [
      "Original String :-\n",
      " i am learning python!\n",
      "Reverse String :-\n",
      "!nohtyp gninrael ma i \n"
     ]
    }
   ],
   "source": [
    "# declaring the string\n",
    "str =\" i am learning python!\"\n",
    " \n",
    "print(\"Original String :-\")\n",
    "print(str)\n",
    " \n",
    "# reversing the string using slicing\n",
    "print(\"Reverse String :-\")\n",
    "print(str[: : -1])"
   ]
  },
  {
   "cell_type": "markdown",
   "id": "f8e0f2d7",
   "metadata": {},
   "source": [
    "Deleting/Updating from a string:"
   ]
  },
  {
   "cell_type": "markdown",
   "id": "9ea82542",
   "metadata": {},
   "source": [
    "- Updating or deletion of characters from a string is not allowed this will cause an error because item assignment or item deletion from a string is not supported.Although deletion of the entire string is possible with the use of  built-in del keyword .this is because strings are immutable,hence elements of a string cannot be changed once it has been assigned .only new string can be reassigned to the same name."
   ]
  },
  {
   "cell_type": "code",
   "execution_count": null,
   "id": "bfa729e3",
   "metadata": {},
   "outputs": [],
   "source": [
    "#for deleting\n",
    "a =\"python\"\n",
    "#del a\n",
    "print(a) "
   ]
  },
  {
   "cell_type": "code",
   "execution_count": null,
   "id": "defafac2",
   "metadata": {},
   "outputs": [],
   "source": [
    "#    01\n",
    "a=\"hello\"\n",
    "print(a[: :1])\n",
    "# a[1]=\"p\"\n",
    "# print(a)\n",
    "\n",
    "# a=\"\""
   ]
  },
  {
   "cell_type": "code",
   "execution_count": null,
   "id": "c0ba2a1c",
   "metadata": {},
   "outputs": [],
   "source": [
    "a=90\n",
    "b=100\n",
    "print(a+b)"
   ]
  },
  {
   "cell_type": "code",
   "execution_count": null,
   "id": "69b618a2",
   "metadata": {},
   "outputs": [],
   "source": [
    "#for updating\n",
    "#  01234\n",
    "s =\"Hlo, I'm python\"\n",
    "s1 =s[0:2]+\"78\"+s[3:]\n",
    "print(s1)"
   ]
  },
  {
   "cell_type": "markdown",
   "id": "41d91deb",
   "metadata": {},
   "source": [
    "functions for string :"
   ]
  },
  {
   "cell_type": "markdown",
   "id": "ccdac1a2",
   "metadata": {},
   "source": [
    "- there are several built-in functions for manipulating and working with strings. Here are some of the most commonly used string functions"
   ]
  },
  {
   "cell_type": "markdown",
   "id": "94e16ef2",
   "metadata": {},
   "source": [
    "- len(string): returns the length of a string."
   ]
  },
  {
   "cell_type": "code",
   "execution_count": null,
   "id": "86573cbd",
   "metadata": {},
   "outputs": [],
   "source": [
    "s = \"Helloworldfrdytgujyhuld   hy??|\"\n",
    "print(s[-2])\n",
    "print(len(s))"
   ]
  },
  {
   "cell_type": "code",
   "execution_count": null,
   "id": "c4348554",
   "metadata": {},
   "outputs": [],
   "source": [
    "a=\"hello\"\n",
    "print(len(a))"
   ]
  },
  {
   "cell_type": "markdown",
   "id": "863bb007",
   "metadata": {},
   "source": [
    "- str.strip(): Remove spaces at the beginning and at the end of the string:"
   ]
  },
  {
   "cell_type": "code",
   "execution_count": null,
   "id": "ba94dba3",
   "metadata": {
    "scrolled": true
   },
   "outputs": [],
   "source": [
    "#exaple 1\n",
    "txt = \"   gfchygu?  apple    \"\n",
    "# print(txt)\n",
    "x = txt.strip()\n",
    "print(x)\n",
    "# print(\"fgukf\" ,x,\"fytyi\")\n",
    "\n",
    "# print(\"of all fruits\",x ,\"is my favorite\")"
   ]
  },
  {
   "cell_type": "code",
   "execution_count": null,
   "id": "a67c5a09",
   "metadata": {},
   "outputs": [],
   "source": [
    "#exaple 2\n",
    "txt = \"banana tbcd \"\n",
    "\n",
    "x = txt.strip(\"tbcd \")\n",
    "\n",
    "print(x)"
   ]
  },
  {
   "cell_type": "markdown",
   "id": "60487563",
   "metadata": {},
   "source": [
    "- str.lower(): returns a copy of the string with all the uppercase characters converted to lowercase."
   ]
  },
  {
   "cell_type": "code",
   "execution_count": null,
   "id": "86813128",
   "metadata": {},
   "outputs": [],
   "source": [
    "s = \"HELLO WORLD !\"\n",
    "\n",
    "print(s.lower())"
   ]
  },
  {
   "cell_type": "code",
   "execution_count": null,
   "id": "57cb3e4e",
   "metadata": {},
   "outputs": [],
   "source": []
  },
  {
   "cell_type": "markdown",
   "id": "e2db55a2",
   "metadata": {},
   "source": [
    "- str.upper(): returns a copy of the string with all the lowercase characters converted to uppercase."
   ]
  },
  {
   "cell_type": "code",
   "execution_count": null,
   "id": "b83e736f",
   "metadata": {},
   "outputs": [],
   "source": [
    "s = \"hello world!\"\n",
    "print(s.upper()) "
   ]
  },
  {
   "cell_type": "markdown",
   "id": "e9b192b3",
   "metadata": {},
   "source": [
    "- str.replace(old, new): returns a copy of the string with all occurrences of old substituted by new.\n"
   ]
  },
  {
   "cell_type": "code",
   "execution_count": null,
   "id": "5601996c",
   "metadata": {},
   "outputs": [],
   "source": [
    "s= \"hello world!\"\n",
    "print(s.replace('hello','hi')) "
   ]
  },
  {
   "cell_type": "markdown",
   "id": "a995430f",
   "metadata": {},
   "source": [
    "- str.split(separator): returns a list of strings after breaking the given string by the specified separator."
   ]
  },
  {
   "cell_type": "code",
   "execution_count": null,
   "id": "44cc2467",
   "metadata": {},
   "outputs": [],
   "source": [
    "txt = \"welcome vghvrjh  to the jungle\"\n",
    "\n",
    "x = txt.split()\n",
    "\n",
    "print(x)\n"
   ]
  },
  {
   "cell_type": "markdown",
   "id": "22c6b618",
   "metadata": {},
   "source": [
    "- str.join(iterable): returns a string a string concatenated with the elements of an iterable"
   ]
  },
  {
   "cell_type": "code",
   "execution_count": null,
   "id": "8d764a6c",
   "metadata": {},
   "outputs": [],
   "source": [
    "print(\"_\".join([\"hello\",\"world\",\"bye\",\"damini\"]))"
   ]
  },
  {
   "cell_type": "markdown",
   "id": "af8726fa",
   "metadata": {},
   "source": [
    "- str.format():returns a formatting string where curly braces '{}' in the string are replaced by values specified in the arguments"
   ]
  },
  {
   "cell_type": "code",
   "execution_count": null,
   "id": "dd610d68",
   "metadata": {},
   "outputs": [],
   "source": [
    "print(\"{} {} \".format(\"ho\",\"world\")) "
   ]
  },
  {
   "cell_type": "markdown",
   "id": "7f514c13-fa0c-4c64-8168-3e058ea4edb4",
   "metadata": {},
   "source": [
    "a=(input(\"enter a number\"))\n",
    "print(a)\n",
    "print(type(a))"
   ]
  },
  {
   "cell_type": "code",
   "execution_count": null,
   "id": "0fffda58",
   "metadata": {},
   "outputs": [],
   "source": [
    "a=(input(\"number\"))\n",
    "print(a)"
   ]
  },
  {
   "cell_type": "code",
   "execution_count": null,
   "id": "a5a698e7",
   "metadata": {},
   "outputs": [],
   "source": [
    "a=(input(\"enter a name\"))\n",
    "print(a)"
   ]
  },
  {
   "cell_type": "code",
   "execution_count": null,
   "id": "51c9c2f2",
   "metadata": {},
   "outputs": [],
   "source": [
    "a=float(input(\"enter a name\"))\n",
    "print(a)\n",
    "print(type(a))"
   ]
  },
  {
   "cell_type": "code",
   "execution_count": null,
   "id": "2eb1f9d0",
   "metadata": {},
   "outputs": [],
   "source": [
    "a = int(input(\"enter a  frst number\"))\n",
    "b = int(input(\"enter a second number\"))\n",
    "print(f\"{a} + {b} =\",a+b)"
   ]
  },
  {
   "cell_type": "markdown",
   "id": "cf061ab1",
   "metadata": {},
   "source": [
    "Taking input :"
   ]
  },
  {
   "cell_type": "markdown",
   "id": "dbff2453",
   "metadata": {},
   "source": [
    "string------>input()"
   ]
  },
  {
   "cell_type": "code",
   "execution_count": null,
   "id": "d35131c5",
   "metadata": {},
   "outputs": [],
   "source": [
    "a = int(input(\"enter value of a\"))\n",
    "b= int(input(\"enter value of b \"))\n",
    "print(type(a))\n",
    "\n",
    "sum =a+b \n",
    "print(sum)\n"
   ]
  },
  {
   "cell_type": "markdown",
   "id": "6fa015ba",
   "metadata": {},
   "source": [
    "interge:"
   ]
  },
  {
   "cell_type": "code",
   "execution_count": null,
   "id": "94846050",
   "metadata": {},
   "outputs": [],
   "source": [
    "a =int(input(\"enter value of a\"))\n",
    "b =int(input(\"enter value of b\"))\n",
    "\n",
    "c=a+b\n",
    "\n",
    "print(c)"
   ]
  },
  {
   "cell_type": "markdown",
   "id": "fce337fa",
   "metadata": {},
   "source": [
    "Type check-----> type()"
   ]
  },
  {
   "cell_type": "markdown",
   "id": "45eedad9",
   "metadata": {},
   "source": [
    "syntax---print(type(a))"
   ]
  },
  {
   "cell_type": "markdown",
   "id": "fe013478",
   "metadata": {},
   "source": [
    "Conversion character to number-ord:"
   ]
  },
  {
   "cell_type": "markdown",
   "id": "5b271743",
   "metadata": {},
   "source": [
    "A-Z =65-90"
   ]
  },
  {
   "cell_type": "markdown",
   "id": "956fae4e",
   "metadata": {},
   "source": [
    "a-z =97-122"
   ]
  },
  {
   "cell_type": "code",
   "execution_count": null,
   "id": "b6cca31a",
   "metadata": {},
   "outputs": [],
   "source": [
    "a =input(\"\")\n",
    "b= ord(a)\n",
    "print(b)\n"
   ]
  },
  {
   "cell_type": "code",
   "execution_count": null,
   "id": "637cfe8c",
   "metadata": {},
   "outputs": [],
   "source": []
  },
  {
   "cell_type": "markdown",
   "id": "99c0a30b",
   "metadata": {},
   "source": [
    "Conversion number  to character-chr:"
   ]
  },
  {
   "cell_type": "code",
   "execution_count": null,
   "id": "87d7f564",
   "metadata": {},
   "outputs": [],
   "source": [
    "a =int(input())\n",
    "b =chr(a)\n",
    "print(b)"
   ]
  },
  {
   "cell_type": "code",
   "execution_count": null,
   "id": "77199ed7",
   "metadata": {},
   "outputs": [],
   "source": [
    "a =input(\"enter string : \")\n",
    "\n",
    "print(f\"you give this {a} and result is this {a[::-1]}\")"
   ]
  },
  {
   "cell_type": "code",
   "execution_count": null,
   "id": "8f1f713f",
   "metadata": {},
   "outputs": [],
   "source": [
    "a=\"uhello\"\n",
    "#   -5-43-2-1\n",
    "print(a[-6:-1])"
   ]
  },
  {
   "cell_type": "code",
   "execution_count": null,
   "id": "c2e8ec65",
   "metadata": {},
   "outputs": [],
   "source": [
    "print(\"sneh\"\"aditya\"\"ritik\")"
   ]
  },
  {
   "cell_type": "code",
   "execution_count": null,
   "id": "5c078bc8",
   "metadata": {},
   "outputs": [],
   "source": [
    "a=\"hello\"\n",
    "print(a[-1:-5])\n",
    "print(a[-5:-1])\n"
   ]
  },
  {
   "cell_type": "code",
   "execution_count": null,
   "id": "8de685f1",
   "metadata": {},
   "outputs": [],
   "source": [
    "# start is after end, the resulting substring will be empty. In Python, \n",
    "# slicing works in such a way that when start is greater than or equal to end"
   ]
  },
  {
   "cell_type": "code",
   "execution_count": null,
   "id": "21ffb829",
   "metadata": {},
   "outputs": [],
   "source": []
  },
  {
   "cell_type": "code",
   "execution_count": null,
   "id": "2cc7e7a7",
   "metadata": {},
   "outputs": [],
   "source": []
  },
  {
   "cell_type": "code",
   "execution_count": null,
   "id": "f8cb90f7",
   "metadata": {},
   "outputs": [],
   "source": []
  },
  {
   "cell_type": "code",
   "execution_count": null,
   "id": "1881d8b7",
   "metadata": {},
   "outputs": [],
   "source": []
  },
  {
   "cell_type": "code",
   "execution_count": null,
   "id": "c22d864f",
   "metadata": {},
   "outputs": [],
   "source": []
  }
 ],
 "metadata": {
  "kernelspec": {
   "display_name": "Python 3 (ipykernel)",
   "language": "python",
   "name": "python3"
  },
  "language_info": {
   "codemirror_mode": {
    "name": "ipython",
    "version": 3
   },
   "file_extension": ".py",
   "mimetype": "text/x-python",
   "name": "python",
   "nbconvert_exporter": "python",
   "pygments_lexer": "ipython3",
   "version": "3.13.3"
  },
  "vscode": {
   "interpreter": {
    "hash": "72b2382ece9768098284d92bbc69d35954e75b60d1e25897d1389c232f4796f0"
   }
  }
 },
 "nbformat": 4,
 "nbformat_minor": 5
}
