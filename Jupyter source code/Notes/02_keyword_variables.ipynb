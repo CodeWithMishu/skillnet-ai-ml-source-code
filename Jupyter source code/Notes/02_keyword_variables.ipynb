{
 "cells": [
  {
   "cell_type": "markdown",
   "id": "b5372fd8",
   "metadata": {},
   "source": [
    "# What is variables in python ?"
   ]
  },
  {
   "cell_type": "code",
   "execution_count": 2,
   "id": "a10e77d0-8b06-4801-abd8-80db1ab439d5",
   "metadata": {},
   "outputs": [
    {
     "name": "stdout",
     "output_type": "stream",
     "text": [
      "carrer\n",
      "<class 'str'>\n"
     ]
    }
   ],
   "source": [
    "a =\"carrer\"\n",
    "print(a)\n",
    "print(type(a))"
   ]
  },
  {
   "cell_type": "code",
   "execution_count": null,
   "id": "ca0b6617-55b2-4b2d-861c-9019dfd7b2d7",
   "metadata": {},
   "outputs": [],
   "source": [
    "A variable in Python is a named location in memory that stores a value. \n",
    "The value stored in a variable can be changed during the execution of a program.\n",
    "Variables in Python are declared by assigning a value to a name using the assignment operator(=)."
   ]
  },
  {
   "cell_type": "code",
   "execution_count": 7,
   "id": "923b214b-e1d0-49da-8c3d-b0c074346c0a",
   "metadata": {},
   "outputs": [
    {
     "name": "stdout",
     "output_type": "stream",
     "text": [
      "mishra\n"
     ]
    }
   ],
   "source": [
    "d= \"mishra\"\n",
    "print(d)"
   ]
  },
  {
   "cell_type": "code",
   "execution_count": 6,
   "id": "0303210a",
   "metadata": {},
   "outputs": [
    {
     "name": "stdout",
     "output_type": "stream",
     "text": [
      "90\n",
      "<class 'float'>\n",
      "140716777680584\n",
      "2503510183184\n",
      "<class 'float'>\n"
     ]
    }
   ],
   "source": [
    "a,b=90,67.0\n",
    "print(a)\n",
    "print(type(b))\n",
    "print(id(a))\n",
    "print(id(b))\n",
    "print( type(b))"
   ]
  },
  {
   "cell_type": "code",
   "execution_count": 2,
   "id": "db72dbc3",
   "metadata": {},
   "outputs": [
    {
     "data": {
      "text/plain": [
       "'comments:-\\nsingle line comment\\nmultiline comment'"
      ]
     },
     "execution_count": 2,
     "metadata": {},
     "output_type": "execute_result"
    }
   ],
   "source": [
    "'''comments:-\n",
    "single line comment\n",
    "multiline comment'''"
   ]
  },
  {
   "cell_type": "code",
   "execution_count": 2,
   "id": "1546dba5",
   "metadata": {},
   "outputs": [
    {
     "name": "stdout",
     "output_type": "stream",
     "text": [
      "9\n",
      "9\n",
      "9\n"
     ]
    }
   ],
   "source": [
    "#Multiline  comment\n",
    "a=\"string\"\n",
    "#single line comment\n",
    "a=9\n",
    "b=9\n",
    "print(a)\n",
    "print(b)\n",
    "# print(id(a))\n",
    "# print(a+b)\n",
    "print(a)"
   ]
  },
  {
   "cell_type": "code",
   "execution_count": 8,
   "id": "486745ee",
   "metadata": {},
   "outputs": [
    {
     "name": "stdout",
     "output_type": "stream",
     "text": [
      "<class 'int'>\n",
      "<class 'str'>\n"
     ]
    }
   ],
   "source": [
    "a=9\n",
    "a=8\n",
    "a=9.999\n",
    "a=9\n",
    "b=\"name\"\n",
    "print(type(a))\n",
    "print(type(b))"
   ]
  },
  {
   "cell_type": "code",
   "execution_count": 1,
   "id": "035376c3",
   "metadata": {},
   "outputs": [
    {
     "name": "stdout",
     "output_type": "stream",
     "text": [
      "<class 'str'>\n",
      "3026048780400\n",
      "harmanmohit78\n"
     ]
    }
   ],
   "source": [
    "a,b,c=\"harman\",\"mohit\",\"78\"\n",
    "print(type(b))\n",
    "print(id(b))\n",
    "print(a+b+c)"
   ]
  },
  {
   "cell_type": "code",
   "execution_count": 2,
   "id": "4319f665",
   "metadata": {},
   "outputs": [
    {
     "data": {
      "text/plain": [
       "17"
      ]
     },
     "execution_count": 2,
     "metadata": {},
     "output_type": "execute_result"
    }
   ],
   "source": [
    "8+9"
   ]
  },
  {
   "cell_type": "code",
   "execution_count": 3,
   "id": "91d06454",
   "metadata": {},
   "outputs": [
    {
     "name": "stdout",
     "output_type": "stream",
     "text": [
      "140716636318696\n",
      "140716636319432\n",
      "67\n"
     ]
    }
   ],
   "source": [
    "a=9\n",
    "a=67\n",
    "b=90\n",
    "print(id(a))\n",
    "print(id(b))\n",
    "# print(b)\n",
    "print(a)"
   ]
  },
  {
   "cell_type": "code",
   "execution_count": null,
   "id": "1dd29fa5",
   "metadata": {},
   "outputs": [],
   "source": [
    "a=9\n",
    "b=89\n",
    "a=10\n",
    "print(a)\n",
    "print(id(a))\n",
    "print(id(b))"
   ]
  },
  {
   "cell_type": "code",
   "execution_count": null,
   "id": "e0f5fef6",
   "metadata": {},
   "outputs": [],
   "source": [
    "a=78\n",
    "a=89\n",
    "print(id(a))\n",
    "b=88\n",
    "print(id(b))\n",
    "print(a+b)"
   ]
  },
  {
   "cell_type": "code",
   "execution_count": null,
   "id": "0f4db343",
   "metadata": {},
   "outputs": [],
   "source": [
    "print(a)"
   ]
  },
  {
   "cell_type": "code",
   "execution_count": null,
   "id": "5299f96d",
   "metadata": {},
   "outputs": [],
   "source": [
    "a=\"akshit\"\n",
    "print(a)"
   ]
  },
  {
   "cell_type": "markdown",
   "id": "bbc24a49",
   "metadata": {},
   "source": [
    "- A variable in Python is a named location in memory that stores a value. The value stored in a variable can be changed during the execution of a program. Variables in Python are declared by assigning a value to a name using the assignment operator (=)."
   ]
  },
  {
   "cell_type": "code",
   "execution_count": null,
   "id": "2bb5ab98",
   "metadata": {},
   "outputs": [],
   "source": [
    "a=8\n",
    "a=8.9\n",
    "a=\"edfghjkl\""
   ]
  },
  {
   "cell_type": "code",
   "execution_count": null,
   "id": "12182994",
   "metadata": {},
   "outputs": [],
   "source": [
    "s=9.8\n",
    "print(s)"
   ]
  },
  {
   "cell_type": "code",
   "execution_count": null,
   "id": "d10c434b",
   "metadata": {},
   "outputs": [],
   "source": [
    "a=82345678\n",
    "print(a)"
   ]
  },
  {
   "cell_type": "code",
   "execution_count": null,
   "id": "52115032",
   "metadata": {},
   "outputs": [],
   "source": [
    "print(\"gunjan\")"
   ]
  },
  {
   "cell_type": "markdown",
   "id": "d4994d7f",
   "metadata": {},
   "source": [
    "for example\n"
   ]
  },
  {
   "cell_type": "code",
   "execution_count": null,
   "id": "f4a2df8d",
   "metadata": {},
   "outputs": [],
   "source": [
    "# first program in python\n",
    "name ='shivali'\n",
    "\n",
    "print(name)"
   ]
  },
  {
   "cell_type": "code",
   "execution_count": 14,
   "id": "9141ebd2",
   "metadata": {},
   "outputs": [
    {
     "name": "stdout",
     "output_type": "stream",
     "text": [
      "78\n",
      "karamjit\n"
     ]
    }
   ],
   "source": [
    "age=78\n",
    "print(age)\n",
    "name=\"karamjit\"\n",
    "print(name)"
   ]
  },
  {
   "cell_type": "code",
   "execution_count": 15,
   "id": "64483eb2",
   "metadata": {},
   "outputs": [
    {
     "name": "stdout",
     "output_type": "stream",
     "text": [
      "90\n"
     ]
    }
   ],
   "source": [
    "a=90\n",
    "print(a)"
   ]
  },
  {
   "cell_type": "code",
   "execution_count": 19,
   "id": "4db7dd31",
   "metadata": {},
   "outputs": [
    {
     "name": "stdout",
     "output_type": "stream",
     "text": [
      "17\n",
      "140716777677992\n",
      "<class 'int'>\n",
      "140716777677960\n"
     ]
    }
   ],
   "source": [
    "x=5 \n",
    "x=9\n",
    "y=8\n",
    "z=8\n",
    "print(x+y)\n",
    "print(id(x))\n",
    "print(type(y))\n",
    "print(id(z))"
   ]
  },
  {
   "cell_type": "code",
   "execution_count": 20,
   "id": "7cbb5bab",
   "metadata": {},
   "outputs": [
    {
     "name": "stdout",
     "output_type": "stream",
     "text": [
      "89\n"
     ]
    }
   ],
   "source": [
    "ab=89\n",
    "print(ab)"
   ]
  },
  {
   "cell_type": "code",
   "execution_count": null,
   "id": "fb36ed5d",
   "metadata": {},
   "outputs": [],
   "source": [
    "a_b=4\n",
    "print(a_b)"
   ]
  },
  {
   "cell_type": "code",
   "execution_count": null,
   "id": "b4c4507e",
   "metadata": {},
   "outputs": [],
   "source": [
    "A_B=8\n",
    "print(A_B)"
   ]
  },
  {
   "cell_type": "code",
   "execution_count": 1,
   "id": "10ab1533",
   "metadata": {},
   "outputs": [],
   "source": [
    "a_b=5\n",
    "a_b=10\n",
    "\n",
    "y=10"
   ]
  },
  {
   "cell_type": "markdown",
   "id": "e32687a2",
   "metadata": {},
   "source": [
    "- x and y are variables that store the values 5 and 10 respectively"
   ]
  },
  {
   "cell_type": "markdown",
   "id": "a5d6c262",
   "metadata": {},
   "source": [
    " - The type of the value stored in a variable can change dynamically in Python"
   ]
  },
  {
   "cell_type": "markdown",
   "id": "21b29799",
   "metadata": {},
   "source": [
    " Rule of variables:"
   ]
  },
  {
   "cell_type": "markdown",
   "id": "7a60cb5e",
   "metadata": {},
   "source": [
    "- Variable names can only contain letters, numbers, and underscores. They cannot start with a number."
   ]
  },
  {
   "cell_type": "markdown",
   "id": "b29ed836",
   "metadata": {},
   "source": [
    "- Variable names should not be the same as any of Python's reserved keywords"
   ]
  },
  {
   "cell_type": "markdown",
   "id": "5e3a30b5",
   "metadata": {},
   "source": [
    "- Variable names are case-sensitive (name, Name and NAME are three different variables)"
   ]
  },
  {
   "cell_type": "markdown",
   "id": "076f3974",
   "metadata": {},
   "source": [
    "snake_case :"
   ]
  },
  {
   "cell_type": "markdown",
   "id": "ac53de47",
   "metadata": {},
   "source": [
    "all lowercase with underscores separating words"
   ]
  },
  {
   "cell_type": "code",
   "execution_count": null,
   "id": "5ebd54e0",
   "metadata": {},
   "outputs": [],
   "source": [
    "a_b=\"arsh\"\n",
    "print(a_b)\n",
    "print(my_name)\n",
    "my_age =45\n",
    "# name,NAME,Name"
   ]
  },
  {
   "cell_type": "code",
   "execution_count": null,
   "id": "a6732231",
   "metadata": {},
   "outputs": [],
   "source": [
    "A=789\n",
    "print(A)"
   ]
  },
  {
   "cell_type": "code",
   "execution_count": 6,
   "id": "abcfaa62",
   "metadata": {},
   "outputs": [
    {
     "name": "stdout",
     "output_type": "stream",
     "text": [
      "hello\n",
      "HELLO\n"
     ]
    }
   ],
   "source": [
    "a='hello'\n",
    "print(a)\n",
    "b=a.upper()\n",
    "print(b)"
   ]
  },
  {
   "cell_type": "markdown",
   "id": "008fa112",
   "metadata": {},
   "source": [
    "first letter of each word capitalized, with no underscores"
   ]
  },
  {
   "cell_type": "code",
   "execution_count": 6,
   "id": "95f51e2a",
   "metadata": {},
   "outputs": [
    {
     "name": "stdout",
     "output_type": "stream",
     "text": [
      "akshit\n"
     ]
    }
   ],
   "source": [
    "MyNameIs =\"akshit\"\n",
    "print(MyNameIs)"
   ]
  },
  {
   "cell_type": "markdown",
   "id": "0247e016",
   "metadata": {},
   "source": [
    "Assign Multiple Values:"
   ]
  },
  {
   "cell_type": "code",
   "execution_count": null,
   "id": "a669cc78",
   "metadata": {},
   "outputs": [],
   "source": [
    "x, y, z = \"car\", \"Bus\", \"bike\"\n",
    "print(x)\n",
    "print(y)\n",
    "print(z)\n",
    "x,y,z= y,z,x\n",
    "print(x,y,z)\n",
    "print(x) "
   ]
  },
  {
   "cell_type": "code",
   "execution_count": null,
   "id": "340a7efd",
   "metadata": {},
   "outputs": [],
   "source": [
    "a=\"ram\""
   ]
  },
  {
   "cell_type": "code",
   "execution_count": 7,
   "id": "4ca4cc28",
   "metadata": {},
   "outputs": [
    {
     "name": "stdout",
     "output_type": "stream",
     "text": [
      "90\n",
      "89\n"
     ]
    }
   ],
   "source": [
    "a=89\n",
    "b=90\n",
    "a,b=b,a\n",
    "print(a)\n",
    "print(b)"
   ]
  },
  {
   "cell_type": "code",
   "execution_count": 8,
   "id": "e52fb85e",
   "metadata": {},
   "outputs": [
    {
     "name": "stdout",
     "output_type": "stream",
     "text": [
      "3\n",
      "3 4 1\n",
      "1\n"
     ]
    }
   ],
   "source": [
    "a,b,c=1,3,4\n",
    "print(b)\n",
    "a,b,c=b,c,a\n",
    "print(a,b,c)\n",
    "print(c) "
   ]
  },
  {
   "cell_type": "code",
   "execution_count": 2,
   "id": "b4dee66d",
   "metadata": {},
   "outputs": [
    {
     "name": "stdout",
     "output_type": "stream",
     "text": [
      "1\n"
     ]
    }
   ],
   "source": [
    "A,B,C=1,2,3\n",
    "print(A)"
   ]
  },
  {
   "cell_type": "markdown",
   "id": "4de483aa",
   "metadata": {},
   "source": [
    "One Value to Multiple Variables :"
   ]
  },
  {
   "cell_type": "code",
   "execution_count": 3,
   "id": "2d4572b5",
   "metadata": {},
   "outputs": [
    {
     "name": "stdout",
     "output_type": "stream",
     "text": [
      "2250182551440\n",
      "2250182551440\n",
      "car\n",
      "car\n",
      "car\n"
     ]
    }
   ],
   "source": [
    "x = y = z = \"car\"\n",
    "print(id(y))\n",
    "print(id(z))\n",
    "print(x)\n",
    "print(y)\n",
    "print(z)"
   ]
  },
  {
   "cell_type": "markdown",
   "id": "b755a66b",
   "metadata": {},
   "source": [
    "Output Variables:"
   ]
  },
  {
   "cell_type": "code",
   "execution_count": null,
   "id": "e7886dc8",
   "metadata": {},
   "outputs": [
    {
     "name": "stdout",
     "output_type": "stream",
     "text": [
      " I am learning Python !\n"
     ]
    }
   ],
   "source": [
    "x = \" I am learning Python !\"                                                                                                                                                       \n",
    "print(x)"
   ]
  },
  {
   "cell_type": "markdown",
   "id": "788ec706",
   "metadata": {},
   "source": [
    "In the print() function, you output multiple variables, separated by a comma"
   ]
  },
  {
   "cell_type": "code",
   "execution_count": 14,
   "id": "7baf9e2f",
   "metadata": {},
   "outputs": [
    {
     "name": "stdout",
     "output_type": "stream",
     "text": [
      "I m'  learning python 56\n",
      "I\n",
      "56\n"
     ]
    }
   ],
   "source": [
    "x = \"I\" \n",
    "y = \"m'\"\n",
    "z = \" learning python\"\n",
    "n =56\n",
    "print(x,y,z,n)    \n",
    "print(x)\n",
    "print(n)"
   ]
  },
  {
   "cell_type": "code",
   "execution_count": null,
   "id": "0b361236",
   "metadata": {},
   "outputs": [],
   "source": [
    "x = \"I \"\n",
    "y = \"m' \"\n",
    "z = \"learning python\"\n",
    "n =56\n",
    "i=89\n",
    "print(x+y)"
   ]
  },
  {
   "cell_type": "code",
   "execution_count": null,
   "id": "226a2aea",
   "metadata": {},
   "outputs": [],
   "source": [
    "x = 5\n",
    "y = 10\n",
    "print(x + y)"
   ]
  },
  {
   "cell_type": "code",
   "execution_count": null,
   "id": "7095e081",
   "metadata": {},
   "outputs": [],
   "source": [
    "#error\n",
    "x = 5\n",
    "y = \"John\"\n",
    "print(x + y)"
   ]
  },
  {
   "cell_type": "code",
   "execution_count": null,
   "id": "a8ce288a",
   "metadata": {},
   "outputs": [],
   "source": [
    "x = 7\n",
    "print(type(x))\n",
    "y = 8\n",
    "print(x+y)"
   ]
  },
  {
   "cell_type": "code",
   "execution_count": null,
   "id": "e0865e45",
   "metadata": {},
   "outputs": [],
   "source": [
    "import keyword"
   ]
  },
  {
   "cell_type": "code",
   "execution_count": null,
   "id": "e99b208b",
   "metadata": {},
   "outputs": [],
   "source": [
    "l=90\n",
    "print(l)"
   ]
  },
  {
   "cell_type": "code",
   "execution_count": null,
   "id": "262ee344",
   "metadata": {},
   "outputs": [],
   "source": [
    "print(keyword.kwlist)"
   ]
  },
  {
   "cell_type": "markdown",
   "id": "e12bb304",
   "metadata": {},
   "source": [
    "# Advance python"
   ]
  },
  {
   "cell_type": "markdown",
   "id": "754c4d76",
   "metadata": {},
   "source": [
    "- In Python, a global variable is a variable that is declared outside of any function and can be accessed from anywhere in the code, including inside functions"
   ]
  },
  {
   "cell_type": "markdown",
   "id": "bb85dbe7",
   "metadata": {},
   "source": [
    "- A global variable can be declared by using the global keyword followed by the variable name."
   ]
  },
  {
   "cell_type": "code",
   "execution_count": null,
   "id": "b9dc21d5-82b6-4345-b8f5-b7ad2bd98fef",
   "metadata": {},
   "outputs": [],
   "source": [
    "x=10\n",
    "def dell():\n",
    "    global x\n",
    "    x=20\n",
    "    x=45\n",
    "    print(x)\n",
    "print(x)"
   ]
  },
  {
   "cell_type": "code",
   "execution_count": null,
   "id": "a3b9de41",
   "metadata": {},
   "outputs": [],
   "source": [
    "#For example:\n",
    "x = 10\n",
    "def my_func():\n",
    "    global x\n",
    "    x=30\n",
    "    print(\"Inside function:\", x)\n",
    "\n",
    "print(\"Outside function:\", x)\n",
    "my_func()\n",
    "print(\"Outside function:\", x)"
   ]
  },
  {
   "cell_type": "markdown",
   "id": "4760e371",
   "metadata": {},
   "source": [
    "- In this code, x is a global variable that is first assigned the value 10. When the function my_func is called, it changes the value of x to 20 using the global keyword. After the function is executed, the value of x remains changed, and it can be accessed from outside the function as well."
   ]
  },
  {
   "cell_type": "markdown",
   "id": "b1742fdc",
   "metadata": {},
   "source": [
    "- Note: It is generally recommended to avoid using global variables, as they can make your code difficult to understand and maintain. Instead, try to pass variables as arguments to functions and return values from functions to communicate between parts of your code.\n",
    "\n",
    "\n",
    "\n",
    "\n"
   ]
  },
  {
   "cell_type": "markdown",
   "id": "39d89367",
   "metadata": {},
   "source": [
    "# Keyword in python"
   ]
  },
  {
   "cell_type": "markdown",
   "id": "49043c41",
   "metadata": {},
   "source": [
    "- Keywords in Python are reserved words that have a special meaning and cannot be used as variables, functions or any other identifier names. Some common keywords in Python include \"if\", \"else\", \"for\", \"while\", \"def\", \"import\", \"in\", \"not\", \"and\", \"or\", etc. These keywords help to structure and define the logic of a program"
   ]
  },
  {
   "cell_type": "markdown",
   "id": "a764c0f8",
   "metadata": {},
   "source": [
    "35 keywords in python"
   ]
  },
  {
   "cell_type": "code",
   "execution_count": 17,
   "id": "3a5c9f59",
   "metadata": {},
   "outputs": [
    {
     "name": "stdout",
     "output_type": "stream",
     "text": [
      "['False', 'None', 'True', 'and', 'as', 'assert', 'async', 'await', 'break', 'class', 'continue', 'def', 'del', 'elif', 'else', 'except', 'finally', 'for', 'from', 'global', 'if', 'import', 'in', 'is', 'lambda', 'nonlocal', 'not', 'or', 'pass', 'raise', 'return', 'try', 'while', 'with', 'yield']\n"
     ]
    }
   ],
   "source": [
    "#To check keyword list\n",
    "import keyword\n",
    "print(keyword.kwlist)\n",
    "#print(count.kwlist)"
   ]
  },
  {
   "cell_type": "code",
   "execution_count": null,
   "id": "515fdbfe",
   "metadata": {},
   "outputs": [],
   "source": [
    "import keyword\n",
    "print(keyword.kwlist)"
   ]
  },
  {
   "cell_type": "code",
   "execution_count": null,
   "id": "943aab6c",
   "metadata": {},
   "outputs": [],
   "source": [
    "import keyword\n",
    "print['False', 'None', 'True', 'and', 'as', 'assert', 'async', 'await', 'break', 'class', 'continue', 'def', 'del', 'elif', 'else', 'except', 'finally', 'for', 'from', 'global', 'if', 'import', 'in', 'is', 'lambda', 'nonlocal', 'not', 'or', 'pass', 'raise', 'return', 'try', 'while', 'with', 'yield']t(keyword.kwlist)"
   ]
  },
  {
   "cell_type": "code",
   "execution_count": 5,
   "id": "501075c3",
   "metadata": {},
   "outputs": [
    {
     "name": "stdout",
     "output_type": "stream",
     "text": [
      "<class 'int'>\n"
     ]
    }
   ],
   "source": [
    "a=10\n",
    "print(type(a))"
   ]
  },
  {
   "cell_type": "code",
   "execution_count": 6,
   "id": "73c5cf0a",
   "metadata": {},
   "outputs": [
    {
     "name": "stdout",
     "output_type": "stream",
     "text": [
      "['False', 'None', 'True', 'and', 'as', 'assert', 'async', 'await', 'break', 'class', 'continue', 'def', 'del', 'elif', 'else', 'except', 'finally', 'for', 'from', 'global', 'if', 'import', 'in', 'is', 'lambda', 'nonlocal', 'not', 'or', 'pass', 'raise', 'return', 'try', 'while', 'with', 'yield']\n"
     ]
    }
   ],
   "source": [
    "import keyword\n",
    "print(keyword.kwlist)"
   ]
  },
  {
   "cell_type": "code",
   "execution_count": 7,
   "id": "c2d5996f",
   "metadata": {},
   "outputs": [],
   "source": [
    "import keyword"
   ]
  },
  {
   "cell_type": "code",
   "execution_count": 8,
   "id": "b589fb8e",
   "metadata": {},
   "outputs": [
    {
     "name": "stdout",
     "output_type": "stream",
     "text": [
      "['False', 'None', 'True', 'and', 'as', 'assert', 'async', 'await', 'break', 'class', 'continue', 'def', 'del', 'elif', 'else', 'except', 'finally', 'for', 'from', 'global', 'if', 'import', 'in', 'is', 'lambda', 'nonlocal', 'not', 'or', 'pass', 'raise', 'return', 'try', 'while', 'with', 'yield']\n"
     ]
    }
   ],
   "source": [
    "print(keyword.kwlist)"
   ]
  },
  {
   "cell_type": "code",
   "execution_count": 9,
   "id": "43888ead",
   "metadata": {},
   "outputs": [
    {
     "name": "stdout",
     "output_type": "stream",
     "text": [
      "238024679\n"
     ]
    }
   ],
   "source": [
    "x=3456789\n",
    "y=234567890\n",
    "z=x+y\n",
    "print(z)"
   ]
  },
  {
   "cell_type": "code",
   "execution_count": null,
   "id": "2ffd4853",
   "metadata": {},
   "outputs": [],
   "source": [
    "import keywod\n",
    "print(keyword.kwlist)"
   ]
  },
  {
   "cell_type": "code",
   "execution_count": null,
   "id": "e9879331",
   "metadata": {},
   "outputs": [],
   "source": [
    "import  keyword"
   ]
  },
  {
   "cell_type": "code",
   "execution_count": null,
   "id": "08a33212",
   "metadata": {},
   "outputs": [],
   "source": [
    "print(keyword.kwlist)"
   ]
  },
  {
   "cell_type": "code",
   "execution_count": null,
   "id": "856ec055",
   "metadata": {},
   "outputs": [],
   "source": [
    "a=34\n",
    "a=\"preet\"\n",
    "print(type(a))"
   ]
  },
  {
   "cell_type": "code",
   "execution_count": null,
   "id": "9584cbb3",
   "metadata": {},
   "outputs": [],
   "source": [
    "1.numeric-int,float,complex\n",
    "2.sequence:-list,tuple,string\n",
    "3.mapping:-dict"
   ]
  },
  {
   "cell_type": "code",
   "execution_count": null,
   "id": "c0b49cc0",
   "metadata": {},
   "outputs": [],
   "source": []
  },
  {
   "cell_type": "code",
   "execution_count": null,
   "id": "0fb6cf2c",
   "metadata": {},
   "outputs": [],
   "source": []
  },
  {
   "cell_type": "code",
   "execution_count": null,
   "id": "b48d6cac",
   "metadata": {},
   "outputs": [],
   "source": []
  }
 ],
 "metadata": {
  "kernelspec": {
   "display_name": "Python 3 (ipykernel)",
   "language": "python",
   "name": "python3"
  },
  "language_info": {
   "codemirror_mode": {
    "name": "ipython",
    "version": 3
   },
   "file_extension": ".py",
   "mimetype": "text/x-python",
   "name": "python",
   "nbconvert_exporter": "python",
   "pygments_lexer": "ipython3",
   "version": "3.13.3"
  },
  "vscode": {
   "interpreter": {
    "hash": "72b2382ece9768098284d92bbc69d35954e75b60d1e25897d1389c232f4796f0"
   }
  }
 },
 "nbformat": 4,
 "nbformat_minor": 5
}
