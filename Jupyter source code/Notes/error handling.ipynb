{
 "cells": [
  {
   "cell_type": "markdown",
   "id": "8c3de6af-851a-4e5b-9f5e-96ca1f21ca78",
   "metadata": {},
   "source": [
    "# Error handling"
   ]
  },
  {
   "cell_type": "code",
   "execution_count": null,
   "id": "573c0d57-596b-40bb-962b-8ac8c25abe4c",
   "metadata": {},
   "outputs": [],
   "source": [
    "Error handling in Python is a way to gracefully manage exceptions(unexpected errors) that may occur during the execution of a program.\n",
    "Python provides a robust mechanism for handling errors using try, except, else, and finally blocks."
   ]
  },
  {
   "cell_type": "code",
   "execution_count": null,
   "id": "46f8a03f-e750-42a6-95d8-6ac11d7d9543",
   "metadata": {},
   "outputs": [],
   "source": [
    "try:\n",
    "      # Code that might raise an exception\n",
    "except SomeException:\n",
    "      # Code to handle the exception\n",
    "else:\n",
    "     # Code to run if no exception occurs\n",
    "finally:\n",
    "    # Code to run regardless of whether an exception occurs"
   ]
  },
  {
   "cell_type": "code",
   "execution_count": 2,
   "id": "812852a6",
   "metadata": {},
   "outputs": [],
   "source": [
    "error:-\n",
    "1.syntax error(we can not handle)\n",
    "2.logical error(we can handle):-\n",
    "     \n",
    "1.ZeroDivisonEroor\n",
    "2.TypeEroor\n",
    "3.NameEroor\n",
    "4.ValueError\n",
    "5.IndexError\n",
    "6.KeyError\n",
    "7.ModuleNotFoundError\n",
    "8.ImportError \n",
    "9.Exception handling"
   ]
  },
  {
   "cell_type": "code",
   "execution_count": 1,
   "id": "51c23c0c",
   "metadata": {},
   "outputs": [
    {
     "data": {
      "text/plain": [
       "1.8"
      ]
     },
     "execution_count": 1,
     "metadata": {},
     "output_type": "execute_result"
    }
   ],
   "source": [
    "a=9/5\n",
    "a"
   ]
  },
  {
   "cell_type": "markdown",
   "id": "00641e0c",
   "metadata": {},
   "source": []
  },
  {
   "cell_type": "code",
   "execution_count": 3,
   "id": "57edd92f",
   "metadata": {},
   "outputs": [
    {
     "name": "stdout",
     "output_type": "stream",
     "text": [
      "rosan\n",
      "hi\n"
     ]
    }
   ],
   "source": [
    "print(\"rosan\")\n",
    "print(\"hi\")"
   ]
  },
  {
   "cell_type": "code",
   "execution_count": 4,
   "id": "556e1c49",
   "metadata": {},
   "outputs": [],
   "source": [
    "# import tkinter \n",
    "# from tkinter import widgets # import error"
   ]
  },
  {
   "cell_type": "code",
   "execution_count": 5,
   "id": "f4a92232",
   "metadata": {},
   "outputs": [],
   "source": [
    "for i in range(10):\n",
    "    pass"
   ]
  },
  {
   "cell_type": "code",
   "execution_count": 6,
   "id": "731a47a4",
   "metadata": {},
   "outputs": [
    {
     "name": "stdout",
     "output_type": "stream",
     "text": [
      "unsupported operand type(s) for +: 'int' and 'str'\n",
      "hi\n"
     ]
    }
   ],
   "source": [
    "try:\n",
    "     a=int(input(\"enter  a number\"))\n",
    "     b=input(\"enter string\")\n",
    "     print(a+b)\n",
    "except (ValueError,TypeError) as  e:\n",
    "    print(e)\n",
    "print(\"hi\")\n",
    "\n"
   ]
  },
  {
   "cell_type": "code",
   "execution_count": 15,
   "id": "000a4627",
   "metadata": {},
   "outputs": [],
   "source": [
    "# import tkinter as tk"
   ]
  },
  {
   "cell_type": "code",
   "execution_count": 16,
   "id": "33f0ecae",
   "metadata": {},
   "outputs": [
    {
     "name": "stdout",
     "output_type": "stream",
     "text": [
      "list index out of range\n",
      "8\n"
     ]
    }
   ],
   "source": [
    "try:\n",
    "    l=[1,2,3,5]\n",
    "    print(l[6])\n",
    "except IndexError as e:\n",
    "    print(e)\n",
    "\n",
    "print(8)"
   ]
  },
  {
   "cell_type": "code",
   "execution_count": 25,
   "id": "f4fa5504",
   "metadata": {},
   "outputs": [
    {
     "ename": "KeyError",
     "evalue": "3",
     "output_type": "error",
     "traceback": [
      "\u001b[31m---------------------------------------------------------------------------\u001b[39m",
      "\u001b[31mKeyError\u001b[39m                                  Traceback (most recent call last)",
      "\u001b[36mCell\u001b[39m\u001b[36m \u001b[39m\u001b[32mIn[25]\u001b[39m\u001b[32m, line 2\u001b[39m\n\u001b[32m      1\u001b[39m d={\u001b[33m\"\u001b[39m\u001b[33m1\u001b[39m\u001b[33m\"\u001b[39m:\u001b[33m\"\u001b[39m\u001b[33mpreet\u001b[39m\u001b[33m\"\u001b[39m}\n\u001b[32m----> \u001b[39m\u001b[32m2\u001b[39m \u001b[38;5;28mprint\u001b[39m(\u001b[43md\u001b[49m\u001b[43m[\u001b[49m\u001b[32;43m3\u001b[39;49m\u001b[43m]\u001b[49m)\n",
      "\u001b[31mKeyError\u001b[39m: 3"
     ]
    }
   ],
   "source": [
    "d={\"1\":\"preet\"}\n",
    "print(d[3])"
   ]
  },
  {
   "cell_type": "code",
   "execution_count": 26,
   "id": "c1e018b1",
   "metadata": {},
   "outputs": [
    {
     "ename": "ModuleNotFoundError",
     "evalue": "No module named 'tkinters'",
     "output_type": "error",
     "traceback": [
      "\u001b[31m---------------------------------------------------------------------------\u001b[39m",
      "\u001b[31mModuleNotFoundError\u001b[39m                       Traceback (most recent call last)",
      "\u001b[36mCell\u001b[39m\u001b[36m \u001b[39m\u001b[32mIn[26]\u001b[39m\u001b[32m, line 2\u001b[39m\n\u001b[32m      1\u001b[39m \u001b[38;5;66;03m# calculator\u001b[39;00m\n\u001b[32m----> \u001b[39m\u001b[32m2\u001b[39m \u001b[38;5;28;01mimport\u001b[39;00m\u001b[38;5;250m \u001b[39m\u001b[34;01mtkinters\u001b[39;00m\n",
      "\u001b[31mModuleNotFoundError\u001b[39m: No module named 'tkinters'"
     ]
    }
   ],
   "source": [
    "# calculator\n",
    "import tkinters"
   ]
  },
  {
   "cell_type": "markdown",
   "id": "6aad558d",
   "metadata": {},
   "source": [
    "# Syntax error"
   ]
  },
  {
   "cell_type": "code",
   "execution_count": 27,
   "id": "0342a6c3",
   "metadata": {},
   "outputs": [
    {
     "name": "stdout",
     "output_type": "stream",
     "text": [
      "no\n"
     ]
    }
   ],
   "source": [
    "a=89\n",
    "b=78\n",
    "try:\n",
    "    if a>100:\n",
    "       print(\"yes\")\n",
    "    else:\n",
    "        print(\"no\")\n",
    "except:\n",
    "     print(\"preet\")"
   ]
  },
  {
   "cell_type": "code",
   "execution_count": 7,
   "id": "7a3797d0",
   "metadata": {},
   "outputs": [
    {
     "name": "stdout",
     "output_type": "stream",
     "text": [
      "Sum is: 10\n"
     ]
    }
   ],
   "source": [
    "a = int(input(\"Enter the first number: \"))\n",
    "b = int(input(\"Enter the second number: \"))\n",
    "print(\"Sum is:\", a + b)"
   ]
  },
  {
   "cell_type": "code",
   "execution_count": 3,
   "id": "882d6fc7",
   "metadata": {},
   "outputs": [
    {
     "name": "stdout",
     "output_type": "stream",
     "text": [
      "enter a number 6\n"
     ]
    },
    {
     "name": "stdout",
     "output_type": "stream",
     "text": [
      "6\n"
     ]
    }
   ],
   "source": [
    "a=int(input(\"enter a number\"))\n",
    "print(a)"
   ]
  },
  {
   "cell_type": "code",
   "execution_count": 12,
   "id": "6b0ba7ea",
   "metadata": {},
   "outputs": [
    {
     "name": "stdout",
     "output_type": "stream",
     "text": [
      "enter a numberfhgjhbjjjjjjjjjjjjjjhbj\n",
      "enter a numberpreet\n",
      "invalid literal for int() with base 10: 'preet'\n",
      "thank you\n"
     ]
    }
   ],
   "source": [
    "try:\n",
    "    a=input(\"enter a number\")\n",
    "    b=int(input(\"enter a number\"))\n",
    "    print(a+b)\n",
    "except (ValueError,TypeError) as a:\n",
    "    print(a)\n",
    "print(\"thank you\") "
   ]
  },
  {
   "cell_type": "code",
   "execution_count": 8,
   "id": "d7050ff0",
   "metadata": {},
   "outputs": [
    {
     "name": "stdout",
     "output_type": "stream",
     "text": [
      "18.0\n"
     ]
    }
   ],
   "source": [
    "a=90\n",
    "print(a/5)"
   ]
  },
  {
   "cell_type": "code",
   "execution_count": 9,
   "id": "e27c79a9",
   "metadata": {},
   "outputs": [
    {
     "name": "stdout",
     "output_type": "stream",
     "text": [
      "90\n"
     ]
    }
   ],
   "source": [
    "a=90\n",
    "print(a)"
   ]
  },
  {
   "cell_type": "code",
   "execution_count": 10,
   "id": "a9fe2b91",
   "metadata": {},
   "outputs": [
    {
     "name": "stdout",
     "output_type": "stream",
     "text": [
      "60\n"
     ]
    }
   ],
   "source": [
    "a=int(input(\"\"))\n",
    "b=int(input(\"\"))\n",
    "print(a+b)"
   ]
  },
  {
   "cell_type": "code",
   "execution_count": 11,
   "id": "ca44dbde",
   "metadata": {},
   "outputs": [
    {
     "name": "stdout",
     "output_type": "stream",
     "text": [
      "5\n"
     ]
    }
   ],
   "source": [
    "a=int(input(\"Enter a no.\"))\n",
    "print(a)"
   ]
  },
  {
   "cell_type": "code",
   "execution_count": 13,
   "id": "bfd06171",
   "metadata": {},
   "outputs": [
    {
     "name": "stdout",
     "output_type": "stream",
     "text": [
      "3\n"
     ]
    }
   ],
   "source": [
    "l=[1,2,3]\n",
    "print(l[2])"
   ]
  },
  {
   "cell_type": "code",
   "execution_count": 36,
   "id": "616f9cfc",
   "metadata": {},
   "outputs": [
    {
     "name": "stdout",
     "output_type": "stream",
     "text": [
      "4\n"
     ]
    }
   ],
   "source": [
    "d={\"num\":4}\n",
    "print(d[\"num\"])"
   ]
  },
  {
   "cell_type": "code",
   "execution_count": 39,
   "id": "7fdf0219",
   "metadata": {},
   "outputs": [
    {
     "name": "stdout",
     "output_type": "stream",
     "text": [
      "fdf\n"
     ]
    }
   ],
   "source": [
    "try:\n",
    "    a=input(\"enter a number\")\n",
    "    b=int(input(\"enter a number\"))\n",
    "    print(a)\n",
    "except Exception as a:\n",
    "    print(a)"
   ]
  },
  {
   "cell_type": "code",
   "execution_count": 22,
   "id": "e114b59f",
   "metadata": {},
   "outputs": [
    {
     "name": "stdout",
     "output_type": "stream",
     "text": [
      "enter a numberp\n",
      "enter a numberp\n",
      "invalid literal for int() with base 10: 'p'\n",
      "welcome\n"
     ]
    }
   ],
   "source": [
    "try:\n",
    "    a=input(\"enter a number\")\n",
    "    b=int(input(\"enter a number\"))\n",
    "    print(b)\n",
    "#     print(a+b)\n",
    "except Exception as a:\n",
    "    print(a)\n",
    "finally:\n",
    "    print(\"welcome\")"
   ]
  },
  {
   "cell_type": "code",
   "execution_count": 24,
   "id": "29d6a5f5",
   "metadata": {},
   "outputs": [
    {
     "name": "stdout",
     "output_type": "stream",
     "text": [
      "enter a numberp\n",
      "enter a numberp\n",
      "<class 'ValueError'>\n"
     ]
    }
   ],
   "source": [
    "try:\n",
    "    a=input(\"enter a number\")\n",
    "    b=int(input(\"enter a number\"))\n",
    "    \n",
    "    print(a)\n",
    "except ValueError:\n",
    "                print(\"valueerror\")\n",
    "else:\n",
    "    print(\"error\")\n",
    "# except TypeError:\n",
    "# print(\"typeerror\")"
   ]
  },
  {
   "cell_type": "code",
   "execution_count": 4,
   "id": "bb6787f7",
   "metadata": {},
   "outputs": [
    {
     "name": "stdout",
     "output_type": "stream",
     "text": [
      "no\n",
      "hi\n"
     ]
    }
   ],
   "source": [
    "a=88\n",
    "b=67\n",
    "if a>200:\n",
    "     print(\"yes\")\n",
    "else:\n",
    "    print(\"no\")\n",
    "print(\"hi\")"
   ]
  },
  {
   "cell_type": "markdown",
   "id": "5a1e4ec7",
   "metadata": {},
   "source": [
    "# nested try except"
   ]
  },
  {
   "cell_type": "code",
   "execution_count": 40,
   "id": "f6b5d0a9",
   "metadata": {
    "scrolled": true
   },
   "outputs": [
    {
     "name": "stdout",
     "output_type": "stream",
     "text": [
      "5\n",
      "list index out of range\n"
     ]
    }
   ],
   "source": [
    "try:\n",
    "    a=int(input(\"\"))\n",
    "    print(a)\n",
    "    try:\n",
    "        l=[10,20,40]\n",
    "        i =int(input(\"enter your index\"))\n",
    "        print(l[i])\n",
    "        \n",
    "    except Exception as ex:\n",
    "        print(ex)\n",
    "#         l=[10,20,40]\n",
    "#         i =int(input(\"enter your index\"))\n",
    "#         print(l[i])\n",
    "except Exception as e:\n",
    "    print(e)"
   ]
  },
  {
   "cell_type": "markdown",
   "id": "9bc39760-000b-488f-b095-c04dfe861ccd",
   "metadata": {},
   "source": [
    "#  Exception handling"
   ]
  },
  {
   "cell_type": "code",
   "execution_count": null,
   "id": "ece0a25e-5f01-4b12-995b-2ba73410cdd8",
   "metadata": {},
   "outputs": [],
   "source": [
    "Python Exception Handling handles errors that occur during the execution of a program.\n",
    "Exception handling allows to respond to the error, instead of crashing the running program.\n",
    "It enables you to catch and manage errors, making your code more robust and user-friendly"
   ]
  },
  {
   "cell_type": "code",
   "execution_count": null,
   "id": "f89228a3-f147-433e-850a-270a0b7fb439",
   "metadata": {},
   "outputs": [],
   "source": [
    "# Simple Exception Handling Example\n",
    "n = 10\n",
    "try:\n",
    "    res = n / 0  # This will raise a ZeroDivisionError\n",
    "    \n",
    "except ZeroDivisionError:\n",
    "    print(\"Can't be divided by zero!\")"
   ]
  },
  {
   "cell_type": "markdown",
   "id": "6903d198-b070-4dba-87bf-53121c09faea",
   "metadata": {},
   "source": [
    "# Difference Between Exception and Error\n",
    "Error: Errors are serious issues that a program should not try to handle. They are usually problems in the code's logic or configuration and need to be fixed by the programmer. Examples include syntax errors and memory errors.\n",
    "\n",
    "Exception: Exceptions are less severe than errors and can be handled by the program. They occur due to situations like invalid input, missing files or network issues."
   ]
  },
  {
   "cell_type": "code",
   "execution_count": 11,
   "id": "0c0ddb40-3a58-42ce-9288-a1163d433b4c",
   "metadata": {},
   "outputs": [
    {
     "name": "stdout",
     "output_type": "stream",
     "text": [
      "You can't divide by zero!\n",
      "Execution complete.\n"
     ]
    }
   ],
   "source": [
    "try:\n",
    "    n = 0\n",
    "    res = 100 / n\n",
    "    \n",
    "except ZeroDivisionError:\n",
    "    print(\"You can't divide by zero!\")\n",
    "    \n",
    "except ValueError:\n",
    "    print(\"Enter a valid number!\")\n",
    "    \n",
    "else:\n",
    "    print(\"Result is\", res)\n",
    "    \n",
    "finally:\n",
    "    print(\"Execution complete.\")"
   ]
  },
  {
   "cell_type": "markdown",
   "id": "4782e7bc-4c92-4b02-b16a-17dda229ba77",
   "metadata": {},
   "source": [
    "# User-defined Exceptions in Python with Examples"
   ]
  },
  {
   "cell_type": "raw",
   "id": "0674be2e-e6b3-4cb5-ab86-37fa73826deb",
   "metadata": {},
   "source": [
    "User-defined exceptions are created by defining a new class that inherits from Python's built-in Exception class or one of its subclasses. \n",
    "By doing this, we can create custom error messages and handle specific errors in a way that makes sense for our application."
   ]
  },
  {
   "cell_type": "code",
   "execution_count": null,
   "id": "c80a4c5d-e866-40b9-aae9-0fdbd57462da",
   "metadata": {},
   "outputs": [],
   "source": [
    "Define a New Exception Class: Create a new class that inherits from Exception or any of its subclasses.\n",
    "Raise the Exception: Use the raise statement to raise the user-defined exception when a specific condition occurs.\n",
    "Handle the Exception: Use try-except blocks to handle the user-defined exception."
   ]
  },
  {
   "cell_type": "code",
   "execution_count": 12,
   "id": "fd867bc1-fcc8-4f03-b139-1357b2394ad8",
   "metadata": {},
   "outputs": [
    {
     "name": "stdout",
     "output_type": "stream",
     "text": [
      "150 -> Age must be between 0 and 120\n"
     ]
    }
   ],
   "source": [
    "# Step 1: Define a custom exception class\n",
    "class InvalidAgeError(Exception):\n",
    "    def __init__(self, age, msg=\"Age must be between 0 and 120\"):\n",
    "        self.age = age\n",
    "        self.msg = msg\n",
    "        super().__init__(self.msg)\n",
    "\n",
    "    def __str__(self):\n",
    "        return f'{self.age} -> {self.msg}'\n",
    "\n",
    "# Step 2: Use the custom exception in your code\n",
    "def set_age(age):\n",
    "    if age < 0 or age > 120:\n",
    "        raise InvalidAgeError(age)\n",
    "    else:\n",
    "        print(f\"Age set to: {age}\")\n",
    "\n",
    "# Step 3: Handling the custom exception\n",
    "try:\n",
    "    set_age(150)  # This will raise the custom exception\n",
    "except InvalidAgeError as e:\n",
    "    print(e)"
   ]
  },
  {
   "cell_type": "markdown",
   "id": "811cef38-d91f-45e0-ad51-641db072fe24",
   "metadata": {},
   "source": [
    "# Python 's Built Exception"
   ]
  },
  {
   "cell_type": "code",
   "execution_count": null,
   "id": "a30ec505-c44f-46d9-a2ac-ccc948888628",
   "metadata": {},
   "outputs": [],
   "source": [
    "In Python, exceptions are events that can alter the flow of control in a program.\n",
    "These errors can arise during program execution and need to be handled appropriately.\n",
    "Python provides a set of built-in exceptions, each meant to signal a particular type of error.\n",
    "\n",
    "We can catch exceptions using try and except blocks, allowing your program to continue running even if an error occurs.\n",
    "These built-in exceptions can be viewed using the local() built-in functions"
   ]
  },
  {
   "cell_type": "code",
   "execution_count": null,
   "id": "22a2bf24-e298-4888-bd26-dbfc42a7e7a1",
   "metadata": {},
   "outputs": [],
   "source": []
  }
 ],
 "metadata": {
  "kernelspec": {
   "display_name": "Python 3",
   "language": "python",
   "name": "python3"
  },
  "language_info": {
   "codemirror_mode": {
    "name": "ipython",
    "version": 3
   },
   "file_extension": ".py",
   "mimetype": "text/x-python",
   "name": "python",
   "nbconvert_exporter": "python",
   "pygments_lexer": "ipython3",
   "version": "3.13.5"
  }
 },
 "nbformat": 4,
 "nbformat_minor": 5
}
