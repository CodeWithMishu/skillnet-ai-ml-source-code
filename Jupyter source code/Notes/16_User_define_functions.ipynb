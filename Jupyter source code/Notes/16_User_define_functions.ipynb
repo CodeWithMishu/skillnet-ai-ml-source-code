{
 "cells": [
  {
   "cell_type": "markdown",
   "id": "f762b96f",
   "metadata": {},
   "source": [
    "# user-defined"
   ]
  },
  {
   "cell_type": "code",
   "execution_count": 42,
   "id": "7fb3d427",
   "metadata": {},
   "outputs": [
    {
     "name": "stdout",
     "output_type": "stream",
     "text": [
      "shivam\n",
      "nilesh\n",
      "shivam\n",
      "nilesh\n"
     ]
    }
   ],
   "source": [
    "def mishra():\n",
    "    print(\"shivam\")\n",
    "    print(\"nilesh\")\n",
    "mishra()\n",
    "mishra()"
   ]
  },
  {
   "cell_type": "code",
   "execution_count": 43,
   "id": "1083b55b",
   "metadata": {},
   "outputs": [
    {
     "name": "stdout",
     "output_type": "stream",
     "text": [
      "preet\n",
      "hlo\n",
      "preet\n"
     ]
    }
   ],
   "source": [
    "def hlo():\n",
    "    print(\"hlo\")\n",
    "    print(\"preet\")\n",
    "\n",
    "print(\"preet\")\n",
    "hlo()"
   ]
  },
  {
   "cell_type": "code",
   "execution_count": 45,
   "id": "3671719d-551d-4b3c-a62b-19b0386c0002",
   "metadata": {},
   "outputs": [
    {
     "name": "stdin",
     "output_type": "stream",
     "text": [
      "Enter value of a:   45\n",
      "Enter value of b:  56\n",
      "Enter operation (abc for subtraction / xyz for addition):  45\n"
     ]
    },
    {
     "name": "stdout",
     "output_type": "stream",
     "text": [
      "Invalid operation selected.\n"
     ]
    }
   ],
   "source": [
    "def abc(a, b):\n",
    "    c = a - b\n",
    "    print(\"Subtraction:\", c)\n",
    "\n",
    "def xyz(a, b):\n",
    "    c = a + b\n",
    "    print(\"Addition:\", c)\n",
    "\n",
    "a = int(input(\"Enter value of a: \"))\n",
    "b = int(input(\"Enter value of b: \"))\n",
    "\n",
    "operation = input(\"Enter operation (abc for subtraction / xyz for addition): \")\n",
    "\n",
    "if operation == 'abc':\n",
    "    abc(a, b)\n",
    "elif operation == 'xyz':\n",
    "    xyz(a, b)\n",
    "else:\n",
    "    print(\"Invalid operation selected.\")\n",
    "\n",
    "    "
   ]
  },
  {
   "cell_type": "code",
   "execution_count": 6,
   "id": "994b88cb",
   "metadata": {},
   "outputs": [
    {
     "name": "stdin",
     "output_type": "stream",
     "text": [
      "a 67\n",
      "b 78\n",
      "user choice 78\n"
     ]
    },
    {
     "name": "stdout",
     "output_type": "stream",
     "text": [
      "-11\n"
     ]
    }
   ],
   "source": [
    "def abc(a,b):\n",
    "   \n",
    "    c=a+b\n",
    "    print(c)\n",
    "def sub(a,b):\n",
    "    c=a-b\n",
    "    print(c)\n",
    "a=int(input(\"a\"))\n",
    "b=int(input(\"b\"))\n",
    "c=input(\"user choice\")\n",
    "if c==\"abc\":\n",
    "    sum(a,b)\n",
    "else:\n",
    "    sub(a,b)\n",
    "\n",
    "    \n",
    "\n",
    "# sum(67,45)\n",
    "# sum(45,23)"
   ]
  },
  {
   "cell_type": "code",
   "execution_count": 15,
   "id": "9cf08426",
   "metadata": {},
   "outputs": [
    {
     "name": "stdin",
     "output_type": "stream",
     "text": [
      " 12\n",
      " 23\n",
      " 34\n"
     ]
    },
    {
     "name": "stdout",
     "output_type": "stream",
     "text": [
      "69\n"
     ]
    }
   ],
   "source": [
    "def add(a,b,c):\n",
    "    c=a+b+c\n",
    "    print(c)\n",
    "a=int(input(\"\"))\n",
    "b=int(input(\"\"))\n",
    "c=int(input(\"\"))\n",
    "add(a,b,c)"
   ]
  },
  {
   "cell_type": "code",
   "execution_count": 16,
   "id": "832962f5",
   "metadata": {},
   "outputs": [
    {
     "name": "stdout",
     "output_type": "stream",
     "text": [
      "157\n",
      "147\n"
     ]
    }
   ],
   "source": [
    "a=90\n",
    "b=67\n",
    "c=a+b\n",
    "print(c)\n",
    "c=90\n",
    "d=57\n",
    "e=c+d\n",
    "print(e)"
   ]
  },
  {
   "cell_type": "code",
   "execution_count": 7,
   "id": "e8c3417d",
   "metadata": {},
   "outputs": [
    {
     "ename": "_IncompleteInputError",
     "evalue": "incomplete input (2233175122.py, line 4)",
     "output_type": "error",
     "traceback": [
      "  \u001b[36mCell\u001b[39m\u001b[36m \u001b[39m\u001b[32mIn[7]\u001b[39m\u001b[32m, line 4\u001b[39m\n\u001b[31m    \u001b[39m\u001b[31m# function calling\u001b[39m\n                        ^\n\u001b[31m_IncompleteInputError\u001b[39m\u001b[31m:\u001b[39m incomplete input\n"
     ]
    }
   ],
   "source": [
    "# function defination\n",
    "def j():\n",
    "   \n",
    "# function calling  "
   ]
  },
  {
   "cell_type": "code",
   "execution_count": null,
   "id": "6cc52a70",
   "metadata": {},
   "outputs": [],
   "source": [
    "a=90\n",
    "b=90\n",
    "c=a+b\n",
    "print(c)\n",
    "e=90\n",
    "f=78\n",
    "t=e+f\n",
    "print(t)"
   ]
  },
  {
   "cell_type": "code",
   "execution_count": 8,
   "id": "c2557011",
   "metadata": {},
   "outputs": [
    {
     "name": "stdout",
     "output_type": "stream",
     "text": [
      "167\n",
      "167\n",
      "167\n"
     ]
    }
   ],
   "source": [
    "def preet():\n",
    "    a=89\n",
    "    b=78\n",
    "    c=a+b\n",
    "    print(c)\n",
    "preet()\n",
    "preet()\n",
    "preet()"
   ]
  },
  {
   "cell_type": "code",
   "execution_count": null,
   "id": "2fc886ba",
   "metadata": {},
   "outputs": [
    {
     "name": "stdin",
     "output_type": "stream",
     "text": [
      "enter a no. 4\n"
     ]
    }
   ],
   "source": [
    "def add(a,b):\n",
    "     c=a+b\n",
    "     print(c)\n",
    "a=int(input(\"enter a no.\"))\n",
    "b=int(input(\"enter a no.\"))\n",
    "add(a,b) "
   ]
  },
  {
   "cell_type": "code",
   "execution_count": null,
   "id": "ab6b808a",
   "metadata": {},
   "outputs": [],
   "source": [
    "sum\n",
    "sub"
   ]
  },
  {
   "cell_type": "code",
   "execution_count": null,
   "id": "ec060459",
   "metadata": {},
   "outputs": [],
   "source": [
    "def hello(a):\n",
    "   \n",
    "    print(a)\n",
    "hello(3)"
   ]
  },
  {
   "cell_type": "code",
   "execution_count": 15,
   "id": "4413cece",
   "metadata": {},
   "outputs": [
    {
     "name": "stdout",
     "output_type": "stream",
     "text": [
      "this is 12 pm batch\n",
      "hi\n",
      "2\n"
     ]
    }
   ],
   "source": [
    "# function defination\n",
    "def hi(a,b):\n",
    "    print(\"this is 12 pm batch\")\n",
    "    print(\"hi\")\n",
    "    print(a)\n",
    "hi(2,7)\n",
    "# hi()function calling"
   ]
  },
  {
   "cell_type": "code",
   "execution_count": 16,
   "id": "67f89f88",
   "metadata": {},
   "outputs": [
    {
     "name": "stdout",
     "output_type": "stream",
     "text": [
      "6\n",
      "168\n"
     ]
    }
   ],
   "source": [
    "def add(a,b):\n",
    "    c=a+b\n",
    "    print(c)\n",
    "add(3,3)\n",
    "add(78,90) "
   ]
  },
  {
   "cell_type": "code",
   "execution_count": 17,
   "id": "6d8306d1",
   "metadata": {},
   "outputs": [
    {
     "name": "stdout",
     "output_type": "stream",
     "text": [
      "[7, 8, 9, 78]\n"
     ]
    }
   ],
   "source": [
    "l=[7,8,9]\n",
    "l.append(78)\n",
    "print(l)"
   ]
  },
  {
   "cell_type": "code",
   "execution_count": 18,
   "id": "ef75d112",
   "metadata": {},
   "outputs": [
    {
     "ename": "IndentationError",
     "evalue": "unexpected indent (3073119937.py, line 2)",
     "output_type": "error",
     "traceback": [
      "  \u001b[36mCell\u001b[39m\u001b[36m \u001b[39m\u001b[32mIn[18]\u001b[39m\u001b[32m, line 2\u001b[39m\n\u001b[31m    \u001b[39m\u001b[31mprint(\"kartik\")\u001b[39m\n    ^\n\u001b[31mIndentationError\u001b[39m\u001b[31m:\u001b[39m unexpected indent\n"
     ]
    }
   ],
   "source": [
    "# def hello():function defination\n",
    "    print(\"kartik\")\n",
    "# hello()function call   "
   ]
  },
  {
   "cell_type": "code",
   "execution_count": 19,
   "id": "cbd98ec7",
   "metadata": {},
   "outputs": [
    {
     "name": "stdout",
     "output_type": "stream",
     "text": [
      "99\n"
     ]
    }
   ],
   "source": [
    "a=9\n",
    "b=90\n",
    "c=a+b\n",
    "print(c)"
   ]
  },
  {
   "cell_type": "code",
   "execution_count": 20,
   "id": "e47be316",
   "metadata": {},
   "outputs": [
    {
     "name": "stdout",
     "output_type": "stream",
     "text": [
      "212\n"
     ]
    }
   ],
   "source": [
    "def add(a,b,d):\n",
    "    c=a+b+d\n",
    "    print(c)\n",
    "add(45,89,78)"
   ]
  },
  {
   "cell_type": "code",
   "execution_count": 21,
   "id": "0a0e6415",
   "metadata": {},
   "outputs": [
    {
     "name": "stdout",
     "output_type": "stream",
     "text": [
      "113\n"
     ]
    }
   ],
   "source": [
    "add(23,34,56)"
   ]
  },
  {
   "cell_type": "code",
   "execution_count": 22,
   "id": "f9784455",
   "metadata": {},
   "outputs": [
    {
     "name": "stdout",
     "output_type": "stream",
     "text": [
      "amar\n",
      "amar\n",
      "amar\n"
     ]
    }
   ],
   "source": [
    "def hello():\n",
    "    print(\"amar\")\n",
    "hello()\n",
    "hello()\n",
    "hello()"
   ]
  },
  {
   "cell_type": "code",
   "execution_count": 23,
   "id": "cd6cdc93",
   "metadata": {},
   "outputs": [],
   "source": [
    "def  hello():\n",
    "    print(\"kirandeep\")"
   ]
  },
  {
   "cell_type": "code",
   "execution_count": 24,
   "id": "0e5806c9",
   "metadata": {},
   "outputs": [
    {
     "name": "stdout",
     "output_type": "stream",
     "text": [
      "180\n",
      "jaismeen\n",
      "jagdeep\n",
      "180\n",
      "jaismeen\n",
      "jagdeep\n"
     ]
    }
   ],
   "source": [
    "def hello():\n",
    "    a=90\n",
    "    b=90\n",
    "    print(a+b)\n",
    "    print(\"jaismeen\")\n",
    "    print(\"jagdeep\")\n",
    "hello()\n",
    "hello()"
   ]
  },
  {
   "cell_type": "code",
   "execution_count": 25,
   "id": "08e47ee2",
   "metadata": {},
   "outputs": [
    {
     "ename": "SyntaxError",
     "evalue": "invalid syntax (345148262.py, line 5)",
     "output_type": "error",
     "traceback": [
      "  \u001b[36mCell\u001b[39m\u001b[36m \u001b[39m\u001b[32mIn[25]\u001b[39m\u001b[32m, line 5\u001b[39m\n\u001b[31m    \u001b[39m\u001b[31ma=\u001b[39m\n      ^\n\u001b[31mSyntaxError\u001b[39m\u001b[31m:\u001b[39m invalid syntax\n"
     ]
    }
   ],
   "source": [
    "def add(a,b):\n",
    "  \n",
    "    c=a+b\n",
    "    print(c)\n",
    "a=\n",
    "add(a,b)\n",
    "add(89,78)\n",
    "add(89)\n",
    "# add()"
   ]
  },
  {
   "cell_type": "code",
   "execution_count": 26,
   "id": "cf77b4ae",
   "metadata": {},
   "outputs": [
    {
     "ename": "SyntaxError",
     "evalue": "invalid syntax (2023365053.py, line 6)",
     "output_type": "error",
     "traceback": [
      "  \u001b[36mCell\u001b[39m\u001b[36m \u001b[39m\u001b[32mIn[26]\u001b[39m\u001b[32m, line 6\u001b[39m\n\u001b[31m    \u001b[39m\u001b[31mc=\u001b[39m\n      ^\n\u001b[31mSyntaxError\u001b[39m\u001b[31m:\u001b[39m invalid syntax\n"
     ]
    }
   ],
   "source": [
    "a=67\n",
    "b=90\n",
    "gmean=a*b/a+b\n",
    "\n",
    "print(gmean)\n",
    "c=\n",
    "d"
   ]
  },
  {
   "cell_type": "code",
   "execution_count": 27,
   "id": "279c50c1",
   "metadata": {},
   "outputs": [
    {
     "name": "stdout",
     "output_type": "stream",
     "text": [
      "12.0\n",
      "40.0\n",
      "16.0\n",
      "not greater or equal\n"
     ]
    }
   ],
   "source": [
    "def calculate(a,b):\n",
    "    gmean=a*b/a+b\n",
    "    print(gmean)\n",
    "calculate(4,6)\n",
    "calculate(10,20)\n",
    "def isgreater(a,b):\n",
    "    if a>b:\n",
    "           print(\"a is greater than b\")\n",
    "    else:\n",
    "           print(\"not greater or equal\")\n",
    "\n",
    "a=6\n",
    "b=8\n",
    "calculate(a,b)\n",
    "isgreater(a,b)\n",
    "# c=90\n",
    "# d=90\n",
    "# calculate(c,d)\n",
    "# isgreater(c,d)\n",
    "# if a>b:\n",
    "#     print(\"a is greater than b\")\n",
    "# else:\n",
    "# #     print(\"not greater or equal\")\n",
    "# isgreater(a,b)\n",
    "# calculate(a,b)\n",
    "# gmean=a*b/a+b\n",
    "# # print(gmean)\n",
    "# c=58\n",
    "# d=8\n",
    "# # if c>d:\n",
    "# #     print(\"c is greater than d\")\n",
    "# # else:\n",
    "# #     print(\"not greater or equal\")\n",
    "# isgreater(c,d)\n",
    "# calculate(c,d)\n",
    "# e=89\n",
    "# f=90\n",
    "# calculate(89,67)\n",
    "# gmean=c*d/c+d\n",
    "# print(gmean)"
   ]
  },
  {
   "cell_type": "code",
   "execution_count": 28,
   "id": "638cf6b1",
   "metadata": {},
   "outputs": [
    {
     "name": "stdout",
     "output_type": "stream",
     "text": [
      "hlo0\n"
     ]
    }
   ],
   "source": [
    "a=\"hlo\"\n",
    "b=\"0\"\n",
    "\n",
    "print(a+b)"
   ]
  },
  {
   "cell_type": "code",
   "execution_count": 29,
   "id": "30e8f88f",
   "metadata": {},
   "outputs": [
    {
     "name": "stdout",
     "output_type": "stream",
     "text": [
      "preetroparbhoranj\n"
     ]
    }
   ],
   "source": [
    "def hello(fname,lname=\"kaur\"):\n",
    "    print(fname +\"ropar\"+lname)\n",
    "hello(\"preet\",\"bhoranj\")\n"
   ]
  },
  {
   "cell_type": "code",
   "execution_count": 30,
   "id": "112717ef",
   "metadata": {},
   "outputs": [
    {
     "name": "stdout",
     "output_type": "stream",
     "text": [
      "9\n"
     ]
    }
   ],
   "source": [
    "def add(x,y,h,c):\n",
    "    z=x+y\n",
    "    print(z)\n",
    "    \n",
    "add(4,5,6,7)\n",
    "# add(89,67)\n",
    "# add(90,87)"
   ]
  },
  {
   "cell_type": "code",
   "execution_count": 31,
   "id": "ef68f133",
   "metadata": {},
   "outputs": [
    {
     "name": "stdout",
     "output_type": "stream",
     "text": [
      "kaur 67\n"
     ]
    }
   ],
   "source": [
    "#number of arguments 2\n",
    "def hello(fname,lname=67):\n",
    "    print(fname ,lname)\n",
    "hello(\"kaur\")"
   ]
  },
  {
   "cell_type": "code",
   "execution_count": 32,
   "id": "9cc9b9c9",
   "metadata": {},
   "outputs": [
    {
     "name": "stdout",
     "output_type": "stream",
     "text": [
      "the youngest one isfduygi\n"
     ]
    }
   ],
   "source": [
    "#arbitary arguments ,*args\n",
    "def hello(*kids):\n",
    "    print(\"the youngest one is\"+ kids[4])\n",
    "hello(\"rohit\",\"aman\",\"ayush\",\"tdfuy\",\"fduygi\",\"fvhsd\")"
   ]
  },
  {
   "cell_type": "code",
   "execution_count": 33,
   "id": "85c17764",
   "metadata": {},
   "outputs": [
    {
     "name": "stdout",
     "output_type": "stream",
     "text": [
      "this student is so intelligentkaramjit\n"
     ]
    }
   ],
   "source": [
    "def hello(*student):\n",
    "    print(\"this student is so intelligent\"+ student[4])\n",
    "hello(\"rohit\",\"sourav\",\"aman\",\"anubhav\",\"karamjit\")"
   ]
  },
  {
   "cell_type": "code",
   "execution_count": 34,
   "id": "1519790d",
   "metadata": {},
   "outputs": [
    {
     "name": "stdout",
     "output_type": "stream",
     "text": [
      "5 7\n"
     ]
    }
   ],
   "source": [
    "def hello(*student):\n",
    "    print(student[1],student[3])\n",
    "hello(4,5,6,7)"
   ]
  },
  {
   "cell_type": "code",
   "execution_count": 35,
   "id": "0f859b8e",
   "metadata": {},
   "outputs": [
    {
     "name": "stdout",
     "output_type": "stream",
     "text": [
      "7 8\n"
     ]
    }
   ],
   "source": [
    "def hello(x,y):\n",
    "    print(x,y)\n",
    "hello(7,8)"
   ]
  },
  {
   "cell_type": "code",
   "execution_count": 36,
   "id": "f72027bb",
   "metadata": {},
   "outputs": [
    {
     "name": "stdout",
     "output_type": "stream",
     "text": [
      "the youngest one isrohit\n"
     ]
    }
   ],
   "source": [
    "#keyword arguments key=value\n",
    "def hello(child1,child2,child3):\n",
    "    print(\"the youngest one is\"+ child2)\n",
    "hello(child2=\"rohit\",child1=\"abhi\",child3=\"aman\")"
   ]
  },
  {
   "cell_type": "code",
   "execution_count": 37,
   "id": "f752d3c2",
   "metadata": {},
   "outputs": [
    {
     "name": "stdout",
     "output_type": "stream",
     "text": [
      "the youngest one is  amar\n"
     ]
    }
   ],
   "source": [
    "#arbitary keyword arguments **kwargs\n",
    "\n",
    "def hello(**kids):\n",
    "    print(\"the youngest one is  \"+ kids[\"child5\"])\n",
    "hello(child3=\"rohit\",child2=\"abhi\",child1=\"aman\",child4=\"pre\",child5=\"amar\")"
   ]
  },
  {
   "cell_type": "code",
   "execution_count": 38,
   "id": "3d5503ff",
   "metadata": {},
   "outputs": [
    {
     "name": "stdout",
     "output_type": "stream",
     "text": [
      "apple\n",
      "mango\n",
      "orange\n"
     ]
    }
   ],
   "source": [
    "# passing a list as an argument\n",
    "def hello(food):\n",
    "    for i in food:\n",
    "        print(i)\n",
    "fruits=[\"apple\",\"mango\",\"orange\"]\n",
    "hello(fruits)"
   ]
  },
  {
   "cell_type": "code",
   "execution_count": 39,
   "id": "ab1b2f0c",
   "metadata": {},
   "outputs": [
    {
     "name": "stdout",
     "output_type": "stream",
     "text": [
      "99\n"
     ]
    }
   ],
   "source": [
    "# return values# to let a function return a value than you use return statemet\n",
    "def hello():\n",
    "    c=90\n",
    "    return 5*c\n",
    "\n",
    "# print(hello(5))\n",
    "# print(hello(10))\n",
    "# hello()\n",
    "print(c)"
   ]
  },
  {
   "cell_type": "code",
   "execution_count": null,
   "id": "80ff8edc",
   "metadata": {},
   "outputs": [],
   "source": []
  },
  {
   "cell_type": "markdown",
   "id": "a8bffc24",
   "metadata": {},
   "source": [
    "- function is a collection of multiple statement"
   ]
  },
  {
   "cell_type": "markdown",
   "id": "ad943cf5",
   "metadata": {},
   "source": [
    "Function definition:"
   ]
  },
  {
   "cell_type": "markdown",
   "id": "1d026300",
   "metadata": {},
   "source": [
    "- we can define a function using def keyword followed by function name with parentheses or round bracket(). this is called as creating a function writing a function defining a function"
   ]
  },
  {
   "cell_type": "code",
   "execution_count": 20,
   "id": "6e0e4fe4",
   "metadata": {},
   "outputs": [
    {
     "name": "stdout",
     "output_type": "stream",
     "text": [
      "python python \n"
     ]
    }
   ],
   "source": [
    "def myname():\n",
    "    print(\"python \"*2)\n",
    "    \n",
    "myname()"
   ]
  },
  {
   "cell_type": "code",
   "execution_count": 21,
   "id": "2bcc6cbf",
   "metadata": {},
   "outputs": [
    {
     "name": "stdout",
     "output_type": "stream",
     "text": [
      "145\n",
      "70\n",
      "159\n",
      "134\n"
     ]
    }
   ],
   "source": [
    "def add(x,y,a,b):\n",
    "    c=x+y\n",
    "    d=a+b\n",
    "    print(d)\n",
    "    print(c)\n",
    "add(10,60,67,78)\n",
    "add(78,56,89,70)\n",
    "\n",
    "    "
   ]
  },
  {
   "cell_type": "code",
   "execution_count": 22,
   "id": "cb27524c",
   "metadata": {},
   "outputs": [
    {
     "name": "stdout",
     "output_type": "stream",
     "text": [
      "11\n"
     ]
    }
   ],
   "source": [
    "#syntax :\n",
    "def add(n1,n2,n3,n4):\n",
    "    c =n1+n2\n",
    "    print(c)\n",
    "add(5,6,8,9)\n",
    "# add(41,6)\n",
    "# add (4,5)\n",
    "# add(9,8)\n",
    "\n",
    "\n",
    "\n",
    "# add(7,8)"
   ]
  },
  {
   "cell_type": "markdown",
   "id": "a6568ec8",
   "metadata": {},
   "source": [
    "Function call:"
   ]
  },
  {
   "cell_type": "markdown",
   "id": "5efe974b",
   "metadata": {},
   "source": [
    "- function call is the process of executing a function by passing parameters and arguments to it"
   ]
  },
  {
   "cell_type": "code",
   "execution_count": null,
   "id": "2525568b",
   "metadata": {},
   "outputs": [],
   "source": [
    "def add(a,b,c):\n",
    "    print(a+b+c)\n",
    "add(7,8,9)\n",
    "add(78,89,90)    "
   ]
  },
  {
   "cell_type": "code",
   "execution_count": null,
   "id": "a1876ab3",
   "metadata": {},
   "outputs": [],
   "source": [
    "#for example\n",
    "def greet(name,age):\n",
    "    print(name)\n",
    "greet(\"preet\",67)"
   ]
  },
  {
   "cell_type": "markdown",
   "id": "b9deeed8",
   "metadata": {},
   "source": [
    "- The function call is done by using the function name followed by a pair of parentheses "
   ]
  },
  {
   "cell_type": "code",
   "execution_count": null,
   "id": "8d3fb727",
   "metadata": {
    "scrolled": true
   },
   "outputs": [],
   "source": [
    "#To call the greet function\n",
    "#for example\n",
    "\n",
    "def greet(name):\n",
    "    print(\"zzrfgdyhtgu\")\n",
    "    print(1 , name)\n",
    "greet(\"hello\")"
   ]
  },
  {
   "cell_type": "code",
   "execution_count": null,
   "id": "60beb262",
   "metadata": {},
   "outputs": [],
   "source": [
    "def add(a,b):\n",
    "    print(a+b)\n",
    "add(6,7)"
   ]
  },
  {
   "cell_type": "code",
   "execution_count": null,
   "id": "6bd8e46e",
   "metadata": {},
   "outputs": [],
   "source": [
    "add(8,9)"
   ]
  },
  {
   "cell_type": "code",
   "execution_count": null,
   "id": "041e4d3c",
   "metadata": {},
   "outputs": [],
   "source": [
    "#example:\n",
    "def a():\n",
    "    print(\"hello\")\n",
    "\n",
    "    \n",
    "def b():\n",
    "    print(\"bye\")\n",
    "    \n",
    "a()\n",
    "b()"
   ]
  },
  {
   "cell_type": "code",
   "execution_count": 19,
   "id": "553a6c80",
   "metadata": {},
   "outputs": [
    {
     "name": "stdout",
     "output_type": "stream",
     "text": [
      "enter first no : 2\n",
      "enter second no : 4\n",
      "please choose (- +)-\n",
      "-2\n"
     ]
    }
   ],
   "source": [
    "def sum(a,b):\n",
    "    c=a+b\n",
    "    print(c)\n",
    "def sub(a,b):\n",
    "    c=a-b\n",
    "    print(c)\n",
    "\n",
    "a = int(input(\"enter first no : \"))\n",
    "b = int(input(\"enter second no : \"))\n",
    "c =input(\"please choose (- +)\")\n",
    "\n",
    "if c==\"+\":\n",
    "    sum(a,b)\n",
    "elif c==\"-\":\n",
    "    sub(a,b)"
   ]
  },
  {
   "cell_type": "code",
   "execution_count": null,
   "id": "7123ba41",
   "metadata": {},
   "outputs": [],
   "source": [
    "num1 = int(input(\"Enter the first number: \"))\n",
    "num2 = int(input(\"Enter the second number: \"))\n",
    "if num1 > num2:\n",
    "    sum = num1 + num2\n",
    "    diff = num1 - num2\n",
    "else:\n",
    "    sum = num2 + num1\n",
    "    diff = num2 - num1\n",
    "print(\"The sum of the numbers is:\", sum)\n",
    "print(\"The difference of the numbers is:\", diff)"
   ]
  },
  {
   "cell_type": "code",
   "execution_count": null,
   "id": "f1ba7d98",
   "metadata": {},
   "outputs": [],
   "source": [
    "def func2():\n",
    "    for i in range(4 , 30):\n",
    "      if i%2==0 : \n",
    "        print(i,end=\" \")\n",
    "        \n",
    "func2()"
   ]
  },
  {
   "cell_type": "code",
   "execution_count": null,
   "id": "98e483a3",
   "metadata": {},
   "outputs": [],
   "source": [
    "def fun1(a,b):\n",
    "    c = a+b\n",
    "    print(c)\n",
    "def fun2(a,b):\n",
    "    c = a - b \n",
    "    print(c)\n",
    "    \n",
    "a = int(input(\"Enter the value a :\"))\n",
    "b = int(input(\"Enter the value b :\"))\n",
    "choice = str(input(\"Enter Add or Sub :\"))\n",
    "if choice == \"Add\" :\n",
    "   fun1(a,b)\n",
    "else :    \n",
    "   fun2(a,b)"
   ]
  },
  {
   "cell_type": "code",
   "execution_count": null,
   "id": "afbdfbbf",
   "metadata": {},
   "outputs": [],
   "source": [
    "def hello(a,b):\n",
    "    c=a+b\n",
    "    print(c)\n",
    "hello(6)"
   ]
  },
  {
   "cell_type": "markdown",
   "id": "4bc02641",
   "metadata": {},
   "source": [
    "Function argument:"
   ]
  },
  {
   "cell_type": "markdown",
   "id": "5234c821",
   "metadata": {},
   "source": [
    "- Function arguments, also known as parameters, are values passed to a function when the function is called. These arguments allow the function to accept input and perform operations based on that input."
   ]
  },
  {
   "cell_type": "markdown",
   "id": "db936129",
   "metadata": {},
   "source": [
    "# Types of function arguments in Python"
   ]
  },
  {
   "cell_type": "markdown",
   "id": "53517b7c",
   "metadata": {},
   "source": [
    "- Required positional arguments"
   ]
  },
  {
   "cell_type": "code",
   "execution_count": 23,
   "id": "777bb2cf",
   "metadata": {},
   "outputs": [
    {
     "name": "stdout",
     "output_type": "stream",
     "text": [
      "23\n"
     ]
    }
   ],
   "source": [
    "def add(a=23,b=34):\n",
    "    c=90\n",
    "    print(a)\n",
    "   \n",
    "\n",
    "add()\n",
    "\n"
   ]
  },
  {
   "cell_type": "markdown",
   "id": "8168e658",
   "metadata": {},
   "source": [
    "- Default arguments:"
   ]
  },
  {
   "cell_type": "markdown",
   "id": "c1e912ca",
   "metadata": {},
   "source": [
    "- Keyword arguments"
   ]
  },
  {
   "cell_type": "markdown",
   "id": "18f2bae2",
   "metadata": {},
   "source": [
    "- Variable-length arguments"
   ]
  },
  {
   "cell_type": "markdown",
   "id": "c24121e4",
   "metadata": {},
   "source": [
    "# Required positional arguments:"
   ]
  },
  {
   "cell_type": "markdown",
   "id": "93178014",
   "metadata": {},
   "source": [
    "no. of positional arg = no. of functional argument"
   ]
  },
  {
   "cell_type": "markdown",
   "id": "b2bbe5b3",
   "metadata": {},
   "source": [
    "- These are the basic arguments that are required to be passed to a function in the correct order."
   ]
  },
  {
   "cell_type": "code",
   "execution_count": 4,
   "id": "3c724b2b",
   "metadata": {},
   "outputs": [
    {
     "name": "stdout",
     "output_type": "stream",
     "text": [
      "Hello, sanket\n",
      "45\n"
     ]
    }
   ],
   "source": [
    "#for example\n",
    "def greet(name, greeting,age):\n",
    "    print(greeting + \", \" + name)\n",
    "    print(age)\n",
    "\n",
    "    \n",
    "# greet(\"hello\", \"anshika\",45)\n",
    "greet(\"sanket\", \"Hello\",'45')\n"
   ]
  },
  {
   "cell_type": "code",
   "execution_count": null,
   "id": "99422858",
   "metadata": {},
   "outputs": [],
   "source": [
    "def a(name,age):\n",
    "    print(age,name)\n",
    "a(56,\"pre\") "
   ]
  },
  {
   "cell_type": "markdown",
   "id": "1caa8ec2",
   "metadata": {},
   "source": [
    "- In this function, name and greeting are required positional arguments. When the function is called, values for name and greeting must be provided, in the correct order."
   ]
  },
  {
   "cell_type": "code",
   "execution_count": null,
   "id": "145824aa",
   "metadata": {},
   "outputs": [],
   "source": [
    "greet(\"vishal\", \"Hello\") #----->functional argument"
   ]
  },
  {
   "cell_type": "code",
   "execution_count": null,
   "id": "f2e7c400",
   "metadata": {},
   "outputs": [],
   "source": [
    "def sum(a,b):#------->positional argument\n",
    "    c =a+b \n",
    "    print(c)\n",
    "sum(10,45) #--------> functional argument"
   ]
  },
  {
   "cell_type": "code",
   "execution_count": 24,
   "id": "af10f20c",
   "metadata": {},
   "outputs": [
    {
     "ename": "KeyboardInterrupt",
     "evalue": "Interrupted by user",
     "output_type": "error",
     "traceback": [
      "\u001b[31m---------------------------------------------------------------------------\u001b[39m",
      "\u001b[31mKeyboardInterrupt\u001b[39m                         Traceback (most recent call last)",
      "\u001b[36mCell\u001b[39m\u001b[36m \u001b[39m\u001b[32mIn[24]\u001b[39m\u001b[32m, line 5\u001b[39m\n\u001b[32m      3\u001b[39m     c =x+y\n\u001b[32m      4\u001b[39m     \u001b[38;5;28mprint\u001b[39m(c)\n\u001b[32m----> \u001b[39m\u001b[32m5\u001b[39m a =\u001b[38;5;28mint\u001b[39m(\u001b[38;5;28;43minput\u001b[39;49m\u001b[43m(\u001b[49m\u001b[33;43m\"\u001b[39;49m\u001b[33;43menter no.\u001b[39;49m\u001b[33;43m\"\u001b[39;49m\u001b[43m)\u001b[49m)\n\u001b[32m      6\u001b[39m b =\u001b[38;5;28mint\u001b[39m(\u001b[38;5;28minput\u001b[39m(\u001b[33m\"\u001b[39m\u001b[33menter no.\u001b[39m\u001b[33m\"\u001b[39m))\n\u001b[32m      7\u001b[39m \u001b[38;5;28msum\u001b[39m(a,b)\n",
      "\u001b[36mFile \u001b[39m\u001b[32m~\\AppData\\Local\\Programs\\Python\\Python313\\Lib\\site-packages\\ipykernel\\kernelbase.py:1282\u001b[39m, in \u001b[36mKernel.raw_input\u001b[39m\u001b[34m(self, prompt)\u001b[39m\n\u001b[32m   1280\u001b[39m     msg = \u001b[33m\"\u001b[39m\u001b[33mraw_input was called, but this frontend does not support input requests.\u001b[39m\u001b[33m\"\u001b[39m\n\u001b[32m   1281\u001b[39m     \u001b[38;5;28;01mraise\u001b[39;00m StdinNotImplementedError(msg)\n\u001b[32m-> \u001b[39m\u001b[32m1282\u001b[39m \u001b[38;5;28;01mreturn\u001b[39;00m \u001b[38;5;28;43mself\u001b[39;49m\u001b[43m.\u001b[49m\u001b[43m_input_request\u001b[49m\u001b[43m(\u001b[49m\n\u001b[32m   1283\u001b[39m \u001b[43m    \u001b[49m\u001b[38;5;28;43mstr\u001b[39;49m\u001b[43m(\u001b[49m\u001b[43mprompt\u001b[49m\u001b[43m)\u001b[49m\u001b[43m,\u001b[49m\n\u001b[32m   1284\u001b[39m \u001b[43m    \u001b[49m\u001b[38;5;28;43mself\u001b[39;49m\u001b[43m.\u001b[49m\u001b[43m_parent_ident\u001b[49m\u001b[43m[\u001b[49m\u001b[33;43m\"\u001b[39;49m\u001b[33;43mshell\u001b[39;49m\u001b[33;43m\"\u001b[39;49m\u001b[43m]\u001b[49m\u001b[43m,\u001b[49m\n\u001b[32m   1285\u001b[39m \u001b[43m    \u001b[49m\u001b[38;5;28;43mself\u001b[39;49m\u001b[43m.\u001b[49m\u001b[43mget_parent\u001b[49m\u001b[43m(\u001b[49m\u001b[33;43m\"\u001b[39;49m\u001b[33;43mshell\u001b[39;49m\u001b[33;43m\"\u001b[39;49m\u001b[43m)\u001b[49m\u001b[43m,\u001b[49m\n\u001b[32m   1286\u001b[39m \u001b[43m    \u001b[49m\u001b[43mpassword\u001b[49m\u001b[43m=\u001b[49m\u001b[38;5;28;43;01mFalse\u001b[39;49;00m\u001b[43m,\u001b[49m\n\u001b[32m   1287\u001b[39m \u001b[43m\u001b[49m\u001b[43m)\u001b[49m\n",
      "\u001b[36mFile \u001b[39m\u001b[32m~\\AppData\\Local\\Programs\\Python\\Python313\\Lib\\site-packages\\ipykernel\\kernelbase.py:1325\u001b[39m, in \u001b[36mKernel._input_request\u001b[39m\u001b[34m(self, prompt, ident, parent, password)\u001b[39m\n\u001b[32m   1322\u001b[39m \u001b[38;5;28;01mexcept\u001b[39;00m \u001b[38;5;167;01mKeyboardInterrupt\u001b[39;00m:\n\u001b[32m   1323\u001b[39m     \u001b[38;5;66;03m# re-raise KeyboardInterrupt, to truncate traceback\u001b[39;00m\n\u001b[32m   1324\u001b[39m     msg = \u001b[33m\"\u001b[39m\u001b[33mInterrupted by user\u001b[39m\u001b[33m\"\u001b[39m\n\u001b[32m-> \u001b[39m\u001b[32m1325\u001b[39m     \u001b[38;5;28;01mraise\u001b[39;00m \u001b[38;5;167;01mKeyboardInterrupt\u001b[39;00m(msg) \u001b[38;5;28;01mfrom\u001b[39;00m\u001b[38;5;250m \u001b[39m\u001b[38;5;28;01mNone\u001b[39;00m\n\u001b[32m   1326\u001b[39m \u001b[38;5;28;01mexcept\u001b[39;00m \u001b[38;5;167;01mException\u001b[39;00m:\n\u001b[32m   1327\u001b[39m     \u001b[38;5;28mself\u001b[39m.log.warning(\u001b[33m\"\u001b[39m\u001b[33mInvalid Message:\u001b[39m\u001b[33m\"\u001b[39m, exc_info=\u001b[38;5;28;01mTrue\u001b[39;00m)\n",
      "\u001b[31mKeyboardInterrupt\u001b[39m: Interrupted by user"
     ]
    }
   ],
   "source": [
    "#example\n",
    "def sum(x,y):\n",
    "    c =x+y\n",
    "    print(c)\n",
    "a =int(input(\"enter no.\"))\n",
    "b =int(input(\"enter no.\"))\n",
    "sum(a,b)\n",
    "print(sum)"
   ]
  },
  {
   "cell_type": "markdown",
   "id": "58eae0ea",
   "metadata": {},
   "source": [
    "# Default arguments:"
   ]
  },
  {
   "cell_type": "markdown",
   "id": "bdb7bd9d",
   "metadata": {},
   "source": [
    "- These are arguments that have a default value specified in the function definition. If the function is called without the argument, the default value is used."
   ]
  },
  {
   "cell_type": "code",
   "execution_count": 7,
   "id": "01f1b0e4",
   "metadata": {},
   "outputs": [
    {
     "name": "stdout",
     "output_type": "stream",
     "text": [
      "15\n"
     ]
    }
   ],
   "source": [
    "def sum(a,b=8):\n",
    "    print(a+b)\n",
    "sum(7)"
   ]
  },
  {
   "cell_type": "code",
   "execution_count": null,
   "id": "ce63e8e6",
   "metadata": {},
   "outputs": [],
   "source": [
    "#for example\n",
    "def greet(name, greeting=\"Hello\"):\n",
    "    print(greeting + \", \" + name)\n",
    "greet(\"vanishka\")\n",
    "greet(\"anshika\", \"Hi\")\n",
    "greet(\"prisha\",\"hey\")"
   ]
  },
  {
   "cell_type": "code",
   "execution_count": null,
   "id": "fb58befa",
   "metadata": {},
   "outputs": [],
   "source": [
    "greet(\"vishal\")\n",
    "greet(\"vishal\", \"Hi\")"
   ]
  },
  {
   "cell_type": "markdown",
   "id": "8a36502b",
   "metadata": {},
   "source": [
    "# Keyword arguments:"
   ]
  },
  {
   "cell_type": "markdown",
   "id": "f0ee4bbd",
   "metadata": {},
   "source": [
    "- These are arguments that are passed to a function using the argument name and its value."
   ]
  },
  {
   "cell_type": "code",
   "execution_count": 2,
   "id": "50570309",
   "metadata": {},
   "outputs": [
    {
     "name": "stdout",
     "output_type": "stream",
     "text": [
      "hlo\n",
      "8\n"
     ]
    }
   ],
   "source": [
    "def sum(a,b):\n",
    "    print(\"hlo\")\n",
    "    print(a)\n",
    "sum(8,6)"
   ]
  },
  {
   "cell_type": "code",
   "execution_count": 4,
   "id": "ada9d561",
   "metadata": {},
   "outputs": [
    {
     "name": "stdout",
     "output_type": "stream",
     "text": [
      "Hi, John , 45\n",
      "78, rahul , hlo\n"
     ]
    }
   ],
   "source": [
    "#for example \n",
    "def hlo(age,name, greeting):\n",
    "    \n",
    "    print(greeting + \", \" + name,\",\",age)\n",
    "#greet(name=\"John\")\n",
    "hlo(greeting=\"Hi\",name=\"John\",age=45)\n",
    "hlo(\"hlo\",\"rahul\",\"78\")\n",
    "\n",
    "\n"
   ]
  },
  {
   "cell_type": "markdown",
   "id": "873164f2",
   "metadata": {},
   "source": [
    "# Variable-length arguments :"
   ]
  },
  {
   "cell_type": "markdown",
   "id": "ace54714",
   "metadata": {},
   "source": [
    " - These are arguments that allow a function to accept a variable number of arguments. There are two types of variable-length arguments: *args and **kwargs."
   ]
  },
  {
   "cell_type": "markdown",
   "id": "246cc638",
   "metadata": {},
   "source": [
    "*args"
   ]
  },
  {
   "cell_type": "markdown",
   "id": "8e48f9ec",
   "metadata": {},
   "source": [
    "- *args is used to pass a variable number of non-keyword arguments to a function. The * operator allows the function to accept any number of positional arguments, which are collected into a tuple."
   ]
  },
  {
   "cell_type": "code",
   "execution_count": 26,
   "id": "0205c091",
   "metadata": {},
   "outputs": [
    {
     "name": "stdout",
     "output_type": "stream",
     "text": [
      "{'p': 3, 'i': 4}\n"
     ]
    }
   ],
   "source": [
    "def mul(**kwargs):\n",
    "    print(kwargs)\n",
    "   \n",
    "mul(p=3,i=4)\n"
   ]
  },
  {
   "cell_type": "code",
   "execution_count": 6,
   "id": "c0926984",
   "metadata": {},
   "outputs": [
    {
     "name": "stdout",
     "output_type": "stream",
     "text": [
      "(1, 2, 3)\n",
      "6\n"
     ]
    }
   ],
   "source": [
    "def sum(*args):\n",
    "    print(args)\n",
    "    print(args[0]+args[1]+args[2])\n",
    "sum(1,2,3) "
   ]
  },
  {
   "cell_type": "code",
   "execution_count": 30,
   "id": "ed2bc573",
   "metadata": {},
   "outputs": [
    {
     "name": "stdout",
     "output_type": "stream",
     "text": [
      "Positional arguments: 1\n"
     ]
    }
   ],
   "source": [
    "#for example\n",
    "def print_args(*args):\n",
    "    print(\"Positional arguments:\", args[0])\n",
    "print_args(1, 2, 3,\"hello\",56,'lo',\"ankita\")"
   ]
  },
  {
   "cell_type": "markdown",
   "id": "e4a09c43",
   "metadata": {},
   "source": [
    "- *args is used to capture any number of positional arguments that are passed to the function. When the function is called, the arguments are collected into a tuple and can be processed as needed."
   ]
  },
  {
   "cell_type": "code",
   "execution_count": null,
   "id": "59597fe6",
   "metadata": {},
   "outputs": [],
   "source": [
    "print_args(1, 2, 3)"
   ]
  },
  {
   "cell_type": "markdown",
   "id": "e7ef7782",
   "metadata": {},
   "source": [
    "**kwargs"
   ]
  },
  {
   "cell_type": "markdown",
   "id": "989a0f28",
   "metadata": {},
   "source": [
    "- **kwargs is used to pass a variable number of keyword arguments to a function. The ** operator allows the function to accept any number of keyword arguments, which are collected into a dictionary."
   ]
  },
  {
   "cell_type": "code",
   "execution_count": 9,
   "id": "aa02613e",
   "metadata": {},
   "outputs": [
    {
     "name": "stdout",
     "output_type": "stream",
     "text": [
      "{'a': 1, 'b': 78, 'c': 56}\n",
      "1\n",
      "78\n"
     ]
    }
   ],
   "source": [
    "def sum(**kwargs):\n",
    "    print(kwargs)\n",
    "    print(kwargs['a'])\n",
    "    print(kwargs['b'])\n",
    "sum(a=1,b=78,c=56) "
   ]
  },
  {
   "cell_type": "code",
   "execution_count": 23,
   "id": "877d2ff9",
   "metadata": {},
   "outputs": [
    {
     "name": "stdout",
     "output_type": "stream",
     "text": [
      "4\n"
     ]
    }
   ],
   "source": [
    "d={1:8,3:4}\n",
    "print(d[3])"
   ]
  },
  {
   "cell_type": "code",
   "execution_count": 34,
   "id": "77a637d5",
   "metadata": {},
   "outputs": [
    {
     "name": "stdout",
     "output_type": "stream",
     "text": [
      "Keyword arguments: {'a': 1, 'b': 2, 'c': 3, 'd': 9}\n",
      "1\n"
     ]
    }
   ],
   "source": [
    "#for example**\n",
    "def print_kwargs(kwargs):\n",
    "    print(\"Keyword arguments:\", kwargs)\n",
    "    print(kwargs['a'])  \n",
    "    \n",
    "print_kwargs(a=1, b=2, c=3,d=9) "
   ]
  },
  {
   "cell_type": "code",
   "execution_count": 2,
   "id": "fd10b60c",
   "metadata": {},
   "outputs": [
    {
     "name": "stdout",
     "output_type": "stream",
     "text": [
      "2\n",
      "(1, 2, 3, 4, 5)\n"
     ]
    }
   ],
   "source": [
    "def hlo(*args):\n",
    "    print(args[1])\n",
    "    print(args)\n",
    "hlo(1,2,3,4,5)"
   ]
  },
  {
   "cell_type": "code",
   "execution_count": 32,
   "id": "9b01b4ce",
   "metadata": {},
   "outputs": [
    {
     "name": "stdout",
     "output_type": "stream",
     "text": [
      "my_value\n"
     ]
    }
   ],
   "source": [
    "def my_function(**kwargs): \n",
    "    if 'my_key' in kwargs:\n",
    "        value = kwargs['my_key']\n",
    "        print(value)\n",
    "#         print(f\"The value of 'my_key' is: {value}\")\n",
    "    else:\n",
    "        print(\"'my_key' not found in kwargs\")\n",
    "\n",
    "# Call the function with some keyword arguments\n",
    "my_function(my_key='my_value', another_key='another_value')\n"
   ]
  },
  {
   "cell_type": "markdown",
   "id": "9d851dfb",
   "metadata": {},
   "source": [
    "- **kwargs is used to capture any number of keyword arguments that are passed to the function. When the function is called, the arguments are collected into a dictionary and can be processed as needed."
   ]
  },
  {
   "cell_type": "code",
   "execution_count": null,
   "id": "f2ac8fde",
   "metadata": {},
   "outputs": [],
   "source": [
    "print_kwargs(a=1, b=2, c=3)"
   ]
  },
  {
   "cell_type": "markdown",
   "id": "8ea29818",
   "metadata": {},
   "source": [
    "- It's important to note that when using variable-length arguments, they must be placed last in the function definition, after all the required and default arguments. This is because the variable-length arguments can accept an arbitrary number of arguments, which could potentially overwrite the values of required and default arguments if they are placed first in the function definition."
   ]
  },
  {
   "cell_type": "markdown",
   "id": "330bd12b",
   "metadata": {},
   "source": [
    "# Return Statement :"
   ]
  },
  {
   "cell_type": "markdown",
   "id": "ac8603c9",
   "metadata": {},
   "source": [
    "- The return statement in Python is used to specify the value that a function should return. When a return statement is executed, the function terminates and the specified value is returned to the caller."
   ]
  },
  {
   "cell_type": "markdown",
   "id": "2daad2f4",
   "metadata": {},
   "source": [
    "- The return statements is used to exit a function and return a value to the caller"
   ]
  },
  {
   "cell_type": "code",
   "execution_count": 17,
   "id": "b12faa63",
   "metadata": {},
   "outputs": [
    {
     "data": {
      "text/plain": [
       "100"
      ]
     },
     "execution_count": 17,
     "metadata": {},
     "output_type": "execute_result"
    }
   ],
   "source": [
    "#for example\n",
    "def square(x):\n",
    "    return x**2\n",
    "a=square(10)\n",
    "\n",
    "a\n",
    "\n",
    "# squ(5)\n"
   ]
  },
  {
   "cell_type": "code",
   "execution_count": null,
   "id": "f2ac6a26",
   "metadata": {},
   "outputs": [],
   "source": [
    "# 1+2+3+4+5\n",
    "sum=0\n",
    "i=1\n",
    "while i<=5:\n",
    "    sum=sum+i\n",
    "    i=i+1\n",
    "print(sum)\n"
   ]
  },
  {
   "cell_type": "code",
   "execution_count": 21,
   "id": "ab75177c",
   "metadata": {},
   "outputs": [
    {
     "data": {
      "text/plain": [
       "34"
      ]
     },
     "execution_count": 21,
     "metadata": {},
     "output_type": "execute_result"
    }
   ],
   "source": [
    "#Write a Python function to sum all the numbers in a tuple.\n",
    "def abc(numbers):\n",
    "    total = 0\n",
    "    for x in numbers:\n",
    "        total += x\n",
    "    return total\n",
    "numbers=(6,7,8,9,4)\n",
    "abc(numbers)"
   ]
  },
  {
   "cell_type": "code",
   "execution_count": null,
   "id": "ef903858",
   "metadata": {},
   "outputs": [],
   "source": [
    "0\n",
    "1\n",
    "1\n",
    "2\n",
    "3\n",
    "5"
   ]
  },
  {
   "cell_type": "code",
   "execution_count": 22,
   "id": "e3f53909",
   "metadata": {},
   "outputs": [
    {
     "data": {
      "text/plain": [
       "8"
      ]
     },
     "execution_count": 22,
     "metadata": {},
     "output_type": "execute_result"
    }
   ],
   "source": [
    "def add_numbers(a, b):\n",
    "    result = a + b\n",
    "    return result\n",
    "\n",
    "# Calling the function and storing the returned value in a variable\n",
    "add_numbers(3, 5)\n",
    "# sum_result\n",
    "# print(sum_result)  # Output: 8\n"
   ]
  },
  {
   "cell_type": "code",
   "execution_count": 19,
   "id": "38e6b795",
   "metadata": {},
   "outputs": [
    {
     "name": "stdout",
     "output_type": "stream",
     "text": [
      "24\n"
     ]
    }
   ],
   "source": [
    "#Write a Python function to sum all the numbers in a tuple.\n",
    "def sum(numbers):\n",
    "    total = 0\n",
    "    for x in numbers:\n",
    "        total += x\n",
    "    return total\n",
    "print(sum((8,7,9)))\n"
   ]
  },
  {
   "cell_type": "code",
   "execution_count": 24,
   "id": "8334eeea",
   "metadata": {},
   "outputs": [
    {
     "name": "stdout",
     "output_type": "stream",
     "text": [
      "0\n"
     ]
    }
   ],
   "source": [
    "#Write a Python function to multiply all the numbers in a listS.\n",
    "def multiply(numbers):  \n",
    "    total = 0\n",
    "    for x in numbers:\n",
    "        total *= x  \n",
    "    return total\n",
    "a=[8,2,3,4]\n",
    "print(multiply(a))"
   ]
  },
  {
   "cell_type": "code",
   "execution_count": 25,
   "id": "c8e04020",
   "metadata": {},
   "outputs": [
    {
     "name": "stdout",
     "output_type": "stream",
     "text": [
      "dcba4321\n"
     ]
    }
   ],
   "source": [
    "#Write a Python program to reverse a string.\n",
    "#Sample String: \"1234abcd\"\n",
    "#Expected Output: \"dcba4321\"\n",
    "def string_reverse(str1):\n",
    "\n",
    "    rstr1 = ''\n",
    "    index = len(str1)\n",
    "    while index > 0:\n",
    "        rstr1 += str1[ index - 1 ]\n",
    "        index = index - 1\n",
    "    return rstr1\n",
    "print(string_reverse('1234abcd'))\n"
   ]
  },
  {
   "cell_type": "code",
   "execution_count": 26,
   "id": "a7a49395",
   "metadata": {},
   "outputs": [
    {
     "name": "stdout",
     "output_type": "stream",
     "text": [
      "[2, 4, 6, 8]\n"
     ]
    }
   ],
   "source": [
    "#QWrite a Python program to print the even numbers from a given list.\n",
    "def is_even_num(l):\n",
    "    enum = []\n",
    "    for n in l:\n",
    "        if n % 2 == 0:\n",
    "            enum.append(n)\n",
    "    return enum\n",
    "print(is_even_num([1, 2, 3, 4, 5, 6, 7, 8, 9]))\n",
    "\n",
    "\n"
   ]
  },
  {
   "cell_type": "code",
   "execution_count": null,
   "id": "b91e1d51",
   "metadata": {},
   "outputs": [],
   "source": [
    "x=45\n",
    "def hello():\n",
    "    global x\n",
    "    x=x+5\n",
    "    print(x)\n",
    "hello()\n",
    "print(x)"
   ]
  },
  {
   "cell_type": "code",
   "execution_count": null,
   "id": "bd998403",
   "metadata": {},
   "outputs": [],
   "source": [
    "a=90\n",
    "def add():\n",
    "    b=78\n",
    "    print(a)\n",
    "    print(b)\n",
    "    \n",
    "add()\n",
    "\n",
    "print()"
   ]
  },
  {
   "cell_type": "code",
   "execution_count": 27,
   "id": "3ba24adc",
   "metadata": {},
   "outputs": [
    {
     "data": {
      "text/plain": [
       "120"
      ]
     },
     "execution_count": 27,
     "metadata": {},
     "output_type": "execute_result"
    }
   ],
   "source": [
    "# recursion:-\n",
    "def fact(n):\n",
    "    if n==0:\n",
    "        return 1\n",
    "    else:\n",
    "        return n*fact(n-1) \n",
    "fact(5)"
   ]
  },
  {
   "cell_type": "code",
   "execution_count": 28,
   "id": "b7837d99",
   "metadata": {},
   "outputs": [
    {
     "name": "stdout",
     "output_type": "stream",
     "text": [
      "40320\n"
     ]
    }
   ],
   "source": [
    "def fact(n):\n",
    "    fact = 1\n",
    "    for i in range(1, n+1):\n",
    "        fact = fact*i\n",
    "    print(fact)\n",
    "\n",
    "fact(8)\n",
    "    "
   ]
  },
  {
   "cell_type": "code",
   "execution_count": null,
   "id": "6ddd4f5a",
   "metadata": {},
   "outputs": [],
   "source": []
  },
  {
   "cell_type": "code",
   "execution_count": null,
   "id": "aa2f42d0",
   "metadata": {},
   "outputs": [],
   "source": [
    "def addtion():\n",
    "    a = 9\n",
    "    b = 10\n",
    "    c = a+b\n",
    "    return c\n",
    "    #print(c)\n",
    "    \n",
    "  \n",
    "print(\"statement 1\")\n",
    "\n",
    "print(\"statement 2\")\n",
    "print(addtion())  \n",
    "    "
   ]
  },
  {
   "cell_type": "code",
   "execution_count": null,
   "id": "64fc7e87",
   "metadata": {},
   "outputs": [],
   "source": [
    "def addtion(a, b):\n",
    "    c = a+b\n",
    "    return c\n",
    "    #print(c)\n",
    "    \n",
    "  \n",
    "print(\"statement 1\")\n",
    "print(addtion(10, 20))  \n",
    "print(\"statement 2\")\n",
    "\n",
    "    "
   ]
  },
  {
   "cell_type": "code",
   "execution_count": null,
   "id": "f82a4bc2",
   "metadata": {},
   "outputs": [],
   "source": [
    "pi = 3.14    #### global var\n",
    "def addtion(a, b):\n",
    "    print(\"i am global inside the functon\",pi)\n",
    "    x = 9   #### local var\n",
    "    print(\"i am local inside the functon\",x)\n",
    "    c = a+b\n",
    "    return c\n",
    "    #print(c)\n",
    "# print(\"i am local outside the functon\",x)   \n",
    "print(\"i am global outside the functon\",pi)  \n",
    "print(\"statement 1\")\n",
    "print(addtion(10, 20))  \n",
    "print(\"statement 2\")\n"
   ]
  },
  {
   "cell_type": "code",
   "execution_count": null,
   "id": "d1dcc9e9",
   "metadata": {},
   "outputs": [],
   "source": [
    "s = lambda a, b:a+b\n",
    "s(2,4)"
   ]
  },
  {
   "cell_type": "code",
   "execution_count": 29,
   "id": "1dad47cf",
   "metadata": {},
   "outputs": [
    {
     "data": {
      "text/plain": [
       "[1, 4, 9, 16]"
      ]
     },
     "execution_count": 29,
     "metadata": {},
     "output_type": "execute_result"
    }
   ],
   "source": [
    "l=[1,2,3,4]\n",
    "s=list(map(lambda x:x**2,l))\n",
    "# l=[1,2,3,4]\n",
    "\n",
    "s"
   ]
  },
  {
   "cell_type": "code",
   "execution_count": null,
   "id": "e934f503",
   "metadata": {},
   "outputs": [],
   "source": [
    "l=[\"male\",\"female\"]\n",
    "s=list(map({\"male\":0,\"female\":1},l))\n",
    "# l=[1,2,3,4]\n",
    "s"
   ]
  },
  {
   "cell_type": "code",
   "execution_count": null,
   "id": "ffcbe0d5",
   "metadata": {},
   "outputs": [],
   "source": [
    "l=[1,2,3,4]\n",
    "s=list(filter(lambda x:x%2==0,l))\n",
    "# l=[1,2,3,4]\n",
    "s"
   ]
  },
  {
   "cell_type": "code",
   "execution_count": null,
   "id": "f9850fed",
   "metadata": {},
   "outputs": [],
   "source": [
    "from functools import reduce\n",
    "# l=[1,2,3,4]\n",
    "\n",
    "# s=list(reduce(lambda x,y:x*y,l))\n",
    "# # l=[1,2,3,4]\n",
    "# s"
   ]
  },
  {
   "cell_type": "code",
   "execution_count": null,
   "id": "fcfd8825",
   "metadata": {},
   "outputs": [],
   "source": [
    "l=[1,2,3,4]\n",
    "\n",
    "s=(reduce(lambda x,y:x*y,l))\n",
    "# l=[1,2,3,4]\n",
    "s"
   ]
  },
  {
   "cell_type": "code",
   "execution_count": null,
   "id": "b791ecd6",
   "metadata": {},
   "outputs": [],
   "source": [
    "numbers = [1, 2, 3, 4, 5]\n",
    "sum = reduce(lambda x, y: x + y, numbers)\n",
    "\n",
    "print(sum)  "
   ]
  },
  {
   "cell_type": "code",
   "execution_count": null,
   "id": "92b135b9",
   "metadata": {},
   "outputs": [],
   "source": [
    "z = lambda a:a*a\n",
    "z(5)"
   ]
  },
  {
   "cell_type": "code",
   "execution_count": null,
   "id": "36c5df11",
   "metadata": {},
   "outputs": [],
   "source": [
    "# recursion\n",
    "5!=5*4*3*2*1\n",
    "0=1"
   ]
  },
  {
   "cell_type": "code",
   "execution_count": null,
   "id": "5425eb65",
   "metadata": {},
   "outputs": [],
   "source": [
    "## recurrsion  when a function call itself\n",
    "# 1*2*3*4*5=120\n",
    "def factorial(n):\n",
    "    if n==0:\n",
    "        return 1\n",
    "    else:\n",
    "        return n*factorial(n-1)\n",
    "\n",
    "    \n",
    "factorial(5)"
   ]
  },
  {
   "cell_type": "code",
   "execution_count": null,
   "id": "41a4eacd",
   "metadata": {},
   "outputs": [],
   "source": [
    "# 1*2*3*4*5*\n",
    "fact = 1\n",
    "for i in range(1, 6):\n",
    "    fact = fact*i\n",
    "print(fact)"
   ]
  },
  {
   "cell_type": "code",
   "execution_count": null,
   "id": "ac60af79",
   "metadata": {},
   "outputs": [],
   "source": [
    "#1+2+3+4+5+6+7+8+9+10\n",
    "sum= 1\n",
    "for i in range(1, 6):\n",
    "    sum=sum*i\n",
    "print(sum)"
   ]
  },
  {
   "cell_type": "code",
   "execution_count": null,
   "id": "c380cfdd",
   "metadata": {},
   "outputs": [],
   "source": [
    "print fibonacci series"
   ]
  },
  {
   "cell_type": "code",
   "execution_count": null,
   "id": "2175d5ea",
   "metadata": {},
   "outputs": [],
   "source": [
    "1+2+3+4+5"
   ]
  },
  {
   "cell_type": "code",
   "execution_count": 10,
   "id": "b4610888",
   "metadata": {},
   "outputs": [
    {
     "name": "stdout",
     "output_type": "stream",
     "text": [
      "0\n",
      "1\n",
      "1\n",
      "2\n",
      "3\n",
      "5\n",
      "8\n",
      "13\n",
      "21\n"
     ]
    }
   ],
   "source": [
    "def fibo(n):\n",
    "    a=0\n",
    "    b=1\n",
    "    print(a)\n",
    "    print(b)\n",
    "    for i in range(1,n+1):\n",
    "        c=a+b  \n",
    "        \n",
    "        a=b  \n",
    "        b=c    \n",
    "        print(c)\n",
    "fibo(7)"
   ]
  },
  {
   "cell_type": "code",
   "execution_count": 6,
   "id": "b277c3b3",
   "metadata": {},
   "outputs": [
    {
     "name": "stdout",
     "output_type": "stream",
     "text": [
      "Enter Number:5\n",
      "5 x 1 = 5\n",
      "5 x 2 = 10\n",
      "5 x 3 = 15\n",
      "5 x 4 = 20\n",
      "5 x 5 = 25\n",
      "5 x 6 = 30\n",
      "5 x 7 = 35\n",
      "5 x 8 = 40\n",
      "5 x 9 = 45\n",
      "5 x 10 = 50\n"
     ]
    }
   ],
   "source": [
    "# Print table using function.\n",
    "def table(n):\n",
    "    a=1\n",
    "    for i in range(10):\n",
    "        print(n, \"x\", a, \"=\", n*a)]\n",
    "        a+=1\n",
    "n=int(input(\"Enter Number:\"))\n",
    "table(n)"
   ]
  },
  {
   "cell_type": "code",
   "execution_count": null,
   "id": "a817909c",
   "metadata": {},
   "outputs": [],
   "source": [
    "0 1 123 5"
   ]
  },
  {
   "cell_type": "code",
   "execution_count": 2,
   "id": "89c5b6bf",
   "metadata": {},
   "outputs": [
    {
     "name": "stdout",
     "output_type": "stream",
     "text": [
      "55\n"
     ]
    }
   ],
   "source": [
    "def Fibonacci(n):\n",
    "\tif n < 0:\n",
    "\t\tprint(\"Incorrect input\")\n",
    "\telif n == 0:\n",
    "\t\treturn 0\n",
    "\telif n == 1 or n == 2:\n",
    "\t\treturn 1\n",
    "\telse:\n",
    "\t\treturn Fibonacci(n-1) + Fibonacci(n-2)\n",
    "print(Fibonacci(10))\n"
   ]
  },
  {
   "cell_type": "code",
   "execution_count": 6,
   "id": "41f3a150",
   "metadata": {},
   "outputs": [
    {
     "name": "stdout",
     "output_type": "stream",
     "text": [
      "78\n",
      "\n"
     ]
    }
   ],
   "source": [
    "\n",
    "def hlo():\n",
    "    a=78\n",
    "    n=67\n",
    "    print(a)\n",
    "hlo()\n",
    "print()\n"
   ]
  },
  {
   "cell_type": "code",
   "execution_count": 7,
   "id": "8497cd67",
   "metadata": {},
   "outputs": [],
   "source": [
    "# function questions"
   ]
  },
  {
   "cell_type": "code",
   "execution_count": 8,
   "id": "48518710",
   "metadata": {},
   "outputs": [
    {
     "name": "stdout",
     "output_type": "stream",
     "text": [
      "12\n"
     ]
    }
   ],
   "source": [
    "# calculate hcf of two numbers\n",
    "print(48%18)"
   ]
  },
  {
   "cell_type": "code",
   "execution_count": 9,
   "id": "ef60016a",
   "metadata": {},
   "outputs": [
    {
     "name": "stdout",
     "output_type": "stream",
     "text": [
      "0\n",
      "1\n",
      "3\n",
      "6\n",
      "10\n",
      "15\n",
      "21\n",
      "28\n"
     ]
    }
   ],
   "source": [
    "\n",
    "def fib(a):\n",
    "    sum = 0\n",
    "    for i in range(0 , a):\n",
    "     sum = sum+i\n",
    "    \n",
    "     print(sum)\n",
    "fib(8)"
   ]
  },
  {
   "cell_type": "code",
   "execution_count": 10,
   "id": "4d9d6c52",
   "metadata": {},
   "outputs": [
    {
     "name": "stdin",
     "output_type": "stream",
     "text": [
      "enter no. 45\n",
      "enter no. 56\n"
     ]
    },
    {
     "name": "stdout",
     "output_type": "stream",
     "text": [
      "The HCF of 45 and 56 is: 1\n"
     ]
    }
   ],
   "source": [
    "def calculate_hcf(a, b):  \n",
    "    while b != 0:  \n",
    "        temp = b   \n",
    "        \n",
    "        b = a % b   \n",
    "        a = temp \n",
    "        \n",
    "    return a\n",
    "\n",
    "# Example usage\n",
    "num1 = int(input(\"enter no.\"))\n",
    "num2 = int(input(\"enter no.\"))\n",
    "\n",
    "hcf = calculate_hcf(num1, num2)\n",
    "print(\"The HCF of\", num1, \"and\", num2, \"is:\", hcf)\n"
   ]
  },
  {
   "cell_type": "code",
   "execution_count": null,
   "id": "ee78747a",
   "metadata": {},
   "outputs": [],
   "source": [
    "def fibo(n):\n",
    "    a=0\n",
    "    b=1\n",
    "    print(a)\n",
    "    print(b)\n",
    "    for i in range(1,n+1):\n",
    "        c=a+b\n",
    "        a=b\n",
    "        b=c\n",
    "        print(c)\n",
    "fibo(7)"
   ]
  },
  {
   "cell_type": "code",
   "execution_count": null,
   "id": "5099762a",
   "metadata": {},
   "outputs": [],
   "source": [
    "def fib(a):\n",
    "    n=10\n",
    "    while count <= n:\n",
    "        num1 = 0\n",
    "        num2 = 1\n",
    "        nextn = num2 \n",
    "        count = 1\n",
    "        print(nextn, end=\" \")\n",
    "        count += 1\n",
    "        num1, num2 = num2, nextn\n",
    "        nextn = num1 + num2\n",
    "        print()\n",
    "fib(8)\n"
   ]
  },
  {
   "cell_type": "code",
   "execution_count": null,
   "id": "4968d0e5",
   "metadata": {},
   "outputs": [],
   "source": [
    "# to calculate the length of string without using len function"
   ]
  },
  {
   "cell_type": "code",
   "execution_count": null,
   "id": "213bd291",
   "metadata": {},
   "outputs": [],
   "source": [
    "st=\"fydgbjuf\"\n",
    "print(len(st))\n",
    "sum=0\n",
    "for i in st:\n",
    "    sum=sum+1\n",
    "print(sum)\n"
   ]
  },
  {
   "cell_type": "code",
   "execution_count": null,
   "id": "1289d5d7",
   "metadata": {},
   "outputs": [],
   "source": [
    "l=\"kartik\"\n",
    "print(len(l))"
   ]
  },
  {
   "cell_type": "code",
   "execution_count": 37,
   "id": "f00c168d",
   "metadata": {},
   "outputs": [
    {
     "name": "stdout",
     "output_type": "stream",
     "text": [
      "5\n"
     ]
    }
   ],
   "source": [
    "# to calculate the length of string with  function\n",
    "s=\"rahul\"\n",
    "print(len(s))"
   ]
  },
  {
   "cell_type": "code",
   "execution_count": null,
   "id": "3f5a1f94",
   "metadata": {},
   "outputs": [],
   "source": [
    "l=[6,7,8,9]\n",
    "l.append(56)"
   ]
  },
  {
   "cell_type": "code",
   "execution_count": 5,
   "id": "a4e1f0ed",
   "metadata": {},
   "outputs": [
    {
     "name": "stdout",
     "output_type": "stream",
     "text": [
      "8\n"
     ]
    }
   ],
   "source": [
    "\n",
    "def stl(st):\n",
    "    p=0\n",
    "    for i in st:\n",
    "         p=p+1\n",
    "    print(p)\n",
    "stl(\"jaismeen\")\n"
   ]
  },
  {
   "cell_type": "code",
   "execution_count": null,
   "id": "f3396da8",
   "metadata": {},
   "outputs": [],
   "source": [
    "# to calculate the length of string with  function"
   ]
  },
  {
   "cell_type": "code",
   "execution_count": 18,
   "id": "b046da18",
   "metadata": {},
   "outputs": [
    {
     "name": "stdout",
     "output_type": "stream",
     "text": [
      "13\n"
     ]
    }
   ],
   "source": [
    "def calculate_length(string):\n",
    "    length = len(string)\n",
    "    return length\n",
    "\n",
    "# Example usage:\n",
    "my_string = \"Hello, world!\"\n",
    "result = calculate_length(my_string)\n",
    "print(result)  # Output: 13\n"
   ]
  },
  {
   "cell_type": "code",
   "execution_count": null,
   "id": "f7225b83",
   "metadata": {},
   "outputs": [],
   "source": [
    "to test the character type"
   ]
  },
  {
   "cell_type": "code",
   "execution_count": null,
   "id": "78b26ecc",
   "metadata": {},
   "outputs": [],
   "source": []
  },
  {
   "cell_type": "code",
   "execution_count": 17,
   "id": "daf46172",
   "metadata": {},
   "outputs": [
    {
     "name": "stdout",
     "output_type": "stream",
     "text": [
      "Enter the number :\n"
     ]
    }
   ],
   "source": [
    "def test_character_type(char):\n",
    "    if type(char) == str and len(char) == 1:\n",
    "        print(f\"{char} is a character.\")\n",
    "     \n",
    "\n",
    "    \n",
    "num = input(\"Enter the number :\")\n",
    "test_character_type(num)\n",
    "# Output: 5 is not a character."
   ]
  },
  {
   "cell_type": "code",
   "execution_count": null,
   "id": "a18b807f",
   "metadata": {},
   "outputs": [],
   "source": [
    "import math\n",
    "dir(math)"
   ]
  },
  {
   "cell_type": "code",
   "execution_count": null,
   "id": "1d025df1",
   "metadata": {},
   "outputs": [],
   "source": [
    "# import math\n",
    "def fahrenheit_to_celsius(fahrenheit):\n",
    "    celsius = (5/9) * (fahrenheit - 32)\n",
    "    return celsius\n",
    "    print(celsius)\n",
    "n=int(input(\"\"))\n",
    "fahrenheit_to_celsius(n)\n",
    "\n"
   ]
  },
  {
   "cell_type": "code",
   "execution_count": 13,
   "id": "7e90a35b",
   "metadata": {},
   "outputs": [
    {
     "name": "stdout",
     "output_type": "stream",
     "text": [
      "7.222222222222222\n"
     ]
    }
   ],
   "source": [
    "def fah(fahn):\n",
    "    celsius= (5/9) * (fahn - 32)\n",
    "    print(celsius)\n",
    "fah(45)"
   ]
  },
  {
   "cell_type": "code",
   "execution_count": null,
   "id": "d2122e9e",
   "metadata": {},
   "outputs": [],
   "source": [
    "def addition():\n",
    "    a=7\n",
    "    b=8\n",
    "    c=a+b\n",
    "    return c\n",
    "print(addition())\n"
   ]
  },
  {
   "cell_type": "code",
   "execution_count": null,
   "id": "1134ebd0",
   "metadata": {},
   "outputs": [],
   "source": [
    "print(\"man\"\"     kaur\")"
   ]
  },
  {
   "cell_type": "code",
   "execution_count": null,
   "id": "2a0e8c63",
   "metadata": {},
   "outputs": [],
   "source": [
    "emp = float(input(\"Please enter temperature in fahrenheit:\"))\n",
    "celsius = (temp - 32) * 5 / 9\n",
    "print(\"Temperature in celsius: \" , celsius)\n",
    "temp = float(input(\"Please enter temperature in fahrenheit:\"))\n",
    "celsius = (temp - 32) * 5 / 9\n",
    "print(\"Temperature in celsius: \" , celsius)"
   ]
  },
  {
   "cell_type": "code",
   "execution_count": null,
   "id": "908a38dd",
   "metadata": {},
   "outputs": [],
   "source": [
    "def conv():\n",
    "   Fah = float(input(\"Enter the temperature in F :\"))\n",
    "   cels = (Fah - 32 )*5/9\n",
    "   x=round(cels,2)\n",
    "   print(x)\n",
    "    \n",
    "conv()\n"
   ]
  },
  {
   "cell_type": "code",
   "execution_count": null,
   "id": "a0085aad",
   "metadata": {},
   "outputs": [],
   "source": [
    "0\n",
    "1\n",
    "1\n",
    "2\n",
    "3\n",
    "5\n",
    "8\n",
    "\n",
    "    "
   ]
  },
  {
   "cell_type": "code",
   "execution_count": null,
   "id": "a25e0b03",
   "metadata": {},
   "outputs": [],
   "source": [
    "sum=1\n",
    "i=1\n",
    "while i<=5:\n",
    "    sum=sum*i\n",
    "    i=i+1\n",
    "print(sum)\n"
   ]
  },
  {
   "cell_type": "code",
   "execution_count": null,
   "id": "a4553239",
   "metadata": {},
   "outputs": [],
   "source": [
    "def add(a,b,c):\n",
    "    c=a+b+c\n",
    "    print(c)\n",
    "add(23,78,787)\n",
    "add(67,454677887,78)\n"
   ]
  },
  {
   "cell_type": "code",
   "execution_count": null,
   "id": "d2ec5581",
   "metadata": {},
   "outputs": [],
   "source": [
    "def sub(a,b):\n",
    "    c=a-b\n",
    "    print(c)\n",
    "def mul(a,b):\n",
    "    c=a*b\n",
    "    print(c)\n",
    "c=int(input(\"enter a first no.\"))\n",
    "d=int(input(\"enter a second no.\"))\n",
    "e=input(\"enter a choicew\")\n",
    "if e==\"sub\":\n",
    "    sub(c,d)\n",
    "else:\n",
    "    mul(c,d)"
   ]
  },
  {
   "cell_type": "code",
   "execution_count": null,
   "id": "88212c1f",
   "metadata": {},
   "outputs": [],
   "source": [
    "def fun(a):\n",
    "    if a==\"\" or len(a)==1:\n",
    "        print(\"chr\")\n",
    "    else:\n",
    "        print(\"not chr\")\n",
    "    \n",
    "    \n",
    "d=input(\"enter a no.\")\n",
    "fun(d)"
   ]
  },
  {
   "cell_type": "code",
   "execution_count": null,
   "id": "d9d7d0f6",
   "metadata": {},
   "outputs": [],
   "source": [
    "d=input(\"enter a no.\")"
   ]
  },
  {
   "cell_type": "code",
   "execution_count": 5,
   "id": "0cfdff5c",
   "metadata": {},
   "outputs": [
    {
     "name": "stdout",
     "output_type": "stream",
     "text": [
      "90\n",
      "90\n",
      "90\n",
      "90\n"
     ]
    }
   ],
   "source": [
    "# a=34\n",
    "c=90\n",
    "def fun():\n",
    "    a=90\n",
    "    b=89\n",
    "    c=78\n",
    "    print(a)\n",
    "fun()\n",
    "print(c)"
   ]
  },
  {
   "cell_type": "code",
   "execution_count": 11,
   "id": "5bed1ae4",
   "metadata": {},
   "outputs": [
    {
     "name": "stdout",
     "output_type": "stream",
     "text": [
      "*****     \n",
      "*         \n",
      "*         \n",
      "*****     \n",
      "    *     \n",
      "    *     \n",
      "*****     \n"
     ]
    }
   ],
   "source": [
    "for row in range(7): \n",
    "    for col in range(10):\n",
    "        if ((row==0 or row==3 or row==6)and(col>0 and col<4)) or (col==0 and (row>0 and row<3)) or (col==4 and (row>3 and row<6)) or  (col<5 and (row==0 or row==3 or row==6)):\n",
    "            print(\"*\",end=\"\")\n",
    "        else:\n",
    "            print(end=\" \")\n",
    "    print()"
   ]
  },
  {
   "cell_type": "code",
   "execution_count": 12,
   "id": "71bfbea2",
   "metadata": {},
   "outputs": [
    {
     "name": "stdin",
     "output_type": "stream",
     "text": [
      "enter a no. 6\n",
      "enter a no. 5\n"
     ]
    },
    {
     "name": "stdout",
     "output_type": "stream",
     "text": [
      "11\n"
     ]
    }
   ],
   "source": [
    "def add(a,b):\n",
    "    c=a+b\n",
    "    print(c)\n",
    "e=int(input(\"enter a no.\"))\n",
    "f=int(input(\"enter a no.\"))\n",
    "add(e,f)"
   ]
  },
  {
   "cell_type": "code",
   "execution_count": 14,
   "id": "cd231d1a",
   "metadata": {},
   "outputs": [
    {
     "ename": "NameError",
     "evalue": "name 'charcheck' is not defined",
     "output_type": "error",
     "traceback": [
      "\u001b[31m---------------------------------------------------------------------------\u001b[39m",
      "\u001b[31mNameError\u001b[39m                                 Traceback (most recent call last)",
      "\u001b[36mCell\u001b[39m\u001b[36m \u001b[39m\u001b[32mIn[14]\u001b[39m\u001b[32m, line 7\u001b[39m\n\u001b[32m      5\u001b[39m         \u001b[38;5;28mprint\u001b[39m(\u001b[33m\"\u001b[39m\u001b[33mIs not a character\u001b[39m\u001b[33m\"\u001b[39m)\n\u001b[32m      6\u001b[39m c=\u001b[38;5;28minput\u001b[39m(\u001b[33m\"\u001b[39m\u001b[33m\"\u001b[39m)     \n\u001b[32m----> \u001b[39m\u001b[32m7\u001b[39m \u001b[43mcharcheck\u001b[49m(c)\n\u001b[32m      8\u001b[39m charcheck(c)\n",
      "\u001b[31mNameError\u001b[39m: name 'charcheck' is not defined"
     ]
    }
   ],
   "source": [
    "def carrerpointuniversity(c):\n",
    "    if len(c)==1 and type(c)==str:\n",
    "        print(\"it is a character\")\n",
    "    else:\n",
    "        print(\"Is not a character\")\n",
    "c=input(\"\")     \n",
    "charcheck(c)\n",
    "charcheck(c)"
   ]
  },
  {
   "cell_type": "code",
   "execution_count": null,
   "id": "d6a87be0",
   "metadata": {},
   "outputs": [],
   "source": []
  }
 ],
 "metadata": {
  "kernelspec": {
   "display_name": "Python 3 (ipykernel)",
   "language": "python",
   "name": "python3"
  },
  "language_info": {
   "codemirror_mode": {
    "name": "ipython",
    "version": 3
   },
   "file_extension": ".py",
   "mimetype": "text/x-python",
   "name": "python",
   "nbconvert_exporter": "python",
   "pygments_lexer": "ipython3",
   "version": "3.13.3"
  }
 },
 "nbformat": 4,
 "nbformat_minor": 5
}
