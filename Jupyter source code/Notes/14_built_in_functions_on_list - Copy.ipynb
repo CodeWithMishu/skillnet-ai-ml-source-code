{
 "cells": [
  {
   "cell_type": "markdown",
   "id": "be946e50",
   "metadata": {},
   "source": [
    "# Functions on list"
   ]
  },
  {
   "cell_type": "code",
   "execution_count": 22,
   "id": "60608956",
   "metadata": {},
   "outputs": [
    {
     "name": "stdout",
     "output_type": "stream",
     "text": [
      "g\n",
      "16.0\n",
      "g\n",
      "16.0\n"
     ]
    }
   ],
   "source": [
    "def caculate(a,b):\n",
    "    mean=a*b/a+b\n",
    "    print(mean)\n",
    "def isgreater(a,b):\n",
    "    if a>b:\n",
    "          print(\"g\")\n",
    "    else:\n",
    "          print(\"bjf\")\n",
    "    \n",
    "\n",
    "a=9\n",
    "b=8\n",
    "# if a>b:\n",
    "#     print(\"g\")\n",
    "# else:\n",
    "#     print(\"bjf\")\n",
    "isgreater(a,b)\n",
    "caculate(a,b)\n",
    "# gmean=a*b/a+b\n",
    "# print(gmean)\n",
    "c=9\n",
    "d=8\n",
    "# if c>d:\n",
    "#     print(\"g\")\n",
    "# else:\n",
    "#     print(\"bjf\")\n",
    "isgreater(a,b)\n",
    "caculate(a,b)\n",
    "# gmean=c*d/c+d\n",
    "# print(gmean)"
   ]
  },
  {
   "cell_type": "code",
   "execution_count": 75,
   "id": "5f67a7d4",
   "metadata": {},
   "outputs": [
    {
     "name": "stdout",
     "output_type": "stream",
     "text": [
      "0\n"
     ]
    }
   ],
   "source": [
    "l=[10,67.8,'point',345,10]\n",
    "#index\n",
    "print(l.index(10))\n",
    "#the index at the 0th position and ending with the 1th position. \n",
    "#print(l.index(10,1))"
   ]
  },
  {
   "cell_type": "markdown",
   "id": "4c96e826",
   "metadata": {},
   "source": [
    "count:"
   ]
  },
  {
   "cell_type": "code",
   "execution_count": 59,
   "id": "81012fc1",
   "metadata": {},
   "outputs": [
    {
     "name": "stdout",
     "output_type": "stream",
     "text": [
      "2\n"
     ]
    }
   ],
   "source": [
    "l=[10,67.8,'python',345,10]\n",
    "print(l.count(10))"
   ]
  },
  {
   "cell_type": "markdown",
   "id": "88b9e708",
   "metadata": {},
   "source": [
    "sort:"
   ]
  },
  {
   "cell_type": "markdown",
   "id": "9d492485",
   "metadata": {},
   "source": [
    "- ascending "
   ]
  },
  {
   "cell_type": "code",
   "execution_count": 77,
   "id": "3d9ff2e3",
   "metadata": {},
   "outputs": [
    {
     "name": "stdout",
     "output_type": "stream",
     "text": [
      "[2, 6, 10, 23, 56, 89, 90, 345, 456]\n"
     ]
    }
   ],
   "source": [
    "l =[10,2,6,89,56,456,345,90,23]\n",
    "l.sort()\n",
    "print(l)"
   ]
  },
  {
   "cell_type": "markdown",
   "id": "fa4183d1",
   "metadata": {},
   "source": [
    "- desending"
   ]
  },
  {
   "cell_type": "code",
   "execution_count": 81,
   "id": "809c3771",
   "metadata": {},
   "outputs": [
    {
     "name": "stdout",
     "output_type": "stream",
     "text": [
      "[70, 60, 50, 40, 30]\n"
     ]
    }
   ],
   "source": [
    "l=[30,40,50,60,70]\n",
    "#l.sort()\n",
    "l.sort(reverse=True)\n",
    "print(l) "
   ]
  },
  {
   "cell_type": "markdown",
   "id": "4be77bdf",
   "metadata": {},
   "source": [
    "reverse:"
   ]
  },
  {
   "cell_type": "code",
   "execution_count": 82,
   "id": "1037e15e",
   "metadata": {},
   "outputs": [
    {
     "name": "stdout",
     "output_type": "stream",
     "text": [
      "['hello', 23, 90, 345, 456, 56, 89, 6, 2, 10]\n"
     ]
    }
   ],
   "source": [
    "l =[10,2,6,89,56,456,345,90,23,'hello']\n",
    "l.reverse()\n",
    "print(l)"
   ]
  },
  {
   "cell_type": "markdown",
   "id": "29b6d7d9",
   "metadata": {},
   "source": [
    "sum:"
   ]
  },
  {
   "cell_type": "code",
   "execution_count": 84,
   "id": "ce6d7e7a",
   "metadata": {
    "scrolled": true
   },
   "outputs": [
    {
     "name": "stdout",
     "output_type": "stream",
     "text": [
      "1077\n"
     ]
    }
   ],
   "source": [
    "l =[10,2,6,89,56,456,345,90,23]\n",
    "\n",
    "print(sum(l)) "
   ]
  },
  {
   "cell_type": "markdown",
   "id": "10dc455b",
   "metadata": {},
   "source": [
    "max:"
   ]
  },
  {
   "cell_type": "code",
   "execution_count": 85,
   "id": "c449206b",
   "metadata": {
    "scrolled": true
   },
   "outputs": [
    {
     "name": "stdout",
     "output_type": "stream",
     "text": [
      "456\n"
     ]
    }
   ],
   "source": [
    "l = [10,2,6,89,56,456,345,90,23]\n",
    "\n",
    "print(max(l))"
   ]
  },
  {
   "cell_type": "markdown",
   "id": "886947c6",
   "metadata": {},
   "source": [
    "min:"
   ]
  },
  {
   "cell_type": "code",
   "execution_count": 67,
   "id": "a9e0b335",
   "metadata": {},
   "outputs": [
    {
     "name": "stdout",
     "output_type": "stream",
     "text": [
      "2\n"
     ]
    }
   ],
   "source": [
    "l = [10,2,6,89,56,456,345,90,23]\n",
    "\n",
    "print(min(l))"
   ]
  },
  {
   "cell_type": "code",
   "execution_count": 90,
   "id": "04048f96-26fe-4a52-ba7d-772403248c06",
   "metadata": {},
   "outputs": [
    {
     "name": "stdout",
     "output_type": "stream",
     "text": [
      "Maximum number 456\n",
      "Minimum number 456\n"
     ]
    }
   ],
   "source": [
    "numbers = [10,2,6,89,56,456,345,90,23]\n",
    "max_num = numbers[0]\n",
    "min_num = numbers[0]\n",
    "\n",
    "for num in numbers:\n",
    "    if num > max_num:\n",
    "        max_num = num\n",
    "    if num > min_num:\n",
    "        min_num = num\n",
    "print(\"Maximum number\",max_num)\n",
    "print(\"Minimum number\",min_num)"
   ]
  },
  {
   "cell_type": "markdown",
   "id": "96c9e0e6-87d9-44f1-8346-ba00aad2fe51",
   "metadata": {},
   "source": [
    "#Q write a program to print max no from a  list using loop and min no also.\n",
    "l =[10,2,6,89,56,456,345,90,23]\n",
    "\n",
    "for i in range(len(l)):\n",
    "         print(i)\n",
    "    # Given list"
   ]
  },
  {
   "cell_type": "code",
   "execution_count": 91,
   "id": "2d6232ff-2d2d-4171-bbcc-5036fd3c59de",
   "metadata": {},
   "outputs": [
    {
     "name": "stdout",
     "output_type": "stream",
     "text": [
      "Maximum number is: 90\n",
      "Minimum number is: 4\n"
     ]
    }
   ],
   "source": [
    "numbers = [45, 12, 78, 4, 90, 23, 11, 67]\n",
    "\n",
    "# Initialize max and min with the first element of the list\n",
    "max_num = numbers[0]\n",
    "min_num = numbers[0]\n",
    "\n",
    "# Loop through the list\n",
    "for num in numbers:\n",
    "    if num > max_num:\n",
    "        max_num = num\n",
    "    if num < min_num:\n",
    "        min_num = num\n",
    "\n",
    "# Print the results\n",
    "print(\"Maximum number is:\", max_num)\n",
    "print(\"Minimum number is:\", min_num)\n"
   ]
  },
  {
   "cell_type": "code",
   "execution_count": null,
   "id": "75b65aa0-f8ef-482c-af05-4ebd807ff0bd",
   "metadata": {},
   "outputs": [],
   "source": []
  }
 ],
 "metadata": {
  "kernelspec": {
   "display_name": "Python 3 (ipykernel)",
   "language": "python",
   "name": "python3"
  },
  "language_info": {
   "codemirror_mode": {
    "name": "ipython",
    "version": 3
   },
   "file_extension": ".py",
   "mimetype": "text/x-python",
   "name": "python",
   "nbconvert_exporter": "python",
   "pygments_lexer": "ipython3",
   "version": "3.13.3"
  }
 },
 "nbformat": 4,
 "nbformat_minor": 5
}
