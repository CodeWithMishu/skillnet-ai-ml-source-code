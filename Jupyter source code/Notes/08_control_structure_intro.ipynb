{
 "cells": [
  {
   "cell_type": "markdown",
   "id": "9ed25c53",
   "metadata": {},
   "source": [
    "# What is control structure ?"
   ]
  },
  {
   "cell_type": "code",
   "execution_count": 3,
   "id": "85a12b7f",
   "metadata": {},
   "outputs": [
    {
     "ename": "SyntaxError",
     "evalue": "invalid syntax. Perhaps you forgot a comma? (60884897.py, line 2)",
     "output_type": "error",
     "traceback": [
      "  \u001b[36mCell\u001b[39m\u001b[36m \u001b[39m\u001b[32mIn[3]\u001b[39m\u001b[32m, line 2\u001b[39m\n\u001b[31m    \u001b[39m\u001b[31mprint(l[])\u001b[39m\n          ^\n\u001b[31mSyntaxError\u001b[39m\u001b[31m:\u001b[39m invalid syntax. Perhaps you forgot a comma?\n"
     ]
    }
   ],
   "source": [
    "l=[1,2,3,5,6,8]\n",
    "print(l,[])\n",
    "print(l,[2])"
   ]
  },
  {
   "cell_type": "markdown",
   "id": "39f39e6c",
   "metadata": {},
   "source": [
    " - A control structure (or flow of control) is a block of programming that analyses variables and chooses a direction in which to go based on given parameters. In simple sentence, a control structure is just a decision that the computer makes"
   ]
  },
  {
   "cell_type": "code",
   "execution_count": 1,
   "id": "fb05b145",
   "metadata": {},
   "outputs": [
    {
     "data": {
      "image/png": "[encoded data removed]",
      "text/plain": [
       "<IPython.core.display.Image object>"
      ]
     },
     "execution_count": 1,
     "metadata": {},
     "output_type": "execute_result"
    }
   ],
   "source": [
    "from IPython.display import Image\n",
    "Image(filename='h.png') "
   ]
  },
  {
   "cell_type": "markdown",
   "id": "79b24811",
   "metadata": {},
   "source": [
    "# Conditions in python"
   ]
  },
  {
   "cell_type": "markdown",
   "id": "f38d34a6",
   "metadata": {},
   "source": [
    "- conditions are used to perform different actions based on whether a certain condition is met."
   ]
  },
  {
   "cell_type": "markdown",
   "id": "a0a6fe2a",
   "metadata": {},
   "source": [
    "- a conditional statement is a construct that allows your code to make decisions based on the value of one or more variables."
   ]
  },
  {
   "cell_type": "code",
   "execution_count": 3,
   "id": "e117b421",
   "metadata": {},
   "outputs": [],
   "source": [
    "import keyword "
   ]
  },
  {
   "cell_type": "code",
   "execution_count": 4,
   "id": "b9791738",
   "metadata": {},
   "outputs": [
    {
     "name": "stdout",
     "output_type": "stream",
     "text": [
      "['False', 'None', 'True', 'and', 'as', 'assert', 'async', 'await', 'break', 'class', 'continue', 'def', 'del', 'elif', 'else', 'except', 'finally', 'for', 'from', 'global', 'if', 'import', 'in', 'is', 'lambda', 'nonlocal', 'not', 'or', 'pass', 'raise', 'return', 'try', 'while', 'with', 'yield']\n"
     ]
    }
   ],
   "source": [
    "print(keyword.kwlist)"
   ]
  },
  {
   "cell_type": "code",
   "execution_count": 2,
   "id": "3445bccd",
   "metadata": {},
   "outputs": [
    {
     "ename": "SyntaxError",
     "evalue": "invalid syntax (4026852629.py, line 1)",
     "output_type": "error",
     "traceback": [
      "  \u001b[36mCell\u001b[39m\u001b[36m \u001b[39m\u001b[32mIn[2]\u001b[39m\u001b[32m, line 1\u001b[39m\n\u001b[31m    \u001b[39m\u001b[31msyntax:\u001b[39m\n            ^\n\u001b[31mSyntaxError\u001b[39m\u001b[31m:\u001b[39m invalid syntax\n"
     ]
    }
   ],
   "source": [
    "syntax: \n",
    "    if (condition):\n",
    "        \n",
    "        \n",
    "         #statement\n",
    "        (Idention)"
   ]
  },
  {
   "cell_type": "code",
   "execution_count": 5,
   "id": "ce5fec03",
   "metadata": {},
   "outputs": [
    {
     "ename": "SyntaxError",
     "evalue": "expected 'else' after 'if' expression (1495753108.py, line 8)",
     "output_type": "error",
     "traceback": [
      "  \u001b[36mCell\u001b[39m\u001b[36m \u001b[39m\u001b[32mIn[5]\u001b[39m\u001b[32m, line 8\u001b[39m\n\u001b[31m    \u001b[39m\u001b[31m1. if statement\u001b[39m\n    ^\n\u001b[31mSyntaxError\u001b[39m\u001b[31m:\u001b[39m expected 'else' after 'if' expression\n"
     ]
    }
   ],
   "source": [
    "if True:\n",
    "    if False:\n",
    "        print(\"carrer\")\n",
    "    else:\n",
    "        print(\"point\")\n",
    "else: \n",
    "    print(\"university\")\n",
    "1. if statement\n",
    "2. if else statement\n",
    "3. elif statement\n",
    "4. Nested if else statement    "
   ]
  },
  {
   "cell_type": "code",
   "execution_count": 10,
   "id": "724c415c",
   "metadata": {},
   "outputs": [
    {
     "name": "stdout",
     "output_type": "stream",
     "text": [
      "number7\n",
      "This is lesser\n"
     ]
    }
   ],
   "source": [
    "a=int(input(\"number\"))\n",
    "if a>10:\n",
    "    \n",
    "    if a>=15:\n",
    "        print(\"think\")\n",
    "    else :\n",
    "        print(\"next\")\n",
    "else:\n",
    "    print(\"This is lesser\")"
   ]
  },
  {
   "cell_type": "code",
   "execution_count": 7,
   "id": "bfbca8b4",
   "metadata": {},
   "outputs": [
    {
     "name": "stdout",
     "output_type": "stream",
     "text": [
      "aditya\n"
     ]
    }
   ],
   "source": [
    "a=34\n",
    "if 34<45:\n",
    "    if 34<57:\n",
    "        print(\"aditya\")\n",
    "    else:\n",
    "        print(\"Mishra\")\n",
    "else:\n",
    "    print(\"skillnet learning\")\n",
    "      "
   ]
  },
  {
   "cell_type": "markdown",
   "id": "90dad27e",
   "metadata": {},
   "source": [
    "what is indentation in python?"
   ]
  },
  {
   "cell_type": "markdown",
   "id": "94173717",
   "metadata": {},
   "source": [
    "- indentation (whitespace at the beginning of a line) "
   ]
  },
  {
   "cell_type": "markdown",
   "id": "158e0621",
   "metadata": {},
   "source": [
    " - min one whitespace"
   ]
  },
  {
   "cell_type": "markdown",
   "id": "87641230",
   "metadata": {},
   "source": [
    "what is the  use of indentation ?"
   ]
  },
  {
   "cell_type": "markdown",
   "id": "cc456f99",
   "metadata": {},
   "source": [
    "- used to define the block of code associated with control structures like loops and conditionals"
   ]
  },
  {
   "cell_type": "code",
   "execution_count": 3,
   "id": "e7088fb7",
   "metadata": {},
   "outputs": [],
   "source": [
    "if False:\n",
    "    \n",
    "    print(\"manjot\")\n",
    "    print(\"sneh\")\n",
    "    print(\"Hello, world!\")\n",
    "    print(\"This is an indented block of code.\")\n",
    "\n",
    "# print(\"This is not indented, and is not part of the previous code block.\")\n",
    "# print(5+6)\n"
   ]
  },
  {
   "cell_type": "code",
   "execution_count": 6,
   "id": "e78933a2",
   "metadata": {},
   "outputs": [
    {
     "name": "stdout",
     "output_type": "stream",
     "text": [
      "a is not less than 2\n"
     ]
    }
   ],
   "source": [
    "a=5\n",
    "if a<2:\n",
    "    print(\"a is less than 2\")\n",
    "else:\n",
    "    print(\"a is not less than 2\")\n",
    "    \n"
   ]
  },
  {
   "cell_type": "code",
   "execution_count": null,
   "id": "c1e12697-786b-402a-b98d-0c7da394a4b0",
   "metadata": {},
   "outputs": [],
   "source": [
    "age = int(input(\"Enter your age: \"))\n",
    "\n",
    "# Check voting eligibility\n",
    "if age >= 18:\n",
    "    print(\"You are eligible to vote.\")\n",
    "else:\n",
    "    print(\"You are not eligible to vote. Wait until you turn 18.\")"
   ]
  },
  {
   "cell_type": "code",
   "execution_count": 5,
   "id": "2d094d23",
   "metadata": {},
   "outputs": [
    {
     "ename": "SyntaxError",
     "evalue": "invalid syntax (1998299216.py, line 1)",
     "output_type": "error",
     "traceback": [
      "  \u001b[36mCell\u001b[39m\u001b[36m \u001b[39m\u001b[32mIn[5]\u001b[39m\u001b[32m, line 1\u001b[39m\n\u001b[31m    \u001b[39m\u001b[31mno.is even or not\u001b[39m\n       ^\n\u001b[31mSyntaxError\u001b[39m\u001b[31m:\u001b[39m invalid syntax\n"
     ]
    }
   ],
   "source": [
    "#no.is even or not "
   ]
  },
  {
   "cell_type": "code",
   "execution_count": 10,
   "id": "96a15ff4",
   "metadata": {},
   "outputs": [
    {
     "name": "stdout",
     "output_type": "stream",
     "text": [
      "odd\n"
     ]
    }
   ],
   "source": [
    "a=10\n",
    "if a/2==0:\n",
    "     print(\"even\")\n",
    "else:\n",
    "     print(\"odd\")"
   ]
  },
  {
   "cell_type": "code",
   "execution_count": null,
   "id": "5c045829",
   "metadata": {},
   "outputs": [],
   "source": [
    "a=int(input(\"enter a  number\"))\n",
    "if (a%2==0):\n",
    "    print(\"number id even\")\n",
    "else:\n",
    "    print(\"number is odd\")"
   ]
  },
  {
   "cell_type": "code",
   "execution_count": null,
   "id": "8cf23c43",
   "metadata": {},
   "outputs": [],
   "source": [
    "# Check if the year is a leap year using if-else\n",
    "year = int(input(\"Enter a year: \"))\n",
    "\n",
    "if (year % 4 == 0):\n",
    "    if (year % 100 == 0):\n",
    "        if (year % 400 == 0):\n",
    "            print(year, \"is a Leap Year\")\n",
    "        else:\n",
    "            print(year, \"is NOT a Leap Year\")\n",
    "    else:\n",
    "        print(year, \"is a Leap Year\")\n",
    "else:\n",
    "    print(year, \"is NOT a Leap Year\")"
   ]
  },
  {
   "cell_type": "code",
   "execution_count": null,
   "id": "d870c309-6fa2-4b7b-a03b-317e54cef677",
   "metadata": {},
   "outputs": [],
   "source": []
  },
  {
   "cell_type": "code",
   "execution_count": null,
   "id": "4586f57a-96e6-4a78-9c19-71ae8e8e1dac",
   "metadata": {},
   "outputs": [],
   "source": []
  }
 ],
 "metadata": {
  "kernelspec": {
   "display_name": "Python 3 (ipykernel)",
   "language": "python",
   "name": "python3"
  },
  "language_info": {
   "codemirror_mode": {
    "name": "ipython",
    "version": 3
   },
   "file_extension": ".py",
   "mimetype": "text/x-python",
   "name": "python",
   "nbconvert_exporter": "python",
   "pygments_lexer": "ipython3",
   "version": "3.13.3"
  },
  "vscode": {
   "interpreter": {
    "hash": "72b2382ece9768098284d92bbc69d35954e75b60d1e25897d1389c232f4796f0"
   }
  }
 },
 "nbformat": 4,
 "nbformat_minor": 5
}
