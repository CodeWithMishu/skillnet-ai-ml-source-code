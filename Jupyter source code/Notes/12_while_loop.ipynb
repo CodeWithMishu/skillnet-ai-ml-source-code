{
 "cells": [
  {
   "cell_type": "markdown",
   "id": "89900371",
   "metadata": {},
   "source": [
    "# while loop"
   ]
  },
  {
   "cell_type": "code",
   "execution_count": 2,
   "id": "4ad44fcf",
   "metadata": {},
   "outputs": [
    {
     "name": "stdout",
     "output_type": "stream",
     "text": [
      "mishra\n",
      "mishra\n",
      "mishra\n",
      "mishra\n",
      "mishra\n"
     ]
    }
   ],
   "source": [
    "for i in range(5):\n",
    "    print(\"mishra\")"
   ]
  },
  {
   "cell_type": "code",
   "execution_count": null,
   "id": "a1e4f7c8",
   "metadata": {},
   "outputs": [],
   "source": [
    "initialization\n",
    "condition\n",
    "inc or dec\n",
    "\n",
    "\n",
    "initial\n",
    "while cond:\n",
    "    print()\n",
    "    inc/dec\n"
   ]
  },
  {
   "cell_type": "code",
   "execution_count": 2,
   "id": "2071b8af-88e4-4111-9d5d-976f13c261a6",
   "metadata": {},
   "outputs": [],
   "source": [
    "i=5\n",
    "while i<=1:\n",
    "    print(\"Disha\")\n",
    "    i-=1\n"
   ]
  },
  {
   "cell_type": "code",
   "execution_count": 1,
   "id": "1a379625",
   "metadata": {},
   "outputs": [
    {
     "name": "stdout",
     "output_type": "stream",
     "text": [
      "10\n",
      "9\n",
      "8\n",
      "7\n",
      "6\n",
      "5\n",
      "4\n",
      "3\n",
      "2\n",
      "1\n"
     ]
    }
   ],
   "source": [
    "i=10\n",
    "while i>=1:\n",
    "    print(i)\n",
    "    i=i-1\n"
   ]
  },
  {
   "cell_type": "code",
   "execution_count": 2,
   "id": "0a8411db",
   "metadata": {},
   "outputs": [
    {
     "name": "stdout",
     "output_type": "stream",
     "text": [
      "preet\n",
      "preet\n",
      "preet\n",
      "preet\n",
      "preet\n"
     ]
    }
   ],
   "source": [
    "i=5\n",
    "while i>=1:\n",
    "    print(\"preet\")\n",
    "    i=i-1"
   ]
  },
  {
   "cell_type": "code",
   "execution_count": 1,
   "id": "bb389ab3-4284-4946-8dd8-83b3813c7a55",
   "metadata": {},
   "outputs": [
    {
     "name": "stdout",
     "output_type": "stream",
     "text": [
      "Aditya\n",
      "Aditya\n",
      "Aditya\n"
     ]
    }
   ],
   "source": [
    "a=10\n",
    "while a>7:\n",
    "    print(\"Aditya\")\n",
    "    a-=1"
   ]
  },
  {
   "cell_type": "markdown",
   "id": "520e591b",
   "metadata": {},
   "source": [
    "- A while loop, on the other hand, is used to repeat a set of actions as long as a certain condition is true"
   ]
  },
  {
   "cell_type": "code",
   "execution_count": null,
   "id": "8e3395d5",
   "metadata": {},
   "outputs": [],
   "source": [
    "#Q1Write a program to print no  \n",
    "intialization\n",
    "condition\n",
    "ince /dec"
   ]
  },
  {
   "cell_type": "code",
   "execution_count": 1,
   "id": "ef3b4acf",
   "metadata": {},
   "outputs": [
    {
     "name": "stdout",
     "output_type": "stream",
     "text": [
      "swini\n",
      "swini\n",
      "swini\n",
      "swini\n",
      "swini\n"
     ]
    }
   ],
   "source": [
    "for i in range(5):\n",
    "    print(\"swini\")"
   ]
  },
  {
   "cell_type": "code",
   "execution_count": 1,
   "id": "d355bae9",
   "metadata": {},
   "outputs": [
    {
     "name": "stdout",
     "output_type": "stream",
     "text": [
      "swini\n",
      "swini\n",
      "swini\n",
      "swini\n",
      "swini\n"
     ]
    }
   ],
   "source": [
    "i=1\n",
    "while i<=5:\n",
    "    print(\"swini\")\n",
    "    i+=1"
   ]
  },
  {
   "cell_type": "code",
   "execution_count": 2,
   "id": "c0c0e90d",
   "metadata": {},
   "outputs": [
    {
     "name": "stdout",
     "output_type": "stream",
     "text": [
      "1\n",
      "2\n",
      "3\n",
      "4\n",
      "5\n",
      "6\n",
      "7\n",
      "8\n",
      "9\n",
      "10\n"
     ]
    }
   ],
   "source": [
    "i = 1\n",
    "while (i<=10):     \n",
    "    \n",
    "    print(i)     \n",
    "    \n",
    "    i+=1       "
   ]
  },
  {
   "cell_type": "code",
   "execution_count": 2,
   "id": "8974772c-9426-49f2-a876-c9e5eed25873",
   "metadata": {},
   "outputs": [
    {
     "name": "stdout",
     "output_type": "stream",
     "text": [
      "6\n"
     ]
    }
   ],
   "source": [
    "a=\"python\"\n",
    "print(len(a))"
   ]
  },
  {
   "cell_type": "code",
   "execution_count": 4,
   "id": "f7570cdd",
   "metadata": {},
   "outputs": [
    {
     "name": "stdout",
     "output_type": "stream",
     "text": [
      "y\n",
      "h\n",
      "n\n"
     ]
    }
   ],
   "source": [
    "#Q7write a program to print  character at even position of a string\n",
    "a=\"python\"\n",
    "\n",
    "i =1   \n",
    "while (i<=len(a)):  \n",
    "    print(a[i]) \n",
    "    i+=2"
   ]
  },
  {
   "cell_type": "code",
   "execution_count": 5,
   "id": "80a3e38e-f842-4714-999d-f03e980e39dd",
   "metadata": {},
   "outputs": [
    {
     "name": "stdout",
     "output_type": "stream",
     "text": [
      "17\n",
      "i\n",
      "m\n",
      "e\n",
      "r\n",
      "i\n",
      "g\n",
      "y\n",
      "h\n",
      "n\n"
     ]
    }
   ],
   "source": [
    "a=\"iamlearningpython\"\n",
    "print(len(a))\n",
    "i=0\n",
    "while(i<=len(a)):\n",
    "    print(a[i])\n",
    "    i+=2"
   ]
  },
  {
   "cell_type": "code",
   "execution_count": 7,
   "id": "3c7de9c7",
   "metadata": {},
   "outputs": [
    {
     "name": "stdout",
     "output_type": "stream",
     "text": [
      "bhavya\n",
      "bhavya\n",
      "bhavya\n",
      "bhavya\n",
      "bhavya\n",
      "bhavya\n",
      "bhavya\n",
      "bhavya\n",
      "bhavya\n",
      "bhavya\n"
     ]
    }
   ],
   "source": [
    "i =1\n",
    "while (i<=10):\n",
    "    print(\"bhavya\")\n",
    "    i =i+1"
   ]
  },
  {
   "cell_type": "code",
   "execution_count": 1,
   "id": "3b2e7a6b",
   "metadata": {},
   "outputs": [
    {
     "name": "stdout",
     "output_type": "stream",
     "text": [
      "Thandy\n"
     ]
    }
   ],
   "source": [
    "i = 5\n",
    "while(i>=1):\n",
    "    break\n",
    "print('Thandy') "
   ]
  },
  {
   "cell_type": "markdown",
   "id": "78c8157a",
   "metadata": {},
   "source": [
    "# nested while "
   ]
  },
  {
   "cell_type": "code",
   "execution_count": 3,
   "id": "f6887fc7",
   "metadata": {},
   "outputs": [
    {
     "name": "stdout",
     "output_type": "stream",
     "text": [
      "0 0\n",
      "0 1\n",
      "0 2\n",
      "1 0\n",
      "1 1\n",
      "1 2\n",
      "2 0\n",
      "2 1\n",
      "2 2\n"
     ]
    }
   ],
   "source": [
    "i = 0\n",
    "while i < 3:  \n",
    "    j=0\n",
    "    while j < 3:   \n",
    "        print(i, j) \n",
    "        j += 1  \n",
    "    i +=1 \n",
    "    "
   ]
  },
  {
   "cell_type": "code",
   "execution_count": 10,
   "id": "53eb30f2",
   "metadata": {},
   "outputs": [
    {
     "name": "stdout",
     "output_type": "stream",
     "text": [
      "hello\n",
      "everyone\n",
      "everyone\n",
      "everyone\n",
      "hello\n",
      "everyone\n",
      "everyone\n",
      "everyone\n",
      "hello\n",
      "everyone\n",
      "everyone\n",
      "everyone\n",
      "hello\n",
      "everyone\n",
      "everyone\n",
      "everyone\n",
      "hello\n",
      "everyone\n",
      "everyone\n",
      "everyone\n"
     ]
    },
    {
     "ename": "NameError",
     "evalue": "name 'hello' is not defined",
     "output_type": "error",
     "traceback": [
      "\u001b[1;31m---------------------------------------------------------------------------\u001b[0m",
      "\u001b[1;31mNameError\u001b[0m                                 Traceback (most recent call last)",
      "Cell \u001b[1;32mIn[10], line 12\u001b[0m\n\u001b[0;32m      9\u001b[0m     i\u001b[38;5;241m+\u001b[39m\u001b[38;5;241m=\u001b[39m\u001b[38;5;241m1\u001b[39m\n\u001b[0;32m     10\u001b[0m \u001b[38;5;66;03m#hello\u001b[39;00m\n\u001b[0;32m     11\u001b[0m \u001b[38;5;66;03m#every\u001b[39;00m\n\u001b[1;32m---> 12\u001b[0m \u001b[43mhello\u001b[49m\n\u001b[0;32m     13\u001b[0m every\n\u001b[0;32m     14\u001b[0m evry\n",
      "\u001b[1;31mNameError\u001b[0m: name 'hello' is not defined"
     ]
    }
   ],
   "source": [
    "i =1\n",
    "j=1\n",
    "while i<=5:  \n",
    "    print(\"hello\")\n",
    "    j=1\n",
    "    while j<=3:  \n",
    "        print(\"everyone\")\n",
    "        j=j+1 \n",
    "    i+=1\n",
    "hello\n",
    "every\n",
    "hello\n",
    "every\n",
    "evry\n",
    "hello\n",
    "every \n",
    "evry\n",
    "very\n",
    "hello\n",
    "e\n",
    "e\n",
    "e\n",
    "e\n",
    "hello\n",
    "e\n",
    "e\n",
    "e\n",
    "e\n",
    "e"
   ]
  },
  {
   "cell_type": "code",
   "execution_count": 9,
   "id": "3e8950a3",
   "metadata": {},
   "outputs": [
    {
     "name": "stdout",
     "output_type": "stream",
     "text": [
      "hello everyone everyone everyone \n",
      "hello everyone everyone everyone \n",
      "hello everyone everyone everyone \n",
      "hello everyone everyone everyone \n",
      "hello everyone everyone everyone \n"
     ]
    }
   ],
   "source": [
    "i =1\n",
    "while i<=5: \n",
    "    print(\"hello\",end=\" \")\n",
    "    j=1\n",
    "    while j<4: \n",
    "        print(\"everyone\",end=\" \")\n",
    "        j =j+1\n",
    "    i =i+1\n",
    "    print()"
   ]
  },
  {
   "cell_type": "code",
   "execution_count": 20,
   "id": "fc670c58-a934-40fb-8092-3b9064ba042c",
   "metadata": {},
   "outputs": [
    {
     "name": "stdout",
     "output_type": "stream",
     "text": [
      "RichardThandy\n",
      "RichardThandy\n",
      "RichardThandy\n"
     ]
    }
   ],
   "source": [
    "i=1\n",
    "while i<=3:\n",
    "    print(\"Richard\", end='')\n",
    "    j=1\n",
    "    while j<2:\n",
    "        print(\"Thandy\", end='')\n",
    "        j+=1\n",
    "    i+=1\n",
    "    print()"
   ]
  },
  {
   "cell_type": "code",
   "execution_count": 12,
   "id": "8cf83c8c",
   "metadata": {
    "scrolled": true
   },
   "outputs": [
    {
     "name": "stdout",
     "output_type": "stream",
     "text": [
      "hello everyone everyone everyone \n",
      "hello everyone everyone everyone \n",
      "hello everyone everyone everyone \n",
      "hello everyone everyone everyone \n",
      "hello everyone everyone everyone \n"
     ]
    }
   ],
   "source": [
    "i =1\n",
    "while i<=5: \n",
    "    print(\"hello\",end=\" \")\n",
    "    j=1\n",
    "    while j<4:\n",
    "        print(\"everyone\",end=\" \")\n",
    "        j =j+1 \n",
    "    i =i+1 \n",
    "    print()"
   ]
  },
  {
   "cell_type": "markdown",
   "id": "7d4347c4",
   "metadata": {},
   "source": [
    "# iterative statements"
   ]
  },
  {
   "cell_type": "markdown",
   "id": "ad925364",
   "metadata": {},
   "source": [
    " - Both for loops and while loops can be controlled using statements such as break ,pass and continue . The break statement is used to exit a loop prematurely, while the continue statement is used to skip the current iteration and move on to the next one."
   ]
  },
  {
   "cell_type": "markdown",
   "id": "a1501658",
   "metadata": {},
   "source": [
    "break:"
   ]
  },
  {
   "cell_type": "markdown",
   "id": "630e7fcf",
   "metadata": {},
   "source": [
    "- The break statement is used to exit a loop prematurely, before the loop condition is met. When a break statement is encountered inside a loop, the loop is immediately terminated and the program continues to execute the next line of code after the loop"
   ]
  },
  {
   "cell_type": "code",
   "execution_count": 1,
   "id": "fe463782-b895-4ef2-b892-ebda9c9f6c44",
   "metadata": {},
   "outputs": [
    {
     "name": "stdout",
     "output_type": "stream",
     "text": [
      "0\n",
      "1\n",
      "2\n",
      "3\n",
      "4\n",
      "5\n"
     ]
    }
   ],
   "source": [
    "for i in range(10):\n",
    "    if i>5:\n",
    "        break\n",
    "    print(i)\n",
    "# 0,1,2,3,4,5,6,7,8,9"
   ]
  },
  {
   "cell_type": "code",
   "execution_count": null,
   "id": "dd234720-841f-404e-9bcb-3112162e6d5d",
   "metadata": {},
   "outputs": [],
   "source": []
  },
  {
   "cell_type": "code",
   "execution_count": 3,
   "id": "c77ed7d3",
   "metadata": {},
   "outputs": [
    {
     "name": "stdout",
     "output_type": "stream",
     "text": [
      "0\n",
      "1\n",
      "2\n"
     ]
    }
   ],
   "source": [
    "for i in range(5):\n",
    "    if i==3:\n",
    "        break\n",
    "   \n",
    "    print(i)"
   ]
  },
  {
   "cell_type": "code",
   "execution_count": 10,
   "id": "7747502c",
   "metadata": {},
   "outputs": [
    {
     "name": "stdout",
     "output_type": "stream",
     "text": [
      "0\n",
      "1\n",
      "2\n",
      "3\n",
      "4\n",
      "5\n"
     ]
    }
   ],
   "source": [
    "#for example :\n",
    "for i in range(10): \n",
    "    if i == 6:\n",
    "        break\n",
    "    print(i)"
   ]
  },
  {
   "cell_type": "markdown",
   "id": "8bee5808",
   "metadata": {},
   "source": [
    " - the for loop will iterate 10 times, printing the values 0 to 4. However, when i becomes 5, the if statement will be triggered and the break statement will be executed, causing the loop to terminate. As a result, the value 5 will not be printed to the console."
   ]
  },
  {
   "cell_type": "markdown",
   "id": "83fcf493",
   "metadata": {},
   "source": [
    "continue:"
   ]
  },
  {
   "cell_type": "markdown",
   "id": "3362200e",
   "metadata": {},
   "source": [
    "- The continue statement is used to skip the current iteration of a loop and move on to the next one. When a continue statement is encountered inside a loop, the program immediately skips to the next iteration and continues executing the loop."
   ]
  },
  {
   "cell_type": "code",
   "execution_count": 1,
   "id": "85adb518",
   "metadata": {},
   "outputs": [
    {
     "name": "stdout",
     "output_type": "stream",
     "text": [
      "1\n",
      "3\n",
      "5\n",
      "7\n",
      "9\n"
     ]
    }
   ],
   "source": [
    "#for example\n",
    "for i in range(1,10):   \n",
    "    \n",
    "    if i % 2 == 0:\n",
    "        continue\n",
    "    print(i)"
   ]
  },
  {
   "cell_type": "markdown",
   "id": "2ffe1c4e",
   "metadata": {},
   "source": [
    " - the for loop will iterate 10 times, but the continue statement will cause the program to skip printing even numbers to the console."
   ]
  },
  {
   "cell_type": "markdown",
   "id": "5412c84c",
   "metadata": {},
   "source": [
    "pass:"
   ]
  },
  {
   "cell_type": "markdown",
   "id": "df776a1c",
   "metadata": {},
   "source": [
    "- The pass statement is used as a placeholder in the code when there is no action required. It is often used when you need to have an empty loop or an empty if statement for the time being, but you plan to add code to it later."
   ]
  },
  {
   "cell_type": "code",
   "execution_count": 5,
   "id": "5d5cc579",
   "metadata": {},
   "outputs": [
    {
     "name": "stdout",
     "output_type": "stream",
     "text": [
      "0\n",
      "1\n",
      "2\n",
      "3\n",
      "hi\n",
      "68\n"
     ]
    }
   ],
   "source": [
    "for i in range(4):\n",
    "    print(i)\n",
    "    \n",
    "print(\"hi\")\n",
    "print(23+45)\n",
    "   "
   ]
  },
  {
   "cell_type": "code",
   "execution_count": 3,
   "id": "f048cf85",
   "metadata": {},
   "outputs": [
    {
     "name": "stdout",
     "output_type": "stream",
     "text": [
      "hello\n",
      "hi\n"
     ]
    }
   ],
   "source": [
    "for i in range(10):\n",
    "    pass\n",
    "  \n",
    "\n",
    "\n",
    "    \n",
    "    \n",
    "print(\"hello\")\n",
    "print(\"hi\")"
   ]
  },
  {
   "cell_type": "code",
   "execution_count": 11,
   "id": "dbc52907",
   "metadata": {},
   "outputs": [
    {
     "name": "stdout",
     "output_type": "stream",
     "text": [
      "15\n",
      "bhavya\n"
     ]
    }
   ],
   "source": [
    "for i in range(10):\n",
    "    pass\n",
    "    \n",
    "    \n",
    "print(7+8)\n",
    "print(\"bhavya\")\n",
    "\n",
    "    \n"
   ]
  },
  {
   "cell_type": "code",
   "execution_count": null,
   "id": "5ee54a84",
   "metadata": {},
   "outputs": [],
   "source": [
    "i = 0\n",
    "while i < 3:  \n",
    "    j=0\n",
    "    while j < 3:   \n",
    "        pass\n",
    "    print(\"Thandy\")"
   ]
  },
  {
   "cell_type": "code",
   "execution_count": null,
   "id": "16830be7-ede0-402b-995d-848bcfe5b2ed",
   "metadata": {},
   "outputs": [],
   "source": []
  }
 ],
 "metadata": {
  "kernelspec": {
   "display_name": "Python 3 (ipykernel)",
   "language": "python",
   "name": "python3"
  },
  "language_info": {
   "codemirror_mode": {
    "name": "ipython",
    "version": 3
   },
   "file_extension": ".py",
   "mimetype": "text/x-python",
   "name": "python",
   "nbconvert_exporter": "python",
   "pygments_lexer": "ipython3",
   "version": "3.13.3"
  },
  "vscode": {
   "interpreter": {
    "hash": "72b2382ece9768098284d92bbc69d35954e75b60d1e25897d1389c232f4796f0"
   }
  }
 },
 "nbformat": 4,
 "nbformat_minor": 5
}
